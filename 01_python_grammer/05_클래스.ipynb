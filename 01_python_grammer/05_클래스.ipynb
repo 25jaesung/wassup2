{
 "cells": [
  {
   "cell_type": "markdown",
   "id": "ac953c77",
   "metadata": {},
   "source": [
    "# 클래스"
   ]
  },
  {
   "cell_type": "markdown",
   "id": "401078d6",
   "metadata": {},
   "source": [
    "클래스는 반드시 첫글자가 [대문자]!!"
   ]
  },
  {
   "cell_type": "code",
   "execution_count": 1,
   "id": "0869d3e0",
   "metadata": {
    "ExecuteTime": {
     "end_time": "2024-03-11T01:05:06.281178Z",
     "start_time": "2024-03-11T01:05:06.276878Z"
    }
   },
   "outputs": [
    {
     "name": "stdout",
     "output_type": "stream",
     "text": [
      "3\n",
      "7\n"
     ]
    }
   ],
   "source": [
    "# 계산기 프로그램을 함수로 만들어보자!\n",
    "# calculator.py\n",
    "result = 0\n",
    "\n",
    "def add(num):\n",
    "    global result\n",
    "    result += num  # 결괏값(result)에 입력값(num) 더하기\n",
    "    return result  # 결괏값 리턴\n",
    "\n",
    "print(add(3))\n",
    "print(add(4))"
   ]
  },
  {
   "cell_type": "code",
   "execution_count": 2,
   "id": "72a92dd8",
   "metadata": {
    "ExecuteTime": {
     "end_time": "2024-03-11T01:08:33.565738Z",
     "start_time": "2024-03-11T01:08:33.560616Z"
    }
   },
   "outputs": [
    {
     "name": "stdout",
     "output_type": "stream",
     "text": [
      "3\n",
      "7\n",
      "3\n",
      "10\n"
     ]
    }
   ],
   "source": [
    "# 만일 한 프로그램에서 2대의 계산기가 필요한 상황이 발생하면 어떻게 해야 할까?\n",
    "# calculator2.py\n",
    "result1 = 0\n",
    "def add1(num):  # 계산기1\n",
    "    global result1\n",
    "    result1 += num\n",
    "    return result1\n",
    "\n",
    "result2 = 0\n",
    "def add2(num):  # 계산기2\n",
    "    global result2\n",
    "    result2 += num\n",
    "    return result2\n",
    "\n",
    "print(add1(3))\n",
    "print(add1(4))\n",
    "print(add2(3))\n",
    "print(add2(7))"
   ]
  },
  {
   "cell_type": "markdown",
   "id": "147630e4",
   "metadata": {},
   "source": [
    "클래스"
   ]
  },
  {
   "cell_type": "code",
   "execution_count": 3,
   "id": "55b99d59",
   "metadata": {
    "ExecuteTime": {
     "end_time": "2024-03-11T01:09:40.225938Z",
     "start_time": "2024-03-11T01:09:40.220641Z"
    }
   },
   "outputs": [
    {
     "name": "stdout",
     "output_type": "stream",
     "text": [
      "3\n",
      "7\n",
      "3\n",
      "10\n"
     ]
    }
   ],
   "source": [
    "# calculator3.py\n",
    "class Calculator:\n",
    "    def __init__(self):\n",
    "        self.result = 0\n",
    "\n",
    "    def add(self, num):\n",
    "        self.result += num\n",
    "        return self.result\n",
    "\n",
    "cal1 = Calculator()\n",
    "cal2 = Calculator()\n",
    "\n",
    "print(cal1.add(3))\n",
    "print(cal1.add(4))\n",
    "print(cal2.add(3))\n",
    "print(cal2.add(7))"
   ]
  },
  {
   "cell_type": "markdown",
   "id": "718ff2f8",
   "metadata": {},
   "source": [
    "## 클래스와 객체"
   ]
  },
  {
   "cell_type": "code",
   "execution_count": 5,
   "id": "9b342fbd",
   "metadata": {
    "ExecuteTime": {
     "end_time": "2024-03-11T01:18:26.379262Z",
     "start_time": "2024-03-11T01:18:26.376240Z"
    }
   },
   "outputs": [],
   "source": [
    "class Cookie:\n",
    "    pass"
   ]
  },
  {
   "cell_type": "code",
   "execution_count": 6,
   "id": "718f5617",
   "metadata": {
    "ExecuteTime": {
     "end_time": "2024-03-11T01:18:31.069717Z",
     "start_time": "2024-03-11T01:18:31.063104Z"
    }
   },
   "outputs": [
    {
     "data": {
      "text/plain": [
       "<__main__.Cookie at 0x1bbda967e10>"
      ]
     },
     "execution_count": 6,
     "metadata": {},
     "output_type": "execute_result"
    }
   ],
   "source": [
    "a = Cookie()\n",
    "a"
   ]
  },
  {
   "cell_type": "code",
   "execution_count": null,
   "id": "8c22d8ce",
   "metadata": {},
   "outputs": [],
   "source": []
  },
  {
   "cell_type": "code",
   "execution_count": null,
   "id": "ce12d32b",
   "metadata": {},
   "outputs": [],
   "source": []
  },
  {
   "cell_type": "code",
   "execution_count": 8,
   "id": "c741611f",
   "metadata": {
    "ExecuteTime": {
     "end_time": "2024-03-11T01:21:40.763396Z",
     "start_time": "2024-03-11T01:21:40.758225Z"
    }
   },
   "outputs": [
    {
     "data": {
      "text/plain": [
       "('python', str)"
      ]
     },
     "execution_count": 8,
     "metadata": {},
     "output_type": "execute_result"
    }
   ],
   "source": [
    "# 객체\n",
    "b = 'python'\n",
    "b, type(b)"
   ]
  },
  {
   "cell_type": "markdown",
   "id": "5b0779b1",
   "metadata": {},
   "source": [
    "## 사칙 연산 클래스 만들기"
   ]
  },
  {
   "cell_type": "code",
   "execution_count": 9,
   "id": "6280ea51",
   "metadata": {
    "ExecuteTime": {
     "end_time": "2024-03-11T01:24:38.575750Z",
     "start_time": "2024-03-11T01:24:38.572612Z"
    }
   },
   "outputs": [],
   "source": [
    "# 클래스 구조 만들기\n",
    "\n",
    "class FourCal:\n",
    "    pass"
   ]
  },
  {
   "cell_type": "code",
   "execution_count": 10,
   "id": "dc8cf507",
   "metadata": {
    "ExecuteTime": {
     "end_time": "2024-03-11T01:25:01.495731Z",
     "start_time": "2024-03-11T01:25:01.490733Z"
    }
   },
   "outputs": [
    {
     "data": {
      "text/plain": [
       "(<__main__.FourCal at 0x1bbdbff3910>, __main__.FourCal)"
      ]
     },
     "execution_count": 10,
     "metadata": {},
     "output_type": "execute_result"
    }
   ],
   "source": [
    "a = FourCal()\n",
    "a, type(a)"
   ]
  },
  {
   "cell_type": "code",
   "execution_count": 11,
   "id": "7a080576",
   "metadata": {
    "ExecuteTime": {
     "end_time": "2024-03-11T01:33:05.064704Z",
     "start_time": "2024-03-11T01:33:05.060910Z"
    }
   },
   "outputs": [],
   "source": [
    "class FourCal:\n",
    "    def setdata(self, first, second):\n",
    "        self.first = first\n",
    "        self.second = second"
   ]
  },
  {
   "cell_type": "code",
   "execution_count": 12,
   "id": "aead4364",
   "metadata": {
    "ExecuteTime": {
     "end_time": "2024-03-11T01:33:34.695257Z",
     "start_time": "2024-03-11T01:33:34.691589Z"
    }
   },
   "outputs": [],
   "source": [
    "a = FourCal()\n",
    "a.setdata(3, 4)"
   ]
  },
  {
   "cell_type": "code",
   "execution_count": 13,
   "id": "8d7aef36",
   "metadata": {
    "ExecuteTime": {
     "end_time": "2024-03-11T01:34:20.909899Z",
     "start_time": "2024-03-11T01:34:20.905981Z"
    }
   },
   "outputs": [],
   "source": [
    "# 대상이 누구인지 알아야하기에 맨 앞에 self_a 를 꼭 지정해주어야한다.\n",
    "FourCal.setdata(a, 3, 4)"
   ]
  },
  {
   "cell_type": "code",
   "execution_count": 14,
   "id": "0f04540a",
   "metadata": {
    "ExecuteTime": {
     "end_time": "2024-03-11T01:38:18.351010Z",
     "start_time": "2024-03-11T01:38:18.346536Z"
    }
   },
   "outputs": [
    {
     "data": {
      "text/plain": [
       "3"
      ]
     },
     "execution_count": 14,
     "metadata": {},
     "output_type": "execute_result"
    }
   ],
   "source": [
    "# 객체변수\n",
    "a.first"
   ]
  },
  {
   "cell_type": "code",
   "execution_count": 15,
   "id": "6aaccc54",
   "metadata": {
    "ExecuteTime": {
     "end_time": "2024-03-11T01:38:25.774287Z",
     "start_time": "2024-03-11T01:38:25.769304Z"
    }
   },
   "outputs": [
    {
     "data": {
      "text/plain": [
       "4"
      ]
     },
     "execution_count": 15,
     "metadata": {},
     "output_type": "execute_result"
    }
   ],
   "source": [
    "# 객체변수\n",
    "a.second"
   ]
  },
  {
   "cell_type": "code",
   "execution_count": 18,
   "id": "f2e21353",
   "metadata": {
    "ExecuteTime": {
     "end_time": "2024-03-11T01:40:21.312044Z",
     "start_time": "2024-03-11T01:40:21.309152Z"
    }
   },
   "outputs": [],
   "source": [
    "# 함수\n",
    "a = FourCal()\n",
    "b = FourCal()"
   ]
  },
  {
   "cell_type": "code",
   "execution_count": 19,
   "id": "c26cf5db",
   "metadata": {
    "ExecuteTime": {
     "end_time": "2024-03-11T01:40:36.949712Z",
     "start_time": "2024-03-11T01:40:36.944633Z"
    }
   },
   "outputs": [
    {
     "data": {
      "text/plain": [
       "4"
      ]
     },
     "execution_count": 19,
     "metadata": {},
     "output_type": "execute_result"
    }
   ],
   "source": [
    "a.setdata(4, 2)\n",
    "a.first"
   ]
  },
  {
   "cell_type": "code",
   "execution_count": 20,
   "id": "93badd86",
   "metadata": {
    "ExecuteTime": {
     "end_time": "2024-03-11T01:40:56.679858Z",
     "start_time": "2024-03-11T01:40:56.675302Z"
    }
   },
   "outputs": [
    {
     "data": {
      "text/plain": [
       "3"
      ]
     },
     "execution_count": 20,
     "metadata": {},
     "output_type": "execute_result"
    }
   ],
   "source": [
    "b.setdata(3, 7)\n",
    "b.first"
   ]
  },
  {
   "cell_type": "code",
   "execution_count": 21,
   "id": "7edfde57",
   "metadata": {
    "ExecuteTime": {
     "end_time": "2024-03-11T01:41:05.657519Z",
     "start_time": "2024-03-11T01:41:05.652553Z"
    }
   },
   "outputs": [
    {
     "data": {
      "text/plain": [
       "7"
      ]
     },
     "execution_count": 21,
     "metadata": {},
     "output_type": "execute_result"
    }
   ],
   "source": [
    "b.second"
   ]
  },
  {
   "cell_type": "code",
   "execution_count": 22,
   "id": "761f1daa",
   "metadata": {
    "ExecuteTime": {
     "end_time": "2024-03-11T01:42:48.544557Z",
     "start_time": "2024-03-11T01:42:48.540812Z"
    }
   },
   "outputs": [],
   "source": [
    "# 더하기 기능 만들기\n",
    "class FourCal:\n",
    "    def setdata(self, first, second):\n",
    "        self.first = first\n",
    "        self.second = second\n",
    "    def add(self):\n",
    "        result = self.first + self.second\n",
    "        return result"
   ]
  },
  {
   "cell_type": "code",
   "execution_count": 24,
   "id": "1d87820e",
   "metadata": {
    "ExecuteTime": {
     "end_time": "2024-03-11T01:44:46.357133Z",
     "start_time": "2024-03-11T01:44:46.354011Z"
    }
   },
   "outputs": [],
   "source": [
    "a = FourCal()\n",
    "a.setdata(4, 2)"
   ]
  },
  {
   "cell_type": "code",
   "execution_count": 25,
   "id": "3c65a21b",
   "metadata": {
    "ExecuteTime": {
     "end_time": "2024-03-11T01:44:47.881179Z",
     "start_time": "2024-03-11T01:44:47.876578Z"
    }
   },
   "outputs": [
    {
     "data": {
      "text/plain": [
       "6"
      ]
     },
     "execution_count": 25,
     "metadata": {},
     "output_type": "execute_result"
    }
   ],
   "source": [
    "a.add()"
   ]
  },
  {
   "cell_type": "code",
   "execution_count": 26,
   "id": "63251632",
   "metadata": {
    "ExecuteTime": {
     "end_time": "2024-03-11T01:45:06.540595Z",
     "start_time": "2024-03-11T01:45:06.536607Z"
    }
   },
   "outputs": [
    {
     "data": {
      "text/plain": [
       "6"
      ]
     },
     "execution_count": 26,
     "metadata": {},
     "output_type": "execute_result"
    }
   ],
   "source": [
    "c = a.add()\n",
    "c"
   ]
  },
  {
   "cell_type": "code",
   "execution_count": 27,
   "id": "f7d6ff27",
   "metadata": {
    "ExecuteTime": {
     "end_time": "2024-03-11T01:46:33.293134Z",
     "start_time": "2024-03-11T01:46:33.288086Z"
    }
   },
   "outputs": [],
   "source": [
    "# 곱하기, 빼기, 나누기\n",
    "class FourCal:\n",
    "    def setdata(self, first, second):\n",
    "        self.first = first\n",
    "        self.second = second\n",
    "    def add(self):\n",
    "        result = self.first + self.second\n",
    "        return result\n",
    "    def mul(self):\n",
    "        result = self.first * self.second\n",
    "        return result\n",
    "    def sub(self):\n",
    "        result = self.first - self.second\n",
    "        return result\n",
    "    def div(self):\n",
    "        result = self.first / self.second\n",
    "        return result"
   ]
  },
  {
   "cell_type": "code",
   "execution_count": 28,
   "id": "66a4071e",
   "metadata": {
    "ExecuteTime": {
     "end_time": "2024-03-11T01:46:54.263059Z",
     "start_time": "2024-03-11T01:46:54.259568Z"
    }
   },
   "outputs": [],
   "source": [
    "b = FourCal()\n",
    "b.setdata(7, 7)"
   ]
  },
  {
   "cell_type": "code",
   "execution_count": 29,
   "id": "808a0b82",
   "metadata": {
    "ExecuteTime": {
     "end_time": "2024-03-11T01:47:07.332229Z",
     "start_time": "2024-03-11T01:47:07.327248Z"
    }
   },
   "outputs": [
    {
     "data": {
      "text/plain": [
       "49"
      ]
     },
     "execution_count": 29,
     "metadata": {},
     "output_type": "execute_result"
    }
   ],
   "source": [
    "b.mul()"
   ]
  },
  {
   "cell_type": "code",
   "execution_count": 31,
   "id": "36043de6",
   "metadata": {
    "ExecuteTime": {
     "end_time": "2024-03-11T01:47:37.461230Z",
     "start_time": "2024-03-11T01:47:37.456637Z"
    }
   },
   "outputs": [
    {
     "data": {
      "text/plain": [
       "9.0"
      ]
     },
     "execution_count": 31,
     "metadata": {},
     "output_type": "execute_result"
    }
   ],
   "source": [
    "c = FourCal()\n",
    "c.setdata(81, 9)\n",
    "c.div()"
   ]
  },
  {
   "cell_type": "code",
   "execution_count": 32,
   "id": "32838ca8",
   "metadata": {
    "ExecuteTime": {
     "end_time": "2024-03-11T01:48:32.013920Z",
     "start_time": "2024-03-11T01:48:32.007854Z"
    }
   },
   "outputs": [
    {
     "data": {
      "text/plain": [
       "40"
      ]
     },
     "execution_count": 32,
     "metadata": {},
     "output_type": "execute_result"
    }
   ],
   "source": [
    "d = FourCal()\n",
    "d.setdata(49, 9)\n",
    "d.sub()"
   ]
  },
  {
   "cell_type": "markdown",
   "id": "fc82f1d2",
   "metadata": {},
   "source": [
    "## 생성자"
   ]
  },
  {
   "cell_type": "code",
   "execution_count": null,
   "id": "ab54bfe2",
   "metadata": {
    "ExecuteTime": {
     "end_time": "2024-03-11T02:10:01.012966Z",
     "start_time": "2024-03-11T02:10:00.985962Z"
    }
   },
   "outputs": [],
   "source": [
    "a = FourCal()\n",
    "a.add()"
   ]
  },
  {
   "cell_type": "code",
   "execution_count": 55,
   "id": "7b03dd3f",
   "metadata": {
    "ExecuteTime": {
     "end_time": "2024-03-11T02:14:58.557758Z",
     "start_time": "2024-03-11T02:14:58.552107Z"
    }
   },
   "outputs": [],
   "source": [
    "class FourCal:\n",
    "    def __init__(self, first, second):\n",
    "        self.first = first\n",
    "        self.second = second\n",
    "        \n",
    "    def setdata(self, first, second):\n",
    "        self.first = first\n",
    "        self.second = second\n",
    "        \n",
    "    def add(self):\n",
    "        result = self.first + self.second\n",
    "        return result\n",
    "    \n",
    "    def mul(self):\n",
    "        result = self.first * self.second\n",
    "        return result\n",
    "    \n",
    "    def sub(self):\n",
    "        result = self.first - self.second\n",
    "        return result\n",
    "    \n",
    "    def div(self):\n",
    "        result = self.first / self.second\n",
    "        return result"
   ]
  },
  {
   "cell_type": "code",
   "execution_count": 50,
   "id": "69c8edb5",
   "metadata": {
    "ExecuteTime": {
     "end_time": "2024-03-11T02:14:21.272028Z",
     "start_time": "2024-03-11T02:14:21.268530Z"
    }
   },
   "outputs": [],
   "source": [
    "a = FourCal(4, 2)"
   ]
  },
  {
   "cell_type": "markdown",
   "id": "9e6d6f87",
   "metadata": {},
   "source": [
    "## 클래스의 상속"
   ]
  },
  {
   "cell_type": "code",
   "execution_count": 51,
   "id": "97149c4a",
   "metadata": {
    "ExecuteTime": {
     "end_time": "2024-03-11T02:14:23.630117Z",
     "start_time": "2024-03-11T02:14:23.626506Z"
    }
   },
   "outputs": [],
   "source": [
    "# 괄호 안은 상속하고자 하는 대상!\n",
    "class MoreFourCal(FourCal):\n",
    "    pass"
   ]
  },
  {
   "cell_type": "code",
   "execution_count": 58,
   "id": "2ad58c07",
   "metadata": {
    "ExecuteTime": {
     "end_time": "2024-03-11T02:16:45.117634Z",
     "start_time": "2024-03-11T02:16:45.113732Z"
    }
   },
   "outputs": [
    {
     "name": "stdout",
     "output_type": "stream",
     "text": [
      "6 8 2.0 2\n"
     ]
    }
   ],
   "source": [
    "a = MoreFourCal(4 ,2)\n",
    "print(a.add(), a.mul(), a.div(), a.sub())"
   ]
  },
  {
   "cell_type": "code",
   "execution_count": 56,
   "id": "a2f7d892",
   "metadata": {
    "ExecuteTime": {
     "end_time": "2024-03-11T02:15:17.345158Z",
     "start_time": "2024-03-11T02:15:17.341748Z"
    }
   },
   "outputs": [],
   "source": [
    "class MoreFourCal(FourCal):\n",
    "    def pow(self):\n",
    "        result = self.first ** self.second\n",
    "        return result"
   ]
  },
  {
   "cell_type": "code",
   "execution_count": 57,
   "id": "690aee60",
   "metadata": {
    "ExecuteTime": {
     "end_time": "2024-03-11T02:15:29.313925Z",
     "start_time": "2024-03-11T02:15:29.310096Z"
    }
   },
   "outputs": [
    {
     "data": {
      "text/plain": [
       "16"
      ]
     },
     "execution_count": 57,
     "metadata": {},
     "output_type": "execute_result"
    }
   ],
   "source": [
    "a = MoreFourCal(4, 2)\n",
    "a.pow()"
   ]
  },
  {
   "cell_type": "markdown",
   "id": "8d372e1d",
   "metadata": {},
   "source": [
    "## 메서드 오버라이딩"
   ]
  },
  {
   "cell_type": "code",
   "execution_count": 59,
   "id": "06c03da4",
   "metadata": {
    "ExecuteTime": {
     "end_time": "2024-03-11T02:32:56.446325Z",
     "start_time": "2024-03-11T02:32:56.442405Z"
    }
   },
   "outputs": [],
   "source": [
    "class SafeFourCal(FourCal):\n",
    "    def div(self):\n",
    "        if self.second == 0:  # 나누는 값이 0인 경우 0을 리턴하도록 수정\n",
    "            return 0\n",
    "        else:\n",
    "            return self.first / self.second"
   ]
  },
  {
   "cell_type": "code",
   "execution_count": 60,
   "id": "52935f56",
   "metadata": {
    "ExecuteTime": {
     "end_time": "2024-03-11T02:33:13.206357Z",
     "start_time": "2024-03-11T02:33:13.201291Z"
    }
   },
   "outputs": [
    {
     "data": {
      "text/plain": [
       "0"
      ]
     },
     "execution_count": 60,
     "metadata": {},
     "output_type": "execute_result"
    }
   ],
   "source": [
    "a = SafeFourCal(4, 0)\n",
    "a.div()"
   ]
  },
  {
   "cell_type": "markdown",
   "id": "6a997cde",
   "metadata": {},
   "source": [
    "## 클래스 변수"
   ]
  },
  {
   "cell_type": "code",
   "execution_count": 61,
   "id": "78df6f30",
   "metadata": {
    "ExecuteTime": {
     "end_time": "2024-03-11T02:34:45.514315Z",
     "start_time": "2024-03-11T02:34:45.510840Z"
    }
   },
   "outputs": [],
   "source": [
    "class Family:\n",
    "    lastname = \"김\""
   ]
  },
  {
   "cell_type": "code",
   "execution_count": 64,
   "id": "55e61504",
   "metadata": {
    "ExecuteTime": {
     "end_time": "2024-03-11T02:35:09.888174Z",
     "start_time": "2024-03-11T02:35:09.882194Z"
    }
   },
   "outputs": [
    {
     "data": {
      "text/plain": [
       "'김'"
      ]
     },
     "execution_count": 64,
     "metadata": {},
     "output_type": "execute_result"
    }
   ],
   "source": [
    "Family.lastname"
   ]
  },
  {
   "cell_type": "code",
   "execution_count": 65,
   "id": "0eb5aff1",
   "metadata": {
    "ExecuteTime": {
     "end_time": "2024-03-11T02:36:33.794087Z",
     "start_time": "2024-03-11T02:36:33.788176Z"
    }
   },
   "outputs": [
    {
     "data": {
      "text/plain": [
       "'김'"
      ]
     },
     "execution_count": 65,
     "metadata": {},
     "output_type": "execute_result"
    }
   ],
   "source": [
    "a = Family()\n",
    "b = Family()\n",
    "a.lastname"
   ]
  },
  {
   "cell_type": "code",
   "execution_count": 67,
   "id": "7f397de8",
   "metadata": {
    "ExecuteTime": {
     "end_time": "2024-03-11T02:36:41.402378Z",
     "start_time": "2024-03-11T02:36:41.396696Z"
    }
   },
   "outputs": [
    {
     "data": {
      "text/plain": [
       "'김'"
      ]
     },
     "execution_count": 67,
     "metadata": {},
     "output_type": "execute_result"
    }
   ],
   "source": [
    "b.lastname"
   ]
  },
  {
   "cell_type": "code",
   "execution_count": 68,
   "id": "f784e579",
   "metadata": {
    "ExecuteTime": {
     "end_time": "2024-03-11T02:37:13.124194Z",
     "start_time": "2024-03-11T02:37:13.118270Z"
    }
   },
   "outputs": [
    {
     "data": {
      "text/plain": [
       "'박'"
      ]
     },
     "execution_count": 68,
     "metadata": {},
     "output_type": "execute_result"
    }
   ],
   "source": [
    "Family.lastname = \"박\"\n",
    "a.lastname"
   ]
  },
  {
   "cell_type": "code",
   "execution_count": 69,
   "id": "2e011dc6",
   "metadata": {
    "ExecuteTime": {
     "end_time": "2024-03-11T02:37:15.544336Z",
     "start_time": "2024-03-11T02:37:15.538357Z"
    }
   },
   "outputs": [
    {
     "data": {
      "text/plain": [
       "'박'"
      ]
     },
     "execution_count": 69,
     "metadata": {},
     "output_type": "execute_result"
    }
   ],
   "source": [
    "b.lastname"
   ]
  },
  {
   "cell_type": "code",
   "execution_count": 70,
   "id": "864b1467",
   "metadata": {
    "ExecuteTime": {
     "end_time": "2024-03-11T02:37:35.744690Z",
     "start_time": "2024-03-11T02:37:35.738088Z"
    }
   },
   "outputs": [
    {
     "data": {
      "text/plain": [
       "'최'"
      ]
     },
     "execution_count": 70,
     "metadata": {},
     "output_type": "execute_result"
    }
   ],
   "source": [
    "a.lastname = \"최\"\n",
    "a.lastname"
   ]
  },
  {
   "cell_type": "code",
   "execution_count": 71,
   "id": "0c1b30dd",
   "metadata": {
    "ExecuteTime": {
     "end_time": "2024-03-11T02:37:43.464581Z",
     "start_time": "2024-03-11T02:37:43.459598Z"
    }
   },
   "outputs": [
    {
     "data": {
      "text/plain": [
       "'박'"
      ]
     },
     "execution_count": 71,
     "metadata": {},
     "output_type": "execute_result"
    }
   ],
   "source": [
    "Family.lastname"
   ]
  },
  {
   "cell_type": "code",
   "execution_count": 72,
   "id": "5f7b6b54",
   "metadata": {
    "ExecuteTime": {
     "end_time": "2024-03-11T02:37:49.131797Z",
     "start_time": "2024-03-11T02:37:49.126072Z"
    }
   },
   "outputs": [
    {
     "data": {
      "text/plain": [
       "'박'"
      ]
     },
     "execution_count": 72,
     "metadata": {},
     "output_type": "execute_result"
    }
   ],
   "source": [
    "b.lastname"
   ]
  },
  {
   "cell_type": "code",
   "execution_count": 73,
   "id": "7d0e9bc9",
   "metadata": {
    "ExecuteTime": {
     "end_time": "2024-03-11T02:39:57.382054Z",
     "start_time": "2024-03-11T02:39:57.377072Z"
    }
   },
   "outputs": [
    {
     "data": {
      "text/plain": [
       "'최'"
      ]
     },
     "execution_count": 73,
     "metadata": {},
     "output_type": "execute_result"
    }
   ],
   "source": [
    "a.lastname"
   ]
  },
  {
   "cell_type": "markdown",
   "id": "37cb51db",
   "metadata": {},
   "source": [
    "# 예외 처리"
   ]
  },
  {
   "cell_type": "markdown",
   "id": "35ce7c1f",
   "metadata": {},
   "source": [
    "## 오류가 언제 발생하는가?"
   ]
  },
  {
   "cell_type": "code",
   "execution_count": 1,
   "id": "f064738a",
   "metadata": {
    "ExecuteTime": {
     "end_time": "2024-03-12T00:12:24.978282Z",
     "start_time": "2024-03-12T00:12:24.180241Z"
    }
   },
   "outputs": [
    {
     "ename": "FileNotFoundError",
     "evalue": "[Errno 2] No such file or directory: '나없는파일'",
     "output_type": "error",
     "traceback": [
      "\u001b[1;31m---------------------------------------------------------------------------\u001b[0m",
      "\u001b[1;31mFileNotFoundError\u001b[0m                         Traceback (most recent call last)",
      "Cell \u001b[1;32mIn[1], line 2\u001b[0m\n\u001b[0;32m      1\u001b[0m \u001b[38;5;66;03m# 존재하지 않는 파일을 사용하려고 시도했을 때\u001b[39;00m\n\u001b[1;32m----> 2\u001b[0m f \u001b[38;5;241m=\u001b[39m \u001b[38;5;28mopen\u001b[39m(\u001b[38;5;124m\"\u001b[39m\u001b[38;5;124m나없는파일\u001b[39m\u001b[38;5;124m\"\u001b[39m, \u001b[38;5;124m'\u001b[39m\u001b[38;5;124mr\u001b[39m\u001b[38;5;124m'\u001b[39m)\n",
      "File \u001b[1;32m~\\anaconda3\\Lib\\site-packages\\IPython\\core\\interactiveshell.py:286\u001b[0m, in \u001b[0;36m_modified_open\u001b[1;34m(file, *args, **kwargs)\u001b[0m\n\u001b[0;32m    279\u001b[0m \u001b[38;5;28;01mif\u001b[39;00m file \u001b[38;5;129;01min\u001b[39;00m {\u001b[38;5;241m0\u001b[39m, \u001b[38;5;241m1\u001b[39m, \u001b[38;5;241m2\u001b[39m}:\n\u001b[0;32m    280\u001b[0m     \u001b[38;5;28;01mraise\u001b[39;00m \u001b[38;5;167;01mValueError\u001b[39;00m(\n\u001b[0;32m    281\u001b[0m         \u001b[38;5;124mf\u001b[39m\u001b[38;5;124m\"\u001b[39m\u001b[38;5;124mIPython won\u001b[39m\u001b[38;5;124m'\u001b[39m\u001b[38;5;124mt let you open fd=\u001b[39m\u001b[38;5;132;01m{\u001b[39;00mfile\u001b[38;5;132;01m}\u001b[39;00m\u001b[38;5;124m by default \u001b[39m\u001b[38;5;124m\"\u001b[39m\n\u001b[0;32m    282\u001b[0m         \u001b[38;5;124m\"\u001b[39m\u001b[38;5;124mas it is likely to crash IPython. If you know what you are doing, \u001b[39m\u001b[38;5;124m\"\u001b[39m\n\u001b[0;32m    283\u001b[0m         \u001b[38;5;124m\"\u001b[39m\u001b[38;5;124myou can use builtins\u001b[39m\u001b[38;5;124m'\u001b[39m\u001b[38;5;124m open.\u001b[39m\u001b[38;5;124m\"\u001b[39m\n\u001b[0;32m    284\u001b[0m     )\n\u001b[1;32m--> 286\u001b[0m \u001b[38;5;28;01mreturn\u001b[39;00m io_open(file, \u001b[38;5;241m*\u001b[39margs, \u001b[38;5;241m*\u001b[39m\u001b[38;5;241m*\u001b[39mkwargs)\n",
      "\u001b[1;31mFileNotFoundError\u001b[0m: [Errno 2] No such file or directory: '나없는파일'"
     ]
    }
   ],
   "source": [
    "# 존재하지 않는 파일을 사용하려고 시도했을 때\n",
    "f = open(\"나없는파일\", 'r')"
   ]
  },
  {
   "cell_type": "code",
   "execution_count": 2,
   "id": "c57aeafc",
   "metadata": {
    "ExecuteTime": {
     "end_time": "2024-03-12T00:12:45.230336Z",
     "start_time": "2024-03-12T00:12:45.211265Z"
    }
   },
   "outputs": [
    {
     "ename": "ZeroDivisionError",
     "evalue": "division by zero",
     "output_type": "error",
     "traceback": [
      "\u001b[1;31m---------------------------------------------------------------------------\u001b[0m",
      "\u001b[1;31mZeroDivisionError\u001b[0m                         Traceback (most recent call last)",
      "Cell \u001b[1;32mIn[2], line 1\u001b[0m\n\u001b[1;32m----> 1\u001b[0m \u001b[38;5;241m4\u001b[39m \u001b[38;5;241m/\u001b[39m \u001b[38;5;241m0\u001b[39m\n",
      "\u001b[1;31mZeroDivisionError\u001b[0m: division by zero"
     ]
    }
   ],
   "source": [
    "4 / 0"
   ]
  },
  {
   "cell_type": "code",
   "execution_count": 3,
   "id": "b5f32abe",
   "metadata": {
    "ExecuteTime": {
     "end_time": "2024-03-12T00:13:01.301301Z",
     "start_time": "2024-03-12T00:13:01.281642Z"
    }
   },
   "outputs": [
    {
     "ename": "IndexError",
     "evalue": "list index out of range",
     "output_type": "error",
     "traceback": [
      "\u001b[1;31m---------------------------------------------------------------------------\u001b[0m",
      "\u001b[1;31mIndexError\u001b[0m                                Traceback (most recent call last)",
      "Cell \u001b[1;32mIn[3], line 2\u001b[0m\n\u001b[0;32m      1\u001b[0m a \u001b[38;5;241m=\u001b[39m [\u001b[38;5;241m1\u001b[39m, \u001b[38;5;241m2\u001b[39m, \u001b[38;5;241m3\u001b[39m]\n\u001b[1;32m----> 2\u001b[0m a[\u001b[38;5;241m3\u001b[39m]\n",
      "\u001b[1;31mIndexError\u001b[0m: list index out of range"
     ]
    }
   ],
   "source": [
    "a = [1, 2, 3]\n",
    "a[3]"
   ]
  },
  {
   "cell_type": "markdown",
   "id": "60a2e5f0",
   "metadata": {},
   "source": [
    "## 오류 예외 처리 기법"
   ]
  },
  {
   "cell_type": "markdown",
   "id": "1b5f6589",
   "metadata": {},
   "source": [
    "try - except 문\n",
    "```\n",
    "try:\n",
    "    ...\n",
    "except [발생오류 [as 오류변수]]:\n",
    "    ...\n",
    "```"
   ]
  },
  {
   "cell_type": "code",
   "execution_count": null,
   "id": "f5212800",
   "metadata": {},
   "outputs": [],
   "source": [
    "# 1. try-except만 쓰는 방법\n",
    "# try:\n",
    "#     ...\n",
    "# except:\n",
    "#     ..."
   ]
  },
  {
   "cell_type": "code",
   "execution_count": null,
   "id": "4692266b",
   "metadata": {},
   "outputs": [],
   "source": [
    "# 2. 발생 오류만 포함한 except 문\n",
    "# try:\n",
    "#     ...\n",
    "# except 발생오류:\n",
    "#     ..."
   ]
  },
  {
   "cell_type": "code",
   "execution_count": null,
   "id": "6a79e1fe",
   "metadata": {},
   "outputs": [],
   "source": [
    "# 3. 발생 오류와 오류 변수까지 포함한 except 문\n",
    "# try:\n",
    "#     ...\n",
    "# except 발생오류 as 오류변수:\n",
    "#     ..."
   ]
  },
  {
   "cell_type": "code",
   "execution_count": 5,
   "id": "2df066c0",
   "metadata": {
    "ExecuteTime": {
     "end_time": "2024-03-12T00:19:38.046252Z",
     "start_time": "2024-03-12T00:19:38.042347Z"
    }
   },
   "outputs": [
    {
     "name": "stdout",
     "output_type": "stream",
     "text": [
      "error\n"
     ]
    }
   ],
   "source": [
    "try:\n",
    "    4 / 0\n",
    "except :\n",
    "    print('error') # 문자열로 error를 출력!"
   ]
  },
  {
   "cell_type": "code",
   "execution_count": 6,
   "id": "3ec6a94a",
   "metadata": {
    "ExecuteTime": {
     "end_time": "2024-03-12T00:20:24.716982Z",
     "start_time": "2024-03-12T00:20:24.712649Z"
    }
   },
   "outputs": [
    {
     "name": "stdout",
     "output_type": "stream",
     "text": [
      "division by zero\n"
     ]
    }
   ],
   "source": [
    "# try_except.py\n",
    "try:\n",
    "    4 / 0\n",
    "except ZeroDivisionError as e: # 에러 정보를 변수로 받아오는 것 / 프로그램을 종료시키지 않기 위함\n",
    "    print(e)"
   ]
  },
  {
   "cell_type": "markdown",
   "id": "76f6ed19",
   "metadata": {},
   "source": [
    "여러 개의 오류 처리하기\n",
    "```\n",
    "try:\n",
    "    ...\n",
    "except 발생오류1:\n",
    "   ... \n",
    "except 발생오류2:\n",
    "   ...\n",
    "```"
   ]
  },
  {
   "cell_type": "code",
   "execution_count": 7,
   "id": "fed1155f",
   "metadata": {
    "ExecuteTime": {
     "end_time": "2024-03-12T00:38:47.661453Z",
     "start_time": "2024-03-12T00:38:47.656189Z"
    }
   },
   "outputs": [
    {
     "name": "stdout",
     "output_type": "stream",
     "text": [
      "인덱싱 할 수 없습니다.\n"
     ]
    }
   ],
   "source": [
    "# many_error.py\n",
    "try:\n",
    "    a = [1,2]\n",
    "    print(a[3])\n",
    "    4/0\n",
    "except ZeroDivisionError:\n",
    "    print(\"0으로 나눌 수 없습니다.\")\n",
    "except IndexError:\n",
    "    print(\"인덱싱 할 수 없습니다.\")"
   ]
  },
  {
   "cell_type": "code",
   "execution_count": 8,
   "id": "cfe7341e",
   "metadata": {
    "ExecuteTime": {
     "end_time": "2024-03-12T00:39:15.799060Z",
     "start_time": "2024-03-12T00:39:15.794193Z"
    }
   },
   "outputs": [
    {
     "name": "stdout",
     "output_type": "stream",
     "text": [
      "list index out of range\n"
     ]
    }
   ],
   "source": [
    "try:\n",
    "    a = [1,2]\n",
    "    print(a[3])\n",
    "    4/0\n",
    "except (ZeroDivisionError, IndexError) as e:\n",
    "    print(e)"
   ]
  },
  {
   "cell_type": "markdown",
   "id": "fc6839b1",
   "metadata": {},
   "source": [
    " try - else 문\n",
    " ```\n",
    " try:\n",
    "    ...\n",
    "except [발생오류 [as 오류변수]]:\n",
    "    ...\n",
    "else:  # 오류가 없을 경우에만 수행\n",
    "    ...\n",
    " ```"
   ]
  },
  {
   "cell_type": "code",
   "execution_count": 10,
   "id": "d75eb9cb",
   "metadata": {
    "ExecuteTime": {
     "end_time": "2024-03-12T00:40:58.809033Z",
     "start_time": "2024-03-12T00:40:54.135702Z"
    }
   },
   "outputs": [
    {
     "name": "stdout",
     "output_type": "stream",
     "text": [
      "나이를 입력하세요: 32\n",
      "환영합니다.\n"
     ]
    }
   ],
   "source": [
    "# try_else.py\n",
    "try:\n",
    "    age=int(input('나이를 입력하세요: '))\n",
    "except:\n",
    "    print('입력이 정확하지 않습니다.')\n",
    "else:\n",
    "    if age <= 18:\n",
    "        print('미성년자는 출입금지입니다.')\n",
    "    else:\n",
    "        print('환영합니다.')"
   ]
  },
  {
   "cell_type": "markdown",
   "id": "41100708",
   "metadata": {},
   "source": [
    "## 오류 회피하기"
   ]
  },
  {
   "cell_type": "code",
   "execution_count": 11,
   "id": "1dd2af91",
   "metadata": {
    "ExecuteTime": {
     "end_time": "2024-03-12T00:45:59.633781Z",
     "start_time": "2024-03-12T00:45:59.629793Z"
    }
   },
   "outputs": [],
   "source": [
    "# 코드를 작성하다 보면 특정 오류가 발생할 경우 그냥 통과시켜야 할 때\n",
    "# error_pass.py\n",
    "try:\n",
    "    f = open(\"나없는파일\", 'r')\n",
    "except FileNotFoundError:\n",
    "    pass"
   ]
  },
  {
   "cell_type": "markdown",
   "id": "90e84937",
   "metadata": {},
   "source": [
    "## 오류 일부러 발생시키기(발생시킬 수 있다_정도만 이해할 것)"
   ]
  }
 ],
 "metadata": {
  "kernelspec": {
   "display_name": "Python 3 (ipykernel)",
   "language": "python",
   "name": "python3"
  },
  "language_info": {
   "codemirror_mode": {
    "name": "ipython",
    "version": 3
   },
   "file_extension": ".py",
   "mimetype": "text/x-python",
   "name": "python",
   "nbconvert_exporter": "python",
   "pygments_lexer": "ipython3",
   "version": "3.11.5"
  },
  "toc": {
   "base_numbering": 1,
   "nav_menu": {},
   "number_sections": true,
   "sideBar": true,
   "skip_h1_title": false,
   "title_cell": "Table of Contents",
   "title_sidebar": "Contents",
   "toc_cell": false,
   "toc_position": {},
   "toc_section_display": true,
   "toc_window_display": false
  },
  "varInspector": {
   "cols": {
    "lenName": 16,
    "lenType": 16,
    "lenVar": 40
   },
   "kernels_config": {
    "python": {
     "delete_cmd_postfix": "",
     "delete_cmd_prefix": "del ",
     "library": "var_list.py",
     "varRefreshCmd": "print(var_dic_list())"
    },
    "r": {
     "delete_cmd_postfix": ") ",
     "delete_cmd_prefix": "rm(",
     "library": "var_list.r",
     "varRefreshCmd": "cat(var_dic_list()) "
    }
   },
   "types_to_exclude": [
    "module",
    "function",
    "builtin_function_or_method",
    "instance",
    "_Feature"
   ],
   "window_display": false
  }
 },
 "nbformat": 4,
 "nbformat_minor": 5
}
