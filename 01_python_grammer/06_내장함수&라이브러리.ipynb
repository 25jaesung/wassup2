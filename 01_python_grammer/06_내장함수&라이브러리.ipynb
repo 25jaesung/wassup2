{
 "cells": [
  {
   "cell_type": "markdown",
   "id": "b8dd663a",
   "metadata": {},
   "source": [
    "# 내장 함수"
   ]
  },
  {
   "cell_type": "markdown",
   "id": "6ca92870",
   "metadata": {},
   "source": [
    "***\n",
    "꼭 알아야할 함수 4가지!! 전처리에 쓰인다. 외우자.<br><br>filter : 불린을 리턴하는 비교함수를 토대로 걸러내는 역할\n",
    "<br>map : 특정 함수와 데이터를 계산한 결과를 리턴하는 역할<br>ZIP : a와 b의 데이터를 묶어서 리턴<br><br>enumerate(열거)\n",
    "***"
   ]
  },
  {
   "cell_type": "markdown",
   "id": "402d8e72",
   "metadata": {},
   "source": [
    "***\n",
    "abs\n",
    "\n",
    "abs(x)는 어떤 숫자를 입력받았을 때 그 숫자의 절댓값을 리턴하는 함수"
   ]
  },
  {
   "cell_type": "code",
   "execution_count": 1,
   "id": "a0270cdb",
   "metadata": {
    "ExecuteTime": {
     "end_time": "2024-03-12T01:07:21.184606Z",
     "start_time": "2024-03-12T01:07:21.178065Z"
    }
   },
   "outputs": [
    {
     "data": {
      "text/plain": [
       "3"
      ]
     },
     "execution_count": 1,
     "metadata": {},
     "output_type": "execute_result"
    }
   ],
   "source": [
    "abs(-3)"
   ]
  },
  {
   "cell_type": "markdown",
   "id": "7bc33b22",
   "metadata": {},
   "source": [
    "***\n",
    "all\n",
    "\n",
    "all(x)는 반복 가능한 데이터 x를 입력값으로 받으며 이 x의 요소가 모두 참이면 True, 거짓이 하나라도 있으면 False를 리턴"
   ]
  },
  {
   "cell_type": "code",
   "execution_count": 2,
   "id": "0f63ae7a",
   "metadata": {
    "ExecuteTime": {
     "end_time": "2024-03-12T01:08:05.360970Z",
     "start_time": "2024-03-12T01:08:05.354990Z"
    }
   },
   "outputs": [
    {
     "data": {
      "text/plain": [
       "True"
      ]
     },
     "execution_count": 2,
     "metadata": {},
     "output_type": "execute_result"
    }
   ],
   "source": [
    "all([1,2,3])"
   ]
  },
  {
   "cell_type": "code",
   "execution_count": 3,
   "id": "7230d232",
   "metadata": {
    "ExecuteTime": {
     "end_time": "2024-03-12T01:08:15.770965Z",
     "start_time": "2024-03-12T01:08:15.765270Z"
    }
   },
   "outputs": [
    {
     "data": {
      "text/plain": [
       "False"
      ]
     },
     "execution_count": 3,
     "metadata": {},
     "output_type": "execute_result"
    }
   ],
   "source": [
    "all([1,2,3,0])"
   ]
  },
  {
   "cell_type": "code",
   "execution_count": 4,
   "id": "2c7dcb81",
   "metadata": {
    "ExecuteTime": {
     "end_time": "2024-03-12T01:08:30.149242Z",
     "start_time": "2024-03-12T01:08:30.143751Z"
    }
   },
   "outputs": [
    {
     "data": {
      "text/plain": [
       "True"
      ]
     },
     "execution_count": 4,
     "metadata": {},
     "output_type": "execute_result"
    }
   ],
   "source": [
    "all([]) # 요소가 모두 false이기에 True 값 반환"
   ]
  },
  {
   "cell_type": "markdown",
   "id": "46680a53",
   "metadata": {},
   "source": [
    "***\n",
    "any\n",
    "\n",
    "any(x)는 반복 가능한 데이터 x를 입력으로 받아 x의 요소 중 하나라도 참이 있으면 True를 리턴하고 x가 모두 거짓일 때만 False를 리턴한다. 즉, all(x)의 반대로 작동한다."
   ]
  },
  {
   "cell_type": "code",
   "execution_count": 5,
   "id": "6da2df10",
   "metadata": {
    "ExecuteTime": {
     "end_time": "2024-03-12T01:09:20.807098Z",
     "start_time": "2024-03-12T01:09:20.800907Z"
    }
   },
   "outputs": [
    {
     "data": {
      "text/plain": [
       "True"
      ]
     },
     "execution_count": 5,
     "metadata": {},
     "output_type": "execute_result"
    }
   ],
   "source": [
    "any([1, 2, 3, 0])"
   ]
  },
  {
   "cell_type": "code",
   "execution_count": 6,
   "id": "421c33a1",
   "metadata": {
    "ExecuteTime": {
     "end_time": "2024-03-12T01:09:34.664774Z",
     "start_time": "2024-03-12T01:09:34.659791Z"
    }
   },
   "outputs": [
    {
     "data": {
      "text/plain": [
       "False"
      ]
     },
     "execution_count": 6,
     "metadata": {},
     "output_type": "execute_result"
    }
   ],
   "source": [
    "any([0, \"\"])"
   ]
  },
  {
   "cell_type": "code",
   "execution_count": 7,
   "id": "d0823291",
   "metadata": {
    "ExecuteTime": {
     "end_time": "2024-03-12T01:09:49.958981Z",
     "start_time": "2024-03-12T01:09:49.953617Z"
    }
   },
   "outputs": [
    {
     "data": {
      "text/plain": [
       "False"
      ]
     },
     "execution_count": 7,
     "metadata": {},
     "output_type": "execute_result"
    }
   ],
   "source": [
    "any([]) #  any의 입력 인수가 빈 값인 경우에는 False를 리턴"
   ]
  },
  {
   "cell_type": "markdown",
   "id": "17683eeb",
   "metadata": {},
   "source": [
    "***\n",
    "chr\n",
    "\n",
    "chr(i)는 유니코드 숫자 값을 입력받아 그 코드에 해당하는 문자를 리턴하는 함수"
   ]
  },
  {
   "cell_type": "code",
   "execution_count": 9,
   "id": "e2c63b01",
   "metadata": {
    "ExecuteTime": {
     "end_time": "2024-03-12T01:13:07.196982Z",
     "start_time": "2024-03-12T01:13:07.190935Z"
    }
   },
   "outputs": [
    {
     "data": {
      "text/plain": [
       "'a'"
      ]
     },
     "execution_count": 9,
     "metadata": {},
     "output_type": "execute_result"
    }
   ],
   "source": [
    "chr(97)"
   ]
  },
  {
   "cell_type": "code",
   "execution_count": 10,
   "id": "5a3014e3",
   "metadata": {
    "ExecuteTime": {
     "end_time": "2024-03-12T01:13:11.366424Z",
     "start_time": "2024-03-12T01:13:11.361480Z"
    }
   },
   "outputs": [
    {
     "data": {
      "text/plain": [
       "'가'"
      ]
     },
     "execution_count": 10,
     "metadata": {},
     "output_type": "execute_result"
    }
   ],
   "source": [
    "chr(44032)"
   ]
  },
  {
   "cell_type": "markdown",
   "id": "aab28335",
   "metadata": {},
   "source": [
    "***\n",
    "dir\n",
    "\n",
    "dir은 객체가 지닌 변수나 함수를 보여 주는 함수"
   ]
  },
  {
   "cell_type": "code",
   "execution_count": 11,
   "id": "e70ae401",
   "metadata": {
    "ExecuteTime": {
     "end_time": "2024-03-12T01:13:41.610320Z",
     "start_time": "2024-03-12T01:13:41.602930Z"
    }
   },
   "outputs": [
    {
     "data": {
      "text/plain": [
       "['__add__',\n",
       " '__class__',\n",
       " '__class_getitem__',\n",
       " '__contains__',\n",
       " '__delattr__',\n",
       " '__delitem__',\n",
       " '__dir__',\n",
       " '__doc__',\n",
       " '__eq__',\n",
       " '__format__',\n",
       " '__ge__',\n",
       " '__getattribute__',\n",
       " '__getitem__',\n",
       " '__getstate__',\n",
       " '__gt__',\n",
       " '__hash__',\n",
       " '__iadd__',\n",
       " '__imul__',\n",
       " '__init__',\n",
       " '__init_subclass__',\n",
       " '__iter__',\n",
       " '__le__',\n",
       " '__len__',\n",
       " '__lt__',\n",
       " '__mul__',\n",
       " '__ne__',\n",
       " '__new__',\n",
       " '__reduce__',\n",
       " '__reduce_ex__',\n",
       " '__repr__',\n",
       " '__reversed__',\n",
       " '__rmul__',\n",
       " '__setattr__',\n",
       " '__setitem__',\n",
       " '__sizeof__',\n",
       " '__str__',\n",
       " '__subclasshook__',\n",
       " 'append',\n",
       " 'clear',\n",
       " 'copy',\n",
       " 'count',\n",
       " 'extend',\n",
       " 'index',\n",
       " 'insert',\n",
       " 'pop',\n",
       " 'remove',\n",
       " 'reverse',\n",
       " 'sort']"
      ]
     },
     "execution_count": 11,
     "metadata": {},
     "output_type": "execute_result"
    }
   ],
   "source": [
    "dir([1, 2, 3])"
   ]
  },
  {
   "cell_type": "code",
   "execution_count": 12,
   "id": "3d7b44cf",
   "metadata": {
    "ExecuteTime": {
     "end_time": "2024-03-12T01:15:00.857659Z",
     "start_time": "2024-03-12T01:15:00.851458Z"
    }
   },
   "outputs": [
    {
     "data": {
      "text/plain": [
       "['__class__',\n",
       " '__class_getitem__',\n",
       " '__contains__',\n",
       " '__delattr__',\n",
       " '__delitem__',\n",
       " '__dir__',\n",
       " '__doc__',\n",
       " '__eq__',\n",
       " '__format__',\n",
       " '__ge__',\n",
       " '__getattribute__',\n",
       " '__getitem__',\n",
       " '__getstate__',\n",
       " '__gt__',\n",
       " '__hash__',\n",
       " '__init__',\n",
       " '__init_subclass__',\n",
       " '__ior__',\n",
       " '__iter__',\n",
       " '__le__',\n",
       " '__len__',\n",
       " '__lt__',\n",
       " '__ne__',\n",
       " '__new__',\n",
       " '__or__',\n",
       " '__reduce__',\n",
       " '__reduce_ex__',\n",
       " '__repr__',\n",
       " '__reversed__',\n",
       " '__ror__',\n",
       " '__setattr__',\n",
       " '__setitem__',\n",
       " '__sizeof__',\n",
       " '__str__',\n",
       " '__subclasshook__',\n",
       " 'clear',\n",
       " 'copy',\n",
       " 'fromkeys',\n",
       " 'get',\n",
       " 'items',\n",
       " 'keys',\n",
       " 'pop',\n",
       " 'popitem',\n",
       " 'setdefault',\n",
       " 'update',\n",
       " 'values']"
      ]
     },
     "execution_count": 12,
     "metadata": {},
     "output_type": "execute_result"
    }
   ],
   "source": [
    "dir({'1':'a'})"
   ]
  },
  {
   "cell_type": "markdown",
   "id": "11f621a3",
   "metadata": {},
   "source": [
    "***\n",
    "divmod\n",
    "\n",
    "divmod(a, b)는 2개의 숫자 a, b를 입력으로 받는다. 그리고 a를 b로 나눈 몫과 나머지를 튜플로 리턴한다."
   ]
  },
  {
   "cell_type": "code",
   "execution_count": 13,
   "id": "15d7f5d4",
   "metadata": {
    "ExecuteTime": {
     "end_time": "2024-03-12T01:16:10.384467Z",
     "start_time": "2024-03-12T01:16:10.378489Z"
    }
   },
   "outputs": [
    {
     "data": {
      "text/plain": [
       "(2, 1)"
      ]
     },
     "execution_count": 13,
     "metadata": {},
     "output_type": "execute_result"
    }
   ],
   "source": [
    "divmod(7, 3)"
   ]
  },
  {
   "cell_type": "markdown",
   "id": "811b55ee",
   "metadata": {},
   "source": [
    "***\n",
    "enumerate(열거하다) **중요!\n",
    "\n",
    "순서가 있는 데이터(리스트, 튜플, 문자열)를 입력으로 받아 인덱스 값을 포함하는 enumerate 객체를 리턴"
   ]
  },
  {
   "cell_type": "code",
   "execution_count": null,
   "id": "7bd03db4",
   "metadata": {},
   "outputs": [],
   "source": []
  },
  {
   "cell_type": "code",
   "execution_count": 14,
   "id": "a2d74281",
   "metadata": {
    "ExecuteTime": {
     "end_time": "2024-03-12T01:18:24.927440Z",
     "start_time": "2024-03-12T01:18:24.923420Z"
    }
   },
   "outputs": [
    {
     "name": "stdout",
     "output_type": "stream",
     "text": [
      "0 body\n",
      "1 foo\n",
      "2 bar\n"
     ]
    }
   ],
   "source": [
    "for i, name in enumerate(['body', 'foo', 'bar']):\n",
    "    print(i, name)"
   ]
  },
  {
   "cell_type": "markdown",
   "id": "ba77c43a",
   "metadata": {},
   "source": []
  },
  {
   "cell_type": "code",
   "execution_count": null,
   "id": "cf75a0fa",
   "metadata": {},
   "outputs": [],
   "source": []
  },
  {
   "cell_type": "markdown",
   "id": "1b7b226d",
   "metadata": {},
   "source": [
    "***\n",
    "Filter **중요!<br>\n",
    "filter 함수는 첫 번째 인수로 함수, 두 번째 인수로 그 함수에 차례로 들어갈 반복 가능한 데이터를 받는다. <br>그리고 반복 가능한 데이터의 요소 순서대로 함수를 호출했을 때 리턴값이 참인 것만 묶어서(걸러 내서) 리턴한다.\n",
    "```\n",
    "filter(함수, 반복_가능한_데이터)\n",
    "```"
   ]
  },
  {
   "cell_type": "code",
   "execution_count": 15,
   "id": "0c24fcda",
   "metadata": {
    "ExecuteTime": {
     "end_time": "2024-03-12T01:23:06.371096Z",
     "start_time": "2024-03-12T01:23:06.365762Z"
    }
   },
   "outputs": [
    {
     "name": "stdout",
     "output_type": "stream",
     "text": [
      "[1, 2, 6]\n"
     ]
    }
   ],
   "source": [
    "# positive.py \n",
    "def positive(l): \n",
    "    result = [] \n",
    "    for i in l: \n",
    "        if i > 0: \n",
    "            result.append(i) \n",
    "    return result\n",
    "\n",
    "print(positive([1,-3,2,0,-5,6]))"
   ]
  },
  {
   "cell_type": "code",
   "execution_count": 16,
   "id": "b2134c0a",
   "metadata": {
    "ExecuteTime": {
     "end_time": "2024-03-12T01:23:46.142366Z",
     "start_time": "2024-03-12T01:23:46.137289Z"
    }
   },
   "outputs": [
    {
     "name": "stdout",
     "output_type": "stream",
     "text": [
      "[1, 2, 6]\n"
     ]
    }
   ],
   "source": [
    "# filter1.py\n",
    "def positive(x):\n",
    "    return x > 0\n",
    "\n",
    "print(list(filter(positive, [1, -3, 2, 0, -5, 6])))"
   ]
  },
  {
   "cell_type": "code",
   "execution_count": 17,
   "id": "24457f45",
   "metadata": {
    "ExecuteTime": {
     "end_time": "2024-03-12T01:25:58.965006Z",
     "start_time": "2024-03-12T01:25:58.957936Z"
    }
   },
   "outputs": [
    {
     "data": {
      "text/plain": [
       "<filter at 0x236f2b16140>"
      ]
     },
     "execution_count": 17,
     "metadata": {},
     "output_type": "execute_result"
    }
   ],
   "source": [
    "filter(positive, [1, -3, 2, 0, -5, 6]) # 객체이다!"
   ]
  },
  {
   "cell_type": "code",
   "execution_count": 18,
   "id": "9d4dcbde",
   "metadata": {
    "ExecuteTime": {
     "end_time": "2024-03-12T01:26:20.987680Z",
     "start_time": "2024-03-12T01:26:20.981677Z"
    }
   },
   "outputs": [
    {
     "data": {
      "text/plain": [
       "[1, 2, 6]"
      ]
     },
     "execution_count": 18,
     "metadata": {},
     "output_type": "execute_result"
    }
   ],
   "source": [
    "list(filter(positive, [1, -3, 2, 0, -5, 6])) # 리스트로 반환!"
   ]
  },
  {
   "cell_type": "code",
   "execution_count": 24,
   "id": "73485526",
   "metadata": {
    "ExecuteTime": {
     "end_time": "2024-03-12T01:28:00.581832Z",
     "start_time": "2024-03-12T01:28:00.575346Z"
    }
   },
   "outputs": [
    {
     "data": {
      "text/plain": [
       "[1, 2, 6]"
      ]
     },
     "execution_count": 24,
     "metadata": {},
     "output_type": "execute_result"
    }
   ],
   "source": [
    "# lamda 사용!\n",
    "list(filter(lambda x: x > 0, [1, -3, 2, 0, -5, 6]))"
   ]
  },
  {
   "cell_type": "markdown",
   "id": "a769f2bd",
   "metadata": {},
   "source": [
    "***\n",
    "isinstance\n",
    "<br>\n",
    "isinstance(object, class) 함수는 첫 번째 인수로 객체, 두 번째 인수로 클래스를 받는다.\n",
    "<br>\n",
    "입력으로 받은 객체가 그 클래스의 인스턴스인지를 판단하여 참이면 True, 거짓이면 False를 리턴한다.\n"
   ]
  },
  {
   "cell_type": "code",
   "execution_count": null,
   "id": "01e2fb04",
   "metadata": {},
   "outputs": [],
   "source": []
  },
  {
   "cell_type": "markdown",
   "id": "f05c767f",
   "metadata": {},
   "source": [
    "***\n",
    "map **중요! <br>\n",
    "map(f, iterable)은 함수(f)와 반복 가능한 데이터를 입력으로 받는다.<br>map은 입력받은 데이터의 각 요소에 함수 f를 적용한 결과를 리턴하는 함수이다."
   ]
  },
  {
   "cell_type": "code",
   "execution_count": 25,
   "id": "87b50223",
   "metadata": {
    "ExecuteTime": {
     "end_time": "2024-03-12T01:32:44.969984Z",
     "start_time": "2024-03-12T01:32:44.964950Z"
    }
   },
   "outputs": [
    {
     "name": "stdout",
     "output_type": "stream",
     "text": [
      "[2, 4, 6, 8]\n"
     ]
    }
   ],
   "source": [
    "# two_times.py\n",
    "def two_times(numberList):\n",
    "    result = []\n",
    "    for number in numberList:\n",
    "        result.append(number*2)\n",
    "    return result\n",
    "\n",
    "result = two_times([1, 2, 3, 4])\n",
    "print(result)"
   ]
  },
  {
   "cell_type": "code",
   "execution_count": 26,
   "id": "d1350fc9",
   "metadata": {
    "ExecuteTime": {
     "end_time": "2024-03-12T01:34:44.386841Z",
     "start_time": "2024-03-12T01:34:44.380501Z"
    }
   },
   "outputs": [
    {
     "data": {
      "text/plain": [
       "[2, 4, 6, 8]"
      ]
     },
     "execution_count": 26,
     "metadata": {},
     "output_type": "execute_result"
    }
   ],
   "source": [
    "def two_times(x): \n",
    "    return x*2\n",
    "\n",
    "list(map(two_times, [1, 2, 3, 4]))"
   ]
  },
  {
   "cell_type": "code",
   "execution_count": 27,
   "id": "2f002cf1",
   "metadata": {
    "ExecuteTime": {
     "end_time": "2024-03-12T01:35:05.578754Z",
     "start_time": "2024-03-12T01:35:05.573194Z"
    }
   },
   "outputs": [
    {
     "data": {
      "text/plain": [
       "[2, 4, 6, 8]"
      ]
     },
     "execution_count": 27,
     "metadata": {},
     "output_type": "execute_result"
    }
   ],
   "source": [
    "# lamda 사용\n",
    "list(map(lambda a: a*2, [1, 2, 3, 4]))"
   ]
  },
  {
   "cell_type": "markdown",
   "id": "7052fb86",
   "metadata": {},
   "source": [
    "***\n",
    "max<br>인수로 반복 가능한 데이터를 입력받아 그 최댓값을 리턴하는 함수"
   ]
  },
  {
   "cell_type": "code",
   "execution_count": 28,
   "id": "263f5658",
   "metadata": {
    "ExecuteTime": {
     "end_time": "2024-03-12T01:38:58.215433Z",
     "start_time": "2024-03-12T01:38:58.209518Z"
    }
   },
   "outputs": [
    {
     "data": {
      "text/plain": [
       "3"
      ]
     },
     "execution_count": 28,
     "metadata": {},
     "output_type": "execute_result"
    }
   ],
   "source": [
    "max([1, 2, 3])"
   ]
  },
  {
   "cell_type": "code",
   "execution_count": 29,
   "id": "14f27ad6",
   "metadata": {
    "ExecuteTime": {
     "end_time": "2024-03-12T01:39:02.732917Z",
     "start_time": "2024-03-12T01:39:02.728349Z"
    }
   },
   "outputs": [
    {
     "data": {
      "text/plain": [
       "'y'"
      ]
     },
     "execution_count": 29,
     "metadata": {},
     "output_type": "execute_result"
    }
   ],
   "source": [
    "max(\"python\")"
   ]
  },
  {
   "cell_type": "markdown",
   "id": "93f6b2f9",
   "metadata": {},
   "source": [
    "***\n",
    "min<br>최솟값을 리턴"
   ]
  },
  {
   "cell_type": "code",
   "execution_count": 30,
   "id": "22ddc0f7",
   "metadata": {
    "ExecuteTime": {
     "end_time": "2024-03-12T01:39:25.463070Z",
     "start_time": "2024-03-12T01:39:25.457417Z"
    }
   },
   "outputs": [
    {
     "data": {
      "text/plain": [
       "'h'"
      ]
     },
     "execution_count": 30,
     "metadata": {},
     "output_type": "execute_result"
    }
   ],
   "source": [
    "min(\"python\")"
   ]
  },
  {
   "cell_type": "markdown",
   "id": "56057292",
   "metadata": {},
   "source": [
    "***\n",
    "pow<br>pow(x, y)는 x를 y제곱한 결괏값을 리턴하는 함수"
   ]
  },
  {
   "cell_type": "code",
   "execution_count": 31,
   "id": "9d6ecbc4",
   "metadata": {
    "ExecuteTime": {
     "end_time": "2024-03-12T01:40:29.991044Z",
     "start_time": "2024-03-12T01:40:29.985160Z"
    }
   },
   "outputs": [
    {
     "data": {
      "text/plain": [
       "16"
      ]
     },
     "execution_count": 31,
     "metadata": {},
     "output_type": "execute_result"
    }
   ],
   "source": [
    "pow(2, 4)"
   ]
  },
  {
   "cell_type": "code",
   "execution_count": 32,
   "id": "0990667b",
   "metadata": {
    "ExecuteTime": {
     "end_time": "2024-03-12T01:40:36.061372Z",
     "start_time": "2024-03-12T01:40:36.056196Z"
    }
   },
   "outputs": [
    {
     "data": {
      "text/plain": [
       "27"
      ]
     },
     "execution_count": 32,
     "metadata": {},
     "output_type": "execute_result"
    }
   ],
   "source": [
    "pow(3, 3)"
   ]
  },
  {
   "cell_type": "markdown",
   "id": "5a814ffc",
   "metadata": {},
   "source": [
    "***\n",
    "range<br>"
   ]
  },
  {
   "cell_type": "code",
   "execution_count": 33,
   "id": "e5f47b7b",
   "metadata": {
    "ExecuteTime": {
     "end_time": "2024-03-12T01:41:14.419996Z",
     "start_time": "2024-03-12T01:41:14.414546Z"
    }
   },
   "outputs": [
    {
     "data": {
      "text/plain": [
       "[0, 1, 2, 3, 4]"
      ]
     },
     "execution_count": 33,
     "metadata": {},
     "output_type": "execute_result"
    }
   ],
   "source": [
    "list(range(5))"
   ]
  },
  {
   "cell_type": "code",
   "execution_count": 34,
   "id": "447ea64e",
   "metadata": {
    "ExecuteTime": {
     "end_time": "2024-03-12T01:41:20.527613Z",
     "start_time": "2024-03-12T01:41:20.520808Z"
    }
   },
   "outputs": [
    {
     "data": {
      "text/plain": [
       "[5, 6, 7, 8, 9]"
      ]
     },
     "execution_count": 34,
     "metadata": {},
     "output_type": "execute_result"
    }
   ],
   "source": [
    "list(range(5, 10))"
   ]
  },
  {
   "cell_type": "code",
   "execution_count": 35,
   "id": "38b2d91f",
   "metadata": {
    "ExecuteTime": {
     "end_time": "2024-03-12T01:41:47.720313Z",
     "start_time": "2024-03-12T01:41:47.715330Z"
    }
   },
   "outputs": [
    {
     "data": {
      "text/plain": [
       "[1, 3, 5, 7, 9]"
      ]
     },
     "execution_count": 35,
     "metadata": {},
     "output_type": "execute_result"
    }
   ],
   "source": [
    "list(range(1, 10, 2)) # 세 번째 인수는 숫자 사이의 거리"
   ]
  },
  {
   "cell_type": "markdown",
   "id": "190731e1",
   "metadata": {},
   "source": [
    "***\n",
    "round<br> 숫자를 입력받아 반올림해 리턴"
   ]
  },
  {
   "cell_type": "code",
   "execution_count": 36,
   "id": "6746c5af",
   "metadata": {
    "ExecuteTime": {
     "end_time": "2024-03-12T01:42:37.400631Z",
     "start_time": "2024-03-12T01:42:37.395649Z"
    }
   },
   "outputs": [
    {
     "data": {
      "text/plain": [
       "5"
      ]
     },
     "execution_count": 36,
     "metadata": {},
     "output_type": "execute_result"
    }
   ],
   "source": [
    "round(4.6)"
   ]
  },
  {
   "cell_type": "code",
   "execution_count": 37,
   "id": "1c071bf5",
   "metadata": {
    "ExecuteTime": {
     "end_time": "2024-03-12T01:42:50.587849Z",
     "start_time": "2024-03-12T01:42:50.581899Z"
    }
   },
   "outputs": [
    {
     "data": {
      "text/plain": [
       "5.68"
      ]
     },
     "execution_count": 37,
     "metadata": {},
     "output_type": "execute_result"
    }
   ],
   "source": [
    "round(5.678, 2) # 자릿수 지정"
   ]
  },
  {
   "cell_type": "markdown",
   "id": "f755c82a",
   "metadata": {},
   "source": [
    "***\n",
    "sorted<br>입력 데이터를 정렬한 후 그 결과를 리스트로 리턴"
   ]
  },
  {
   "cell_type": "code",
   "execution_count": 38,
   "id": "04265421",
   "metadata": {
    "ExecuteTime": {
     "end_time": "2024-03-12T01:44:16.089584Z",
     "start_time": "2024-03-12T01:44:16.083658Z"
    }
   },
   "outputs": [
    {
     "data": {
      "text/plain": [
       "[1, 2, 3]"
      ]
     },
     "execution_count": 38,
     "metadata": {},
     "output_type": "execute_result"
    }
   ],
   "source": [
    "sorted([3, 1, 2])"
   ]
  },
  {
   "cell_type": "code",
   "execution_count": 39,
   "id": "6c04418c",
   "metadata": {
    "ExecuteTime": {
     "end_time": "2024-03-12T01:44:20.887921Z",
     "start_time": "2024-03-12T01:44:20.881749Z"
    }
   },
   "outputs": [
    {
     "data": {
      "text/plain": [
       "['a', 'b', 'c']"
      ]
     },
     "execution_count": 39,
     "metadata": {},
     "output_type": "execute_result"
    }
   ],
   "source": [
    "sorted(['a', 'c', 'b'])"
   ]
  },
  {
   "cell_type": "code",
   "execution_count": 40,
   "id": "eb2eb7a0",
   "metadata": {
    "ExecuteTime": {
     "end_time": "2024-03-12T01:44:30.720622Z",
     "start_time": "2024-03-12T01:44:30.716182Z"
    }
   },
   "outputs": [
    {
     "data": {
      "text/plain": [
       "['e', 'o', 'r', 'z']"
      ]
     },
     "execution_count": 40,
     "metadata": {},
     "output_type": "execute_result"
    }
   ],
   "source": [
    "sorted(\"zero\")"
   ]
  },
  {
   "cell_type": "code",
   "execution_count": 41,
   "id": "aa33cdfb",
   "metadata": {
    "ExecuteTime": {
     "end_time": "2024-03-12T01:44:41.840890Z",
     "start_time": "2024-03-12T01:44:41.835629Z"
    }
   },
   "outputs": [
    {
     "data": {
      "text/plain": [
       "[1, 2, 3]"
      ]
     },
     "execution_count": 41,
     "metadata": {},
     "output_type": "execute_result"
    }
   ],
   "source": [
    "sorted((3, 2, 1))"
   ]
  },
  {
   "cell_type": "markdown",
   "id": "fc8fdbb7",
   "metadata": {},
   "source": [
    "***\n",
    "sum"
   ]
  },
  {
   "cell_type": "code",
   "execution_count": 42,
   "id": "4ce00aba",
   "metadata": {
    "ExecuteTime": {
     "end_time": "2024-03-12T01:45:35.277116Z",
     "start_time": "2024-03-12T01:45:35.271478Z"
    }
   },
   "outputs": [
    {
     "data": {
      "text/plain": [
       "6"
      ]
     },
     "execution_count": 42,
     "metadata": {},
     "output_type": "execute_result"
    }
   ],
   "source": [
    "sum([1,2,3])"
   ]
  },
  {
   "cell_type": "markdown",
   "id": "7a18ac1d",
   "metadata": {},
   "source": [
    "***\n",
    "ZIP ** 아주 중요!!!<br>\n",
    "동일한 개수로 이루어진 데이터들을 묶어서 리턴하는 함수"
   ]
  },
  {
   "cell_type": "code",
   "execution_count": 43,
   "id": "ba979bd3",
   "metadata": {
    "ExecuteTime": {
     "end_time": "2024-03-12T01:47:57.837489Z",
     "start_time": "2024-03-12T01:47:57.832506Z"
    }
   },
   "outputs": [
    {
     "data": {
      "text/plain": [
       "[(1, 4), (2, 5), (3, 6)]"
      ]
     },
     "execution_count": 43,
     "metadata": {},
     "output_type": "execute_result"
    }
   ],
   "source": [
    " list(zip([1, 2, 3], [4, 5, 6])) # 각 인덱스의 순서끼리 묶어서 튜플로 변환"
   ]
  },
  {
   "cell_type": "code",
   "execution_count": 44,
   "id": "e446b991",
   "metadata": {
    "ExecuteTime": {
     "end_time": "2024-03-12T01:48:33.201014Z",
     "start_time": "2024-03-12T01:48:33.194522Z"
    }
   },
   "outputs": [
    {
     "data": {
      "text/plain": [
       "[(1, 4, 7), (2, 5, 8), (3, 6, 9)]"
      ]
     },
     "execution_count": 44,
     "metadata": {},
     "output_type": "execute_result"
    }
   ],
   "source": [
    "list(zip([1, 2, 3], [4, 5, 6], [7, 8, 9]))"
   ]
  },
  {
   "cell_type": "code",
   "execution_count": 45,
   "id": "cbdf73af",
   "metadata": {
    "ExecuteTime": {
     "end_time": "2024-03-12T01:48:44.177016Z",
     "start_time": "2024-03-12T01:48:44.171063Z"
    }
   },
   "outputs": [
    {
     "data": {
      "text/plain": [
       "[('a', 'd'), ('b', 'e'), ('c', 'f')]"
      ]
     },
     "execution_count": 45,
     "metadata": {},
     "output_type": "execute_result"
    }
   ],
   "source": [
    "list(zip(\"abc\", \"def\"))"
   ]
  },
  {
   "cell_type": "markdown",
   "id": "de82ebf7",
   "metadata": {},
   "source": [
    "# 라이브러리(표준_내부)"
   ]
  },
  {
   "cell_type": "markdown",
   "id": "afd05532",
   "metadata": {},
   "source": [
    "## datetime.date\n",
    "\n",
    "datetime.date는 연, 월, 일로 날짜를 표현할 때 사용하는 함수"
   ]
  },
  {
   "cell_type": "code",
   "execution_count": 46,
   "id": "a5b2c735",
   "metadata": {
    "ExecuteTime": {
     "end_time": "2024-03-12T02:11:01.653150Z",
     "start_time": "2024-03-12T02:11:01.649479Z"
    }
   },
   "outputs": [],
   "source": [
    "import datetime"
   ]
  },
  {
   "cell_type": "code",
   "execution_count": 47,
   "id": "0259ed70",
   "metadata": {
    "ExecuteTime": {
     "end_time": "2024-03-12T02:11:14.027196Z",
     "start_time": "2024-03-12T02:11:14.022510Z"
    }
   },
   "outputs": [
    {
     "data": {
      "text/plain": [
       "datetime.date(2021, 12, 14)"
      ]
     },
     "execution_count": 47,
     "metadata": {},
     "output_type": "execute_result"
    }
   ],
   "source": [
    "day1 = datetime.date(2021, 12, 14)\n",
    "day1"
   ]
  },
  {
   "cell_type": "code",
   "execution_count": 49,
   "id": "8521f732",
   "metadata": {
    "ExecuteTime": {
     "end_time": "2024-03-12T02:11:59.252231Z",
     "start_time": "2024-03-12T02:11:59.246251Z"
    }
   },
   "outputs": [
    {
     "data": {
      "text/plain": [
       "datetime.date(2024, 1, 22)"
      ]
     },
     "execution_count": 49,
     "metadata": {},
     "output_type": "execute_result"
    }
   ],
   "source": [
    "day2 = datetime.date(2024,1,22)\n",
    "day2"
   ]
  },
  {
   "cell_type": "code",
   "execution_count": 50,
   "id": "7e620428",
   "metadata": {
    "ExecuteTime": {
     "end_time": "2024-03-12T02:12:23.835616Z",
     "start_time": "2024-03-12T02:12:23.830059Z"
    }
   },
   "outputs": [
    {
     "data": {
      "text/plain": [
       "769"
      ]
     },
     "execution_count": 50,
     "metadata": {},
     "output_type": "execute_result"
    }
   ],
   "source": [
    "diff = day2 - day1\n",
    "diff.days # 객체변수"
   ]
  },
  {
   "cell_type": "code",
   "execution_count": 51,
   "id": "87fb92bc",
   "metadata": {
    "ExecuteTime": {
     "end_time": "2024-03-12T02:13:57.640689Z",
     "start_time": "2024-03-12T02:13:57.634710Z"
    }
   },
   "outputs": [
    {
     "data": {
      "text/plain": [
       "0"
      ]
     },
     "execution_count": 51,
     "metadata": {},
     "output_type": "execute_result"
    }
   ],
   "source": [
    "# 요일 구하기\n",
    "day = datetime.date(2024,1,22)\n",
    "day.weekday() # 함수(메서드)"
   ]
  },
  {
   "cell_type": "markdown",
   "id": "7fe5de86",
   "metadata": {},
   "source": [
    "```\n",
    "0은 월요일을 의미하며 순서대로 1은 화요일, 2는 수요일, …, 6은 일요일이 된다.\n",
    "```"
   ]
  },
  {
   "cell_type": "code",
   "execution_count": 52,
   "id": "b6ffc2ff",
   "metadata": {
    "ExecuteTime": {
     "end_time": "2024-03-12T02:14:40.988930Z",
     "start_time": "2024-03-12T02:14:40.983873Z"
    }
   },
   "outputs": [
    {
     "data": {
      "text/plain": [
       "1"
      ]
     },
     "execution_count": 52,
     "metadata": {},
     "output_type": "execute_result"
    }
   ],
   "source": [
    "day.isoweekday()"
   ]
  },
  {
   "cell_type": "markdown",
   "id": "bb6a551c",
   "metadata": {},
   "source": [
    "```\n",
    "월요일은 1, 화요일은 2, …, 일요일은 7을 리턴 => iso\n",
    "```"
   ]
  },
  {
   "cell_type": "markdown",
   "id": "7d48e6cc",
   "metadata": {},
   "source": [
    "## time"
   ]
  },
  {
   "cell_type": "code",
   "execution_count": 54,
   "id": "b096c26d",
   "metadata": {
    "ExecuteTime": {
     "end_time": "2024-03-12T02:16:16.192237Z",
     "start_time": "2024-03-12T02:16:16.187463Z"
    }
   },
   "outputs": [
    {
     "data": {
      "text/plain": [
       "1710209776.1884592"
      ]
     },
     "execution_count": 54,
     "metadata": {},
     "output_type": "execute_result"
    }
   ],
   "source": [
    "import time\n",
    "time.time()"
   ]
  },
  {
   "cell_type": "markdown",
   "id": "1e9894dd",
   "metadata": {},
   "source": [
    "위 숫자를 아래 형태로 다시 날짜로 계산한다!"
   ]
  },
  {
   "cell_type": "code",
   "execution_count": 55,
   "id": "9ad9e12b",
   "metadata": {
    "ExecuteTime": {
     "end_time": "2024-03-12T02:17:17.466974Z",
     "start_time": "2024-03-12T02:17:17.460995Z"
    }
   },
   "outputs": [
    {
     "data": {
      "text/plain": [
       "time.struct_time(tm_year=2024, tm_mon=3, tm_mday=12, tm_hour=11, tm_min=17, tm_sec=17, tm_wday=1, tm_yday=72, tm_isdst=0)"
      ]
     },
     "execution_count": 55,
     "metadata": {},
     "output_type": "execute_result"
    }
   ],
   "source": [
    "time.localtime(time.time())"
   ]
  },
  {
   "cell_type": "code",
   "execution_count": 59,
   "id": "5b552b34",
   "metadata": {
    "ExecuteTime": {
     "end_time": "2024-03-12T02:18:58.763316Z",
     "start_time": "2024-03-12T02:18:58.757997Z"
    }
   },
   "outputs": [
    {
     "data": {
      "text/plain": [
       "'Tue Mar 12 11:18:58 2024'"
      ]
     },
     "execution_count": 59,
     "metadata": {},
     "output_type": "execute_result"
    }
   ],
   "source": [
    "time.asctime(time.localtime(time.time()))"
   ]
  },
  {
   "cell_type": "code",
   "execution_count": 60,
   "id": "2f215f46",
   "metadata": {
    "ExecuteTime": {
     "end_time": "2024-03-12T02:19:12.917527Z",
     "start_time": "2024-03-12T02:19:12.912379Z"
    }
   },
   "outputs": [
    {
     "data": {
      "text/plain": [
       "'Tue Mar 12 11:19:12 2024'"
      ]
     },
     "execution_count": 60,
     "metadata": {},
     "output_type": "execute_result"
    }
   ],
   "source": [
    "time.ctime()"
   ]
  },
  {
   "cell_type": "code",
   "execution_count": 61,
   "id": "d00ebac8",
   "metadata": {
    "ExecuteTime": {
     "end_time": "2024-03-12T02:21:01.169504Z",
     "start_time": "2024-03-12T02:21:01.163540Z"
    }
   },
   "outputs": [
    {
     "data": {
      "text/plain": [
       "'03/12/24'"
      ]
     },
     "execution_count": 61,
     "metadata": {},
     "output_type": "execute_result"
    }
   ],
   "source": [
    "import time\n",
    "time.strftime('%x', time.localtime(time.time()))"
   ]
  },
  {
   "cell_type": "markdown",
   "id": "c278df7f",
   "metadata": {},
   "source": [
    "time.sleep"
   ]
  },
  {
   "cell_type": "code",
   "execution_count": 62,
   "id": "ff1b0894",
   "metadata": {
    "ExecuteTime": {
     "end_time": "2024-03-12T02:23:58.879327Z",
     "start_time": "2024-03-12T02:23:48.870462Z"
    }
   },
   "outputs": [
    {
     "name": "stdout",
     "output_type": "stream",
     "text": [
      "0\n",
      "1\n",
      "2\n",
      "3\n",
      "4\n",
      "5\n",
      "6\n",
      "7\n",
      "8\n",
      "9\n"
     ]
    }
   ],
   "source": [
    "# sleep1.py\n",
    "import time\n",
    "for i in range(10):\n",
    "    print(i)\n",
    "    time.sleep(1)"
   ]
  },
  {
   "cell_type": "markdown",
   "id": "31c5ab2a",
   "metadata": {},
   "source": [
    "## random\n",
    "random은 난수(규칙이 없는 임의의 수)를 발생시키는 모듈이다.<br>random과 randint 함수에 대해 알아보자."
   ]
  },
  {
   "cell_type": "code",
   "execution_count": 63,
   "id": "8fd82569",
   "metadata": {
    "ExecuteTime": {
     "end_time": "2024-03-12T02:29:51.057930Z",
     "start_time": "2024-03-12T02:29:51.053614Z"
    }
   },
   "outputs": [
    {
     "data": {
      "text/plain": [
       "0.5897289757507234"
      ]
     },
     "execution_count": 63,
     "metadata": {},
     "output_type": "execute_result"
    }
   ],
   "source": [
    "import random\n",
    "random.random()"
   ]
  },
  {
   "cell_type": "code",
   "execution_count": 64,
   "id": "24263e58",
   "metadata": {
    "ExecuteTime": {
     "end_time": "2024-03-12T02:30:02.443903Z",
     "start_time": "2024-03-12T02:30:02.438463Z"
    }
   },
   "outputs": [
    {
     "data": {
      "text/plain": [
       "8"
      ]
     },
     "execution_count": 64,
     "metadata": {},
     "output_type": "execute_result"
    }
   ],
   "source": [
    "random.randint(1, 10)"
   ]
  },
  {
   "cell_type": "code",
   "execution_count": 66,
   "id": "961c993c",
   "metadata": {
    "ExecuteTime": {
     "end_time": "2024-03-12T02:33:01.041406Z",
     "start_time": "2024-03-12T02:33:01.034918Z"
    }
   },
   "outputs": [
    {
     "data": {
      "text/plain": [
       "[2, 3, 5, 4, 1]"
      ]
     },
     "execution_count": 66,
     "metadata": {},
     "output_type": "execute_result"
    }
   ],
   "source": [
    "# random.sample()\n",
    "data = [1, 2, 3, 4, 5]\n",
    "random.sample(data, len(data))"
   ]
  },
  {
   "cell_type": "markdown",
   "id": "765465ba",
   "metadata": {},
   "source": [
    "## glob\n",
    "파일을 읽고 쓰는 기능이 있는 프로그램을 만들다 보면 특정 디렉터리에 있는 파일 이름 모두를 알아야 할 때 시용"
   ]
  },
  {
   "cell_type": "code",
   "execution_count": 67,
   "id": "7aaa3b98",
   "metadata": {
    "ExecuteTime": {
     "end_time": "2024-03-12T02:36:17.519954Z",
     "start_time": "2024-03-12T02:36:17.514147Z"
    }
   },
   "outputs": [
    {
     "data": {
      "text/plain": [
       "'C:\\\\Workspace_EST\\\\WASSUP2\\\\wassup2\\\\python_grammer'"
      ]
     },
     "execution_count": 67,
     "metadata": {},
     "output_type": "execute_result"
    }
   ],
   "source": [
    "pwd"
   ]
  },
  {
   "cell_type": "code",
   "execution_count": 68,
   "id": "c74fe22a",
   "metadata": {
    "ExecuteTime": {
     "end_time": "2024-03-12T02:37:02.759118Z",
     "start_time": "2024-03-12T02:37:02.756734Z"
    }
   },
   "outputs": [],
   "source": [
    "import glob"
   ]
  },
  {
   "cell_type": "code",
   "execution_count": 73,
   "id": "2a9c0da2",
   "metadata": {
    "ExecuteTime": {
     "end_time": "2024-03-12T02:38:39.475745Z",
     "start_time": "2024-03-12T02:38:39.469776Z"
    }
   },
   "outputs": [
    {
     "data": {
      "text/plain": [
       "['C:\\\\Workspace_EST\\\\WASSUP2\\\\wassup2\\\\python_grammer\\\\00_마크다운.ipynb',\n",
       " 'C:\\\\Workspace_EST\\\\WASSUP2\\\\wassup2\\\\python_grammer\\\\01_자료형&변수.ipynb',\n",
       " 'C:\\\\Workspace_EST\\\\WASSUP2\\\\wassup2\\\\python_grammer\\\\01_자료형&변수_연습문제_실습용.ipynb',\n",
       " 'C:\\\\Workspace_EST\\\\WASSUP2\\\\wassup2\\\\python_grammer\\\\01_자료형&변수_연습문제_정답.ipynb',\n",
       " 'C:\\\\Workspace_EST\\\\WASSUP2\\\\wassup2\\\\python_grammer\\\\02_제어문(if_while_for).ipynb',\n",
       " 'C:\\\\Workspace_EST\\\\WASSUP2\\\\wassup2\\\\python_grammer\\\\02_제어문_연습문제_실습용.ipynb',\n",
       " 'C:\\\\Workspace_EST\\\\WASSUP2\\\\wassup2\\\\python_grammer\\\\03_코딩연습_전화번호프로그램_실습용.ipynb',\n",
       " 'C:\\\\Workspace_EST\\\\WASSUP2\\\\wassup2\\\\python_grammer\\\\04_함수&입출력.ipynb',\n",
       " 'C:\\\\Workspace_EST\\\\WASSUP2\\\\wassup2\\\\python_grammer\\\\04_함수&입출력_연습문제_실습용.ipynb',\n",
       " 'C:\\\\Workspace_EST\\\\WASSUP2\\\\wassup2\\\\python_grammer\\\\04_함수&입출력_연습문제_정답.ipynb',\n",
       " 'C:\\\\Workspace_EST\\\\WASSUP2\\\\wassup2\\\\python_grammer\\\\05_클래스&내장함수_연습문제_실습용.ipynb',\n",
       " 'C:\\\\Workspace_EST\\\\WASSUP2\\\\wassup2\\\\python_grammer\\\\05_클래스&내장함수_연습문제_정답.ipynb',\n",
       " 'C:\\\\Workspace_EST\\\\WASSUP2\\\\wassup2\\\\python_grammer\\\\05_클래스.ipynb',\n",
       " 'C:\\\\Workspace_EST\\\\WASSUP2\\\\wassup2\\\\python_grammer\\\\06_내장함수&라이브러리.ipynb',\n",
       " 'C:\\\\Workspace_EST\\\\WASSUP2\\\\wassup2\\\\python_grammer\\\\Test.ipynb',\n",
       " 'C:\\\\Workspace_EST\\\\WASSUP2\\\\wassup2\\\\python_grammer\\\\초보자를 위한 파이썬 300제.ipynb']"
      ]
     },
     "execution_count": 73,
     "metadata": {},
     "output_type": "execute_result"
    }
   ],
   "source": [
    "glob.glob('C:\\\\Workspace_EST\\\\WASSUP2\\\\wassup2\\\\python_grammer\\*.ipynb')"
   ]
  },
  {
   "cell_type": "code",
   "execution_count": 2,
   "id": "af61ee55",
   "metadata": {
    "ExecuteTime": {
     "end_time": "2024-03-13T00:13:26.873501Z",
     "start_time": "2024-03-13T00:13:26.870133Z"
    }
   },
   "outputs": [],
   "source": [
    "import glob"
   ]
  },
  {
   "cell_type": "code",
   "execution_count": 3,
   "id": "3a78795d",
   "metadata": {
    "ExecuteTime": {
     "end_time": "2024-03-13T00:13:29.723514Z",
     "start_time": "2024-03-13T00:13:29.718587Z"
    }
   },
   "outputs": [
    {
     "name": "stdout",
     "output_type": "stream",
     "text": [
      "00_마크다운\n",
      "01_자료형&변수\n",
      "01_자료형&변수_연습문제_실습용\n",
      "01_자료형&변수_연습문제_정답\n",
      "02_제어문(if_while_for)\n",
      "02_제어문_연습문제_실습용\n",
      "03_코딩연습_전화번호프로그램_실습용\n",
      "04_함수&입출력\n",
      "04_함수&입출력_연습문제_실습용\n",
      "04_함수&입출력_연습문제_정답\n",
      "05_클래스&내장함수_연습문제_실습용\n",
      "05_클래스&내장함수_연습문제_정답\n",
      "05_클래스\n",
      "06_내장함수&라이브러리\n",
      "Test\n",
      "초보자를 위한 파이썬 300제\n"
     ]
    }
   ],
   "source": [
    "filepath = glob.glob('C:\\\\Workspace_EST\\\\WASSUP2\\\\wassup2\\\\python_grammer\\*.ipynb')\n",
    "for file in filepath :\n",
    "    print(file.split('\\\\')[-1].split('.')[0])"
   ]
  },
  {
   "cell_type": "code",
   "execution_count": 4,
   "id": "5bcfc467",
   "metadata": {
    "ExecuteTime": {
     "end_time": "2024-03-13T00:17:22.915029Z",
     "start_time": "2024-03-13T00:17:22.911417Z"
    }
   },
   "outputs": [],
   "source": [
    "import os"
   ]
  },
  {
   "cell_type": "markdown",
   "id": "0d0159e2",
   "metadata": {},
   "source": [
    "## OS"
   ]
  },
  {
   "cell_type": "code",
   "execution_count": 5,
   "id": "10d3fa62",
   "metadata": {
    "ExecuteTime": {
     "end_time": "2024-03-13T00:17:37.159920Z",
     "start_time": "2024-03-13T00:17:37.149676Z"
    }
   },
   "outputs": [
    {
     "data": {
      "text/plain": [
       "environ{'ALLUSERSPROFILE': 'C:\\\\ProgramData',\n",
       "        'APPDATA': 'C:\\\\Users\\\\user\\\\AppData\\\\Roaming',\n",
       "        'COMMONPROGRAMFILES': 'C:\\\\Program Files\\\\Common Files',\n",
       "        'COMMONPROGRAMFILES(X86)': 'C:\\\\Program Files (x86)\\\\Common Files',\n",
       "        'COMMONPROGRAMW6432': 'C:\\\\Program Files\\\\Common Files',\n",
       "        'COMPUTERNAME': 'LAPTOP-U0CO45L6',\n",
       "        'COMSPEC': 'C:\\\\WINDOWS\\\\system32\\\\cmd.exe',\n",
       "        'DRIVERDATA': 'C:\\\\Windows\\\\System32\\\\Drivers\\\\DriverData',\n",
       "        'FPS_BROWSER_APP_PROFILE_STRING': 'Internet Explorer',\n",
       "        'FPS_BROWSER_USER_PROFILE_STRING': 'Default',\n",
       "        'HOMEDRIVE': 'C:',\n",
       "        'HOMEPATH': '\\\\Users\\\\user',\n",
       "        'LOCALAPPDATA': 'C:\\\\Users\\\\user\\\\AppData\\\\Local',\n",
       "        'LOGONSERVER': '\\\\\\\\LAPTOP-U0CO45L6',\n",
       "        'NUMBER_OF_PROCESSORS': '8',\n",
       "        'ONEDRIVE': 'C:\\\\Users\\\\user\\\\OneDrive',\n",
       "        'ONEDRIVECONSUMER': 'C:\\\\Users\\\\user\\\\OneDrive',\n",
       "        'OS': 'Windows_NT',\n",
       "        'PATH': 'C:\\\\Users\\\\user\\\\anaconda3;C:\\\\Users\\\\user\\\\anaconda3\\\\Library\\\\mingw-w64\\\\bin;C:\\\\Users\\\\user\\\\anaconda3\\\\Library\\\\usr\\\\bin;C:\\\\Users\\\\user\\\\anaconda3\\\\Library\\\\bin;C:\\\\Users\\\\user\\\\anaconda3\\\\Scripts;C:\\\\Program Files\\\\MySQL\\\\MySQL Server 8.0\\\\bin;C:\\\\WINDOWS\\\\system32;C:\\\\WINDOWS;C:\\\\WINDOWS\\\\System32\\\\Wbem;C:\\\\WINDOWS\\\\System32\\\\WindowsPowerShell\\\\v1.0\\\\;C:\\\\WINDOWS\\\\System32\\\\OpenSSH\\\\;C:\\\\Program Files\\\\Git\\\\cmd;C:\\\\Users\\\\user\\\\anaconda3;C:\\\\Users\\\\user\\\\anaconda3\\\\Library\\\\mingw-w64\\\\bin;C:\\\\Users\\\\user\\\\anaconda3\\\\Library\\\\usr\\\\bin;C:\\\\Users\\\\user\\\\anaconda3\\\\Library\\\\bin;C:\\\\Users\\\\user\\\\anaconda3\\\\Scripts;C:\\\\Users\\\\user\\\\AppData\\\\Local\\\\Microsoft\\\\WindowsApps',\n",
       "        'PATHEXT': '.COM;.EXE;.BAT;.CMD;.VBS;.VBE;.JS;.JSE;.WSF;.WSH;.MSC',\n",
       "        'PROCESSOR_ARCHITECTURE': 'AMD64',\n",
       "        'PROCESSOR_IDENTIFIER': 'Intel64 Family 6 Model 140 Stepping 1, GenuineIntel',\n",
       "        'PROCESSOR_LEVEL': '6',\n",
       "        'PROCESSOR_REVISION': '8c01',\n",
       "        'PROGRAMDATA': 'C:\\\\ProgramData',\n",
       "        'PROGRAMFILES': 'C:\\\\Program Files',\n",
       "        'PROGRAMFILES(X86)': 'C:\\\\Program Files (x86)',\n",
       "        'PROGRAMW6432': 'C:\\\\Program Files',\n",
       "        'PSMODULEPATH': 'C:\\\\Program Files\\\\WindowsPowerShell\\\\Modules;C:\\\\WINDOWS\\\\system32\\\\WindowsPowerShell\\\\v1.0\\\\Modules',\n",
       "        'PUBLIC': 'C:\\\\Users\\\\Public',\n",
       "        'SESSIONNAME': 'Console',\n",
       "        'SYSTEMDRIVE': 'C:',\n",
       "        'SYSTEMROOT': 'C:\\\\WINDOWS',\n",
       "        'TEMP': 'C:\\\\Users\\\\user\\\\AppData\\\\Local\\\\Temp',\n",
       "        'TMP': 'C:\\\\Users\\\\user\\\\AppData\\\\Local\\\\Temp',\n",
       "        'USERDOMAIN': 'LAPTOP-U0CO45L6',\n",
       "        'USERDOMAIN_ROAMINGPROFILE': 'LAPTOP-U0CO45L6',\n",
       "        'USERNAME': 'user',\n",
       "        'USERPROFILE': 'C:\\\\Users\\\\user',\n",
       "        'WINDIR': 'C:\\\\WINDOWS',\n",
       "        'ZES_ENABLE_SYSMAN': '1',\n",
       "        'CONDA_PREFIX': 'C:\\\\Users\\\\user\\\\anaconda3',\n",
       "        'PYDEVD_USE_FRAME_EVAL': 'NO',\n",
       "        'JPY_INTERRUPT_EVENT': '4976',\n",
       "        'IPY_INTERRUPT_EVENT': '4976',\n",
       "        'JPY_PARENT_PID': '5028',\n",
       "        'TERM': 'xterm-color',\n",
       "        'CLICOLOR': '1',\n",
       "        'FORCE_COLOR': '1',\n",
       "        'CLICOLOR_FORCE': '1',\n",
       "        'PAGER': 'cat',\n",
       "        'GIT_PAGER': 'cat',\n",
       "        'MPLBACKEND': 'module://matplotlib_inline.backend_inline'}"
      ]
     },
     "execution_count": 5,
     "metadata": {},
     "output_type": "execute_result"
    }
   ],
   "source": [
    "os.environ"
   ]
  },
  {
   "cell_type": "code",
   "execution_count": 6,
   "id": "6dac78a8",
   "metadata": {
    "ExecuteTime": {
     "end_time": "2024-03-13T00:18:02.304485Z",
     "start_time": "2024-03-13T00:18:02.298627Z"
    }
   },
   "outputs": [
    {
     "data": {
      "text/plain": [
       "'C:\\\\Workspace_EST\\\\WASSUP2\\\\wassup2\\\\python_grammer'"
      ]
     },
     "execution_count": 6,
     "metadata": {},
     "output_type": "execute_result"
    }
   ],
   "source": [
    "os.getcwd()"
   ]
  },
  {
   "cell_type": "code",
   "execution_count": 7,
   "id": "5751d5c6",
   "metadata": {
    "ExecuteTime": {
     "end_time": "2024-03-13T00:18:11.316462Z",
     "start_time": "2024-03-13T00:18:11.311559Z"
    }
   },
   "outputs": [
    {
     "data": {
      "text/plain": [
       "'C:\\\\Workspace_EST\\\\WASSUP2\\\\wassup2\\\\python_grammer'"
      ]
     },
     "execution_count": 7,
     "metadata": {},
     "output_type": "execute_result"
    }
   ],
   "source": [
    "pwd"
   ]
  },
  {
   "cell_type": "code",
   "execution_count": 8,
   "id": "7f21a21a",
   "metadata": {
    "ExecuteTime": {
     "end_time": "2024-03-13T00:18:55.280877Z",
     "start_time": "2024-03-13T00:18:55.256719Z"
    }
   },
   "outputs": [
    {
     "data": {
      "text/plain": [
       "0"
      ]
     },
     "execution_count": 8,
     "metadata": {},
     "output_type": "execute_result"
    }
   ],
   "source": [
    "os.system(\"dir\")"
   ]
  },
  {
   "cell_type": "markdown",
   "id": "4f2fa026",
   "metadata": {},
   "source": [
    "## json"
   ]
  },
  {
   "cell_type": "code",
   "execution_count": 21,
   "id": "c13bec39",
   "metadata": {
    "ExecuteTime": {
     "end_time": "2024-03-13T00:52:00.015252Z",
     "start_time": "2024-03-13T00:52:00.007879Z"
    }
   },
   "outputs": [
    {
     "data": {
      "text/plain": [
       "(dict, {'name': '홍길동', 'birth': '0525', 'age': 30})"
      ]
     },
     "execution_count": 21,
     "metadata": {},
     "output_type": "execute_result"
    }
   ],
   "source": [
    "import json\n",
    "with open('myinfo.json', encoding = 'utf-8') as f:\n",
    "     data = json.load(f)\n",
    "        \n",
    "type(data), data"
   ]
  },
  {
   "cell_type": "code",
   "execution_count": null,
   "id": "45f1b27c",
   "metadata": {},
   "outputs": [],
   "source": []
  },
  {
   "cell_type": "markdown",
   "id": "b728a9f3",
   "metadata": {},
   "source": [
    "## urllib\n",
    "urllib은 URL을 읽고 분석할 때 사용하는 모듈이다."
   ]
  },
  {
   "cell_type": "code",
   "execution_count": 15,
   "id": "088a8dae",
   "metadata": {
    "ExecuteTime": {
     "end_time": "2024-03-13T00:40:30.471478Z",
     "start_time": "2024-03-13T00:40:30.466505Z"
    }
   },
   "outputs": [],
   "source": [
    "# urllib_test.py\n",
    "import urllib.request\n",
    "\n",
    "def get_wikidocs(page):\n",
    "    resource = 'https://wikidocs.net/{}'.format(page)\n",
    "    with urllib.request.urlopen(resource) as s:\n",
    "        with open('wikidocs_%s.html' % page, 'wb') as f:\n",
    "            f.write(s.read())"
   ]
  },
  {
   "cell_type": "code",
   "execution_count": 16,
   "id": "c040fcb5",
   "metadata": {
    "ExecuteTime": {
     "end_time": "2024-03-13T00:41:09.625748Z",
     "start_time": "2024-03-13T00:41:09.237500Z"
    }
   },
   "outputs": [],
   "source": [
    "get_wikidocs(33)"
   ]
  },
  {
   "cell_type": "markdown",
   "id": "587d89c7",
   "metadata": {},
   "source": [
    "## webbrowser"
   ]
  },
  {
   "cell_type": "code",
   "execution_count": 17,
   "id": "4de7dcd6",
   "metadata": {
    "ExecuteTime": {
     "end_time": "2024-03-13T00:42:23.648023Z",
     "start_time": "2024-03-13T00:42:23.439867Z"
    }
   },
   "outputs": [
    {
     "data": {
      "text/plain": [
       "True"
      ]
     },
     "execution_count": 17,
     "metadata": {},
     "output_type": "execute_result"
    }
   ],
   "source": [
    "# webbrowser_test.py\n",
    "import webbrowser\n",
    "\n",
    "webbrowser.open_new('http://python.org')"
   ]
  },
  {
   "cell_type": "markdown",
   "id": "7791a7e2",
   "metadata": {},
   "source": [
    "# 라이브러리(외부)"
   ]
  },
  {
   "cell_type": "markdown",
   "id": "eb5aaf0a",
   "metadata": {},
   "source": [
    "## pip"
   ]
  },
  {
   "cell_type": "code",
   "execution_count": 18,
   "id": "fbd6da2b",
   "metadata": {
    "ExecuteTime": {
     "end_time": "2024-03-13T00:47:18.142397Z",
     "start_time": "2024-03-13T00:47:15.178699Z"
    }
   },
   "outputs": [
    {
     "name": "stdout",
     "output_type": "stream",
     "text": [
      "Package                           Version\n",
      "--------------------------------- ---------------\n",
      "aiobotocore                       2.5.0\n",
      "aiofiles                          22.1.0\n",
      "aiohttp                           3.8.5\n",
      "aioitertools                      0.7.1\n",
      "aiosignal                         1.2.0\n",
      "aiosqlite                         0.18.0\n",
      "alabaster                         0.7.12\n",
      "anaconda-anon-usage               0.4.2\n",
      "anaconda-catalogs                 0.2.0\n",
      "anaconda-client                   1.12.1\n",
      "anaconda-cloud-auth               0.1.3\n",
      "anaconda-navigator                2.5.2\n",
      "anaconda-project                  0.11.1\n",
      "anyio                             3.5.0\n",
      "appdirs                           1.4.4\n",
      "argon2-cffi                       21.3.0\n",
      "argon2-cffi-bindings              21.2.0\n",
      "arrow                             1.2.3\n",
      "astroid                           2.14.2\n",
      "astropy                           5.1\n",
      "asttokens                         2.0.5\n",
      "async-timeout                     4.0.2\n",
      "atomicwrites                      1.4.0\n",
      "attrs                             22.1.0\n",
      "Automat                           20.2.0\n",
      "autopep8                          1.6.0\n",
      "Babel                             2.11.0\n",
      "backcall                          0.2.0\n",
      "backports.functools-lru-cache     1.6.4\n",
      "backports.tempfile                1.0\n",
      "backports.weakref                 1.0.post1\n",
      "bcrypt                            3.2.0\n",
      "beautifulsoup4                    4.12.2\n",
      "binaryornot                       0.4.4\n",
      "black                             0.0\n",
      "bleach                            4.1.0\n",
      "bokeh                             3.2.1\n",
      "boltons                           23.0.0\n",
      "botocore                          1.29.76\n",
      "Bottleneck                        1.3.5\n",
      "brotlipy                          0.7.0\n",
      "certifi                           2024.2.2\n",
      "cffi                              1.15.1\n",
      "chardet                           4.0.0\n",
      "charset-normalizer                2.0.4\n",
      "click                             8.0.4\n",
      "cloudpickle                       2.2.1\n",
      "clyent                            1.2.2\n",
      "colorama                          0.4.6\n",
      "colorcet                          3.0.1\n",
      "comm                              0.1.2\n",
      "conda                             23.7.4\n",
      "conda-build                       3.26.1\n",
      "conda-content-trust               0.2.0\n",
      "conda_index                       0.3.0\n",
      "conda-libmamba-solver             23.7.0\n",
      "conda-pack                        0.6.0\n",
      "conda-package-handling            2.2.0\n",
      "conda_package_streaming           0.9.0\n",
      "conda-repo-cli                    1.0.75\n",
      "conda-token                       0.4.0\n",
      "conda-verify                      3.4.2\n",
      "constantly                        15.1.0\n",
      "contourpy                         1.0.5\n",
      "cookiecutter                      1.7.3\n",
      "cryptography                      41.0.3\n",
      "cssselect                         1.1.0\n",
      "cycler                            0.11.0\n",
      "cytoolz                           0.12.0\n",
      "daal4py                           2023.1.1\n",
      "dask                              2023.6.0\n",
      "datasets                          2.12.0\n",
      "datashader                        0.15.2\n",
      "datashape                         0.5.4\n",
      "debugpy                           1.6.7\n",
      "decorator                         5.1.1\n",
      "defusedxml                        0.7.1\n",
      "diff-match-patch                  20200713\n",
      "dill                              0.3.6\n",
      "distributed                       2023.6.0\n",
      "docstring-to-markdown             0.11\n",
      "docutils                          0.18.1\n",
      "entrypoints                       0.4\n",
      "et-xmlfile                        1.1.0\n",
      "executing                         0.8.3\n",
      "fastjsonschema                    2.16.2\n",
      "filelock                          3.9.0\n",
      "flake8                            6.0.0\n",
      "Flask                             2.2.2\n",
      "fonttools                         4.25.0\n",
      "frozenlist                        1.3.3\n",
      "fsspec                            2023.4.0\n",
      "future                            0.18.3\n",
      "gensim                            4.3.0\n",
      "glob2                             0.7\n",
      "greenlet                          2.0.1\n",
      "h5py                              3.9.0\n",
      "HeapDict                          1.0.1\n",
      "holoviews                         1.17.1\n",
      "huggingface-hub                   0.15.1\n",
      "hvplot                            0.8.4\n",
      "hyperlink                         21.0.0\n",
      "idna                              3.4\n",
      "imagecodecs                       2023.1.23\n",
      "imageio                           2.26.0\n",
      "imagesize                         1.4.1\n",
      "imbalanced-learn                  0.10.1\n",
      "importlib-metadata                6.0.0\n",
      "incremental                       21.3.0\n",
      "inflection                        0.5.1\n",
      "iniconfig                         1.1.1\n",
      "intake                            0.6.8\n",
      "intervaltree                      3.1.0\n",
      "ipykernel                         6.25.0\n",
      "ipython                           8.15.0\n",
      "ipython-genutils                  0.2.0\n",
      "ipywidgets                        8.0.4\n",
      "isort                             5.9.3\n",
      "itemadapter                       0.3.0\n",
      "itemloaders                       1.0.4\n",
      "itsdangerous                      2.0.1\n",
      "jaraco.classes                    3.2.1\n",
      "jedi                              0.18.1\n",
      "jellyfish                         1.0.1\n",
      "Jinja2                            3.1.2\n",
      "jinja2-time                       0.2.0\n",
      "jmespath                          0.10.0\n",
      "joblib                            1.2.0\n",
      "json5                             0.9.6\n",
      "jsonpatch                         1.32\n",
      "jsonpointer                       2.1\n",
      "jsonschema                        4.17.3\n",
      "jupyter                           1.0.0\n",
      "jupyter_client                    7.4.9\n",
      "jupyter-console                   6.6.3\n",
      "jupyter-contrib-core              0.4.2\n",
      "jupyter-contrib-nbextensions      0.7.0\n",
      "jupyter_core                      5.3.0\n",
      "jupyter-events                    0.6.3\n",
      "jupyter-highlight-selected-word   0.2.0\n",
      "jupyter-nbextensions-configurator 0.6.3\n",
      "jupyter-server                    1.23.4\n",
      "jupyter_server_fileid             0.9.0\n",
      "jupyter_server_ydoc               0.8.0\n",
      "jupyter-ydoc                      0.2.4\n",
      "jupyterlab                        3.6.3\n",
      "jupyterlab-pygments               0.1.2\n",
      "jupyterlab_server                 2.22.0\n",
      "jupyterlab-widgets                3.0.5\n",
      "jupyterthemes                     0.20.0\n",
      "kaleido                           0.2.1\n",
      "keyring                           23.13.1\n",
      "kiwisolver                        1.4.4\n",
      "lazy_loader                       0.2\n",
      "lazy-object-proxy                 1.6.0\n",
      "lesscpy                           0.15.1\n",
      "libarchive-c                      2.9\n",
      "libmambapy                        1.5.1\n",
      "linkify-it-py                     2.0.0\n",
      "llvmlite                          0.40.0\n",
      "lmdb                              1.4.1\n",
      "locket                            1.0.0\n",
      "lxml                              4.9.3\n",
      "lz4                               4.3.2\n",
      "Markdown                          3.4.1\n",
      "markdown-it-py                    2.2.0\n",
      "MarkupSafe                        2.1.1\n",
      "matplotlib                        3.7.2\n",
      "matplotlib-inline                 0.1.6\n",
      "mccabe                            0.7.0\n",
      "mdit-py-plugins                   0.3.0\n",
      "mdurl                             0.1.0\n",
      "menuinst                          1.4.19\n",
      "mistune                           0.8.4\n",
      "mkl-fft                           1.3.8\n",
      "mkl-random                        1.2.4\n",
      "mkl-service                       2.4.0\n",
      "more-itertools                    8.12.0\n",
      "mpmath                            1.3.0\n",
      "msgpack                           1.0.3\n",
      "multidict                         6.0.2\n",
      "multipledispatch                  0.6.0\n",
      "multiprocess                      0.70.14\n",
      "munkres                           1.1.4\n",
      "mypy-extensions                   1.0.0\n",
      "navigator-updater                 0.4.0\n",
      "nbclassic                         0.5.5\n",
      "nbclient                          0.5.13\n",
      "nbconvert                         6.5.4\n",
      "nbformat                          5.9.2\n",
      "nest-asyncio                      1.5.6\n",
      "networkx                          3.1\n",
      "nltk                              3.8.1\n",
      "notebook                          6.5.4\n",
      "notebook_shim                     0.2.2\n",
      "numba                             0.57.1\n",
      "numexpr                           2.8.4\n",
      "numpy                             1.24.3\n",
      "numpydoc                          1.5.0\n",
      "openpyxl                          3.0.10\n",
      "packaging                         23.1\n",
      "pandas                            2.0.3\n",
      "pandocfilters                     1.5.0\n",
      "panel                             1.2.3\n",
      "param                             1.13.0\n",
      "paramiko                          2.8.1\n",
      "parsel                            1.6.0\n",
      "parso                             0.8.3\n",
      "partd                             1.4.0\n",
      "pathlib                           1.0.1\n",
      "pathspec                          0.10.3\n",
      "patsy                             0.5.3\n",
      "pep8                              1.7.1\n",
      "pexpect                           4.8.0\n",
      "pickleshare                       0.7.5\n",
      "pillow                            10.2.0\n",
      "pip                               23.2.1\n",
      "pkce                              1.0.3\n",
      "pkginfo                           1.9.6\n",
      "platformdirs                      3.10.0\n",
      "plotly                            5.9.0\n",
      "pluggy                            1.0.0\n",
      "ply                               3.11\n",
      "poyo                              0.5.0\n",
      "prometheus-client                 0.14.1\n",
      "prompt-toolkit                    3.0.36\n",
      "Protego                           0.1.16\n",
      "psutil                            5.9.0\n",
      "ptyprocess                        0.7.0\n",
      "pure-eval                         0.2.2\n",
      "py-cpuinfo                        8.0.0\n",
      "pyarrow                           11.0.0\n",
      "pyasn1                            0.4.8\n",
      "pyasn1-modules                    0.2.8\n",
      "pycodestyle                       2.10.0\n",
      "pycosat                           0.6.4\n",
      "pycparser                         2.21\n",
      "pyct                              0.5.0\n",
      "pycurl                            7.45.2\n",
      "pydantic                          1.10.8\n",
      "PyDispatcher                      2.0.5\n",
      "pydocstyle                        6.3.0\n",
      "pyerfa                            2.0.0\n",
      "pyflakes                          3.0.1\n",
      "Pygments                          2.15.1\n",
      "PyJWT                             2.4.0\n",
      "pylint                            2.16.2\n",
      "pylint-venv                       2.3.0\n",
      "pyls-spyder                       0.4.0\n",
      "PyNaCl                            1.5.0\n",
      "pyodbc                            4.0.34\n",
      "pyOpenSSL                         23.2.0\n",
      "pyparsing                         3.0.9\n",
      "PyQt5                             5.15.7\n",
      "PyQt5-sip                         12.11.0\n",
      "PyQtWebEngine                     5.15.4\n",
      "pyrsistent                        0.18.0\n",
      "PySocks                           1.7.1\n",
      "pytest                            7.4.0\n",
      "python-dateutil                   2.8.2\n",
      "python-dotenv                     0.21.0\n",
      "python-json-logger                2.0.7\n",
      "python-lsp-black                  1.2.1\n",
      "python-lsp-jsonrpc                1.0.0\n",
      "python-lsp-server                 1.7.2\n",
      "python-slugify                    5.0.2\n",
      "python-snappy                     0.6.1\n",
      "pytoolconfig                      1.2.5\n",
      "pytz                              2023.3.post1\n",
      "pyviz-comms                       2.3.0\n",
      "PyWavelets                        1.4.1\n",
      "pywin32                           305.1\n",
      "pywin32-ctypes                    0.2.0\n",
      "pywinpty                          2.0.10\n",
      "PyYAML                            6.0\n",
      "pyzmq                             23.2.0\n",
      "QDarkStyle                        3.0.2\n",
      "qstylizer                         0.2.2\n",
      "QtAwesome                         1.2.2\n",
      "qtconsole                         5.4.2\n",
      "QtPy                              2.2.0\n",
      "queuelib                          1.5.0\n",
      "regex                             2022.7.9\n",
      "requests                          2.31.0\n",
      "requests-file                     1.5.1\n",
      "requests-toolbelt                 1.0.0\n",
      "responses                         0.13.3\n",
      "rfc3339-validator                 0.1.4\n",
      "rfc3986-validator                 0.1.1\n",
      "rope                              1.7.0\n",
      "Rtree                             1.0.1\n",
      "ruamel.yaml                       0.17.21\n",
      "ruamel-yaml-conda                 0.17.21\n",
      "s3fs                              2023.4.0\n",
      "safetensors                       0.3.2\n",
      "scikit-image                      0.20.0\n",
      "scikit-learn                      1.3.0\n",
      "scikit-learn-intelex              20230426.121932\n",
      "scipy                             1.11.1\n",
      "Scrapy                            2.8.0\n",
      "seaborn                           0.12.2\n",
      "Send2Trash                        1.8.0\n",
      "service-identity                  18.1.0\n",
      "setuptools                        68.0.0\n",
      "sip                               6.6.2\n",
      "six                               1.16.0\n",
      "smart-open                        5.2.1\n",
      "sniffio                           1.2.0\n",
      "snowballstemmer                   2.2.0\n",
      "sortedcontainers                  2.4.0\n",
      "soupsieve                         2.4\n",
      "Sphinx                            5.0.2\n",
      "sphinxcontrib-applehelp           1.0.2\n",
      "sphinxcontrib-devhelp             1.0.2\n",
      "sphinxcontrib-htmlhelp            2.0.0\n",
      "sphinxcontrib-jsmath              1.0.1\n",
      "sphinxcontrib-qthelp              1.0.3\n",
      "sphinxcontrib-serializinghtml     1.1.5\n",
      "spyder                            5.4.3\n",
      "spyder-kernels                    2.4.4\n",
      "SQLAlchemy                        1.4.39\n",
      "stack-data                        0.2.0\n",
      "statsmodels                       0.14.0\n",
      "sympy                             1.11.1\n",
      "tables                            3.8.0\n",
      "tabulate                          0.8.10\n",
      "TBB                               0.2\n",
      "tblib                             1.7.0\n",
      "tenacity                          8.2.2\n",
      "terminado                         0.17.1\n",
      "text-unidecode                    1.3\n",
      "textdistance                      4.2.1\n",
      "threadpoolctl                     2.2.0\n",
      "three-merge                       0.1.1\n",
      "tifffile                          2023.4.12\n",
      "tinycss2                          1.2.1\n",
      "tldextract                        3.2.0\n",
      "tokenizers                        0.13.2\n",
      "toml                              0.10.2\n",
      "tomlkit                           0.11.1\n",
      "toolz                             0.12.0\n",
      "tornado                           6.3.2\n",
      "tqdm                              4.65.0\n",
      "traitlets                         5.7.1\n",
      "transformers                      4.32.1\n",
      "Twisted                           22.10.0\n",
      "twisted-iocpsupport               1.0.2\n",
      "typing_extensions                 4.7.1\n",
      "tzdata                            2023.3\n",
      "uc-micro-py                       1.0.1\n",
      "ujson                             5.4.0\n",
      "Unidecode                         1.2.0\n",
      "urllib3                           1.26.16\n",
      "w3lib                             1.21.0\n",
      "watchdog                          2.1.6\n",
      "wcwidth                           0.2.5\n",
      "webencodings                      0.5.1\n",
      "websocket-client                  0.58.0\n",
      "Werkzeug                          2.2.3\n",
      "whatthepatch                      1.0.2\n",
      "wheel                             0.38.4\n",
      "widgetsnbextension                4.0.5\n",
      "win-inet-pton                     1.1.0\n",
      "wrapt                             1.14.1\n",
      "xarray                            2023.6.0\n",
      "xlwings                           0.29.1\n",
      "xxhash                            2.0.2\n",
      "xyzservices                       2022.9.0\n",
      "y-py                              0.5.9\n",
      "yapf                              0.31.0\n",
      "yarl                              1.8.1\n",
      "ypy-websocket                     0.8.2\n",
      "zict                              2.2.0\n",
      "zipp                              3.11.0\n",
      "zope.interface                    5.4.0\n",
      "zstandard                         0.19.0\n",
      "Note: you may need to restart the kernel to use updated packages.\n"
     ]
    }
   ],
   "source": [
    "# 설치된 패키지 확인하기\n",
    "pip list"
   ]
  },
  {
   "cell_type": "markdown",
   "id": "c291219d",
   "metadata": {},
   "source": [
    "## Faker"
   ]
  },
  {
   "cell_type": "code",
   "execution_count": 19,
   "id": "d4f687a0",
   "metadata": {
    "ExecuteTime": {
     "end_time": "2024-03-13T00:49:26.166193Z",
     "start_time": "2024-03-13T00:49:16.773160Z"
    }
   },
   "outputs": [
    {
     "name": "stdout",
     "output_type": "stream",
     "text": [
      "Collecting Faker\n",
      "  Obtaining dependency information for Faker from https://files.pythonhosted.org/packages/c5/ad/87c165d63be249db767227109d35e22cde75c9c941d69edc1b175f4928f0/Faker-24.1.0-py3-none-any.whl.metadata\n",
      "  Downloading Faker-24.1.0-py3-none-any.whl.metadata (15 kB)\n",
      "Requirement already satisfied: python-dateutil>=2.4 in c:\\users\\user\\anaconda3\\lib\\site-packages (from Faker) (2.8.2)\n",
      "Requirement already satisfied: six>=1.5 in c:\\users\\user\\anaconda3\\lib\\site-packages (from python-dateutil>=2.4->Faker) (1.16.0)\n",
      "Downloading Faker-24.1.0-py3-none-any.whl (1.8 MB)\n",
      "   ---------------------------------------- 0.0/1.8 MB ? eta -:--:--\n",
      "    --------------------------------------- 0.0/1.8 MB 1.3 MB/s eta 0:00:02\n",
      "   -------- ------------------------------- 0.4/1.8 MB 4.9 MB/s eta 0:00:01\n",
      "   ------------------------ --------------- 1.1/1.8 MB 8.6 MB/s eta 0:00:01\n",
      "   ---------------------------------------- 1.8/1.8 MB 11.2 MB/s eta 0:00:00\n",
      "Installing collected packages: Faker\n",
      "Successfully installed Faker-24.1.0\n",
      "Note: you may need to restart the kernel to use updated packages.\n"
     ]
    }
   ],
   "source": [
    "pip install Faker"
   ]
  },
  {
   "cell_type": "code",
   "execution_count": 2,
   "id": "e5bd6669",
   "metadata": {
    "ExecuteTime": {
     "end_time": "2024-03-13T01:08:19.897212Z",
     "start_time": "2024-03-13T01:08:19.653041Z"
    }
   },
   "outputs": [
    {
     "data": {
      "text/plain": [
       "'Alexander Hall'"
      ]
     },
     "execution_count": 2,
     "metadata": {},
     "output_type": "execute_result"
    }
   ],
   "source": [
    "# 외부라이브러리이므로 때문에 반드시 From을 해줘야한다.\n",
    "from faker import Faker\n",
    "fake = Faker()\n",
    "fake.name()"
   ]
  },
  {
   "cell_type": "code",
   "execution_count": 3,
   "id": "b8f4be1d",
   "metadata": {
    "ExecuteTime": {
     "end_time": "2024-03-13T01:08:26.138639Z",
     "start_time": "2024-03-13T01:08:26.062324Z"
    }
   },
   "outputs": [
    {
     "data": {
      "text/plain": [
       "'안상현'"
      ]
     },
     "execution_count": 3,
     "metadata": {},
     "output_type": "execute_result"
    }
   ],
   "source": [
    "fake = Faker('ko-KR')\n",
    "fake.name()"
   ]
  },
  {
   "cell_type": "code",
   "execution_count": 8,
   "id": "ebfd6e40",
   "metadata": {
    "ExecuteTime": {
     "end_time": "2024-03-13T01:15:16.944448Z",
     "start_time": "2024-03-13T01:15:16.937975Z"
    }
   },
   "outputs": [
    {
     "data": {
      "text/plain": [
       "'제주특별자치도 여주시 석촌호수34길 (우진김김면)'"
      ]
     },
     "execution_count": 8,
     "metadata": {},
     "output_type": "execute_result"
    }
   ],
   "source": [
    " fake.address()"
   ]
  },
  {
   "cell_type": "code",
   "execution_count": 7,
   "id": "c2cf36f2",
   "metadata": {
    "ExecuteTime": {
     "end_time": "2024-03-13T01:15:09.316158Z",
     "start_time": "2024-03-13T01:15:09.309171Z"
    }
   },
   "outputs": [],
   "source": [
    "test_data = [(fake.name(), fake.address()) for i in range(30)]"
   ]
  },
  {
   "cell_type": "code",
   "execution_count": null,
   "id": "bb9c6aea",
   "metadata": {},
   "outputs": [],
   "source": []
  },
  {
   "cell_type": "code",
   "execution_count": null,
   "id": "951fdaca",
   "metadata": {},
   "outputs": [],
   "source": []
  },
  {
   "cell_type": "code",
   "execution_count": null,
   "id": "9cf42fba",
   "metadata": {},
   "outputs": [],
   "source": []
  },
  {
   "cell_type": "code",
   "execution_count": null,
   "id": "c1e54705",
   "metadata": {},
   "outputs": [],
   "source": []
  },
  {
   "cell_type": "code",
   "execution_count": null,
   "id": "52aa1b31",
   "metadata": {},
   "outputs": [],
   "source": []
  },
  {
   "cell_type": "code",
   "execution_count": null,
   "id": "d1b6a529",
   "metadata": {},
   "outputs": [],
   "source": []
  },
  {
   "cell_type": "code",
   "execution_count": null,
   "id": "001087fe",
   "metadata": {},
   "outputs": [],
   "source": []
  },
  {
   "cell_type": "code",
   "execution_count": null,
   "id": "07b33487",
   "metadata": {},
   "outputs": [],
   "source": []
  },
  {
   "cell_type": "code",
   "execution_count": null,
   "id": "8c94949b",
   "metadata": {},
   "outputs": [],
   "source": []
  },
  {
   "cell_type": "code",
   "execution_count": null,
   "id": "216eb107",
   "metadata": {},
   "outputs": [],
   "source": []
  },
  {
   "cell_type": "code",
   "execution_count": null,
   "id": "869de32d",
   "metadata": {},
   "outputs": [],
   "source": []
  },
  {
   "cell_type": "code",
   "execution_count": null,
   "id": "5a59de16",
   "metadata": {},
   "outputs": [],
   "source": []
  },
  {
   "cell_type": "code",
   "execution_count": null,
   "id": "c98f985e",
   "metadata": {},
   "outputs": [],
   "source": []
  },
  {
   "cell_type": "code",
   "execution_count": null,
   "id": "17c8f0c4",
   "metadata": {},
   "outputs": [],
   "source": []
  },
  {
   "cell_type": "code",
   "execution_count": null,
   "id": "578c94df",
   "metadata": {},
   "outputs": [],
   "source": []
  },
  {
   "cell_type": "code",
   "execution_count": null,
   "id": "028f3a82",
   "metadata": {},
   "outputs": [],
   "source": []
  }
 ],
 "metadata": {
  "kernelspec": {
   "display_name": "Python 3 (ipykernel)",
   "language": "python",
   "name": "python3"
  },
  "language_info": {
   "codemirror_mode": {
    "name": "ipython",
    "version": 3
   },
   "file_extension": ".py",
   "mimetype": "text/x-python",
   "name": "python",
   "nbconvert_exporter": "python",
   "pygments_lexer": "ipython3",
   "version": "3.11.5"
  },
  "toc": {
   "base_numbering": 1,
   "nav_menu": {},
   "number_sections": true,
   "sideBar": true,
   "skip_h1_title": false,
   "title_cell": "Table of Contents",
   "title_sidebar": "Contents",
   "toc_cell": false,
   "toc_position": {},
   "toc_section_display": true,
   "toc_window_display": false
  },
  "varInspector": {
   "cols": {
    "lenName": 16,
    "lenType": 16,
    "lenVar": 40
   },
   "kernels_config": {
    "python": {
     "delete_cmd_postfix": "",
     "delete_cmd_prefix": "del ",
     "library": "var_list.py",
     "varRefreshCmd": "print(var_dic_list())"
    },
    "r": {
     "delete_cmd_postfix": ") ",
     "delete_cmd_prefix": "rm(",
     "library": "var_list.r",
     "varRefreshCmd": "cat(var_dic_list()) "
    }
   },
   "types_to_exclude": [
    "module",
    "function",
    "builtin_function_or_method",
    "instance",
    "_Feature"
   ],
   "window_display": false
  }
 },
 "nbformat": 4,
 "nbformat_minor": 5
}
