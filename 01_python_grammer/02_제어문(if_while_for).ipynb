{
 "cells": [
  {
   "cell_type": "markdown",
   "id": "06fce73b",
   "metadata": {},
   "source": [
    "# if문"
   ]
  },
  {
   "cell_type": "markdown",
   "id": "4ba4a50f",
   "metadata": {},
   "source": [
    "## if 문은 왜 필요할까?"
   ]
  },
  {
   "cell_type": "markdown",
   "id": "e4fabdf3",
   "metadata": {},
   "source": [
    "```\n",
    "‘돈이 있으면 택시를 타고 가고, 돈이 없으면 걸어간다.\n",
    "```\n",
    "\n",
    "```\n",
    "money = True\n",
    "if money:\n",
    "     print(\"택시를 타고 가라\")\n",
    "else:\n",
    "     print(\"걸어 가라\")\n",
    "```"
   ]
  },
  {
   "cell_type": "code",
   "execution_count": 1,
   "id": "5d7446df",
   "metadata": {
    "ExecuteTime": {
     "end_time": "2024-03-05T00:32:52.700034Z",
     "start_time": "2024-03-05T00:32:52.696076Z"
    }
   },
   "outputs": [
    {
     "name": "stdout",
     "output_type": "stream",
     "text": [
      "택시를 타고 가라\n"
     ]
    }
   ],
   "source": [
    "money = True\n",
    "if money:\n",
    "     print(\"택시를 타고 가라\")\n",
    "else:\n",
    "     print(\"걸어 가라\")"
   ]
  },
  {
   "cell_type": "markdown",
   "id": "29f1ba0f",
   "metadata": {},
   "source": [
    "## 들여쓰기 방법 알아보기"
   ]
  },
  {
   "cell_type": "code",
   "execution_count": 2,
   "id": "03200acb",
   "metadata": {
    "ExecuteTime": {
     "end_time": "2024-03-05T00:34:30.964108Z",
     "start_time": "2024-03-05T00:34:30.959035Z"
    }
   },
   "outputs": [
    {
     "ename": "IndentationError",
     "evalue": "unexpected indent (3548834574.py, line 6)",
     "output_type": "error",
     "traceback": [
      "\u001b[1;36m  Cell \u001b[1;32mIn[2], line 6\u001b[1;36m\u001b[0m\n\u001b[1;33m    print(\"가라\")\u001b[0m\n\u001b[1;37m    ^\u001b[0m\n\u001b[1;31mIndentationError\u001b[0m\u001b[1;31m:\u001b[0m unexpected indent\n"
     ]
    }
   ],
   "source": [
    "# indent_error.py\n",
    "money = True\n",
    "if money:\n",
    "    print(\"택시를\")\n",
    "print(\"타고\")\n",
    "    print(\"가라\")"
   ]
  },
  {
   "cell_type": "code",
   "execution_count": 3,
   "id": "6ec2c993",
   "metadata": {
    "ExecuteTime": {
     "end_time": "2024-03-05T00:35:00.729298Z",
     "start_time": "2024-03-05T00:35:00.723593Z"
    }
   },
   "outputs": [
    {
     "ename": "IndentationError",
     "evalue": "unexpected indent (3487304737.py, line 6)",
     "output_type": "error",
     "traceback": [
      "\u001b[1;36m  Cell \u001b[1;32mIn[3], line 6\u001b[1;36m\u001b[0m\n\u001b[1;33m    print(\"가라\")\u001b[0m\n\u001b[1;37m    ^\u001b[0m\n\u001b[1;31mIndentationError\u001b[0m\u001b[1;31m:\u001b[0m unexpected indent\n"
     ]
    }
   ],
   "source": [
    "# indent_error2.py\n",
    "money = True\n",
    "if money:\n",
    "    print(\"택시를\")\n",
    "    print(\"타고\")\n",
    "        print(\"가라\")b"
   ]
  },
  {
   "cell_type": "code",
   "execution_count": 4,
   "id": "d83be6dc",
   "metadata": {
    "ExecuteTime": {
     "end_time": "2024-03-05T00:36:03.269594Z",
     "start_time": "2024-03-05T00:36:03.265161Z"
    }
   },
   "outputs": [
    {
     "name": "stdout",
     "output_type": "stream",
     "text": [
      "택시를\n",
      "타고\n",
      "가라\n"
     ]
    }
   ],
   "source": [
    "money = True\n",
    "if money:\n",
    "    print(\"택시를\")\n",
    "    print(\"타고\")\n",
    "    print(\"가라\")"
   ]
  },
  {
   "cell_type": "markdown",
   "id": "5ad7b431",
   "metadata": {},
   "source": [
    "조건문 다음에 콜론(:)을 잊지 말자!\n",
    "<br>\n",
    "if 조건문 뒤에는 반드시 콜론(:)이 붙는다."
   ]
  },
  {
   "cell_type": "markdown",
   "id": "e34c2d11",
   "metadata": {},
   "source": [
    "## 조건문이란 무엇인가?"
   ]
  },
  {
   "cell_type": "code",
   "execution_count": 5,
   "id": "e5be9db8",
   "metadata": {
    "ExecuteTime": {
     "end_time": "2024-03-05T00:36:41.637697Z",
     "start_time": "2024-03-05T00:36:41.631115Z"
    }
   },
   "outputs": [
    {
     "data": {
      "text/plain": [
       "True"
      ]
     },
     "execution_count": 5,
     "metadata": {},
     "output_type": "execute_result"
    }
   ],
   "source": [
    "x = 3\n",
    "y = 2\n",
    "x > y"
   ]
  },
  {
   "cell_type": "code",
   "execution_count": 6,
   "id": "798a813f",
   "metadata": {
    "ExecuteTime": {
     "end_time": "2024-03-05T00:36:48.011439Z",
     "start_time": "2024-03-05T00:36:48.006709Z"
    }
   },
   "outputs": [
    {
     "data": {
      "text/plain": [
       "False"
      ]
     },
     "execution_count": 6,
     "metadata": {},
     "output_type": "execute_result"
    }
   ],
   "source": [
    "x < y"
   ]
  },
  {
   "cell_type": "code",
   "execution_count": 7,
   "id": "11d8cc24",
   "metadata": {
    "ExecuteTime": {
     "end_time": "2024-03-05T00:37:01.225050Z",
     "start_time": "2024-03-05T00:37:01.219501Z"
    }
   },
   "outputs": [
    {
     "data": {
      "text/plain": [
       "True"
      ]
     },
     "execution_count": 7,
     "metadata": {},
     "output_type": "execute_result"
    }
   ],
   "source": [
    "x != y"
   ]
  },
  {
   "cell_type": "markdown",
   "id": "5188b207",
   "metadata": {},
   "source": [
    "```\n",
    "만약 3000원 이상의 돈을 가지고 있으면 택시를 타고 가고, 그렇지 않으면 걸어가라.\n",
    "```"
   ]
  },
  {
   "cell_type": "code",
   "execution_count": 9,
   "id": "4832d957",
   "metadata": {
    "ExecuteTime": {
     "end_time": "2024-03-05T00:38:50.166919Z",
     "start_time": "2024-03-05T00:38:50.162316Z"
    }
   },
   "outputs": [
    {
     "name": "stdout",
     "output_type": "stream",
     "text": [
      "택시를 타고 가라\n"
     ]
    }
   ],
   "source": [
    "money = 3000\n",
    "if money >=3000:\n",
    "    print(\"택시를 타고 가라\")\n",
    "else:\n",
    "    print(\"걸어가라\")"
   ]
  },
  {
   "cell_type": "markdown",
   "id": "08f84aa8",
   "metadata": {},
   "source": [
    "### and, or, not"
   ]
  },
  {
   "cell_type": "markdown",
   "id": "66cd6d37",
   "metadata": {
    "ExecuteTime": {
     "end_time": "2024-03-05T00:42:59.115969Z",
     "start_time": "2024-03-05T00:42:59.111672Z"
    }
   },
   "source": [
    "```\n",
    "돈이 3000원 이상 있거나 카드가 있다면 택시를 타고 가고, 그렇지 않으면 걸어가라.\n",
    "```"
   ]
  },
  {
   "cell_type": "code",
   "execution_count": 11,
   "id": "ab92ad92",
   "metadata": {
    "ExecuteTime": {
     "end_time": "2024-03-05T00:44:13.537529Z",
     "start_time": "2024-03-05T00:44:13.532925Z"
    }
   },
   "outputs": [
    {
     "name": "stdout",
     "output_type": "stream",
     "text": [
      "택시를 타고 가라\n"
     ]
    }
   ],
   "source": [
    "money = 3000\n",
    "card = True\n",
    "if money >= 3000 or card:\n",
    "    print(\"택시를 타고 가라\")\n",
    "else:\n",
    "    print(\"걸어가라\")"
   ]
  },
  {
   "cell_type": "markdown",
   "id": "f66eb6b0",
   "metadata": {},
   "source": [
    "### in, not in"
   ]
  },
  {
   "cell_type": "code",
   "execution_count": 12,
   "id": "3e35ba14",
   "metadata": {
    "ExecuteTime": {
     "end_time": "2024-03-05T00:45:22.206537Z",
     "start_time": "2024-03-05T00:45:22.201552Z"
    }
   },
   "outputs": [
    {
     "data": {
      "text/plain": [
       "True"
      ]
     },
     "execution_count": 12,
     "metadata": {},
     "output_type": "execute_result"
    }
   ],
   "source": [
    "1 in [1, 2, 3]"
   ]
  },
  {
   "cell_type": "code",
   "execution_count": 13,
   "id": "e720f5d1",
   "metadata": {
    "ExecuteTime": {
     "end_time": "2024-03-05T00:45:27.125435Z",
     "start_time": "2024-03-05T00:45:27.120316Z"
    }
   },
   "outputs": [
    {
     "data": {
      "text/plain": [
       "False"
      ]
     },
     "execution_count": 13,
     "metadata": {},
     "output_type": "execute_result"
    }
   ],
   "source": [
    "1 not in [1, 2, 3]"
   ]
  },
  {
   "cell_type": "code",
   "execution_count": 14,
   "id": "b67c017d",
   "metadata": {
    "ExecuteTime": {
     "end_time": "2024-03-05T00:45:38.180010Z",
     "start_time": "2024-03-05T00:45:38.173934Z"
    }
   },
   "outputs": [
    {
     "data": {
      "text/plain": [
       "True"
      ]
     },
     "execution_count": 14,
     "metadata": {},
     "output_type": "execute_result"
    }
   ],
   "source": [
    "'a' in ('a', 'b', 'c')"
   ]
  },
  {
   "cell_type": "code",
   "execution_count": 15,
   "id": "365b63da",
   "metadata": {
    "ExecuteTime": {
     "end_time": "2024-03-05T00:45:44.517688Z",
     "start_time": "2024-03-05T00:45:44.512700Z"
    }
   },
   "outputs": [
    {
     "data": {
      "text/plain": [
       "True"
      ]
     },
     "execution_count": 15,
     "metadata": {},
     "output_type": "execute_result"
    }
   ],
   "source": [
    "'j' not in 'python'"
   ]
  },
  {
   "cell_type": "markdown",
   "id": "6aaedd3f",
   "metadata": {},
   "source": [
    "```\n",
    "만약 주머니에 돈이 있으면 택시를 타고 가고, 없으면 걸어가라.\n",
    "```"
   ]
  },
  {
   "cell_type": "code",
   "execution_count": 17,
   "id": "ff9a6fa3",
   "metadata": {
    "ExecuteTime": {
     "end_time": "2024-03-05T00:47:38.576840Z",
     "start_time": "2024-03-05T00:47:38.571854Z"
    }
   },
   "outputs": [
    {
     "name": "stdout",
     "output_type": "stream",
     "text": [
      "택시를 타고 가라\n"
     ]
    }
   ],
   "source": [
    "pocket = ['paper', 'cellphone', 'money']\n",
    "if 'money' in pocket:\n",
    "    print(\"택시를 타고 가라\")\n",
    "else:\n",
    "    print(\"걸어가라\")"
   ]
  },
  {
   "cell_type": "markdown",
   "id": "8038bcaa",
   "metadata": {},
   "source": [
    "조건문에서 아무 일도 하지 않게 설정하고 싶다면? -> pass"
   ]
  },
  {
   "cell_type": "code",
   "execution_count": 18,
   "id": "33de2a6a",
   "metadata": {
    "ExecuteTime": {
     "end_time": "2024-03-05T00:49:07.082750Z",
     "start_time": "2024-03-05T00:49:07.079677Z"
    }
   },
   "outputs": [],
   "source": [
    "pocket = ['paper', 'money', 'cellphone']\n",
    "if 'money' in pocket:\n",
    "     pass \n",
    "else:\n",
    "     print(\"카드를 꺼내라\")"
   ]
  },
  {
   "cell_type": "code",
   "execution_count": 20,
   "id": "69b96351",
   "metadata": {
    "ExecuteTime": {
     "end_time": "2024-03-05T00:49:51.311545Z",
     "start_time": "2024-03-05T00:49:51.307469Z"
    }
   },
   "outputs": [
    {
     "name": "stdout",
     "output_type": "stream",
     "text": [
      "가방에서 카드를 꺼내라\n"
     ]
    }
   ],
   "source": [
    "pocket = ['paper', 'money', 'cellphone']\n",
    "if 'card' in pocket:\n",
    "     pass \n",
    "else:\n",
    "     print(\"가방에서 카드를 꺼내라\")"
   ]
  },
  {
   "cell_type": "markdown",
   "id": "dad9c38a",
   "metadata": {},
   "source": [
    "## 다양한 조건을 판단하는 elif(else + if)"
   ]
  },
  {
   "cell_type": "markdown",
   "id": "6e6e0f14",
   "metadata": {},
   "source": [
    "```\n",
    "주머니에 돈이 있으면 택시를 타고 가고, 주머니에 돈은 없지만 카드가 있으면 택시를 타고 가고, 돈도 없고 카드도 없으면 걸어가라.\n",
    "```"
   ]
  },
  {
   "cell_type": "code",
   "execution_count": 21,
   "id": "5f5de029",
   "metadata": {
    "ExecuteTime": {
     "end_time": "2024-03-05T01:05:14.278871Z",
     "start_time": "2024-03-05T01:05:14.274645Z"
    }
   },
   "outputs": [
    {
     "name": "stdout",
     "output_type": "stream",
     "text": [
      "택시를 타고 가라\n"
     ]
    }
   ],
   "source": [
    "pocket = ['paper', 'cellphone']\n",
    "card = True\n",
    "if 'mpney' in pocket: # 주머니에 돈이 있다.\n",
    "    print(\"택시를 타고 가라\")\n",
    "else: # 주머니에 돈이 없다.\n",
    "    if card:\n",
    "        print(\"택시를 타고 가라\")\n",
    "    else:\n",
    "        print(\"걸어가라\")"
   ]
  },
  {
   "cell_type": "code",
   "execution_count": 23,
   "id": "271d57eb",
   "metadata": {
    "ExecuteTime": {
     "end_time": "2024-03-05T01:06:41.220245Z",
     "start_time": "2024-03-05T01:06:41.215217Z"
    }
   },
   "outputs": [
    {
     "name": "stdout",
     "output_type": "stream",
     "text": [
      "택시를 타고가라\n"
     ]
    }
   ],
   "source": [
    "pocket = ['paper', 'cellphone']\n",
    "card = True\n",
    "if 'money' in pocket:\n",
    "      print(\"택시를 타고가라\")\n",
    "elif card: \n",
    "      print(\"택시를 타고가라\")\n",
    "else:\n",
    "      print(\"걸어가라\")"
   ]
  },
  {
   "cell_type": "markdown",
   "id": "f65187e4",
   "metadata": {},
   "source": [
    "if 문을 한 줄로 작성하기"
   ]
  },
  {
   "cell_type": "code",
   "execution_count": 25,
   "id": "7bcfce9c",
   "metadata": {
    "ExecuteTime": {
     "end_time": "2024-03-05T01:09:13.662640Z",
     "start_time": "2024-03-05T01:09:13.658209Z"
    }
   },
   "outputs": [],
   "source": [
    "pocket = ['paper', 'money', 'cellphone']\n",
    "if 'money' in pocket: pass\n",
    "else: print(\"카드를 꺼내라\")"
   ]
  },
  {
   "cell_type": "markdown",
   "id": "d2c99116",
   "metadata": {},
   "source": [
    "## 조건부 표현식"
   ]
  },
  {
   "cell_type": "markdown",
   "id": "ac7dc130",
   "metadata": {},
   "source": [
    "조건부 표현식은 가독성에 유리하고 한 줄로 작성할 수 있어 활용성이 좋다."
   ]
  },
  {
   "cell_type": "code",
   "execution_count": 26,
   "id": "bbb79f50",
   "metadata": {
    "ExecuteTime": {
     "end_time": "2024-03-05T01:10:38.667668Z",
     "start_time": "2024-03-05T01:10:38.647254Z"
    }
   },
   "outputs": [
    {
     "ename": "NameError",
     "evalue": "name 'score' is not defined",
     "output_type": "error",
     "traceback": [
      "\u001b[1;31m---------------------------------------------------------------------------\u001b[0m",
      "\u001b[1;31mNameError\u001b[0m                                 Traceback (most recent call last)",
      "Cell \u001b[1;32mIn[26], line 1\u001b[0m\n\u001b[1;32m----> 1\u001b[0m \u001b[38;5;28;01mif\u001b[39;00m score \u001b[38;5;241m>\u001b[39m\u001b[38;5;241m=\u001b[39m \u001b[38;5;241m60\u001b[39m:\n\u001b[0;32m      2\u001b[0m     message \u001b[38;5;241m=\u001b[39m \u001b[38;5;124m\"\u001b[39m\u001b[38;5;124msuccess\u001b[39m\u001b[38;5;124m\"\u001b[39m\n\u001b[0;32m      3\u001b[0m \u001b[38;5;28;01melse\u001b[39;00m:\n",
      "\u001b[1;31mNameError\u001b[0m: name 'score' is not defined"
     ]
    }
   ],
   "source": [
    "if score >= 60:\n",
    "    message = \"success\"\n",
    "else:\n",
    "    message = \"failure\""
   ]
  },
  {
   "cell_type": "code",
   "execution_count": 27,
   "id": "19749a60",
   "metadata": {
    "ExecuteTime": {
     "end_time": "2024-03-05T01:11:44.889763Z",
     "start_time": "2024-03-05T01:11:44.885805Z"
    }
   },
   "outputs": [],
   "source": [
    "score = 100\n",
    "if score >= 60:\n",
    "    message = \"success\"\n",
    "else:\n",
    "    message = \"failure\""
   ]
  },
  {
   "cell_type": "markdown",
   "id": "0fee9983",
   "metadata": {},
   "source": [
    "아래는 조건부 표현식"
   ]
  },
  {
   "cell_type": "code",
   "execution_count": null,
   "id": "7827ffbf",
   "metadata": {},
   "outputs": [],
   "source": [
    "message = \"success\" if score >= 60 else \"failure\""
   ]
  },
  {
   "cell_type": "markdown",
   "id": "f658dffb",
   "metadata": {},
   "source": [
    "```\n",
    "변수 = 조건문이_참인_경우의_값 if 조건문 else 조건문이_거짓인_경우의_값\n",
    "```"
   ]
  },
  {
   "cell_type": "markdown",
   "id": "6ba92e14",
   "metadata": {},
   "source": [
    "# While문"
   ]
  },
  {
   "cell_type": "markdown",
   "id": "6256fcfd",
   "metadata": {},
   "source": [
    "## while 문의 기본 구조"
   ]
  },
  {
   "cell_type": "markdown",
   "id": "03cdd435",
   "metadata": {},
   "source": [
    "```\n",
    "while 조건문:\n",
    "    수행할_문장1\n",
    "    수행할_문장2\n",
    "    수행할_문장3\n",
    "    ...\n",
    "```\n",
    "\n",
    "```\n",
    "while 문은 조건문이 참인 동안 while 문에 속한 문장들이 반복해서 수행된다.\n",
    "```"
   ]
  },
  {
   "cell_type": "code",
   "execution_count": 29,
   "id": "86e6cb80",
   "metadata": {
    "ExecuteTime": {
     "end_time": "2024-03-05T01:21:38.562818Z",
     "start_time": "2024-03-05T01:21:38.557946Z"
    }
   },
   "outputs": [
    {
     "name": "stdout",
     "output_type": "stream",
     "text": [
      "나무를 1번 찍었습니다.\n",
      "나무를 2번 찍었습니다.\n",
      "나무를 3번 찍었습니다.\n",
      "나무를 4번 찍었습니다.\n",
      "나무를 5번 찍었습니다.\n",
      "나무를 6번 찍었습니다.\n",
      "나무를 7번 찍었습니다.\n",
      "나무를 8번 찍었습니다.\n",
      "나무를 9번 찍었습니다.\n",
      "나무를 10번 찍었습니다.\n",
      "나무 넘어갑니다.\n"
     ]
    }
   ],
   "source": [
    "treeHit = 0\n",
    "while treeHit < 10:\n",
    "    treeHit = treeHit +1\n",
    "    print(\"나무를 %d번 찍었습니다.\" % treeHit)\n",
    "    if treeHit == 10:\n",
    "        print(\"나무 넘어갑니다.\")"
   ]
  },
  {
   "cell_type": "markdown",
   "id": "65808a8d",
   "metadata": {},
   "source": [
    "## while 문 만들기"
   ]
  },
  {
   "cell_type": "code",
   "execution_count": 30,
   "id": "4b4c66d2",
   "metadata": {
    "ExecuteTime": {
     "end_time": "2024-03-05T01:25:50.416110Z",
     "start_time": "2024-03-05T01:25:50.413571Z"
    }
   },
   "outputs": [],
   "source": [
    "prompt = \"\"\"\n",
    "1. Add\n",
    "2. Del\n",
    "3. List\n",
    "4. Quit\n",
    "\n",
    "Enter number: \"\"\""
   ]
  },
  {
   "cell_type": "code",
   "execution_count": 31,
   "id": "fc837fa1",
   "metadata": {
    "ExecuteTime": {
     "end_time": "2024-03-05T01:28:09.088572Z",
     "start_time": "2024-03-05T01:26:41.514288Z"
    }
   },
   "outputs": [
    {
     "name": "stdout",
     "output_type": "stream",
     "text": [
      "\n",
      "1. Add\n",
      "2. Del\n",
      "3. List\n",
      "4. Quit\n",
      "\n",
      "Enter number: \n",
      "4\n"
     ]
    }
   ],
   "source": [
    "number = 0\n",
    "while number != 4:\n",
    "    print(prompt)\n",
    "    number = int(input()) # input 함수는 string(문자)으로만 받는다."
   ]
  },
  {
   "cell_type": "markdown",
   "id": "d0f0dccf",
   "metadata": {},
   "source": [
    "## while 문 강제로 빠져나가기"
   ]
  },
  {
   "cell_type": "markdown",
   "id": "3e574076",
   "metadata": {},
   "source": [
    "커피 자판기 프로그램"
   ]
  },
  {
   "cell_type": "code",
   "execution_count": 32,
   "id": "bd3d6cc7",
   "metadata": {
    "ExecuteTime": {
     "end_time": "2024-03-05T01:35:10.580642Z",
     "start_time": "2024-03-05T01:35:10.576131Z"
    }
   },
   "outputs": [
    {
     "name": "stdout",
     "output_type": "stream",
     "text": [
      "돈을 받았으니 커피를 줍니다.\n",
      "남은 커피의 양은 9개입니다.\n",
      "돈을 받았으니 커피를 줍니다.\n",
      "남은 커피의 양은 8개입니다.\n",
      "돈을 받았으니 커피를 줍니다.\n",
      "남은 커피의 양은 7개입니다.\n",
      "돈을 받았으니 커피를 줍니다.\n",
      "남은 커피의 양은 6개입니다.\n",
      "돈을 받았으니 커피를 줍니다.\n",
      "남은 커피의 양은 5개입니다.\n",
      "돈을 받았으니 커피를 줍니다.\n",
      "남은 커피의 양은 4개입니다.\n",
      "돈을 받았으니 커피를 줍니다.\n",
      "남은 커피의 양은 3개입니다.\n",
      "돈을 받았으니 커피를 줍니다.\n",
      "남은 커피의 양은 2개입니다.\n",
      "돈을 받았으니 커피를 줍니다.\n",
      "남은 커피의 양은 1개입니다.\n",
      "돈을 받았으니 커피를 줍니다.\n",
      "남은 커피의 양은 0개입니다.\n",
      "커피가 다 떨어졌습니다. 판매를 중지합니다.\n"
     ]
    }
   ],
   "source": [
    "coffee = 10\n",
    "money = 300\n",
    "while money:\n",
    "     print(\"돈을 받았으니 커피를 줍니다.\")\n",
    "     coffee = coffee -1\n",
    "     print(\"남은 커피의 양은 %d개입니다.\" % coffee)\n",
    "     if coffee == 0:\n",
    "        print(\"커피가 다 떨어졌습니다. 판매를 중지합니다.\")\n",
    "        break"
   ]
  },
  {
   "cell_type": "code",
   "execution_count": 34,
   "id": "cdc9a711",
   "metadata": {
    "ExecuteTime": {
     "end_time": "2024-03-05T01:42:08.917096Z",
     "start_time": "2024-03-05T01:41:35.537858Z"
    }
   },
   "outputs": [
    {
     "name": "stdout",
     "output_type": "stream",
     "text": [
      "돈을 넣어 주세요: 1\n",
      "돈을 다시 돌려주고 커피를 주지 않습니다.\n",
      "남은 커피의 양은 10개 입니다.\n",
      "돈을 넣어 주세요: 4\n",
      "돈을 다시 돌려주고 커피를 주지 않습니다.\n",
      "남은 커피의 양은 10개 입니다.\n",
      "돈을 넣어 주세요: 5\n",
      "돈을 다시 돌려주고 커피를 주지 않습니다.\n",
      "남은 커피의 양은 10개 입니다.\n",
      "돈을 넣어 주세요: 300\n",
      "커피를 줍니다.\n",
      "돈을 넣어 주세요: 300\n",
      "커피를 줍니다.\n",
      "돈을 넣어 주세요: 300\n",
      "커피를 줍니다.\n",
      "돈을 넣어 주세요: 300\n",
      "커피를 줍니다.\n",
      "돈을 넣어 주세요: 1\n",
      "돈을 다시 돌려주고 커피를 주지 않습니다.\n",
      "남은 커피의 양은 6개 입니다.\n",
      "돈을 넣어 주세요: 300\n",
      "커피를 줍니다.\n",
      "돈을 넣어 주세요: 5\n",
      "돈을 다시 돌려주고 커피를 주지 않습니다.\n",
      "남은 커피의 양은 5개 입니다.\n",
      "돈을 넣어 주세요: 700\n",
      "거스름돈 400를 주고 커피를 줍니다.\n",
      "돈을 넣어 주세요: 1000\n",
      "거스름돈 700를 주고 커피를 줍니다.\n",
      "돈을 넣어 주세요: 300\n",
      "커피를 줍니다.\n",
      "돈을 넣어 주세요: 2\n",
      "돈을 다시 돌려주고 커피를 주지 않습니다.\n",
      "남은 커피의 양은 2개 입니다.\n",
      "돈을 넣어 주세요: 300\n",
      "커피를 줍니다.\n",
      "돈을 넣어 주세요: 300\n",
      "커피를 줍니다.\n",
      "커피가 다 떨어졌습니다. 판매를 중지 합니다.\n"
     ]
    }
   ],
   "source": [
    "# coffee.py\n",
    "coffee = 10\n",
    "while True:\n",
    "    money = int(input(\"돈을 넣어 주세요: \"))\n",
    "    if money == 300:\n",
    "        print(\"커피를 줍니다.\")\n",
    "        coffee = coffee -1\n",
    "    elif money > 300:\n",
    "        print(\"거스름돈 %d를 주고 커피를 줍니다.\" % (money -300))\n",
    "        coffee = coffee -1\n",
    "    else:\n",
    "        print(\"돈을 다시 돌려주고 커피를 주지 않습니다.\")\n",
    "        print(\"남은 커피의 양은 %d개 입니다.\" % coffee)\n",
    "    if coffee == 0:\n",
    "        print(\"커피가 다 떨어졌습니다. 판매를 중지 합니다.\")\n",
    "        break"
   ]
  },
  {
   "cell_type": "code",
   "execution_count": 35,
   "id": "329ee942",
   "metadata": {
    "ExecuteTime": {
     "end_time": "2024-03-05T01:43:09.309414Z",
     "start_time": "2024-03-05T01:42:32.214244Z"
    }
   },
   "outputs": [
    {
     "name": "stdout",
     "output_type": "stream",
     "text": [
      "돈을 넣어 주세요: 500\n",
      "거스름돈 200를 주고 커피를 줍니다.\n",
      "남은 커피의 양은 9개 입니다.\n",
      "돈을 넣어 주세요: 300\n",
      "커피를 줍니다.\n",
      "남은 커피의 양은 8개 입니다.\n",
      "돈을 넣어 주세요: 1000\n",
      "거스름돈 700를 주고 커피를 줍니다.\n",
      "남은 커피의 양은 7개 입니다.\n",
      "돈을 넣어 주세요: 40\n",
      "돈을 다시 돌려주고 커피를 주지 않습니다.\n",
      "남은 커피의 양은 7개 입니다.\n",
      "돈을 넣어 주세요: 30\n",
      "돈을 다시 돌려주고 커피를 주지 않습니다.\n",
      "남은 커피의 양은 7개 입니다.\n",
      "돈을 넣어 주세요: 7000\n",
      "거스름돈 6700를 주고 커피를 줍니다.\n",
      "남은 커피의 양은 6개 입니다.\n",
      "돈을 넣어 주세요: 650\n",
      "거스름돈 350를 주고 커피를 줍니다.\n",
      "남은 커피의 양은 5개 입니다.\n",
      "돈을 넣어 주세요: 400\n",
      "거스름돈 100를 주고 커피를 줍니다.\n",
      "남은 커피의 양은 4개 입니다.\n",
      "돈을 넣어 주세요: 250\n",
      "돈을 다시 돌려주고 커피를 주지 않습니다.\n",
      "남은 커피의 양은 4개 입니다.\n",
      "돈을 넣어 주세요: 1000\n",
      "거스름돈 700를 주고 커피를 줍니다.\n",
      "남은 커피의 양은 3개 입니다.\n",
      "돈을 넣어 주세요: 900\n",
      "거스름돈 600를 주고 커피를 줍니다.\n",
      "남은 커피의 양은 2개 입니다.\n",
      "돈을 넣어 주세요: 800\n",
      "거스름돈 500를 주고 커피를 줍니다.\n",
      "남은 커피의 양은 1개 입니다.\n",
      "돈을 넣어 주세요: 300\n",
      "커피를 줍니다.\n",
      "남은 커피의 양은 0개 입니다.\n",
      "커피가 다 떨어졌습니다. 판매를 중지 합니다.\n"
     ]
    }
   ],
   "source": [
    "# coffee.py\n",
    "coffee = 10\n",
    "while True:\n",
    "    money = int(input(\"돈을 넣어 주세요: \"))\n",
    "    if money == 300:\n",
    "        print(\"커피를 줍니다.\")\n",
    "        coffee = coffee -1\n",
    "        print(\"남은 커피의 양은 %d개 입니다.\" % coffee)\n",
    "    elif money > 300:\n",
    "        print(\"거스름돈 %d를 주고 커피를 줍니다.\" % (money -300))\n",
    "        coffee = coffee -1\n",
    "        print(\"남은 커피의 양은 %d개 입니다.\" % coffee)\n",
    "    else:\n",
    "        print(\"돈을 다시 돌려주고 커피를 주지 않습니다.\")\n",
    "        print(\"남은 커피의 양은 %d개 입니다.\" % coffee)\n",
    "    if coffee == 0:\n",
    "        print(\"커피가 다 떨어졌습니다. 판매를 중지 합니다.\")\n",
    "        break"
   ]
  },
  {
   "cell_type": "markdown",
   "id": "a1071c5e",
   "metadata": {},
   "source": [
    "## while 문의 맨 처음으로 돌아가기"
   ]
  },
  {
   "cell_type": "code",
   "execution_count": 38,
   "id": "6f766b05",
   "metadata": {
    "ExecuteTime": {
     "end_time": "2024-03-05T01:49:40.451798Z",
     "start_time": "2024-03-05T01:49:40.447162Z"
    }
   },
   "outputs": [
    {
     "name": "stdout",
     "output_type": "stream",
     "text": [
      "1\n",
      "3\n",
      "5\n",
      "7\n",
      "9\n"
     ]
    }
   ],
   "source": [
    "a = 0\n",
    "while a < 10:\n",
    "    a = a + 1\n",
    "    if a % 2 == 0: continue\n",
    "    print(a)"
   ]
  },
  {
   "cell_type": "markdown",
   "id": "2ce66760",
   "metadata": {},
   "source": [
    "## 무한 루프"
   ]
  },
  {
   "cell_type": "code",
   "execution_count": 39,
   "id": "19d304de",
   "metadata": {
    "ExecuteTime": {
     "end_time": "2024-03-05T02:06:05.363036Z",
     "start_time": "2024-03-05T02:05:56.140770Z"
    }
   },
   "outputs": [
    {
     "name": "stderr",
     "output_type": "stream",
     "text": [
      "IOPub data rate exceeded.\n",
      "The notebook server will temporarily stop sending output\n",
      "to the client in order to avoid crashing it.\n",
      "To change this limit, set the config variable\n",
      "`--NotebookApp.iopub_data_rate_limit`.\n",
      "\n",
      "Current values:\n",
      "NotebookApp.iopub_data_rate_limit=1000000.0 (bytes/sec)\n",
      "NotebookApp.rate_limit_window=3.0 (secs)\n",
      "\n"
     ]
    },
    {
     "ename": "KeyboardInterrupt",
     "evalue": "",
     "output_type": "error",
     "traceback": [
      "\u001b[1;31m---------------------------------------------------------------------------\u001b[0m",
      "\u001b[1;31mKeyboardInterrupt\u001b[0m                         Traceback (most recent call last)",
      "Cell \u001b[1;32mIn[39], line 2\u001b[0m\n\u001b[0;32m      1\u001b[0m \u001b[38;5;28;01mwhile\u001b[39;00m \u001b[38;5;28;01mTrue\u001b[39;00m:\n\u001b[1;32m----> 2\u001b[0m      \u001b[38;5;28mprint\u001b[39m(\u001b[38;5;124m\"\u001b[39m\u001b[38;5;124mCtrl+C를 눌러야 while문을 빠져나갈 수 있습니다.\u001b[39m\u001b[38;5;124m\"\u001b[39m)\n",
      "File \u001b[1;32m~\\anaconda3\\Lib\\site-packages\\ipykernel\\iostream.py:635\u001b[0m, in \u001b[0;36mOutStream.write\u001b[1;34m(self, string)\u001b[0m\n\u001b[0;32m    633\u001b[0m     \u001b[38;5;28;01mraise\u001b[39;00m \u001b[38;5;167;01mValueError\u001b[39;00m(msg)\n\u001b[0;32m    634\u001b[0m \u001b[38;5;28;01melse\u001b[39;00m:\n\u001b[1;32m--> 635\u001b[0m     is_child \u001b[38;5;241m=\u001b[39m \u001b[38;5;129;01mnot\u001b[39;00m \u001b[38;5;28mself\u001b[39m\u001b[38;5;241m.\u001b[39m_is_master_process()\n\u001b[0;32m    636\u001b[0m     \u001b[38;5;66;03m# only touch the buffer in the IO thread to avoid races\u001b[39;00m\n\u001b[0;32m    637\u001b[0m     \u001b[38;5;28;01mwith\u001b[39;00m \u001b[38;5;28mself\u001b[39m\u001b[38;5;241m.\u001b[39m_buffer_lock:\n",
      "File \u001b[1;32m~\\anaconda3\\Lib\\site-packages\\ipykernel\\iostream.py:505\u001b[0m, in \u001b[0;36mOutStream._is_master_process\u001b[1;34m(self)\u001b[0m\n\u001b[0;32m    502\u001b[0m     \u001b[38;5;28mself\u001b[39m\u001b[38;5;241m.\u001b[39mwatch_fd_thread\u001b[38;5;241m.\u001b[39mdaemon \u001b[38;5;241m=\u001b[39m \u001b[38;5;28;01mTrue\u001b[39;00m\n\u001b[0;32m    503\u001b[0m     \u001b[38;5;28mself\u001b[39m\u001b[38;5;241m.\u001b[39mwatch_fd_thread\u001b[38;5;241m.\u001b[39mstart()\n\u001b[1;32m--> 505\u001b[0m \u001b[38;5;28;01mdef\u001b[39;00m \u001b[38;5;21m_is_master_process\u001b[39m(\u001b[38;5;28mself\u001b[39m):\n\u001b[0;32m    506\u001b[0m     \u001b[38;5;28;01mreturn\u001b[39;00m os\u001b[38;5;241m.\u001b[39mgetpid() \u001b[38;5;241m==\u001b[39m \u001b[38;5;28mself\u001b[39m\u001b[38;5;241m.\u001b[39m_master_pid\n\u001b[0;32m    508\u001b[0m \u001b[38;5;28;01mdef\u001b[39;00m \u001b[38;5;21mset_parent\u001b[39m(\u001b[38;5;28mself\u001b[39m, parent):\n",
      "\u001b[1;31mKeyboardInterrupt\u001b[0m: "
     ]
    }
   ],
   "source": [
    "while True:\n",
    "     print(\"Ctrl+C를 눌러야 while문을 빠져나갈 수 있습니다.\")"
   ]
  },
  {
   "cell_type": "markdown",
   "id": "d8eacae0",
   "metadata": {},
   "source": [
    "# for문"
   ]
  },
  {
   "cell_type": "markdown",
   "id": "13a10652",
   "metadata": {},
   "source": [
    "파이썬의 직관적인 특징을 가장 잘 보여 주는 것이 바로 이 for 문이다.   \n",
    "while 문과 비슷한 반복문인 for 문은 문장 구조가 한눈에 들어온다는 장점이 있다.   \n",
    "for 문을 잘 사용하면 프로그래밍이 즐거워질 것이다."
   ]
  },
  {
   "cell_type": "markdown",
   "id": "7631cf15",
   "metadata": {},
   "source": [
    "## for 문의 기본 구조"
   ]
  },
  {
   "cell_type": "markdown",
   "id": "1f74af73",
   "metadata": {},
   "source": [
    "```\n",
    "for 변수 in 리스트(또는 튜플, 문자열):\n",
    "    수행할_문장1\n",
    "    수행할_문장2\n",
    "    ...\n",
    "```"
   ]
  },
  {
   "cell_type": "markdown",
   "id": "966ade5d",
   "metadata": {},
   "source": [
    "for 문과 while 문의 차이\n"
   ]
  },
  {
   "cell_type": "markdown",
   "id": "3f526612",
   "metadata": {},
   "source": [
    "iterable (이터러블) 객체\n",
    "```\n",
    "○ 멤버들을 한 번에 하나씩 돌려줄 수 있는 객체\n",
    "○ 보통은 순서(인덱스)를 가지는 시퀀스 형 객체를 포함\n",
    "○ 순서가 있는 시퀀스 이터러블: list, str, tuple\n",
    "    ■ iter()또는 시퀀스 개념을 구현하는 getitem() 메서드를 정의한 객체를 포함\n",
    "○ 순서가 없는 이터러블 : dict\n",
    "○ 이터러블은 for 루프에 주로 사용\n",
    "    ■ 시퀀스를 필요로 하는 다른 많은 곳 (zip(), map(), …) 에도 사용\n",
    "○ 이터러블과 구분되지만 yield 표현식으로 구현된 제너레이터도 존재\n",
    "```"
   ]
  },
  {
   "cell_type": "markdown",
   "id": "f2b20074",
   "metadata": {},
   "source": [
    "## 예제를 통해 for 문 이해하기"
   ]
  },
  {
   "cell_type": "markdown",
   "id": "0b9b4a19",
   "metadata": {},
   "source": [
    "전형적인 for 문"
   ]
  },
  {
   "cell_type": "code",
   "execution_count": 40,
   "id": "acba5aec",
   "metadata": {
    "ExecuteTime": {
     "end_time": "2024-03-05T02:16:10.571896Z",
     "start_time": "2024-03-05T02:16:10.566893Z"
    }
   },
   "outputs": [
    {
     "name": "stdout",
     "output_type": "stream",
     "text": [
      "one\n",
      "two\n",
      "three\n"
     ]
    }
   ],
   "source": [
    "test_list = ['one', 'two', 'three'] \n",
    "for i in test_list: \n",
    "    print(i)"
   ]
  },
  {
   "cell_type": "code",
   "execution_count": 45,
   "id": "6440dfbf",
   "metadata": {
    "ExecuteTime": {
     "end_time": "2024-03-05T02:19:37.274834Z",
     "start_time": "2024-03-05T02:19:37.270110Z"
    }
   },
   "outputs": [
    {
     "name": "stdout",
     "output_type": "stream",
     "text": [
      "3\n",
      "7\n",
      "11\n"
     ]
    }
   ],
   "source": [
    "# 튜플\n",
    "a = [(1,2), (3,4), (5,6)]\n",
    "for (first, last) in a:\n",
    "    print(first + last)"
   ]
  },
  {
   "cell_type": "markdown",
   "id": "dfe89c08",
   "metadata": {},
   "source": [
    "for 문의 응용"
   ]
  },
  {
   "cell_type": "markdown",
   "id": "02ebf5be",
   "metadata": {},
   "source": [
    "```\n",
    "총 5명의 학생이 시험을 보았는데 시험 점수가 60점 이상이면 합격이고 그렇지 않으면 불합격이다. 합격인지, 불합격인지 결과를 보여 주시오.\n",
    "```"
   ]
  },
  {
   "cell_type": "code",
   "execution_count": 48,
   "id": "f3cbb3cb",
   "metadata": {
    "ExecuteTime": {
     "end_time": "2024-03-05T02:28:40.739074Z",
     "start_time": "2024-03-05T02:28:40.733515Z"
    }
   },
   "outputs": [
    {
     "name": "stdout",
     "output_type": "stream",
     "text": [
      "1 90\n",
      "1번 학생의 점수는 90이므로 합격입니다.\n",
      "2 25\n",
      "2번 학생의 점수는 25이므로 불합격입니다.\n",
      "3 67\n",
      "3번 학생의 점수는 67이므로 합격입니다.\n",
      "4 45\n",
      "4번 학생의 점수는 45이므로 불합격입니다.\n",
      "5 80\n",
      "5번 학생의 점수는 80이므로 합격입니다.\n"
     ]
    }
   ],
   "source": [
    "scores = [90, 25, 67, 45, 80]\n",
    "\n",
    "number = 0\n",
    "\n",
    "for mark in scores:\n",
    "    number += 1\n",
    "    print(number, mark)\n",
    "    \n",
    "    if mark >= 60: #True\n",
    "        print(f'{number}번 학생의 점수는 {mark}이므로 합격입니다.')\n",
    "    else: # False\n",
    "        print(f'{number}번 학생의 점수는 {mark}이므로 불합격입니다.')"
   ]
  },
  {
   "cell_type": "markdown",
   "id": "ee4b4230",
   "metadata": {},
   "source": [
    "## for 문과 continue 문"
   ]
  },
  {
   "cell_type": "code",
   "execution_count": 49,
   "id": "95c29fb5",
   "metadata": {
    "ExecuteTime": {
     "end_time": "2024-03-05T02:39:04.078905Z",
     "start_time": "2024-03-05T02:39:04.072901Z"
    }
   },
   "outputs": [
    {
     "name": "stdout",
     "output_type": "stream",
     "text": [
      "1번 학생 축하합니다. 합격입니다. \n",
      "3번 학생 축하합니다. 합격입니다. \n",
      "5번 학생 축하합니다. 합격입니다. \n"
     ]
    }
   ],
   "source": [
    "# marks2.py\n",
    "marks = [90, 25, 67, 45, 80]\n",
    "\n",
    "number = 0 \n",
    "for mark in marks: \n",
    "    number = number +1 \n",
    "    if mark < 60:\n",
    "        continue \n",
    "    print(\"%d번 학생 축하합니다. 합격입니다. \" % number)"
   ]
  },
  {
   "cell_type": "markdown",
   "id": "3bb1a47b",
   "metadata": {},
   "source": [
    "## for 문과 함께 자주 사용하는 range 함수"
   ]
  },
  {
   "cell_type": "code",
   "execution_count": 58,
   "id": "43b21f2e",
   "metadata": {
    "ExecuteTime": {
     "end_time": "2024-03-05T02:46:55.922269Z",
     "start_time": "2024-03-05T02:46:55.914204Z"
    }
   },
   "outputs": [
    {
     "data": {
      "text/plain": [
       "range(0, 10)"
      ]
     },
     "execution_count": 58,
     "metadata": {},
     "output_type": "execute_result"
    }
   ],
   "source": [
    "a = range(10)\n",
    "a"
   ]
  },
  {
   "cell_type": "code",
   "execution_count": 51,
   "id": "43e160c0",
   "metadata": {
    "ExecuteTime": {
     "end_time": "2024-03-05T02:40:55.794799Z",
     "start_time": "2024-03-05T02:40:55.789490Z"
    }
   },
   "outputs": [],
   "source": [
    "range?"
   ]
  },
  {
   "cell_type": "markdown",
   "id": "04b9a2d8",
   "metadata": {},
   "source": [
    "range 함수의 예시"
   ]
  },
  {
   "cell_type": "code",
   "execution_count": 56,
   "id": "0d0d8014",
   "metadata": {
    "ExecuteTime": {
     "end_time": "2024-03-05T02:43:53.918239Z",
     "start_time": "2024-03-05T02:43:53.913169Z"
    }
   },
   "outputs": [
    {
     "name": "stdout",
     "output_type": "stream",
     "text": [
      "1\n",
      "2\n",
      "3\n",
      "4\n",
      "5\n",
      "6\n",
      "7\n",
      "8\n",
      "9\n",
      "10\n",
      "55\n"
     ]
    }
   ],
   "source": [
    "add = 0 \n",
    "for i in range(1, 11):\n",
    "    print(i)\n",
    "    add = add + i\n",
    "\n",
    "print(add)"
   ]
  },
  {
   "cell_type": "code",
   "execution_count": 57,
   "id": "714c5b06",
   "metadata": {
    "ExecuteTime": {
     "end_time": "2024-03-05T02:44:33.158720Z",
     "start_time": "2024-03-05T02:44:33.153183Z"
    }
   },
   "outputs": [
    {
     "name": "stdout",
     "output_type": "stream",
     "text": [
      "1번 학생 축하합니다. 합격입니다.\n",
      "3번 학생 축하합니다. 합격입니다.\n",
      "5번 학생 축하합니다. 합격입니다.\n"
     ]
    }
   ],
   "source": [
    "# marks3.py\n",
    "marks = [90, 25, 67, 45, 80]\n",
    "for number in range(len(marks)):\n",
    "    if marks[number] < 60: \n",
    "        continue\n",
    "    print(\"%d번 학생 축하합니다. 합격입니다.\" % (number+1))"
   ]
  },
  {
   "cell_type": "markdown",
   "id": "12b649ad",
   "metadata": {},
   "source": [
    "for와 range를 이용한 구구단"
   ]
  },
  {
   "cell_type": "code",
   "execution_count": 7,
   "id": "68ee0142",
   "metadata": {
    "ExecuteTime": {
     "end_time": "2024-03-06T00:51:07.560115Z",
     "start_time": "2024-03-06T00:51:07.554804Z"
    }
   },
   "outputs": [
    {
     "name": "stdout",
     "output_type": "stream",
     "text": [
      "2   4   6   8   10   12   14   16   18   \n",
      "3   6   9   12   15   18   21   24   27   \n",
      "4   8   12   16   20   24   28   32   36   \n",
      "5   10   15   20   25   30   35   40   45   \n",
      "6   12   18   24   30   36   42   48   54   \n",
      "7   14   21   28   35   42   49   56   63   \n",
      "8   16   24   32   40   48   56   64   72   \n"
     ]
    }
   ],
   "source": [
    "# 이중 for문을 활용한다!\n",
    "for i in range(2,9):\n",
    "    for j in range(1,10):\n",
    "        print(i*j, end=\"   \") # 옆으로 한 칸씩\n",
    "    print('') # 줄 바꿈"
   ]
  },
  {
   "cell_type": "code",
   "execution_count": 29,
   "id": "683ecaa4",
   "metadata": {
    "ExecuteTime": {
     "end_time": "2024-03-06T01:00:54.400829Z",
     "start_time": "2024-03-06T01:00:54.395656Z"
    }
   },
   "outputs": [
    {
     "name": "stdout",
     "output_type": "stream",
     "text": [
      "====================================================================================================\n",
      "2단\n",
      "2*1 = 2   2*2 = 4   2*3 = 6   2*4 = 8   2*5 = 10   2*6 = 12   2*7 = 14   2*8 = 16   2*9 = 18   \n",
      "====================================================================================================\n",
      "3단\n",
      "3*1 = 3   3*2 = 6   3*3 = 9   3*4 = 12   3*5 = 15   3*6 = 18   3*7 = 21   3*8 = 24   3*9 = 27   \n",
      "====================================================================================================\n",
      "4단\n",
      "4*1 = 4   4*2 = 8   4*3 = 12   4*4 = 16   4*5 = 20   4*6 = 24   4*7 = 28   4*8 = 32   4*9 = 36   \n",
      "====================================================================================================\n",
      "5단\n",
      "5*1 = 5   5*2 = 10   5*3 = 15   5*4 = 20   5*5 = 25   5*6 = 30   5*7 = 35   5*8 = 40   5*9 = 45   \n",
      "====================================================================================================\n",
      "6단\n",
      "6*1 = 6   6*2 = 12   6*3 = 18   6*4 = 24   6*5 = 30   6*6 = 36   6*7 = 42   6*8 = 48   6*9 = 54   \n",
      "====================================================================================================\n",
      "7단\n",
      "7*1 = 7   7*2 = 14   7*3 = 21   7*4 = 28   7*5 = 35   7*6 = 42   7*7 = 49   7*8 = 56   7*9 = 63   \n",
      "====================================================================================================\n",
      "8단\n",
      "8*1 = 8   8*2 = 16   8*3 = 24   8*4 = 32   8*5 = 40   8*6 = 48   8*7 = 56   8*8 = 64   8*9 = 72   \n",
      "====================================================================================================\n",
      "9단\n",
      "9*1 = 9   9*2 = 18   9*3 = 27   9*4 = 36   9*5 = 45   9*6 = 54   9*7 = 63   9*8 = 72   9*9 = 81   \n"
     ]
    }
   ],
   "source": [
    "# js_version\n",
    "for i in range(2,10):\n",
    "    print(\"=\"*100)\n",
    "    print(f'{i}단')\n",
    "    for j in range(1,10):\n",
    "        print(f'{i}*{j} = {i*j}', end=\"   \")\n",
    "    print('')"
   ]
  },
  {
   "cell_type": "markdown",
   "id": "d23e4be5",
   "metadata": {},
   "source": [
    "## 리스트 컴프리헨션 사용하기"
   ]
  },
  {
   "cell_type": "code",
   "execution_count": 30,
   "id": "bd71b895",
   "metadata": {
    "ExecuteTime": {
     "end_time": "2024-03-06T01:03:13.473798Z",
     "start_time": "2024-03-06T01:03:13.468793Z"
    }
   },
   "outputs": [
    {
     "name": "stdout",
     "output_type": "stream",
     "text": [
      "[3, 6, 9, 12]\n"
     ]
    }
   ],
   "source": [
    "a = [1, 2, 3, 4]\n",
    "result = []\n",
    "for num in a:\n",
    "    result.append(num*3)\n",
    "print(result)"
   ]
  },
  {
   "cell_type": "markdown",
   "id": "2e05f5b4",
   "metadata": {},
   "source": [
    "리스트 컴프리헨션 사용"
   ]
  },
  {
   "cell_type": "code",
   "execution_count": 31,
   "id": "6fc390fd",
   "metadata": {
    "ExecuteTime": {
     "end_time": "2024-03-06T01:05:05.806853Z",
     "start_time": "2024-03-06T01:05:05.802006Z"
    }
   },
   "outputs": [
    {
     "name": "stdout",
     "output_type": "stream",
     "text": [
      "[3, 6, 9, 12]\n"
     ]
    }
   ],
   "source": [
    "a = [1,2,3,4]\n",
    "result = [num * 3 for num in a]\n",
    "print(result)"
   ]
  },
  {
   "cell_type": "code",
   "execution_count": 32,
   "id": "a3d4e0ad",
   "metadata": {
    "ExecuteTime": {
     "end_time": "2024-03-06T01:07:05.224022Z",
     "start_time": "2024-03-06T01:07:05.220040Z"
    }
   },
   "outputs": [
    {
     "name": "stdout",
     "output_type": "stream",
     "text": [
      "[6, 12]\n"
     ]
    }
   ],
   "source": [
    "# 짝수에만 3을 곱하고 싶은 경우 : if 조건문을 사용한다!\n",
    "a = [1,2,3,4]\n",
    "result = [num * 3 for num in a if num % 2 == 0]\n",
    "print(result)"
   ]
  },
  {
   "cell_type": "code",
   "execution_count": 34,
   "id": "aa72810b",
   "metadata": {
    "ExecuteTime": {
     "end_time": "2024-03-06T01:08:16.530492Z",
     "start_time": "2024-03-06T01:08:16.378917Z"
    }
   },
   "outputs": [
    {
     "name": "stdout",
     "output_type": "stream",
     "text": [
      "List Comprehension Time: 0.05545783042907715\n",
      "For loop Time: 0.09069609642028809\n"
     ]
    }
   ],
   "source": [
    "# 시간 측정을 위한 코드, 2배넘게 차이남\n",
    "import time\n",
    "\n",
    "start = time.time()\n",
    "numbers = [i for i in range(1000000)] \n",
    "end = time.time() \n",
    "print('List Comprehension Time:', end-start)\n",
    "\n",
    "start = time.time() \n",
    "numbers = []\n",
    "for i in range(1000000):\n",
    "    numbers.append(i)\n",
    "end = time.time() \n",
    "print('For loop Time:', end-start)"
   ]
  },
  {
   "cell_type": "code",
   "execution_count": null,
   "id": "d93f5809",
   "metadata": {},
   "outputs": [],
   "source": []
  },
  {
   "cell_type": "code",
   "execution_count": null,
   "id": "895433cf",
   "metadata": {},
   "outputs": [],
   "source": []
  },
  {
   "cell_type": "code",
   "execution_count": null,
   "id": "812cdffe",
   "metadata": {},
   "outputs": [],
   "source": []
  },
  {
   "cell_type": "code",
   "execution_count": null,
   "id": "356fc962",
   "metadata": {},
   "outputs": [],
   "source": []
  },
  {
   "cell_type": "code",
   "execution_count": null,
   "id": "5b58af02",
   "metadata": {},
   "outputs": [],
   "source": []
  },
  {
   "cell_type": "code",
   "execution_count": null,
   "id": "9241b32e",
   "metadata": {},
   "outputs": [],
   "source": []
  },
  {
   "cell_type": "code",
   "execution_count": null,
   "id": "f4aa678b",
   "metadata": {},
   "outputs": [],
   "source": []
  },
  {
   "cell_type": "code",
   "execution_count": null,
   "id": "9d9d1535",
   "metadata": {},
   "outputs": [],
   "source": []
  },
  {
   "cell_type": "code",
   "execution_count": null,
   "id": "f1076d58",
   "metadata": {},
   "outputs": [],
   "source": []
  },
  {
   "cell_type": "code",
   "execution_count": null,
   "id": "4f29e00a",
   "metadata": {},
   "outputs": [],
   "source": []
  },
  {
   "cell_type": "code",
   "execution_count": null,
   "id": "bd6ba688",
   "metadata": {},
   "outputs": [],
   "source": []
  },
  {
   "cell_type": "code",
   "execution_count": null,
   "id": "8783afce",
   "metadata": {},
   "outputs": [],
   "source": []
  },
  {
   "cell_type": "code",
   "execution_count": null,
   "id": "1dd2d80c",
   "metadata": {},
   "outputs": [],
   "source": []
  },
  {
   "cell_type": "code",
   "execution_count": null,
   "id": "1a6c9247",
   "metadata": {},
   "outputs": [],
   "source": []
  },
  {
   "cell_type": "code",
   "execution_count": null,
   "id": "1816a50d",
   "metadata": {},
   "outputs": [],
   "source": []
  },
  {
   "cell_type": "code",
   "execution_count": null,
   "id": "65550a38",
   "metadata": {},
   "outputs": [],
   "source": []
  },
  {
   "cell_type": "code",
   "execution_count": null,
   "id": "5713d625",
   "metadata": {},
   "outputs": [],
   "source": []
  },
  {
   "cell_type": "code",
   "execution_count": null,
   "id": "dc197e2f",
   "metadata": {},
   "outputs": [],
   "source": []
  },
  {
   "cell_type": "code",
   "execution_count": null,
   "id": "80b5fe44",
   "metadata": {},
   "outputs": [],
   "source": []
  },
  {
   "cell_type": "code",
   "execution_count": null,
   "id": "613a661c",
   "metadata": {},
   "outputs": [],
   "source": []
  },
  {
   "cell_type": "code",
   "execution_count": null,
   "id": "3142c805",
   "metadata": {},
   "outputs": [],
   "source": []
  },
  {
   "cell_type": "code",
   "execution_count": null,
   "id": "354c6181",
   "metadata": {},
   "outputs": [],
   "source": []
  },
  {
   "cell_type": "code",
   "execution_count": null,
   "id": "44894c24",
   "metadata": {},
   "outputs": [],
   "source": []
  },
  {
   "cell_type": "code",
   "execution_count": null,
   "id": "c6baab2a",
   "metadata": {},
   "outputs": [],
   "source": []
  },
  {
   "cell_type": "code",
   "execution_count": null,
   "id": "1837bf9c",
   "metadata": {},
   "outputs": [],
   "source": []
  },
  {
   "cell_type": "code",
   "execution_count": null,
   "id": "20e1c65e",
   "metadata": {},
   "outputs": [],
   "source": []
  },
  {
   "cell_type": "code",
   "execution_count": null,
   "id": "48d3c8ac",
   "metadata": {},
   "outputs": [],
   "source": []
  },
  {
   "cell_type": "code",
   "execution_count": null,
   "id": "897f02a6",
   "metadata": {},
   "outputs": [],
   "source": []
  },
  {
   "cell_type": "code",
   "execution_count": null,
   "id": "4d24ea37",
   "metadata": {},
   "outputs": [],
   "source": []
  }
 ],
 "metadata": {
  "kernelspec": {
   "display_name": "Python 3 (ipykernel)",
   "language": "python",
   "name": "python3"
  },
  "language_info": {
   "codemirror_mode": {
    "name": "ipython",
    "version": 3
   },
   "file_extension": ".py",
   "mimetype": "text/x-python",
   "name": "python",
   "nbconvert_exporter": "python",
   "pygments_lexer": "ipython3",
   "version": "3.11.5"
  },
  "toc": {
   "base_numbering": 1,
   "nav_menu": {},
   "number_sections": true,
   "sideBar": true,
   "skip_h1_title": false,
   "title_cell": "Table of Contents",
   "title_sidebar": "Contents",
   "toc_cell": false,
   "toc_position": {},
   "toc_section_display": true,
   "toc_window_display": false
  },
  "varInspector": {
   "cols": {
    "lenName": 16,
    "lenType": 16,
    "lenVar": 40
   },
   "kernels_config": {
    "python": {
     "delete_cmd_postfix": "",
     "delete_cmd_prefix": "del ",
     "library": "var_list.py",
     "varRefreshCmd": "print(var_dic_list())"
    },
    "r": {
     "delete_cmd_postfix": ") ",
     "delete_cmd_prefix": "rm(",
     "library": "var_list.r",
     "varRefreshCmd": "cat(var_dic_list()) "
    }
   },
   "types_to_exclude": [
    "module",
    "function",
    "builtin_function_or_method",
    "instance",
    "_Feature"
   ],
   "window_display": false
  }
 },
 "nbformat": 4,
 "nbformat_minor": 5
}
