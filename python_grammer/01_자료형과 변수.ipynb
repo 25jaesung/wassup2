{
 "cells": [
  {
   "cell_type": "markdown",
   "id": "b4acafb1",
   "metadata": {},
   "source": [
    "# 1. 숫자형"
   ]
  },
  {
   "cell_type": "markdown",
   "id": "56ea05cd",
   "metadata": {},
   "source": [
    "## 정수형"
   ]
  },
  {
   "cell_type": "code",
   "execution_count": null,
   "id": "3cb09803",
   "metadata": {
    "scrolled": true
   },
   "outputs": [],
   "source": [
    "a = 123\n",
    "a"
   ]
  },
  {
   "cell_type": "code",
   "execution_count": null,
   "id": "d871a0bc",
   "metadata": {
    "scrolled": true
   },
   "outputs": [],
   "source": [
    "a = -178\n",
    "a"
   ]
  },
  {
   "cell_type": "markdown",
   "id": "431b12b7",
   "metadata": {},
   "source": [
    "## 실수형"
   ]
  },
  {
   "cell_type": "code",
   "execution_count": null,
   "id": "f3e75aa5",
   "metadata": {
    "scrolled": true
   },
   "outputs": [],
   "source": [
    "a = 1.2\n",
    "a"
   ]
  },
  {
   "cell_type": "code",
   "execution_count": null,
   "id": "b24e0493",
   "metadata": {
    "scrolled": true
   },
   "outputs": [],
   "source": [
    "a = -3.45\n",
    "a"
   ]
  },
  {
   "cell_type": "code",
   "execution_count": null,
   "id": "01a88190",
   "metadata": {
    "scrolled": true
   },
   "outputs": [],
   "source": [
    "a = 4.24E10\n",
    "a"
   ]
  },
  {
   "cell_type": "code",
   "execution_count": null,
   "id": "d8278bc7",
   "metadata": {
    "scrolled": true
   },
   "outputs": [],
   "source": [
    "a = 4.24e-10\n",
    "a"
   ]
  },
  {
   "cell_type": "markdown",
   "id": "6d5b5beb",
   "metadata": {},
   "source": [
    "## 8진수와 16진수"
   ]
  },
  {
   "cell_type": "code",
   "execution_count": null,
   "id": "c0cb5f22",
   "metadata": {
    "scrolled": true
   },
   "outputs": [],
   "source": [
    "a = 0o177\n",
    "a"
   ]
  },
  {
   "cell_type": "code",
   "execution_count": null,
   "id": "2bea02aa",
   "metadata": {
    "scrolled": true
   },
   "outputs": [],
   "source": [
    "a = 0x8ff\n",
    "b = 0xABC\n",
    "a, b"
   ]
  },
  {
   "cell_type": "markdown",
   "id": "d1e67a6d",
   "metadata": {},
   "source": [
    "## 사칙 연산"
   ]
  },
  {
   "cell_type": "code",
   "execution_count": null,
   "id": "869ed695",
   "metadata": {
    "scrolled": true
   },
   "outputs": [],
   "source": [
    "a=3\n",
    "b=4\n",
    "a+b"
   ]
  },
  {
   "cell_type": "code",
   "execution_count": null,
   "id": "e7f1bf10",
   "metadata": {
    "scrolled": true
   },
   "outputs": [],
   "source": [
    " a-b"
   ]
  },
  {
   "cell_type": "code",
   "execution_count": null,
   "id": "9bd0502e",
   "metadata": {
    "scrolled": true
   },
   "outputs": [],
   "source": [
    "a*b"
   ]
  },
  {
   "cell_type": "code",
   "execution_count": null,
   "id": "09387217",
   "metadata": {
    "scrolled": true
   },
   "outputs": [],
   "source": [
    "a/b"
   ]
  },
  {
   "cell_type": "markdown",
   "id": "e346302f",
   "metadata": {},
   "source": [
    "## 제곱 연산"
   ]
  },
  {
   "cell_type": "code",
   "execution_count": null,
   "id": "7139adb9",
   "metadata": {
    "scrolled": true
   },
   "outputs": [],
   "source": [
    "a=3\n",
    "b=4\n",
    "a**b"
   ]
  },
  {
   "cell_type": "markdown",
   "id": "eae73210",
   "metadata": {},
   "source": [
    "## 나눗셈 후 나머지 리턴"
   ]
  },
  {
   "cell_type": "code",
   "execution_count": null,
   "id": "084eba3d",
   "metadata": {
    "scrolled": true
   },
   "outputs": [],
   "source": [
    "7 % 3"
   ]
  },
  {
   "cell_type": "code",
   "execution_count": null,
   "id": "bd8b94e4",
   "metadata": {
    "scrolled": true
   },
   "outputs": [],
   "source": [
    "3 % 7"
   ]
  },
  {
   "cell_type": "markdown",
   "id": "3da62bf0",
   "metadata": {},
   "source": [
    "## 나눗셈 후 몫을 리턴"
   ]
  },
  {
   "cell_type": "code",
   "execution_count": null,
   "id": "b4df45f1",
   "metadata": {
    "scrolled": true
   },
   "outputs": [],
   "source": [
    "7 / 4 #단순 나눗셈"
   ]
  },
  {
   "cell_type": "code",
   "execution_count": null,
   "id": "571d45c9",
   "metadata": {
    "scrolled": true
   },
   "outputs": [],
   "source": [
    "7 // 4 #몫만 출력"
   ]
  },
  {
   "cell_type": "code",
   "execution_count": null,
   "id": "8248ce98",
   "metadata": {
    "scrolled": true
   },
   "outputs": [],
   "source": [
    "8 // 3"
   ]
  },
  {
   "cell_type": "markdown",
   "id": "c410cf3f",
   "metadata": {},
   "source": [
    "# 2. 문자열 자료형"
   ]
  },
  {
   "cell_type": "markdown",
   "id": "dce9fccd",
   "metadata": {},
   "source": [
    "##### 주의) 파이썬은 대소문자를 구분한다!"
   ]
  },
  {
   "cell_type": "code",
   "execution_count": null,
   "id": "9ea33a7a",
   "metadata": {
    "scrolled": true
   },
   "outputs": [],
   "source": [
    "\"Hello World\""
   ]
  },
  {
   "cell_type": "code",
   "execution_count": null,
   "id": "8881275b",
   "metadata": {
    "scrolled": true
   },
   "outputs": [],
   "source": [
    "Hello World #따옴표가 없어서 안된다!"
   ]
  },
  {
   "cell_type": "code",
   "execution_count": null,
   "id": "1fc8ffae",
   "metadata": {
    "scrolled": true
   },
   "outputs": [],
   "source": [
    "'Hello World'"
   ]
  },
  {
   "cell_type": "code",
   "execution_count": null,
   "id": "02443cd8",
   "metadata": {
    "scrolled": true
   },
   "outputs": [],
   "source": [
    "\"\"\"Hello World\"\"\""
   ]
  },
  {
   "cell_type": "code",
   "execution_count": null,
   "id": "085b6ea0",
   "metadata": {
    "scrolled": true
   },
   "outputs": [],
   "source": [
    "\" Hello World \""
   ]
  },
  {
   "cell_type": "markdown",
   "id": "96daa0e3",
   "metadata": {},
   "source": [
    "## 문자열에 작은따옴표 포함하기"
   ]
  },
  {
   "cell_type": "code",
   "execution_count": null,
   "id": "f2d8dba2",
   "metadata": {
    "scrolled": true
   },
   "outputs": [],
   "source": [
    "pyhton's favorite food is perl"
   ]
  },
  {
   "cell_type": "code",
   "execution_count": null,
   "id": "ab31b988",
   "metadata": {
    "scrolled": true
   },
   "outputs": [],
   "source": [
    "\"python's favorite food is perl\""
   ]
  },
  {
   "cell_type": "markdown",
   "id": "468ec75d",
   "metadata": {},
   "source": [
    "## 문자열에 큰따옴표 포함하기"
   ]
  },
  {
   "cell_type": "code",
   "execution_count": null,
   "id": "5ec0d13c",
   "metadata": {
    "scrolled": true
   },
   "outputs": [],
   "source": []
  },
  {
   "cell_type": "markdown",
   "id": "ea96b1a6",
   "metadata": {},
   "source": [
    "## 역슬래시 사용!"
   ]
  },
  {
   "cell_type": "code",
   "execution_count": null,
   "id": "c69805ff",
   "metadata": {
    "scrolled": true
   },
   "outputs": [],
   "source": [
    "'pyhton\\'s favorite food is perl'"
   ]
  },
  {
   "cell_type": "code",
   "execution_count": null,
   "id": "fd0ad969",
   "metadata": {
    "scrolled": true
   },
   "outputs": [],
   "source": [
    "'\\\"파이썬 누가 쉽데? 겁나 어려움! ㅜ \\\" 재성이 말했다.'"
   ]
  },
  {
   "cell_type": "code",
   "execution_count": null,
   "id": "505c38ed",
   "metadata": {
    "scrolled": true
   },
   "outputs": [],
   "source": []
  },
  {
   "cell_type": "markdown",
   "id": "b8760ed2",
   "metadata": {},
   "source": [
    "***"
   ]
  },
  {
   "cell_type": "code",
   "execution_count": 7,
   "id": "58ca4551",
   "metadata": {
    "ExecuteTime": {
     "end_time": "2024-02-28T01:44:43.122112Z",
     "start_time": "2024-02-28T01:44:43.116848Z"
    },
    "scrolled": true
   },
   "outputs": [
    {
     "data": {
      "text/plain": [
       "17"
      ]
     },
     "execution_count": 7,
     "metadata": {},
     "output_type": "execute_result"
    }
   ],
   "source": [
    "a = \"life is too short\"\n",
    "len(a)"
   ]
  },
  {
   "cell_type": "markdown",
   "id": "5686fbfe",
   "metadata": {},
   "source": [
    "## 문자열 인덱싱"
   ]
  },
  {
   "cell_type": "code",
   "execution_count": 8,
   "id": "23627a9e",
   "metadata": {
    "ExecuteTime": {
     "end_time": "2024-02-28T01:44:45.296619Z",
     "start_time": "2024-02-28T01:44:45.291158Z"
    },
    "scrolled": true
   },
   "outputs": [
    {
     "data": {
      "text/plain": [
       "' '"
      ]
     },
     "execution_count": 8,
     "metadata": {},
     "output_type": "execute_result"
    }
   ],
   "source": [
    "a = \"Life is too short, You need Python\"\n",
    "a[-7]"
   ]
  },
  {
   "cell_type": "markdown",
   "id": "7062305a",
   "metadata": {},
   "source": [
    "## 문자열 슬라이싱 #end -> +1"
   ]
  },
  {
   "cell_type": "code",
   "execution_count": 10,
   "id": "7f4a8b7b",
   "metadata": {
    "ExecuteTime": {
     "end_time": "2024-02-28T01:45:46.168412Z",
     "start_time": "2024-02-28T01:45:46.163296Z"
    },
    "scrolled": true
   },
   "outputs": [
    {
     "data": {
      "text/plain": [
       "'Life'"
      ]
     },
     "execution_count": 10,
     "metadata": {},
     "output_type": "execute_result"
    }
   ],
   "source": [
    "a = \"Life is too short, You need Python\"\n",
    "b = a[0] + a[1] + a[2] + a[3]\n",
    "b\n",
    "'Life'"
   ]
  },
  {
   "cell_type": "code",
   "execution_count": 19,
   "id": "f323abfa",
   "metadata": {
    "ExecuteTime": {
     "end_time": "2024-02-28T01:49:14.232702Z",
     "start_time": "2024-02-28T01:49:14.227445Z"
    },
    "scrolled": true
   },
   "outputs": [
    {
     "data": {
      "text/plain": [
       "'too short'"
      ]
     },
     "execution_count": 19,
     "metadata": {},
     "output_type": "execute_result"
    }
   ],
   "source": [
    "a = \"Life is too short, You need Python\"\n",
    "a[8:17]"
   ]
  },
  {
   "cell_type": "code",
   "execution_count": 20,
   "id": "9ed29b8e",
   "metadata": {
    "ExecuteTime": {
     "end_time": "2024-02-28T01:50:05.654208Z",
     "start_time": "2024-02-28T01:50:05.648542Z"
    },
    "scrolled": true
   },
   "outputs": [
    {
     "data": {
      "text/plain": [
       "'Life'"
      ]
     },
     "execution_count": 20,
     "metadata": {},
     "output_type": "execute_result"
    }
   ],
   "source": [
    "a[0:4]"
   ]
  },
  {
   "cell_type": "code",
   "execution_count": 21,
   "id": "ae9bbc14",
   "metadata": {
    "ExecuteTime": {
     "end_time": "2024-02-28T01:50:56.396176Z",
     "start_time": "2024-02-28T01:50:56.391039Z"
    }
   },
   "outputs": [
    {
     "data": {
      "text/plain": [
       "False"
      ]
     },
     "execution_count": 21,
     "metadata": {},
     "output_type": "execute_result"
    }
   ],
   "source": [
    "a[0:4] == a[0:5]"
   ]
  },
  {
   "cell_type": "code",
   "execution_count": 22,
   "id": "3ffff79a",
   "metadata": {
    "ExecuteTime": {
     "end_time": "2024-02-28T02:05:11.257978Z",
     "start_time": "2024-02-28T02:05:11.252813Z"
    }
   },
   "outputs": [
    {
     "data": {
      "text/plain": [
       "'You need Python'"
      ]
     },
     "execution_count": 22,
     "metadata": {},
     "output_type": "execute_result"
    }
   ],
   "source": [
    "a[19:]"
   ]
  },
  {
   "cell_type": "code",
   "execution_count": 23,
   "id": "0d54a8b8",
   "metadata": {
    "ExecuteTime": {
     "end_time": "2024-02-28T02:05:39.855360Z",
     "start_time": "2024-02-28T02:05:39.850965Z"
    }
   },
   "outputs": [
    {
     "data": {
      "text/plain": [
       "'Life is too short'"
      ]
     },
     "execution_count": 23,
     "metadata": {},
     "output_type": "execute_result"
    }
   ],
   "source": [
    "a[:17]"
   ]
  },
  {
   "cell_type": "code",
   "execution_count": 24,
   "id": "f06ca41c",
   "metadata": {
    "ExecuteTime": {
     "end_time": "2024-02-28T02:05:45.964959Z",
     "start_time": "2024-02-28T02:05:45.958972Z"
    }
   },
   "outputs": [
    {
     "data": {
      "text/plain": [
       "'Life is too short, You need Python'"
      ]
     },
     "execution_count": 24,
     "metadata": {},
     "output_type": "execute_result"
    }
   ],
   "source": [
    "a[:]"
   ]
  },
  {
   "cell_type": "code",
   "execution_count": 25,
   "id": "bb5d8994",
   "metadata": {
    "ExecuteTime": {
     "end_time": "2024-02-28T02:06:28.131321Z",
     "start_time": "2024-02-28T02:06:28.125265Z"
    }
   },
   "outputs": [
    {
     "data": {
      "text/plain": [
       "'You need'"
      ]
     },
     "execution_count": 25,
     "metadata": {},
     "output_type": "execute_result"
    }
   ],
   "source": [
    "a[19:-7]"
   ]
  },
  {
   "cell_type": "code",
   "execution_count": 29,
   "id": "26bc08c8",
   "metadata": {
    "ExecuteTime": {
     "end_time": "2024-02-28T02:09:05.570162Z",
     "start_time": "2024-02-28T02:09:05.563952Z"
    }
   },
   "outputs": [
    {
     "data": {
      "text/plain": [
       "('20230228', 'Cold')"
      ]
     },
     "execution_count": 29,
     "metadata": {},
     "output_type": "execute_result"
    }
   ],
   "source": [
    "a = \"20230228Cold\"\n",
    "date = a[:8]\n",
    "weather = a[8:]\n",
    "date, weather"
   ]
  },
  {
   "cell_type": "code",
   "execution_count": 30,
   "id": "b9393e95",
   "metadata": {
    "ExecuteTime": {
     "end_time": "2024-02-28T02:09:10.455764Z",
     "start_time": "2024-02-28T02:09:10.448868Z"
    }
   },
   "outputs": [
    {
     "data": {
      "text/plain": [
       "('2023', '0228', '1Cold')"
      ]
     },
     "execution_count": 30,
     "metadata": {},
     "output_type": "execute_result"
    }
   ],
   "source": [
    "a = \"202302281Cold\"\n",
    "year = a[0:4]\n",
    "day = a[4:8]\n",
    "weather = a[8:]\n",
    "year, day, weather"
   ]
  },
  {
   "cell_type": "code",
   "execution_count": 32,
   "id": "36732a19",
   "metadata": {
    "ExecuteTime": {
     "end_time": "2024-02-28T02:10:18.405869Z",
     "start_time": "2024-02-28T02:10:18.389745Z"
    }
   },
   "outputs": [
    {
     "ename": "TypeError",
     "evalue": "'str' object does not support item assignment",
     "output_type": "error",
     "traceback": [
      "\u001b[1;31m---------------------------------------------------------------------------\u001b[0m",
      "\u001b[1;31mTypeError\u001b[0m                                 Traceback (most recent call last)",
      "Cell \u001b[1;32mIn[32], line 3\u001b[0m\n\u001b[0;32m      1\u001b[0m \u001b[38;5;66;03m# 문자열 수정하기\u001b[39;00m\n\u001b[0;32m      2\u001b[0m a \u001b[38;5;241m=\u001b[39m \u001b[38;5;124m'\u001b[39m\u001b[38;5;124mPithon\u001b[39m\u001b[38;5;124m'\u001b[39m\n\u001b[1;32m----> 3\u001b[0m a[\u001b[38;5;241m1\u001b[39m] \u001b[38;5;241m=\u001b[39m \u001b[38;5;124m'\u001b[39m\u001b[38;5;124my\u001b[39m\u001b[38;5;124m'\u001b[39m\n\u001b[0;32m      4\u001b[0m a\n",
      "\u001b[1;31mTypeError\u001b[0m: 'str' object does not support item assignment"
     ]
    }
   ],
   "source": [
    "# 문자열 수정하기 => 문자열은 변경 불가능하다!\n",
    "a = 'Pithon'\n",
    "a[1] = 'y'\n",
    "a"
   ]
  },
  {
   "cell_type": "code",
   "execution_count": 33,
   "id": "c743a1e0",
   "metadata": {
    "ExecuteTime": {
     "end_time": "2024-02-28T02:12:45.644802Z",
     "start_time": "2024-02-28T02:12:45.638577Z"
    }
   },
   "outputs": [
    {
     "data": {
      "text/plain": [
       "('P', 'P')"
      ]
     },
     "execution_count": 33,
     "metadata": {},
     "output_type": "execute_result"
    }
   ],
   "source": [
    "a[0], a[:1]"
   ]
  },
  {
   "cell_type": "code",
   "execution_count": 34,
   "id": "f5611d95",
   "metadata": {
    "ExecuteTime": {
     "end_time": "2024-02-28T02:12:51.910099Z",
     "start_time": "2024-02-28T02:12:51.903891Z"
    }
   },
   "outputs": [
    {
     "data": {
      "text/plain": [
       "'thon'"
      ]
     },
     "execution_count": 34,
     "metadata": {},
     "output_type": "execute_result"
    }
   ],
   "source": [
    "a[2:]"
   ]
  },
  {
   "cell_type": "code",
   "execution_count": 35,
   "id": "aae61077",
   "metadata": {
    "ExecuteTime": {
     "end_time": "2024-02-28T02:13:10.542329Z",
     "start_time": "2024-02-28T02:13:10.537245Z"
    }
   },
   "outputs": [
    {
     "data": {
      "text/plain": [
       "'Python'"
      ]
     },
     "execution_count": 35,
     "metadata": {},
     "output_type": "execute_result"
    }
   ],
   "source": [
    "a[:1] + 'y' + a[2:]"
   ]
  },
  {
   "cell_type": "code",
   "execution_count": 36,
   "id": "72c2f55a",
   "metadata": {
    "ExecuteTime": {
     "end_time": "2024-02-28T02:14:23.822613Z",
     "start_time": "2024-02-28T02:14:23.803068Z"
    }
   },
   "outputs": [
    {
     "ename": "TypeError",
     "evalue": "'str' object does not support item assignment",
     "output_type": "error",
     "traceback": [
      "\u001b[1;31m---------------------------------------------------------------------------\u001b[0m",
      "\u001b[1;31mTypeError\u001b[0m                                 Traceback (most recent call last)",
      "Cell \u001b[1;32mIn[36], line 2\u001b[0m\n\u001b[0;32m      1\u001b[0m a \u001b[38;5;241m=\u001b[39m \u001b[38;5;124m'\u001b[39m\u001b[38;5;124m파이손은 어려워\u001b[39m\u001b[38;5;124m'\u001b[39m\n\u001b[1;32m----> 2\u001b[0m a[\u001b[38;5;241m2\u001b[39m] \u001b[38;5;241m=\u001b[39m \u001b[38;5;124m'\u001b[39m\u001b[38;5;124m썬\u001b[39m\u001b[38;5;124m'\u001b[39m\n\u001b[0;32m      3\u001b[0m a\n",
      "\u001b[1;31mTypeError\u001b[0m: 'str' object does not support item assignment"
     ]
    }
   ],
   "source": [
    "a = '파이손은 어려워'\n",
    "a[2] = '썬'\n",
    "a"
   ]
  },
  {
   "cell_type": "code",
   "execution_count": 38,
   "id": "f2ec6252",
   "metadata": {
    "ExecuteTime": {
     "end_time": "2024-02-28T02:14:58.527399Z",
     "start_time": "2024-02-28T02:14:58.522461Z"
    }
   },
   "outputs": [
    {
     "data": {
      "text/plain": [
       "'파이'"
      ]
     },
     "execution_count": 38,
     "metadata": {},
     "output_type": "execute_result"
    }
   ],
   "source": [
    "a[:2]"
   ]
  },
  {
   "cell_type": "code",
   "execution_count": 39,
   "id": "2c88d955",
   "metadata": {
    "ExecuteTime": {
     "end_time": "2024-02-28T02:15:20.285703Z",
     "start_time": "2024-02-28T02:15:20.280630Z"
    }
   },
   "outputs": [
    {
     "data": {
      "text/plain": [
       "'손은 어려워'"
      ]
     },
     "execution_count": 39,
     "metadata": {},
     "output_type": "execute_result"
    }
   ],
   "source": [
    "a[2:]"
   ]
  },
  {
   "cell_type": "code",
   "execution_count": 41,
   "id": "46c98c74",
   "metadata": {
    "ExecuteTime": {
     "end_time": "2024-02-28T02:16:09.925335Z",
     "start_time": "2024-02-28T02:16:09.920304Z"
    }
   },
   "outputs": [
    {
     "data": {
      "text/plain": [
       "'파이썬은 어려워'"
      ]
     },
     "execution_count": 41,
     "metadata": {},
     "output_type": "execute_result"
    }
   ],
   "source": [
    "a[:2] + '썬' + a[3:]"
   ]
  },
  {
   "cell_type": "markdown",
   "id": "7c304cd8",
   "metadata": {},
   "source": [
    "## 문자열 포매팅"
   ]
  },
  {
   "cell_type": "code",
   "execution_count": 42,
   "id": "ada849ab",
   "metadata": {
    "ExecuteTime": {
     "end_time": "2024-02-28T02:17:19.601370Z",
     "start_time": "2024-02-28T02:17:19.595616Z"
    }
   },
   "outputs": [
    {
     "data": {
      "text/plain": [
       "'I eat 3 apples.'"
      ]
     },
     "execution_count": 42,
     "metadata": {},
     "output_type": "execute_result"
    }
   ],
   "source": [
    "# 숫자 바로 대입하는 방법!\n",
    "\"I eat %d apples.\" %3"
   ]
  },
  {
   "cell_type": "code",
   "execution_count": 51,
   "id": "18827045",
   "metadata": {
    "ExecuteTime": {
     "end_time": "2024-02-28T02:19:23.986505Z",
     "start_time": "2024-02-28T02:19:23.980523Z"
    }
   },
   "outputs": [
    {
     "data": {
      "text/plain": [
       "'I eat five apples.'"
      ]
     },
     "execution_count": 51,
     "metadata": {},
     "output_type": "execute_result"
    }
   ],
   "source": [
    "# 문자열 바로 대입!\n",
    "\"I eat %s apples.\" %\"five\""
   ]
  },
  {
   "cell_type": "code",
   "execution_count": 55,
   "id": "87cb48cb",
   "metadata": {
    "ExecuteTime": {
     "end_time": "2024-02-28T02:20:41.974538Z",
     "start_time": "2024-02-28T02:20:41.968609Z"
    }
   },
   "outputs": [
    {
     "data": {
      "text/plain": [
       "'I eat 3 apples.'"
      ]
     },
     "execution_count": 55,
     "metadata": {},
     "output_type": "execute_result"
    }
   ],
   "source": [
    "# 숫자 값을 나타내는 변수로 대입\n",
    "number = 3\n",
    "\"I eat %d apples.\" %number"
   ]
  },
  {
   "cell_type": "code",
   "execution_count": 58,
   "id": "8bd9f2d0",
   "metadata": {
    "ExecuteTime": {
     "end_time": "2024-02-28T02:21:54.649123Z",
     "start_time": "2024-02-28T02:21:54.643087Z"
    }
   },
   "outputs": [
    {
     "data": {
      "text/plain": [
       "'I ate 10 apples. so I was sick for three days.'"
      ]
     },
     "execution_count": 58,
     "metadata": {},
     "output_type": "execute_result"
    }
   ],
   "source": [
    "number = 10\n",
    "day = \"three\"\n",
    "\"I ate %d apples. so I was sick for %s days.\" % (number, day)"
   ]
  },
  {
   "cell_type": "code",
   "execution_count": 59,
   "id": "05df6c70",
   "metadata": {
    "ExecuteTime": {
     "end_time": "2024-02-28T02:23:18.832347Z",
     "start_time": "2024-02-28T02:23:18.826366Z"
    }
   },
   "outputs": [
    {
     "data": {
      "text/plain": [
       "'I eat 3 apples.'"
      ]
     },
     "execution_count": 59,
     "metadata": {},
     "output_type": "execute_result"
    }
   ],
   "source": [
    "\"I eat %s apples.\" %3 # 문자열은 숫자를 강제로 문자로 변환한다."
   ]
  },
  {
   "cell_type": "code",
   "execution_count": 61,
   "id": "72861eb1",
   "metadata": {
    "ExecuteTime": {
     "end_time": "2024-02-28T02:27:01.705588Z",
     "start_time": "2024-02-28T02:27:01.700660Z"
    }
   },
   "outputs": [
    {
     "data": {
      "text/plain": [
       "'오늘의 습도는 65%입니다.'"
      ]
     },
     "execution_count": 61,
     "metadata": {},
     "output_type": "execute_result"
    }
   ],
   "source": [
    "\"오늘의 습도는 %d%%입니다.\" %65"
   ]
  },
  {
   "cell_type": "markdown",
   "id": "f3c57904",
   "metadata": {},
   "source": [
    "## 소수점 표현하기"
   ]
  },
  {
   "cell_type": "code",
   "execution_count": 62,
   "id": "ee7bb240",
   "metadata": {
    "ExecuteTime": {
     "end_time": "2024-02-28T02:31:06.702150Z",
     "start_time": "2024-02-28T02:31:06.697093Z"
    }
   },
   "outputs": [
    {
     "data": {
      "text/plain": [
       "'3.4213'"
      ]
     },
     "execution_count": 62,
     "metadata": {},
     "output_type": "execute_result"
    }
   ],
   "source": [
    "\"%0.4f\" %3.42134435"
   ]
  },
  {
   "cell_type": "code",
   "execution_count": 63,
   "id": "75d04225",
   "metadata": {
    "ExecuteTime": {
     "end_time": "2024-02-28T02:31:27.364909Z",
     "start_time": "2024-02-28T02:31:27.357873Z"
    }
   },
   "outputs": [
    {
     "data": {
      "text/plain": [
       "'    3.4213'"
      ]
     },
     "execution_count": 63,
     "metadata": {},
     "output_type": "execute_result"
    }
   ],
   "source": [
    "\"%10.4f\" %3.42134435"
   ]
  },
  {
   "cell_type": "markdown",
   "id": "582eba23",
   "metadata": {},
   "source": [
    "### format 함수를 사용한 포맷팅"
   ]
  },
  {
   "cell_type": "code",
   "execution_count": 64,
   "id": "1b36e64c",
   "metadata": {
    "ExecuteTime": {
     "end_time": "2024-02-28T02:33:04.475096Z",
     "start_time": "2024-02-28T02:33:04.469666Z"
    }
   },
   "outputs": [
    {
     "data": {
      "text/plain": [
       "'I eat 3 apples'"
      ]
     },
     "execution_count": 64,
     "metadata": {},
     "output_type": "execute_result"
    }
   ],
   "source": [
    "\"I eat {0} apples\".format(3)"
   ]
  },
  {
   "cell_type": "code",
   "execution_count": 67,
   "id": "26402b2d",
   "metadata": {
    "ExecuteTime": {
     "end_time": "2024-02-28T02:34:19.588589Z",
     "start_time": "2024-02-28T02:34:19.583178Z"
    }
   },
   "outputs": [
    {
     "data": {
      "text/plain": [
       "'I eat 3 apples'"
      ]
     },
     "execution_count": 67,
     "metadata": {},
     "output_type": "execute_result"
    }
   ],
   "source": [
    "\"I eat {0} apples\".format(3)"
   ]
  },
  {
   "cell_type": "code",
   "execution_count": 69,
   "id": "c3164224",
   "metadata": {
    "ExecuteTime": {
     "end_time": "2024-02-28T02:34:41.108472Z",
     "start_time": "2024-02-28T02:34:41.102288Z"
    }
   },
   "outputs": [
    {
     "data": {
      "text/plain": [
       "'I eat five apples'"
      ]
     },
     "execution_count": 69,
     "metadata": {},
     "output_type": "execute_result"
    }
   ],
   "source": [
    "\"I eat {} apples\".format('five')"
   ]
  },
  {
   "cell_type": "code",
   "execution_count": 70,
   "id": "29cbb360",
   "metadata": {
    "ExecuteTime": {
     "end_time": "2024-02-28T02:35:14.535170Z",
     "start_time": "2024-02-28T02:35:14.529190Z"
    }
   },
   "outputs": [
    {
     "data": {
      "text/plain": [
       "'I eat 10 apples'"
      ]
     },
     "execution_count": 70,
     "metadata": {},
     "output_type": "execute_result"
    }
   ],
   "source": [
    "number = 10\n",
    "\"I eat {0} apples\".format(number)"
   ]
  },
  {
   "cell_type": "code",
   "execution_count": 78,
   "id": "e6653317",
   "metadata": {
    "ExecuteTime": {
     "end_time": "2024-02-28T02:38:12.170884Z",
     "start_time": "2024-02-28T02:38:12.165013Z"
    }
   },
   "outputs": [
    {
     "data": {
      "text/plain": [
       "'I ate 10 apples. so I was sick for three days.'"
      ]
     },
     "execution_count": 78,
     "metadata": {},
     "output_type": "execute_result"
    }
   ],
   "source": [
    "number = 10\n",
    "day = \"three\"\n",
    "\"I ate {0} apples. so I was sick for {1} days.\".format(number, day)"
   ]
  },
  {
   "cell_type": "code",
   "execution_count": 75,
   "id": "b4f3e8b7",
   "metadata": {
    "ExecuteTime": {
     "end_time": "2024-02-28T02:37:17.432013Z",
     "start_time": "2024-02-28T02:37:17.425591Z"
    }
   },
   "outputs": [
    {
     "data": {
      "text/plain": [
       "'I ate 10 apples. so I was sick for 3 days.'"
      ]
     },
     "execution_count": 75,
     "metadata": {},
     "output_type": "execute_result"
    }
   ],
   "source": [
    " \"I ate {number} apples. so I was sick for {day} days.\".format(number=10, day=3)"
   ]
  },
  {
   "cell_type": "code",
   "execution_count": 79,
   "id": "927ebda2",
   "metadata": {
    "ExecuteTime": {
     "end_time": "2024-02-28T02:39:08.888867Z",
     "start_time": "2024-02-28T02:39:08.883700Z"
    }
   },
   "outputs": [
    {
     "data": {
      "text/plain": [
       "'I ate 10 apples. so I was sick for 3 days.'"
      ]
     },
     "execution_count": 79,
     "metadata": {},
     "output_type": "execute_result"
    }
   ],
   "source": [
    "\"I ate {0} apples. so I was sick for {day} days.\".format(10, day=3)"
   ]
  },
  {
   "cell_type": "markdown",
   "id": "d248281f",
   "metadata": {},
   "source": [
    "## 소수점 표현하기"
   ]
  },
  {
   "cell_type": "code",
   "execution_count": 80,
   "id": "c451e756",
   "metadata": {
    "ExecuteTime": {
     "end_time": "2024-02-28T02:40:45.046771Z",
     "start_time": "2024-02-28T02:40:45.041628Z"
    }
   },
   "outputs": [
    {
     "data": {
      "text/plain": [
       "'3.4213'"
      ]
     },
     "execution_count": 80,
     "metadata": {},
     "output_type": "execute_result"
    }
   ],
   "source": [
    "y = 3.42134234\n",
    "\"{0:0.4f}\".format(y)"
   ]
  },
  {
   "cell_type": "markdown",
   "id": "0a29c9cc",
   "metadata": {},
   "source": [
    "## f문자열 포매팅(강추!!)"
   ]
  },
  {
   "cell_type": "code",
   "execution_count": 82,
   "id": "589ae7c4",
   "metadata": {
    "ExecuteTime": {
     "end_time": "2024-02-28T02:41:47.640234Z",
     "start_time": "2024-02-28T02:41:47.635722Z"
    }
   },
   "outputs": [
    {
     "data": {
      "text/plain": [
       "'나의 이름은 홍길동입니다. 나이는 30입니다.'"
      ]
     },
     "execution_count": 82,
     "metadata": {},
     "output_type": "execute_result"
    }
   ],
   "source": [
    "name = '홍길동'\n",
    "age = 30\n",
    "f'나의 이름은 {name}입니다. 나이는 {age}입니다.'"
   ]
  },
  {
   "cell_type": "code",
   "execution_count": 85,
   "id": "5fe4ede8",
   "metadata": {
    "ExecuteTime": {
     "end_time": "2024-02-28T02:43:05.124133Z",
     "start_time": "2024-02-28T02:43:05.119148Z"
    }
   },
   "outputs": [
    {
     "data": {
      "text/plain": [
       "'나는 내년이면 31살이 된다.'"
      ]
     },
     "execution_count": 85,
     "metadata": {},
     "output_type": "execute_result"
    }
   ],
   "source": [
    "age = 30\n",
    "f'나는 내년이면 {age + 1}살이 된다.'"
   ]
  },
  {
   "cell_type": "code",
   "execution_count": 86,
   "id": "958aaa1a",
   "metadata": {
    "ExecuteTime": {
     "end_time": "2024-02-28T02:43:47.394333Z",
     "start_time": "2024-02-28T02:43:47.388354Z"
    }
   },
   "outputs": [
    {
     "data": {
      "text/plain": [
       "'나의 이름은 홍길동입니다. 나이는 30입니다.'"
      ]
     },
     "execution_count": 86,
     "metadata": {},
     "output_type": "execute_result"
    }
   ],
   "source": [
    "d = {'name':'홍길동', 'age':30}\n",
    "f'나의 이름은 {d[\"name\"]}입니다. 나이는 {d[\"age\"]}입니다.'"
   ]
  },
  {
   "cell_type": "markdown",
   "id": "c9ad76a5",
   "metadata": {},
   "source": [
    "## 문자열 관련 함수들"
   ]
  },
  {
   "cell_type": "code",
   "execution_count": 87,
   "id": "d745f180",
   "metadata": {
    "ExecuteTime": {
     "end_time": "2024-02-28T02:45:08.182709Z",
     "start_time": "2024-02-28T02:45:08.177962Z"
    }
   },
   "outputs": [
    {
     "data": {
      "text/plain": [
       "2"
      ]
     },
     "execution_count": 87,
     "metadata": {},
     "output_type": "execute_result"
    }
   ],
   "source": [
    "# 문자 개수 세기 count\n",
    "a = \"hobby\"\n",
    "a.count('b')"
   ]
  },
  {
   "cell_type": "code",
   "execution_count": 90,
   "id": "9a464933",
   "metadata": {
    "ExecuteTime": {
     "end_time": "2024-02-28T02:46:38.965666Z",
     "start_time": "2024-02-28T02:46:38.959686Z"
    }
   },
   "outputs": [
    {
     "data": {
      "text/plain": [
       "14"
      ]
     },
     "execution_count": 90,
     "metadata": {},
     "output_type": "execute_result"
    }
   ],
   "source": [
    "# 위치 알려주기 find\n",
    "a = \"Python is the best choice\"\n",
    "a.find('b')"
   ]
  },
  {
   "cell_type": "code",
   "execution_count": 89,
   "id": "777e0b95",
   "metadata": {
    "ExecuteTime": {
     "end_time": "2024-02-28T02:46:28.987981Z",
     "start_time": "2024-02-28T02:46:28.981987Z"
    }
   },
   "outputs": [
    {
     "data": {
      "text/plain": [
       "-1"
      ]
     },
     "execution_count": 89,
     "metadata": {},
     "output_type": "execute_result"
    }
   ],
   "source": [
    "a = \"Python is the best choice\"\n",
    "a.find('k')"
   ]
  },
  {
   "cell_type": "code",
   "execution_count": 91,
   "id": "2f3d6683",
   "metadata": {
    "ExecuteTime": {
     "end_time": "2024-02-28T02:47:10.672140Z",
     "start_time": "2024-02-28T02:47:10.666139Z"
    }
   },
   "outputs": [
    {
     "data": {
      "text/plain": [
       "8"
      ]
     },
     "execution_count": 91,
     "metadata": {},
     "output_type": "execute_result"
    }
   ],
   "source": [
    "# 위치 알려주기 index\n",
    "a = \"Life is too short\"\n",
    "a.index('t')"
   ]
  },
  {
   "cell_type": "code",
   "execution_count": 93,
   "id": "7aa6eada",
   "metadata": {
    "ExecuteTime": {
     "end_time": "2024-02-28T02:47:37.565896Z",
     "start_time": "2024-02-28T02:47:37.548676Z"
    }
   },
   "outputs": [
    {
     "ename": "ValueError",
     "evalue": "substring not found",
     "output_type": "error",
     "traceback": [
      "\u001b[1;31m---------------------------------------------------------------------------\u001b[0m",
      "\u001b[1;31mValueError\u001b[0m                                Traceback (most recent call last)",
      "Cell \u001b[1;32mIn[93], line 1\u001b[0m\n\u001b[1;32m----> 1\u001b[0m a\u001b[38;5;241m.\u001b[39mindex(\u001b[38;5;124m'\u001b[39m\u001b[38;5;124mk\u001b[39m\u001b[38;5;124m'\u001b[39m)\n",
      "\u001b[1;31mValueError\u001b[0m: substring not found"
     ]
    }
   ],
   "source": [
    "a.index('k') # 에러가 난다!"
   ]
  },
  {
   "cell_type": "markdown",
   "id": "6ff30fc2",
   "metadata": {},
   "source": [
    "find 와 index는 사용 환경에 따라 다르다(프로그래밍적 사고!)   \n",
    "정보가 없어도 계속 동작이 되어야해! -> 멈추면 안돼 => find   \n",
    "에러를 확인해야해! 에러가 나면 크리티컬한 오류야! => index"
   ]
  },
  {
   "cell_type": "code",
   "execution_count": 94,
   "id": "199561cc",
   "metadata": {
    "ExecuteTime": {
     "end_time": "2024-02-28T02:49:48.805419Z",
     "start_time": "2024-02-28T02:49:48.799710Z"
    }
   },
   "outputs": [
    {
     "data": {
      "text/plain": [
       "'abcd'"
      ]
     },
     "execution_count": 94,
     "metadata": {},
     "output_type": "execute_result"
    }
   ],
   "source": [
    "# 문자열 삽입 join\n",
    "a = 'abcd'\n",
    "a"
   ]
  },
  {
   "cell_type": "code",
   "execution_count": 96,
   "id": "c0bdad44",
   "metadata": {
    "ExecuteTime": {
     "end_time": "2024-02-28T02:50:31.833247Z",
     "start_time": "2024-02-28T02:50:31.827099Z"
    }
   },
   "outputs": [
    {
     "data": {
      "text/plain": [
       "'a,b,c,d'"
      ]
     },
     "execution_count": 96,
     "metadata": {},
     "output_type": "execute_result"
    }
   ],
   "source": [
    "\",\".join(a)"
   ]
  },
  {
   "cell_type": "code",
   "execution_count": 1,
   "id": "d4759102",
   "metadata": {
    "ExecuteTime": {
     "end_time": "2024-02-28T04:02:44.245319Z",
     "start_time": "2024-02-28T04:02:44.239427Z"
    }
   },
   "outputs": [
    {
     "data": {
      "text/plain": [
       "['a', 'b', 'c', 'd']"
      ]
     },
     "execution_count": 1,
     "metadata": {},
     "output_type": "execute_result"
    }
   ],
   "source": [
    "a = ['a', 'b', 'c', 'd']\n",
    "a"
   ]
  },
  {
   "cell_type": "code",
   "execution_count": 16,
   "id": "69de25da",
   "metadata": {
    "ExecuteTime": {
     "end_time": "2024-02-28T04:07:51.208962Z",
     "start_time": "2024-02-28T04:07:51.204649Z"
    }
   },
   "outputs": [
    {
     "data": {
      "text/plain": [
       "'HELLO WORLD'"
      ]
     },
     "execution_count": 16,
     "metadata": {},
     "output_type": "execute_result"
    }
   ],
   "source": [
    "# 소문자를 대문자로 바꾸기 upper / ()의 유무는 함수나 객체냐의 차이\n",
    "a = 'hello world'\n",
    "a.upper()"
   ]
  },
  {
   "cell_type": "code",
   "execution_count": 17,
   "id": "4fd0a904",
   "metadata": {
    "ExecuteTime": {
     "end_time": "2024-02-28T04:08:25.912051Z",
     "start_time": "2024-02-28T04:08:25.908108Z"
    }
   },
   "outputs": [
    {
     "name": "stdout",
     "output_type": "stream",
     "text": [
      "Help on built-in function print in module builtins:\n",
      "\n",
      "print(*args, sep=' ', end='\\n', file=None, flush=False)\n",
      "    Prints the values to a stream, or to sys.stdout by default.\n",
      "    \n",
      "    sep\n",
      "      string inserted between values, default a space.\n",
      "    end\n",
      "      string appended after the last value, default a newline.\n",
      "    file\n",
      "      a file-like object (stream); defaults to the current sys.stdout.\n",
      "    flush\n",
      "      whether to forcibly flush the stream.\n",
      "\n"
     ]
    }
   ],
   "source": [
    "help(print)"
   ]
  },
  {
   "cell_type": "code",
   "execution_count": 19,
   "id": "979e7b62",
   "metadata": {
    "ExecuteTime": {
     "end_time": "2024-02-28T04:10:34.315997Z",
     "start_time": "2024-02-28T04:10:34.310220Z"
    }
   },
   "outputs": [
    {
     "data": {
      "text/plain": [
       "'hello world'"
      ]
     },
     "execution_count": 19,
     "metadata": {},
     "output_type": "execute_result"
    }
   ],
   "source": [
    "a = 'HELLO WORLD'\n",
    "a.lower()"
   ]
  },
  {
   "cell_type": "code",
   "execution_count": 20,
   "id": "ad506742",
   "metadata": {
    "ExecuteTime": {
     "end_time": "2024-02-28T04:11:10.757424Z",
     "start_time": "2024-02-28T04:11:10.752441Z"
    }
   },
   "outputs": [
    {
     "data": {
      "text/plain": [
       "'HELLO WORLD'"
      ]
     },
     "execution_count": 20,
     "metadata": {},
     "output_type": "execute_result"
    }
   ],
   "source": [
    "a"
   ]
  },
  {
   "cell_type": "code",
   "execution_count": 23,
   "id": "6112cf5c",
   "metadata": {
    "ExecuteTime": {
     "end_time": "2024-02-28T04:12:03.323316Z",
     "start_time": "2024-02-28T04:12:03.317334Z"
    }
   },
   "outputs": [
    {
     "data": {
      "text/plain": [
       "'   hi   '"
      ]
     },
     "execution_count": 23,
     "metadata": {},
     "output_type": "execute_result"
    }
   ],
   "source": [
    "# 왼쪽 공백 지우기 lstrip\n",
    "a = '   hi   '\n",
    "a"
   ]
  },
  {
   "cell_type": "code",
   "execution_count": 24,
   "id": "8c19ba20",
   "metadata": {
    "ExecuteTime": {
     "end_time": "2024-02-28T04:12:17.198442Z",
     "start_time": "2024-02-28T04:12:17.192729Z"
    }
   },
   "outputs": [
    {
     "data": {
      "text/plain": [
       "'hi   '"
      ]
     },
     "execution_count": 24,
     "metadata": {},
     "output_type": "execute_result"
    }
   ],
   "source": [
    "a.lstrip()"
   ]
  },
  {
   "cell_type": "code",
   "execution_count": 26,
   "id": "219a4209",
   "metadata": {
    "ExecuteTime": {
     "end_time": "2024-02-28T04:12:27.130925Z",
     "start_time": "2024-02-28T04:12:27.124235Z"
    }
   },
   "outputs": [
    {
     "data": {
      "text/plain": [
       "'   hi'"
      ]
     },
     "execution_count": 26,
     "metadata": {},
     "output_type": "execute_result"
    }
   ],
   "source": [
    "a.rstrip()"
   ]
  },
  {
   "cell_type": "code",
   "execution_count": 30,
   "id": "c4c3abea",
   "metadata": {
    "ExecuteTime": {
     "end_time": "2024-02-28T04:12:49.710097Z",
     "start_time": "2024-02-28T04:12:49.706024Z"
    }
   },
   "outputs": [
    {
     "data": {
      "text/plain": [
       "'hi'"
      ]
     },
     "execution_count": 30,
     "metadata": {},
     "output_type": "execute_result"
    }
   ],
   "source": [
    "a.strip()"
   ]
  },
  {
   "cell_type": "markdown",
   "id": "0791ab72",
   "metadata": {},
   "source": [
    "## 문자열 바꾸기"
   ]
  },
  {
   "cell_type": "code",
   "execution_count": 32,
   "id": "689a7d2d",
   "metadata": {
    "ExecuteTime": {
     "end_time": "2024-02-28T04:13:49.801887Z",
     "start_time": "2024-02-28T04:13:49.796717Z"
    }
   },
   "outputs": [],
   "source": [
    "a = \"Life is too short\"\n",
    "a.replace?"
   ]
  },
  {
   "cell_type": "code",
   "execution_count": 33,
   "id": "6e1befc7",
   "metadata": {
    "ExecuteTime": {
     "end_time": "2024-02-28T04:14:12.141483Z",
     "start_time": "2024-02-28T04:14:12.136421Z"
    }
   },
   "outputs": [
    {
     "data": {
      "text/plain": [
       "'Your leg is too short'"
      ]
     },
     "execution_count": 33,
     "metadata": {},
     "output_type": "execute_result"
    }
   ],
   "source": [
    "a.replace(\"Life\", \"Your leg\")"
   ]
  },
  {
   "cell_type": "markdown",
   "id": "3c6a3a9c",
   "metadata": {},
   "source": [
    "## 문자열 나누기 split"
   ]
  },
  {
   "cell_type": "code",
   "execution_count": 35,
   "id": "f0a6100e",
   "metadata": {
    "ExecuteTime": {
     "end_time": "2024-02-28T04:15:30.955492Z",
     "start_time": "2024-02-28T04:15:30.950503Z"
    }
   },
   "outputs": [
    {
     "data": {
      "text/plain": [
       "['Life', 'is', 'too', 'short']"
      ]
     },
     "execution_count": 35,
     "metadata": {},
     "output_type": "execute_result"
    }
   ],
   "source": [
    "a = \"Life is too short\"\n",
    "a.split()"
   ]
  },
  {
   "cell_type": "code",
   "execution_count": 41,
   "id": "7430ab04",
   "metadata": {
    "ExecuteTime": {
     "end_time": "2024-02-28T04:16:24.751576Z",
     "start_time": "2024-02-28T04:16:24.747092Z"
    }
   },
   "outputs": [],
   "source": [
    "a.split?"
   ]
  },
  {
   "cell_type": "code",
   "execution_count": 42,
   "id": "0f0918ed",
   "metadata": {
    "ExecuteTime": {
     "end_time": "2024-02-28T04:17:22.751928Z",
     "start_time": "2024-02-28T04:17:22.745101Z"
    }
   },
   "outputs": [
    {
     "data": {
      "text/plain": [
       "['a', 'b', 'c', 'd']"
      ]
     },
     "execution_count": 42,
     "metadata": {},
     "output_type": "execute_result"
    }
   ],
   "source": [
    "b = \"a:b:c:d\"\n",
    "b.split(':')"
   ]
  },
  {
   "cell_type": "markdown",
   "id": "5234f37c",
   "metadata": {},
   "source": [
    "## 02-8 변수"
   ]
  },
  {
   "cell_type": "code",
   "execution_count": 45,
   "id": "a38b597f",
   "metadata": {
    "ExecuteTime": {
     "end_time": "2024-02-28T04:19:16.304488Z",
     "start_time": "2024-02-28T04:19:16.299505Z"
    }
   },
   "outputs": [
    {
     "data": {
      "text/plain": [
       "(1, int)"
      ]
     },
     "execution_count": 45,
     "metadata": {},
     "output_type": "execute_result"
    }
   ],
   "source": [
    "a = 1\n",
    "a, type(a)"
   ]
  },
  {
   "cell_type": "code",
   "execution_count": 46,
   "id": "5853ab6c",
   "metadata": {
    "ExecuteTime": {
     "end_time": "2024-02-28T04:19:37.946402Z",
     "start_time": "2024-02-28T04:19:37.941419Z"
    }
   },
   "outputs": [
    {
     "data": {
      "text/plain": [
       "('python', str)"
      ]
     },
     "execution_count": 46,
     "metadata": {},
     "output_type": "execute_result"
    }
   ],
   "source": [
    "b = 'python'\n",
    "b,type(b)"
   ]
  },
  {
   "cell_type": "code",
   "execution_count": 48,
   "id": "47036f42",
   "metadata": {
    "ExecuteTime": {
     "end_time": "2024-02-28T04:20:12.633532Z",
     "start_time": "2024-02-28T04:20:12.628451Z"
    }
   },
   "outputs": [
    {
     "data": {
      "text/plain": [
       "([1, 2, 3], list)"
      ]
     },
     "execution_count": 48,
     "metadata": {},
     "output_type": "execute_result"
    }
   ],
   "source": [
    "c = [1, 2, 3]\n",
    "c, type(c)"
   ]
  },
  {
   "cell_type": "code",
   "execution_count": 49,
   "id": "2f8f3fbd",
   "metadata": {
    "ExecuteTime": {
     "end_time": "2024-02-28T04:20:23.003983Z",
     "start_time": "2024-02-28T04:20:22.999000Z"
    }
   },
   "outputs": [
    {
     "data": {
      "text/plain": [
       "140715900310312"
      ]
     },
     "execution_count": 49,
     "metadata": {},
     "output_type": "execute_result"
    }
   ],
   "source": [
    "id(a)"
   ]
  },
  {
   "cell_type": "code",
   "execution_count": 53,
   "id": "37c5f972",
   "metadata": {
    "ExecuteTime": {
     "end_time": "2024-02-28T04:25:03.191476Z",
     "start_time": "2024-02-28T04:25:03.186493Z"
    }
   },
   "outputs": [
    {
     "data": {
      "text/plain": [
       "[1, 2, 3]"
      ]
     },
     "execution_count": 53,
     "metadata": {},
     "output_type": "execute_result"
    }
   ],
   "source": [
    "# 문자열 복사\n",
    "a = [1, 2, 3]\n",
    "b = a \n",
    "b"
   ]
  },
  {
   "cell_type": "code",
   "execution_count": 54,
   "id": "a52901f4",
   "metadata": {
    "ExecuteTime": {
     "end_time": "2024-02-28T04:25:07.249045Z",
     "start_time": "2024-02-28T04:25:07.244152Z"
    }
   },
   "outputs": [
    {
     "data": {
      "text/plain": [
       "(2305672474880, 2305672474880)"
      ]
     },
     "execution_count": 54,
     "metadata": {},
     "output_type": "execute_result"
    }
   ],
   "source": [
    "id(a), id(b)"
   ]
  },
  {
   "cell_type": "code",
   "execution_count": 55,
   "id": "1e77ca28",
   "metadata": {
    "ExecuteTime": {
     "end_time": "2024-02-28T04:25:43.766370Z",
     "start_time": "2024-02-28T04:25:43.763385Z"
    }
   },
   "outputs": [],
   "source": [
    "del b"
   ]
  },
  {
   "cell_type": "code",
   "execution_count": 56,
   "id": "b3a1076a",
   "metadata": {
    "ExecuteTime": {
     "end_time": "2024-02-28T04:25:49.972266Z",
     "start_time": "2024-02-28T04:25:49.967286Z"
    }
   },
   "outputs": [
    {
     "data": {
      "text/plain": [
       "[1, 2, 3]"
      ]
     },
     "execution_count": 56,
     "metadata": {},
     "output_type": "execute_result"
    }
   ],
   "source": [
    "a"
   ]
  },
  {
   "cell_type": "code",
   "execution_count": 57,
   "id": "16a1a6be",
   "metadata": {
    "ExecuteTime": {
     "end_time": "2024-02-28T04:25:52.800888Z",
     "start_time": "2024-02-28T04:25:52.782366Z"
    }
   },
   "outputs": [
    {
     "ename": "NameError",
     "evalue": "name 'b' is not defined",
     "output_type": "error",
     "traceback": [
      "\u001b[1;31m---------------------------------------------------------------------------\u001b[0m",
      "\u001b[1;31mNameError\u001b[0m                                 Traceback (most recent call last)",
      "Cell \u001b[1;32mIn[57], line 1\u001b[0m\n\u001b[1;32m----> 1\u001b[0m b\n",
      "\u001b[1;31mNameError\u001b[0m: name 'b' is not defined"
     ]
    }
   ],
   "source": [
    "b"
   ]
  },
  {
   "cell_type": "code",
   "execution_count": 58,
   "id": "4c22df30",
   "metadata": {
    "ExecuteTime": {
     "end_time": "2024-02-28T04:26:24.890171Z",
     "start_time": "2024-02-28T04:26:24.885372Z"
    }
   },
   "outputs": [
    {
     "data": {
      "text/plain": [
       "[1, 2, 3]"
      ]
     },
     "execution_count": 58,
     "metadata": {},
     "output_type": "execute_result"
    }
   ],
   "source": [
    "a"
   ]
  },
  {
   "cell_type": "code",
   "execution_count": 59,
   "id": "0cae1a62",
   "metadata": {
    "ExecuteTime": {
     "end_time": "2024-02-28T04:26:31.550872Z",
     "start_time": "2024-02-28T04:26:31.546582Z"
    }
   },
   "outputs": [
    {
     "data": {
      "text/plain": [
       "[1, 4, 3]"
      ]
     },
     "execution_count": 59,
     "metadata": {},
     "output_type": "execute_result"
    }
   ],
   "source": [
    "a[1] = 4\n",
    "a"
   ]
  },
  {
   "cell_type": "code",
   "execution_count": 60,
   "id": "d12eddde",
   "metadata": {
    "ExecuteTime": {
     "end_time": "2024-02-28T04:27:24.126041Z",
     "start_time": "2024-02-28T04:27:24.122121Z"
    }
   },
   "outputs": [],
   "source": [
    "a = [1, 2, 3]\n",
    "b = a "
   ]
  },
  {
   "cell_type": "code",
   "execution_count": 61,
   "id": "55713a2c",
   "metadata": {
    "ExecuteTime": {
     "end_time": "2024-02-28T04:27:32.504201Z",
     "start_time": "2024-02-28T04:27:32.500160Z"
    }
   },
   "outputs": [
    {
     "data": {
      "text/plain": [
       "(2305666426240, 2305666426240)"
      ]
     },
     "execution_count": 61,
     "metadata": {},
     "output_type": "execute_result"
    }
   ],
   "source": [
    "id(a), id(b)"
   ]
  },
  {
   "cell_type": "code",
   "execution_count": 62,
   "id": "53300ade",
   "metadata": {
    "ExecuteTime": {
     "end_time": "2024-02-28T04:27:45.085638Z",
     "start_time": "2024-02-28T04:27:45.080656Z"
    }
   },
   "outputs": [
    {
     "data": {
      "text/plain": [
       "[1, 4, 3]"
      ]
     },
     "execution_count": 62,
     "metadata": {},
     "output_type": "execute_result"
    }
   ],
   "source": [
    "a[1] = 4\n",
    "a"
   ]
  },
  {
   "cell_type": "code",
   "execution_count": 63,
   "id": "2f568a31",
   "metadata": {
    "ExecuteTime": {
     "end_time": "2024-02-28T04:27:48.250274Z",
     "start_time": "2024-02-28T04:27:48.246457Z"
    }
   },
   "outputs": [
    {
     "data": {
      "text/plain": [
       "[1, 4, 3]"
      ]
     },
     "execution_count": 63,
     "metadata": {},
     "output_type": "execute_result"
    }
   ],
   "source": [
    "b"
   ]
  },
  {
   "cell_type": "code",
   "execution_count": 64,
   "id": "8d104f3e",
   "metadata": {
    "ExecuteTime": {
     "end_time": "2024-02-28T04:32:12.141338Z",
     "start_time": "2024-02-28T04:32:12.137261Z"
    }
   },
   "outputs": [
    {
     "data": {
      "text/plain": [
       "10"
      ]
     },
     "execution_count": 64,
     "metadata": {},
     "output_type": "execute_result"
    }
   ],
   "source": [
    "num1 = 10\n",
    "num1"
   ]
  },
  {
   "cell_type": "code",
   "execution_count": 65,
   "id": "b86473c9",
   "metadata": {
    "ExecuteTime": {
     "end_time": "2024-02-28T04:32:30.272236Z",
     "start_time": "2024-02-28T04:32:30.266967Z"
    }
   },
   "outputs": [
    {
     "data": {
      "text/plain": [
       "(10, 10)"
      ]
     },
     "execution_count": 65,
     "metadata": {},
     "output_type": "execute_result"
    }
   ],
   "source": [
    "num2 = num1\n",
    "num1,num2"
   ]
  },
  {
   "cell_type": "code",
   "execution_count": 67,
   "id": "95098b44",
   "metadata": {
    "ExecuteTime": {
     "end_time": "2024-02-28T04:32:53.332441Z",
     "start_time": "2024-02-28T04:32:53.328396Z"
    }
   },
   "outputs": [
    {
     "data": {
      "text/plain": [
       "11"
      ]
     },
     "execution_count": 67,
     "metadata": {},
     "output_type": "execute_result"
    }
   ],
   "source": [
    "num1 = 11\n",
    "num1"
   ]
  },
  {
   "cell_type": "code",
   "execution_count": 68,
   "id": "32b6f2ea",
   "metadata": {
    "ExecuteTime": {
     "end_time": "2024-02-28T04:32:57.289468Z",
     "start_time": "2024-02-28T04:32:57.285483Z"
    }
   },
   "outputs": [
    {
     "data": {
      "text/plain": [
       "10"
      ]
     },
     "execution_count": 68,
     "metadata": {},
     "output_type": "execute_result"
    }
   ],
   "source": [
    "num2"
   ]
  },
  {
   "cell_type": "markdown",
   "id": "d5cdb268",
   "metadata": {},
   "source": [
    "## COPY"
   ]
  },
  {
   "cell_type": "markdown",
   "id": "7ccb65c4",
   "metadata": {
    "ExecuteTime": {
     "end_time": "2024-02-28T04:44:40.300714Z",
     "start_time": "2024-02-28T04:44:40.296150Z"
    }
   },
   "source": [
    "얕은 복사\n",
    "```\n",
    "a = [1, 2, 3]\n",
    "b = a \n",
    "```"
   ]
  },
  {
   "cell_type": "markdown",
   "id": "e57f64f8",
   "metadata": {},
   "source": [
    "아래는 깊은 복사, 서로 id 값이 다르다!"
   ]
  },
  {
   "cell_type": "code",
   "execution_count": 70,
   "id": "4ee73dd3",
   "metadata": {
    "ExecuteTime": {
     "end_time": "2024-02-28T04:45:41.005475Z",
     "start_time": "2024-02-28T04:45:41.000482Z"
    }
   },
   "outputs": [
    {
     "data": {
      "text/plain": [
       "[1, 2, 3]"
      ]
     },
     "execution_count": 70,
     "metadata": {},
     "output_type": "execute_result"
    }
   ],
   "source": [
    "from copy import copy\n",
    "a = [1, 2, 3]\n",
    "a"
   ]
  },
  {
   "cell_type": "code",
   "execution_count": 71,
   "id": "add5f993",
   "metadata": {
    "ExecuteTime": {
     "end_time": "2024-02-28T04:45:59.242474Z",
     "start_time": "2024-02-28T04:45:59.237265Z"
    }
   },
   "outputs": [
    {
     "data": {
      "text/plain": [
       "(2305672800768, 2305672052608)"
      ]
     },
     "execution_count": 71,
     "metadata": {},
     "output_type": "execute_result"
    }
   ],
   "source": [
    "b = copy(a)\n",
    "id(a), id(b)"
   ]
  },
  {
   "cell_type": "markdown",
   "id": "36e1d7dd",
   "metadata": {},
   "source": [
    "## 변수를 만드는 여러가지 방법"
   ]
  },
  {
   "cell_type": "code",
   "execution_count": 72,
   "id": "9395974b",
   "metadata": {
    "ExecuteTime": {
     "end_time": "2024-02-28T04:49:00.719753Z",
     "start_time": "2024-02-28T04:49:00.716440Z"
    }
   },
   "outputs": [],
   "source": [
    "a, b = ('python' , 'life')"
   ]
  },
  {
   "cell_type": "code",
   "execution_count": 73,
   "id": "4a977c63",
   "metadata": {
    "ExecuteTime": {
     "end_time": "2024-02-28T04:49:03.876927Z",
     "start_time": "2024-02-28T04:49:03.871945Z"
    }
   },
   "outputs": [
    {
     "data": {
      "text/plain": [
       "'python'"
      ]
     },
     "execution_count": 73,
     "metadata": {},
     "output_type": "execute_result"
    }
   ],
   "source": [
    "a"
   ]
  },
  {
   "cell_type": "code",
   "execution_count": 74,
   "id": "79448aea",
   "metadata": {
    "ExecuteTime": {
     "end_time": "2024-02-28T04:49:06.245148Z",
     "start_time": "2024-02-28T04:49:06.240088Z"
    }
   },
   "outputs": [
    {
     "data": {
      "text/plain": [
       "'life'"
      ]
     },
     "execution_count": 74,
     "metadata": {},
     "output_type": "execute_result"
    }
   ],
   "source": [
    "b"
   ]
  },
  {
   "cell_type": "code",
   "execution_count": 77,
   "id": "2839ff32",
   "metadata": {
    "ExecuteTime": {
     "end_time": "2024-02-28T04:49:49.080906Z",
     "start_time": "2024-02-28T04:49:49.076785Z"
    }
   },
   "outputs": [
    {
     "data": {
      "text/plain": [
       "('python', 'life')"
      ]
     },
     "execution_count": 77,
     "metadata": {},
     "output_type": "execute_result"
    }
   ],
   "source": [
    "(a,b) = 'python' , 'life'\n",
    "a, b"
   ]
  },
  {
   "cell_type": "code",
   "execution_count": 80,
   "id": "1b145ef6",
   "metadata": {
    "ExecuteTime": {
     "end_time": "2024-02-28T04:50:25.294425Z",
     "start_time": "2024-02-28T04:50:25.290364Z"
    }
   },
   "outputs": [
    {
     "data": {
      "text/plain": [
       "('python', 'life')"
      ]
     },
     "execution_count": 80,
     "metadata": {},
     "output_type": "execute_result"
    }
   ],
   "source": [
    "[a,b] = ['python' , 'life']\n",
    "a,b"
   ]
  },
  {
   "cell_type": "code",
   "execution_count": null,
   "id": "53944dcb",
   "metadata": {},
   "outputs": [],
   "source": []
  },
  {
   "cell_type": "code",
   "execution_count": null,
   "id": "40275c5b",
   "metadata": {},
   "outputs": [],
   "source": []
  },
  {
   "cell_type": "code",
   "execution_count": null,
   "id": "d83ff7ce",
   "metadata": {},
   "outputs": [],
   "source": []
  },
  {
   "cell_type": "code",
   "execution_count": null,
   "id": "a97a6a9c",
   "metadata": {},
   "outputs": [],
   "source": []
  },
  {
   "cell_type": "code",
   "execution_count": null,
   "id": "dee1278e",
   "metadata": {},
   "outputs": [],
   "source": []
  },
  {
   "cell_type": "code",
   "execution_count": null,
   "id": "39b5ebf6",
   "metadata": {},
   "outputs": [],
   "source": []
  },
  {
   "cell_type": "code",
   "execution_count": null,
   "id": "0d8be7e3",
   "metadata": {},
   "outputs": [],
   "source": []
  },
  {
   "cell_type": "code",
   "execution_count": null,
   "id": "aa79076d",
   "metadata": {},
   "outputs": [],
   "source": []
  },
  {
   "cell_type": "code",
   "execution_count": null,
   "id": "22311b95",
   "metadata": {},
   "outputs": [],
   "source": []
  },
  {
   "cell_type": "code",
   "execution_count": null,
   "id": "40ce6a01",
   "metadata": {},
   "outputs": [],
   "source": []
  },
  {
   "cell_type": "code",
   "execution_count": null,
   "id": "b14a21c3",
   "metadata": {},
   "outputs": [],
   "source": []
  },
  {
   "cell_type": "code",
   "execution_count": null,
   "id": "00e768a4",
   "metadata": {},
   "outputs": [],
   "source": []
  }
 ],
 "metadata": {
  "kernelspec": {
   "display_name": "Python 3 (ipykernel)",
   "language": "python",
   "name": "python3"
  },
  "language_info": {
   "codemirror_mode": {
    "name": "ipython",
    "version": 3
   },
   "file_extension": ".py",
   "mimetype": "text/x-python",
   "name": "python",
   "nbconvert_exporter": "python",
   "pygments_lexer": "ipython3",
   "version": "3.11.5"
  },
  "toc": {
   "base_numbering": 1,
   "nav_menu": {},
   "number_sections": true,
   "sideBar": true,
   "skip_h1_title": false,
   "title_cell": "Table of Contents",
   "title_sidebar": "Contents",
   "toc_cell": false,
   "toc_position": {},
   "toc_section_display": true,
   "toc_window_display": false
  },
  "varInspector": {
   "cols": {
    "lenName": 16,
    "lenType": 16,
    "lenVar": 40
   },
   "kernels_config": {
    "python": {
     "delete_cmd_postfix": "",
     "delete_cmd_prefix": "del ",
     "library": "var_list.py",
     "varRefreshCmd": "print(var_dic_list())"
    },
    "r": {
     "delete_cmd_postfix": ") ",
     "delete_cmd_prefix": "rm(",
     "library": "var_list.r",
     "varRefreshCmd": "cat(var_dic_list()) "
    }
   },
   "types_to_exclude": [
    "module",
    "function",
    "builtin_function_or_method",
    "instance",
    "_Feature"
   ],
   "window_display": false
  },
  "widgets": {
   "application/vnd.jupyter.widget-state+json": {
    "state": {},
    "version_major": 2,
    "version_minor": 0
   }
  }
 },
 "nbformat": 4,
 "nbformat_minor": 5
}
