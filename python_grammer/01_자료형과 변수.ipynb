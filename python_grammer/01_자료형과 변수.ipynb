{
 "cells": [
  {
   "cell_type": "markdown",
   "id": "b4acafb1",
   "metadata": {
    "heading_collapsed": true
   },
   "source": [
    "# 숫자형"
   ]
  },
  {
   "cell_type": "markdown",
   "id": "56ea05cd",
   "metadata": {
    "heading_collapsed": true,
    "hidden": true
   },
   "source": [
    "## 숫자형은 어떻게 만들고 사용?"
   ]
  },
  {
   "cell_type": "markdown",
   "id": "499d040c",
   "metadata": {
    "hidden": true
   },
   "source": [
    "정수형"
   ]
  },
  {
   "cell_type": "code",
   "execution_count": 164,
   "id": "3cb09803",
   "metadata": {
    "ExecuteTime": {
     "end_time": "2024-03-04T04:21:17.861837Z",
     "start_time": "2024-03-04T04:21:17.857608Z"
    },
    "hidden": true,
    "scrolled": true
   },
   "outputs": [
    {
     "data": {
      "text/plain": [
       "123"
      ]
     },
     "execution_count": 164,
     "metadata": {},
     "output_type": "execute_result"
    }
   ],
   "source": [
    "a = 123\n",
    "a"
   ]
  },
  {
   "cell_type": "code",
   "execution_count": 165,
   "id": "d871a0bc",
   "metadata": {
    "ExecuteTime": {
     "end_time": "2024-03-04T04:21:21.827710Z",
     "start_time": "2024-03-04T04:21:21.823686Z"
    },
    "hidden": true,
    "scrolled": true
   },
   "outputs": [
    {
     "data": {
      "text/plain": [
       "-178"
      ]
     },
     "execution_count": 165,
     "metadata": {},
     "output_type": "execute_result"
    }
   ],
   "source": [
    "a = -178\n",
    "a"
   ]
  },
  {
   "cell_type": "code",
   "execution_count": 167,
   "id": "7a8138e0",
   "metadata": {
    "ExecuteTime": {
     "end_time": "2024-03-04T04:21:48.641171Z",
     "start_time": "2024-03-04T04:21:48.637024Z"
    },
    "hidden": true
   },
   "outputs": [
    {
     "data": {
      "text/plain": [
       "0"
      ]
     },
     "execution_count": 167,
     "metadata": {},
     "output_type": "execute_result"
    }
   ],
   "source": [
    "a = 0\n",
    "a"
   ]
  },
  {
   "cell_type": "markdown",
   "id": "431b12b7",
   "metadata": {
    "hidden": true
   },
   "source": [
    "실수형"
   ]
  },
  {
   "cell_type": "code",
   "execution_count": 168,
   "id": "f3e75aa5",
   "metadata": {
    "ExecuteTime": {
     "end_time": "2024-03-04T04:22:11.736140Z",
     "start_time": "2024-03-04T04:22:11.731353Z"
    },
    "hidden": true,
    "scrolled": true
   },
   "outputs": [
    {
     "data": {
      "text/plain": [
       "1.2"
      ]
     },
     "execution_count": 168,
     "metadata": {},
     "output_type": "execute_result"
    }
   ],
   "source": [
    "a = 1.2\n",
    "a"
   ]
  },
  {
   "cell_type": "code",
   "execution_count": 169,
   "id": "b24e0493",
   "metadata": {
    "ExecuteTime": {
     "end_time": "2024-03-04T04:22:30.149272Z",
     "start_time": "2024-03-04T04:22:30.144229Z"
    },
    "hidden": true,
    "scrolled": true
   },
   "outputs": [
    {
     "data": {
      "text/plain": [
       "-3.45"
      ]
     },
     "execution_count": 169,
     "metadata": {},
     "output_type": "execute_result"
    }
   ],
   "source": [
    "a = -3.45\n",
    "a"
   ]
  },
  {
   "cell_type": "code",
   "execution_count": 170,
   "id": "01a88190",
   "metadata": {
    "ExecuteTime": {
     "end_time": "2024-03-04T04:22:35.849738Z",
     "start_time": "2024-03-04T04:22:35.845660Z"
    },
    "hidden": true,
    "scrolled": true
   },
   "outputs": [
    {
     "data": {
      "text/plain": [
       "42400000000.0"
      ]
     },
     "execution_count": 170,
     "metadata": {},
     "output_type": "execute_result"
    }
   ],
   "source": [
    "a = 4.24E10\n",
    "a"
   ]
  },
  {
   "cell_type": "code",
   "execution_count": 171,
   "id": "d8278bc7",
   "metadata": {
    "ExecuteTime": {
     "end_time": "2024-03-04T04:22:37.747217Z",
     "start_time": "2024-03-04T04:22:37.742234Z"
    },
    "hidden": true,
    "scrolled": true
   },
   "outputs": [
    {
     "data": {
      "text/plain": [
       "4.24e-10"
      ]
     },
     "execution_count": 171,
     "metadata": {},
     "output_type": "execute_result"
    }
   ],
   "source": [
    "a = 4.24e-10\n",
    "a"
   ]
  },
  {
   "cell_type": "markdown",
   "id": "6d5b5beb",
   "metadata": {
    "hidden": true
   },
   "source": [
    "8진수와 16진수"
   ]
  },
  {
   "cell_type": "code",
   "execution_count": 172,
   "id": "c0cb5f22",
   "metadata": {
    "ExecuteTime": {
     "end_time": "2024-03-04T04:22:48.274735Z",
     "start_time": "2024-03-04T04:22:48.269771Z"
    },
    "hidden": true,
    "scrolled": true
   },
   "outputs": [
    {
     "data": {
      "text/plain": [
       "127"
      ]
     },
     "execution_count": 172,
     "metadata": {},
     "output_type": "execute_result"
    }
   ],
   "source": [
    "# 8진수\n",
    "a = 0o177\n",
    "a"
   ]
  },
  {
   "cell_type": "code",
   "execution_count": 173,
   "id": "2bea02aa",
   "metadata": {
    "ExecuteTime": {
     "end_time": "2024-03-04T04:23:12.264997Z",
     "start_time": "2024-03-04T04:23:12.260014Z"
    },
    "hidden": true,
    "scrolled": true
   },
   "outputs": [
    {
     "data": {
      "text/plain": [
       "(2303, 2748)"
      ]
     },
     "execution_count": 173,
     "metadata": {},
     "output_type": "execute_result"
    }
   ],
   "source": [
    "# 16진수\n",
    "a = 0x8ff\n",
    "b = 0xABC\n",
    "a, b"
   ]
  },
  {
   "cell_type": "markdown",
   "id": "d1e67a6d",
   "metadata": {
    "heading_collapsed": true,
    "hidden": true
   },
   "source": [
    "## 숫자형을 활용하기 위한 연산자"
   ]
  },
  {
   "cell_type": "markdown",
   "id": "a36a2e79",
   "metadata": {
    "hidden": true
   },
   "source": [
    "사칙 연산"
   ]
  },
  {
   "cell_type": "code",
   "execution_count": 174,
   "id": "869ed695",
   "metadata": {
    "ExecuteTime": {
     "end_time": "2024-03-04T04:24:09.688986Z",
     "start_time": "2024-03-04T04:24:09.685446Z"
    },
    "hidden": true,
    "scrolled": true
   },
   "outputs": [
    {
     "data": {
      "text/plain": [
       "7"
      ]
     },
     "execution_count": 174,
     "metadata": {},
     "output_type": "execute_result"
    }
   ],
   "source": [
    "a = 3\n",
    "b = 4\n",
    "a + b"
   ]
  },
  {
   "cell_type": "code",
   "execution_count": 175,
   "id": "e7f1bf10",
   "metadata": {
    "ExecuteTime": {
     "end_time": "2024-03-04T04:24:13.379601Z",
     "start_time": "2024-03-04T04:24:13.376755Z"
    },
    "hidden": true,
    "scrolled": true
   },
   "outputs": [
    {
     "data": {
      "text/plain": [
       "-1"
      ]
     },
     "execution_count": 175,
     "metadata": {},
     "output_type": "execute_result"
    }
   ],
   "source": [
    "a - b"
   ]
  },
  {
   "cell_type": "code",
   "execution_count": 176,
   "id": "9bd0502e",
   "metadata": {
    "ExecuteTime": {
     "end_time": "2024-03-04T04:24:16.926900Z",
     "start_time": "2024-03-04T04:24:16.922351Z"
    },
    "hidden": true,
    "scrolled": true
   },
   "outputs": [
    {
     "data": {
      "text/plain": [
       "12"
      ]
     },
     "execution_count": 176,
     "metadata": {},
     "output_type": "execute_result"
    }
   ],
   "source": [
    "a * b"
   ]
  },
  {
   "cell_type": "code",
   "execution_count": 177,
   "id": "09387217",
   "metadata": {
    "ExecuteTime": {
     "end_time": "2024-03-04T04:24:21.727471Z",
     "start_time": "2024-03-04T04:24:21.723363Z"
    },
    "hidden": true,
    "scrolled": true
   },
   "outputs": [
    {
     "data": {
      "text/plain": [
       "0.75"
      ]
     },
     "execution_count": 177,
     "metadata": {},
     "output_type": "execute_result"
    }
   ],
   "source": [
    "a / b"
   ]
  },
  {
   "cell_type": "markdown",
   "id": "e346302f",
   "metadata": {
    "hidden": true
   },
   "source": [
    "** 연산자 : x의 y제곱"
   ]
  },
  {
   "cell_type": "code",
   "execution_count": 178,
   "id": "7139adb9",
   "metadata": {
    "ExecuteTime": {
     "end_time": "2024-03-04T04:25:04.736719Z",
     "start_time": "2024-03-04T04:25:04.732070Z"
    },
    "hidden": true,
    "scrolled": true
   },
   "outputs": [
    {
     "data": {
      "text/plain": [
       "81"
      ]
     },
     "execution_count": 178,
     "metadata": {},
     "output_type": "execute_result"
    }
   ],
   "source": [
    "a = 3\n",
    "b = 4\n",
    "a ** b"
   ]
  },
  {
   "cell_type": "code",
   "execution_count": 179,
   "id": "5d8ff592",
   "metadata": {
    "ExecuteTime": {
     "end_time": "2024-03-04T04:25:25.023188Z",
     "start_time": "2024-03-04T04:25:25.018483Z"
    },
    "hidden": true
   },
   "outputs": [
    {
     "data": {
      "text/plain": [
       "64"
      ]
     },
     "execution_count": 179,
     "metadata": {},
     "output_type": "execute_result"
    }
   ],
   "source": [
    "b ** a"
   ]
  },
  {
   "cell_type": "markdown",
   "id": "eae73210",
   "metadata": {
    "hidden": true
   },
   "source": [
    "% 연산자 : 나눗셈 후 나머지 리턴"
   ]
  },
  {
   "cell_type": "code",
   "execution_count": 180,
   "id": "084eba3d",
   "metadata": {
    "ExecuteTime": {
     "end_time": "2024-03-04T04:26:56.850693Z",
     "start_time": "2024-03-04T04:26:56.845667Z"
    },
    "hidden": true,
    "scrolled": true
   },
   "outputs": [
    {
     "data": {
      "text/plain": [
       "1"
      ]
     },
     "execution_count": 180,
     "metadata": {},
     "output_type": "execute_result"
    }
   ],
   "source": [
    "7 % 3"
   ]
  },
  {
   "cell_type": "code",
   "execution_count": 181,
   "id": "bd8b94e4",
   "metadata": {
    "ExecuteTime": {
     "end_time": "2024-03-04T04:27:26.485181Z",
     "start_time": "2024-03-04T04:27:26.480323Z"
    },
    "hidden": true,
    "scrolled": true
   },
   "outputs": [
    {
     "data": {
      "text/plain": [
       "3"
      ]
     },
     "execution_count": 181,
     "metadata": {},
     "output_type": "execute_result"
    }
   ],
   "source": [
    "3 % 7"
   ]
  },
  {
   "cell_type": "markdown",
   "id": "3da62bf0",
   "metadata": {
    "hidden": true
   },
   "source": [
    "// 연산자 : 나눗셈 후 몫을 리턴"
   ]
  },
  {
   "cell_type": "code",
   "execution_count": 182,
   "id": "b4df45f1",
   "metadata": {
    "ExecuteTime": {
     "end_time": "2024-03-04T04:27:58.091066Z",
     "start_time": "2024-03-04T04:27:58.086578Z"
    },
    "hidden": true,
    "scrolled": true
   },
   "outputs": [
    {
     "data": {
      "text/plain": [
       "1.75"
      ]
     },
     "execution_count": 182,
     "metadata": {},
     "output_type": "execute_result"
    }
   ],
   "source": [
    "7 / 4 #단순 나눗셈"
   ]
  },
  {
   "cell_type": "code",
   "execution_count": 183,
   "id": "571d45c9",
   "metadata": {
    "ExecuteTime": {
     "end_time": "2024-03-04T04:28:07.782590Z",
     "start_time": "2024-03-04T04:28:07.777617Z"
    },
    "hidden": true,
    "scrolled": true
   },
   "outputs": [
    {
     "data": {
      "text/plain": [
       "1"
      ]
     },
     "execution_count": 183,
     "metadata": {},
     "output_type": "execute_result"
    }
   ],
   "source": [
    "7 // 4 #몫만 출력"
   ]
  },
  {
   "cell_type": "code",
   "execution_count": 184,
   "id": "8248ce98",
   "metadata": {
    "ExecuteTime": {
     "end_time": "2024-03-04T04:28:11.521981Z",
     "start_time": "2024-03-04T04:28:11.517632Z"
    },
    "hidden": true,
    "scrolled": true
   },
   "outputs": [
    {
     "data": {
      "text/plain": [
       "2"
      ]
     },
     "execution_count": 184,
     "metadata": {},
     "output_type": "execute_result"
    }
   ],
   "source": [
    "8 // 3"
   ]
  },
  {
   "cell_type": "markdown",
   "id": "c410cf3f",
   "metadata": {},
   "source": [
    "# 문자열 자료형"
   ]
  },
  {
   "cell_type": "markdown",
   "id": "440dedf7",
   "metadata": {},
   "source": [
    "문자열(string, str): 문자, 단어 등으로 구성된 문자들의 집합을 말한다.   \n",
    "```\n",
    "\"Life is too short, You need Python\"\n",
    "\"a\"\n",
    "\"123\"\n",
    "```\n",
    "*모든 예문이 큰따옴표(\")로 둘러싸여 있다.*   \n",
    "‘123은 숫자인데 왜 문자열이지?’라는 의문 => 따옴표로 둘러싸여 있으면 모두 문자열로 보면 됨!"
   ]
  },
  {
   "cell_type": "markdown",
   "id": "dce9fccd",
   "metadata": {},
   "source": [
    "*주의) 파이썬은 대소문자를 구분한다!*"
   ]
  },
  {
   "cell_type": "markdown",
   "id": "7930ee47",
   "metadata": {
    "heading_collapsed": true
   },
   "source": [
    "## 문자열은 어떻게 만들고 사용?"
   ]
  },
  {
   "cell_type": "markdown",
   "id": "9c2bd420",
   "metadata": {
    "hidden": true
   },
   "source": [
    "큰따옴표, 작은따옴표, 큰따옴표3개, 작은따옴표 3개"
   ]
  },
  {
   "cell_type": "code",
   "execution_count": 187,
   "id": "9ea33a7a",
   "metadata": {
    "ExecuteTime": {
     "end_time": "2024-03-04T04:33:06.590005Z",
     "start_time": "2024-03-04T04:33:06.585643Z"
    },
    "hidden": true,
    "scrolled": true
   },
   "outputs": [
    {
     "data": {
      "text/plain": [
       "'Hello World'"
      ]
     },
     "execution_count": 187,
     "metadata": {},
     "output_type": "execute_result"
    }
   ],
   "source": [
    "\"Hello World\""
   ]
  },
  {
   "cell_type": "code",
   "execution_count": 186,
   "id": "8881275b",
   "metadata": {
    "ExecuteTime": {
     "end_time": "2024-03-04T04:32:56.266278Z",
     "start_time": "2024-03-04T04:32:56.261220Z"
    },
    "hidden": true,
    "scrolled": true
   },
   "outputs": [
    {
     "ename": "SyntaxError",
     "evalue": "invalid syntax (3476678686.py, line 1)",
     "output_type": "error",
     "traceback": [
      "\u001b[1;36m  Cell \u001b[1;32mIn[186], line 1\u001b[1;36m\u001b[0m\n\u001b[1;33m    Hello World #따옴표가 없어서 안된다!\u001b[0m\n\u001b[1;37m          ^\u001b[0m\n\u001b[1;31mSyntaxError\u001b[0m\u001b[1;31m:\u001b[0m invalid syntax\n"
     ]
    }
   ],
   "source": [
    "#따옴표가 없어서 안된다!\n",
    "Hello World "
   ]
  },
  {
   "cell_type": "code",
   "execution_count": 188,
   "id": "1fc8ffae",
   "metadata": {
    "ExecuteTime": {
     "end_time": "2024-03-04T04:33:11.523369Z",
     "start_time": "2024-03-04T04:33:11.519348Z"
    },
    "hidden": true,
    "scrolled": true
   },
   "outputs": [
    {
     "data": {
      "text/plain": [
       "'Hello World'"
      ]
     },
     "execution_count": 188,
     "metadata": {},
     "output_type": "execute_result"
    }
   ],
   "source": [
    "'Hello World'"
   ]
  },
  {
   "cell_type": "code",
   "execution_count": 189,
   "id": "02443cd8",
   "metadata": {
    "ExecuteTime": {
     "end_time": "2024-03-04T04:33:13.537874Z",
     "start_time": "2024-03-04T04:33:13.533228Z"
    },
    "hidden": true,
    "scrolled": true
   },
   "outputs": [
    {
     "data": {
      "text/plain": [
       "'Hello World'"
      ]
     },
     "execution_count": 189,
     "metadata": {},
     "output_type": "execute_result"
    }
   ],
   "source": [
    "\"\"\"Hello World\"\"\""
   ]
  },
  {
   "cell_type": "code",
   "execution_count": 190,
   "id": "085b6ea0",
   "metadata": {
    "ExecuteTime": {
     "end_time": "2024-03-04T04:33:33.287919Z",
     "start_time": "2024-03-04T04:33:33.283854Z"
    },
    "hidden": true,
    "scrolled": true
   },
   "outputs": [
    {
     "data": {
      "text/plain": [
       "'Life is too short, You need python'"
      ]
     },
     "execution_count": 190,
     "metadata": {},
     "output_type": "execute_result"
    }
   ],
   "source": [
    "'''Life is too short, You need python'''"
   ]
  },
  {
   "cell_type": "code",
   "execution_count": 194,
   "id": "c468b7da",
   "metadata": {
    "ExecuteTime": {
     "end_time": "2024-03-04T04:34:26.271723Z",
     "start_time": "2024-03-04T04:34:26.267660Z"
    },
    "hidden": true
   },
   "outputs": [
    {
     "data": {
      "text/plain": [
       "'    Hello World    '"
      ]
     },
     "execution_count": 194,
     "metadata": {},
     "output_type": "execute_result"
    }
   ],
   "source": [
    "# 공백도 받는다!\n",
    "'    Hello World    '"
   ]
  },
  {
   "cell_type": "markdown",
   "id": "96daa0e3",
   "metadata": {
    "heading_collapsed": true
   },
   "source": [
    "## 문자열에 작은따옴표/큰따옴표 포함"
   ]
  },
  {
   "cell_type": "markdown",
   "id": "2db7287c",
   "metadata": {
    "hidden": true
   },
   "source": [
    "문자열에 작은 따옴표 포함"
   ]
  },
  {
   "cell_type": "markdown",
   "id": "d5871e03",
   "metadata": {
    "ExecuteTime": {
     "end_time": "2024-03-04T04:35:16.909007Z",
     "start_time": "2024-03-04T04:35:16.904025Z"
    },
    "hidden": true,
    "scrolled": true
   },
   "source": [
    "```\n",
    "pyhton's favorite food is perl\n",
    "```\n",
    "를 출력하고 싶다면 문자열을 큰 따옴표로 둘러쌓자. 작은 따옴표 X!!"
   ]
  },
  {
   "cell_type": "code",
   "execution_count": 199,
   "id": "ab31b988",
   "metadata": {
    "ExecuteTime": {
     "end_time": "2024-03-04T04:37:00.505298Z",
     "start_time": "2024-03-04T04:37:00.501314Z"
    },
    "hidden": true,
    "scrolled": true
   },
   "outputs": [
    {
     "data": {
      "text/plain": [
       "\"python's favorite food is perl\""
      ]
     },
     "execution_count": 199,
     "metadata": {},
     "output_type": "execute_result"
    }
   ],
   "source": [
    "\"python's favorite food is perl\""
   ]
  },
  {
   "cell_type": "code",
   "execution_count": 202,
   "id": "a798f6d8",
   "metadata": {
    "ExecuteTime": {
     "end_time": "2024-03-04T04:39:06.921857Z",
     "start_time": "2024-03-04T04:39:06.917546Z"
    },
    "hidden": true
   },
   "outputs": [
    {
     "data": {
      "text/plain": [
       "\"Python's favorite food is perl\""
      ]
     },
     "execution_count": 202,
     "metadata": {},
     "output_type": "execute_result"
    }
   ],
   "source": [
    "food = \"Python's favorite food is perl\"\n",
    "food"
   ]
  },
  {
   "cell_type": "markdown",
   "id": "468ec75d",
   "metadata": {
    "hidden": true
   },
   "source": [
    "문자열에 큰따옴표 포함하기"
   ]
  },
  {
   "cell_type": "markdown",
   "id": "6f652b51",
   "metadata": {
    "hidden": true,
    "scrolled": true
   },
   "source": [
    "```\n",
    "\"Python is very easy.\" he says.\n",
    "```\n",
    "출력하고 싶으면? -> 작은 따옴표로 둘러싸면 됨!"
   ]
  },
  {
   "cell_type": "code",
   "execution_count": 203,
   "id": "2204a5ed",
   "metadata": {
    "ExecuteTime": {
     "end_time": "2024-03-04T04:40:13.179197Z",
     "start_time": "2024-03-04T04:40:13.174238Z"
    },
    "hidden": true
   },
   "outputs": [
    {
     "data": {
      "text/plain": [
       "'\"Python is very easy.\" he says.'"
      ]
     },
     "execution_count": 203,
     "metadata": {},
     "output_type": "execute_result"
    }
   ],
   "source": [
    "'\"Python is very easy.\" he says.'"
   ]
  },
  {
   "cell_type": "code",
   "execution_count": 204,
   "id": "1047c7e3",
   "metadata": {
    "ExecuteTime": {
     "end_time": "2024-03-04T04:40:28.887676Z",
     "start_time": "2024-03-04T04:40:28.883387Z"
    },
    "hidden": true
   },
   "outputs": [
    {
     "data": {
      "text/plain": [
       "'\"Python is very easy.\" he says.'"
      ]
     },
     "execution_count": 204,
     "metadata": {},
     "output_type": "execute_result"
    }
   ],
   "source": [
    "say = '\"Python is very easy.\" he says.'\n",
    "say"
   ]
  },
  {
   "cell_type": "markdown",
   "id": "ea96b1a6",
   "metadata": {
    "hidden": true
   },
   "source": [
    "역슬래시 사용!\n",
    "<br><br>\n",
    "역슬래시를 *작은따옴표나 큰따옴표 앞에* 삽입하면 역슬래시 뒤의 작은따옴표나 큰따옴표는 문자열을 둘러싸는 기호의 의미가 아니라 '나 \" 자체를 뜻하게 된다."
   ]
  },
  {
   "cell_type": "code",
   "execution_count": 205,
   "id": "c69805ff",
   "metadata": {
    "ExecuteTime": {
     "end_time": "2024-03-04T04:44:00.350838Z",
     "start_time": "2024-03-04T04:44:00.346607Z"
    },
    "hidden": true,
    "scrolled": true
   },
   "outputs": [
    {
     "data": {
      "text/plain": [
       "(\"pyhton's favorite food is perl\", '\"Python is very easy.\" he says.')"
      ]
     },
     "execution_count": 205,
     "metadata": {},
     "output_type": "execute_result"
    }
   ],
   "source": [
    "food = 'pyhton\\'s favorite food is perl'\n",
    "say = \"\\\"Python is very easy.\\\" he says.\"\n",
    "food, say"
   ]
  },
  {
   "cell_type": "code",
   "execution_count": 206,
   "id": "fd0ad969",
   "metadata": {
    "ExecuteTime": {
     "end_time": "2024-03-04T04:44:23.392674Z",
     "start_time": "2024-03-04T04:44:23.388234Z"
    },
    "hidden": true,
    "scrolled": true
   },
   "outputs": [
    {
     "data": {
      "text/plain": [
       "'\"파이썬 누가 쉽데? 겁나 어려움! ㅜ \" 재성이 말했다.'"
      ]
     },
     "execution_count": 206,
     "metadata": {},
     "output_type": "execute_result"
    }
   ],
   "source": [
    "'\\\"파이썬 누가 쉽데? 겁나 어려움! ㅜ \\\" 재성이 말했다.'"
   ]
  },
  {
   "cell_type": "markdown",
   "id": "b8760ed2",
   "metadata": {
    "hidden": true
   },
   "source": [
    "***"
   ]
  },
  {
   "cell_type": "code",
   "execution_count": 207,
   "id": "58ca4551",
   "metadata": {
    "ExecuteTime": {
     "end_time": "2024-03-04T04:45:28.496729Z",
     "start_time": "2024-03-04T04:45:28.491990Z"
    },
    "hidden": true,
    "scrolled": true
   },
   "outputs": [
    {
     "data": {
      "text/plain": [
       "17"
      ]
     },
     "execution_count": 207,
     "metadata": {},
     "output_type": "execute_result"
    }
   ],
   "source": [
    "# 문자열 길이 카운트\n",
    "a = \"life is too short\"\n",
    "len(a)"
   ]
  },
  {
   "cell_type": "markdown",
   "id": "5686fbfe",
   "metadata": {},
   "source": [
    "## 문자열 인덱싱"
   ]
  },
  {
   "cell_type": "code",
   "execution_count": 8,
   "id": "23627a9e",
   "metadata": {
    "ExecuteTime": {
     "end_time": "2024-02-28T01:44:45.296619Z",
     "start_time": "2024-02-28T01:44:45.291158Z"
    },
    "scrolled": true
   },
   "outputs": [
    {
     "data": {
      "text/plain": [
       "' '"
      ]
     },
     "execution_count": 8,
     "metadata": {},
     "output_type": "execute_result"
    }
   ],
   "source": [
    "a = \"Life is too short, You need Python\"\n",
    "a[-7]"
   ]
  },
  {
   "cell_type": "markdown",
   "id": "7062305a",
   "metadata": {},
   "source": [
    "## 문자열 슬라이싱 #end -> +1"
   ]
  },
  {
   "cell_type": "code",
   "execution_count": 10,
   "id": "7f4a8b7b",
   "metadata": {
    "ExecuteTime": {
     "end_time": "2024-02-28T01:45:46.168412Z",
     "start_time": "2024-02-28T01:45:46.163296Z"
    },
    "scrolled": true
   },
   "outputs": [
    {
     "data": {
      "text/plain": [
       "'Life'"
      ]
     },
     "execution_count": 10,
     "metadata": {},
     "output_type": "execute_result"
    }
   ],
   "source": [
    "a = \"Life is too short, You need Python\"\n",
    "b = a[0] + a[1] + a[2] + a[3]\n",
    "b\n",
    "'Life'"
   ]
  },
  {
   "cell_type": "code",
   "execution_count": 19,
   "id": "f323abfa",
   "metadata": {
    "ExecuteTime": {
     "end_time": "2024-02-28T01:49:14.232702Z",
     "start_time": "2024-02-28T01:49:14.227445Z"
    },
    "scrolled": true
   },
   "outputs": [
    {
     "data": {
      "text/plain": [
       "'too short'"
      ]
     },
     "execution_count": 19,
     "metadata": {},
     "output_type": "execute_result"
    }
   ],
   "source": [
    "a = \"Life is too short, You need Python\"\n",
    "a[8:17]"
   ]
  },
  {
   "cell_type": "code",
   "execution_count": 20,
   "id": "9ed29b8e",
   "metadata": {
    "ExecuteTime": {
     "end_time": "2024-02-28T01:50:05.654208Z",
     "start_time": "2024-02-28T01:50:05.648542Z"
    },
    "scrolled": true
   },
   "outputs": [
    {
     "data": {
      "text/plain": [
       "'Life'"
      ]
     },
     "execution_count": 20,
     "metadata": {},
     "output_type": "execute_result"
    }
   ],
   "source": [
    "a[0:4]"
   ]
  },
  {
   "cell_type": "code",
   "execution_count": 21,
   "id": "ae9bbc14",
   "metadata": {
    "ExecuteTime": {
     "end_time": "2024-02-28T01:50:56.396176Z",
     "start_time": "2024-02-28T01:50:56.391039Z"
    }
   },
   "outputs": [
    {
     "data": {
      "text/plain": [
       "False"
      ]
     },
     "execution_count": 21,
     "metadata": {},
     "output_type": "execute_result"
    }
   ],
   "source": [
    "a[0:4] == a[0:5]"
   ]
  },
  {
   "cell_type": "code",
   "execution_count": 22,
   "id": "3ffff79a",
   "metadata": {
    "ExecuteTime": {
     "end_time": "2024-02-28T02:05:11.257978Z",
     "start_time": "2024-02-28T02:05:11.252813Z"
    }
   },
   "outputs": [
    {
     "data": {
      "text/plain": [
       "'You need Python'"
      ]
     },
     "execution_count": 22,
     "metadata": {},
     "output_type": "execute_result"
    }
   ],
   "source": [
    "a[19:]"
   ]
  },
  {
   "cell_type": "code",
   "execution_count": 23,
   "id": "0d54a8b8",
   "metadata": {
    "ExecuteTime": {
     "end_time": "2024-02-28T02:05:39.855360Z",
     "start_time": "2024-02-28T02:05:39.850965Z"
    }
   },
   "outputs": [
    {
     "data": {
      "text/plain": [
       "'Life is too short'"
      ]
     },
     "execution_count": 23,
     "metadata": {},
     "output_type": "execute_result"
    }
   ],
   "source": [
    "a[:17]"
   ]
  },
  {
   "cell_type": "code",
   "execution_count": 24,
   "id": "f06ca41c",
   "metadata": {
    "ExecuteTime": {
     "end_time": "2024-02-28T02:05:45.964959Z",
     "start_time": "2024-02-28T02:05:45.958972Z"
    }
   },
   "outputs": [
    {
     "data": {
      "text/plain": [
       "'Life is too short, You need Python'"
      ]
     },
     "execution_count": 24,
     "metadata": {},
     "output_type": "execute_result"
    }
   ],
   "source": [
    "a[:]"
   ]
  },
  {
   "cell_type": "code",
   "execution_count": 25,
   "id": "bb5d8994",
   "metadata": {
    "ExecuteTime": {
     "end_time": "2024-02-28T02:06:28.131321Z",
     "start_time": "2024-02-28T02:06:28.125265Z"
    }
   },
   "outputs": [
    {
     "data": {
      "text/plain": [
       "'You need'"
      ]
     },
     "execution_count": 25,
     "metadata": {},
     "output_type": "execute_result"
    }
   ],
   "source": [
    "a[19:-7]"
   ]
  },
  {
   "cell_type": "code",
   "execution_count": 29,
   "id": "26bc08c8",
   "metadata": {
    "ExecuteTime": {
     "end_time": "2024-02-28T02:09:05.570162Z",
     "start_time": "2024-02-28T02:09:05.563952Z"
    }
   },
   "outputs": [
    {
     "data": {
      "text/plain": [
       "('20230228', 'Cold')"
      ]
     },
     "execution_count": 29,
     "metadata": {},
     "output_type": "execute_result"
    }
   ],
   "source": [
    "a = \"20230228Cold\"\n",
    "date = a[:8]\n",
    "weather = a[8:]\n",
    "date, weather"
   ]
  },
  {
   "cell_type": "code",
   "execution_count": 30,
   "id": "b9393e95",
   "metadata": {
    "ExecuteTime": {
     "end_time": "2024-02-28T02:09:10.455764Z",
     "start_time": "2024-02-28T02:09:10.448868Z"
    }
   },
   "outputs": [
    {
     "data": {
      "text/plain": [
       "('2023', '0228', '1Cold')"
      ]
     },
     "execution_count": 30,
     "metadata": {},
     "output_type": "execute_result"
    }
   ],
   "source": [
    "a = \"202302281Cold\"\n",
    "year = a[0:4]\n",
    "day = a[4:8]\n",
    "weather = a[8:]\n",
    "year, day, weather"
   ]
  },
  {
   "cell_type": "code",
   "execution_count": 32,
   "id": "36732a19",
   "metadata": {
    "ExecuteTime": {
     "end_time": "2024-02-28T02:10:18.405869Z",
     "start_time": "2024-02-28T02:10:18.389745Z"
    }
   },
   "outputs": [
    {
     "ename": "TypeError",
     "evalue": "'str' object does not support item assignment",
     "output_type": "error",
     "traceback": [
      "\u001b[1;31m---------------------------------------------------------------------------\u001b[0m",
      "\u001b[1;31mTypeError\u001b[0m                                 Traceback (most recent call last)",
      "Cell \u001b[1;32mIn[32], line 3\u001b[0m\n\u001b[0;32m      1\u001b[0m \u001b[38;5;66;03m# 문자열 수정하기\u001b[39;00m\n\u001b[0;32m      2\u001b[0m a \u001b[38;5;241m=\u001b[39m \u001b[38;5;124m'\u001b[39m\u001b[38;5;124mPithon\u001b[39m\u001b[38;5;124m'\u001b[39m\n\u001b[1;32m----> 3\u001b[0m a[\u001b[38;5;241m1\u001b[39m] \u001b[38;5;241m=\u001b[39m \u001b[38;5;124m'\u001b[39m\u001b[38;5;124my\u001b[39m\u001b[38;5;124m'\u001b[39m\n\u001b[0;32m      4\u001b[0m a\n",
      "\u001b[1;31mTypeError\u001b[0m: 'str' object does not support item assignment"
     ]
    }
   ],
   "source": [
    "# 문자열 수정하기 => 문자열은 변경 불가능하다!\n",
    "a = 'Pithon'\n",
    "a[1] = 'y'\n",
    "a"
   ]
  },
  {
   "cell_type": "code",
   "execution_count": 33,
   "id": "c743a1e0",
   "metadata": {
    "ExecuteTime": {
     "end_time": "2024-02-28T02:12:45.644802Z",
     "start_time": "2024-02-28T02:12:45.638577Z"
    }
   },
   "outputs": [
    {
     "data": {
      "text/plain": [
       "('P', 'P')"
      ]
     },
     "execution_count": 33,
     "metadata": {},
     "output_type": "execute_result"
    }
   ],
   "source": [
    "a[0], a[:1]"
   ]
  },
  {
   "cell_type": "code",
   "execution_count": 34,
   "id": "f5611d95",
   "metadata": {
    "ExecuteTime": {
     "end_time": "2024-02-28T02:12:51.910099Z",
     "start_time": "2024-02-28T02:12:51.903891Z"
    }
   },
   "outputs": [
    {
     "data": {
      "text/plain": [
       "'thon'"
      ]
     },
     "execution_count": 34,
     "metadata": {},
     "output_type": "execute_result"
    }
   ],
   "source": [
    "a[2:]"
   ]
  },
  {
   "cell_type": "code",
   "execution_count": 35,
   "id": "aae61077",
   "metadata": {
    "ExecuteTime": {
     "end_time": "2024-02-28T02:13:10.542329Z",
     "start_time": "2024-02-28T02:13:10.537245Z"
    }
   },
   "outputs": [
    {
     "data": {
      "text/plain": [
       "'Python'"
      ]
     },
     "execution_count": 35,
     "metadata": {},
     "output_type": "execute_result"
    }
   ],
   "source": [
    "a[:1] + 'y' + a[2:]"
   ]
  },
  {
   "cell_type": "code",
   "execution_count": 36,
   "id": "72c2f55a",
   "metadata": {
    "ExecuteTime": {
     "end_time": "2024-02-28T02:14:23.822613Z",
     "start_time": "2024-02-28T02:14:23.803068Z"
    }
   },
   "outputs": [
    {
     "ename": "TypeError",
     "evalue": "'str' object does not support item assignment",
     "output_type": "error",
     "traceback": [
      "\u001b[1;31m---------------------------------------------------------------------------\u001b[0m",
      "\u001b[1;31mTypeError\u001b[0m                                 Traceback (most recent call last)",
      "Cell \u001b[1;32mIn[36], line 2\u001b[0m\n\u001b[0;32m      1\u001b[0m a \u001b[38;5;241m=\u001b[39m \u001b[38;5;124m'\u001b[39m\u001b[38;5;124m파이손은 어려워\u001b[39m\u001b[38;5;124m'\u001b[39m\n\u001b[1;32m----> 2\u001b[0m a[\u001b[38;5;241m2\u001b[39m] \u001b[38;5;241m=\u001b[39m \u001b[38;5;124m'\u001b[39m\u001b[38;5;124m썬\u001b[39m\u001b[38;5;124m'\u001b[39m\n\u001b[0;32m      3\u001b[0m a\n",
      "\u001b[1;31mTypeError\u001b[0m: 'str' object does not support item assignment"
     ]
    }
   ],
   "source": [
    "a = '파이손은 어려워'\n",
    "a[2] = '썬'\n",
    "a"
   ]
  },
  {
   "cell_type": "code",
   "execution_count": 38,
   "id": "f2ec6252",
   "metadata": {
    "ExecuteTime": {
     "end_time": "2024-02-28T02:14:58.527399Z",
     "start_time": "2024-02-28T02:14:58.522461Z"
    }
   },
   "outputs": [
    {
     "data": {
      "text/plain": [
       "'파이'"
      ]
     },
     "execution_count": 38,
     "metadata": {},
     "output_type": "execute_result"
    }
   ],
   "source": [
    "a[:2]"
   ]
  },
  {
   "cell_type": "code",
   "execution_count": 39,
   "id": "2c88d955",
   "metadata": {
    "ExecuteTime": {
     "end_time": "2024-02-28T02:15:20.285703Z",
     "start_time": "2024-02-28T02:15:20.280630Z"
    }
   },
   "outputs": [
    {
     "data": {
      "text/plain": [
       "'손은 어려워'"
      ]
     },
     "execution_count": 39,
     "metadata": {},
     "output_type": "execute_result"
    }
   ],
   "source": [
    "a[2:]"
   ]
  },
  {
   "cell_type": "code",
   "execution_count": 41,
   "id": "46c98c74",
   "metadata": {
    "ExecuteTime": {
     "end_time": "2024-02-28T02:16:09.925335Z",
     "start_time": "2024-02-28T02:16:09.920304Z"
    }
   },
   "outputs": [
    {
     "data": {
      "text/plain": [
       "'파이썬은 어려워'"
      ]
     },
     "execution_count": 41,
     "metadata": {},
     "output_type": "execute_result"
    }
   ],
   "source": [
    "a[:2] + '썬' + a[3:]"
   ]
  },
  {
   "cell_type": "markdown",
   "id": "7c304cd8",
   "metadata": {},
   "source": [
    "## 문자열 포매팅"
   ]
  },
  {
   "cell_type": "code",
   "execution_count": 42,
   "id": "ada849ab",
   "metadata": {
    "ExecuteTime": {
     "end_time": "2024-02-28T02:17:19.601370Z",
     "start_time": "2024-02-28T02:17:19.595616Z"
    }
   },
   "outputs": [
    {
     "data": {
      "text/plain": [
       "'I eat 3 apples.'"
      ]
     },
     "execution_count": 42,
     "metadata": {},
     "output_type": "execute_result"
    }
   ],
   "source": [
    "# 숫자 바로 대입하는 방법!\n",
    "\"I eat %d apples.\" %3"
   ]
  },
  {
   "cell_type": "code",
   "execution_count": 51,
   "id": "18827045",
   "metadata": {
    "ExecuteTime": {
     "end_time": "2024-02-28T02:19:23.986505Z",
     "start_time": "2024-02-28T02:19:23.980523Z"
    }
   },
   "outputs": [
    {
     "data": {
      "text/plain": [
       "'I eat five apples.'"
      ]
     },
     "execution_count": 51,
     "metadata": {},
     "output_type": "execute_result"
    }
   ],
   "source": [
    "# 문자열 바로 대입!\n",
    "\"I eat %s apples.\" %\"five\""
   ]
  },
  {
   "cell_type": "code",
   "execution_count": 55,
   "id": "87cb48cb",
   "metadata": {
    "ExecuteTime": {
     "end_time": "2024-02-28T02:20:41.974538Z",
     "start_time": "2024-02-28T02:20:41.968609Z"
    }
   },
   "outputs": [
    {
     "data": {
      "text/plain": [
       "'I eat 3 apples.'"
      ]
     },
     "execution_count": 55,
     "metadata": {},
     "output_type": "execute_result"
    }
   ],
   "source": [
    "# 숫자 값을 나타내는 변수로 대입\n",
    "number = 3\n",
    "\"I eat %d apples.\" %number"
   ]
  },
  {
   "cell_type": "code",
   "execution_count": 58,
   "id": "8bd9f2d0",
   "metadata": {
    "ExecuteTime": {
     "end_time": "2024-02-28T02:21:54.649123Z",
     "start_time": "2024-02-28T02:21:54.643087Z"
    }
   },
   "outputs": [
    {
     "data": {
      "text/plain": [
       "'I ate 10 apples. so I was sick for three days.'"
      ]
     },
     "execution_count": 58,
     "metadata": {},
     "output_type": "execute_result"
    }
   ],
   "source": [
    "number = 10\n",
    "day = \"three\"\n",
    "\"I ate %d apples. so I was sick for %s days.\" % (number, day)"
   ]
  },
  {
   "cell_type": "code",
   "execution_count": 59,
   "id": "05df6c70",
   "metadata": {
    "ExecuteTime": {
     "end_time": "2024-02-28T02:23:18.832347Z",
     "start_time": "2024-02-28T02:23:18.826366Z"
    }
   },
   "outputs": [
    {
     "data": {
      "text/plain": [
       "'I eat 3 apples.'"
      ]
     },
     "execution_count": 59,
     "metadata": {},
     "output_type": "execute_result"
    }
   ],
   "source": [
    "\"I eat %s apples.\" %3 # 문자열은 숫자를 강제로 문자로 변환한다."
   ]
  },
  {
   "cell_type": "code",
   "execution_count": 61,
   "id": "72861eb1",
   "metadata": {
    "ExecuteTime": {
     "end_time": "2024-02-28T02:27:01.705588Z",
     "start_time": "2024-02-28T02:27:01.700660Z"
    }
   },
   "outputs": [
    {
     "data": {
      "text/plain": [
       "'오늘의 습도는 65%입니다.'"
      ]
     },
     "execution_count": 61,
     "metadata": {},
     "output_type": "execute_result"
    }
   ],
   "source": [
    "\"오늘의 습도는 %d%%입니다.\" %65"
   ]
  },
  {
   "cell_type": "markdown",
   "id": "f3c57904",
   "metadata": {},
   "source": [
    "## 소수점 표현하기"
   ]
  },
  {
   "cell_type": "code",
   "execution_count": 62,
   "id": "ee7bb240",
   "metadata": {
    "ExecuteTime": {
     "end_time": "2024-02-28T02:31:06.702150Z",
     "start_time": "2024-02-28T02:31:06.697093Z"
    }
   },
   "outputs": [
    {
     "data": {
      "text/plain": [
       "'3.4213'"
      ]
     },
     "execution_count": 62,
     "metadata": {},
     "output_type": "execute_result"
    }
   ],
   "source": [
    "\"%0.4f\" %3.42134435"
   ]
  },
  {
   "cell_type": "code",
   "execution_count": 63,
   "id": "75d04225",
   "metadata": {
    "ExecuteTime": {
     "end_time": "2024-02-28T02:31:27.364909Z",
     "start_time": "2024-02-28T02:31:27.357873Z"
    }
   },
   "outputs": [
    {
     "data": {
      "text/plain": [
       "'    3.4213'"
      ]
     },
     "execution_count": 63,
     "metadata": {},
     "output_type": "execute_result"
    }
   ],
   "source": [
    "\"%10.4f\" %3.42134435"
   ]
  },
  {
   "cell_type": "markdown",
   "id": "582eba23",
   "metadata": {},
   "source": [
    "### format 함수를 사용한 포맷팅"
   ]
  },
  {
   "cell_type": "code",
   "execution_count": 64,
   "id": "1b36e64c",
   "metadata": {
    "ExecuteTime": {
     "end_time": "2024-02-28T02:33:04.475096Z",
     "start_time": "2024-02-28T02:33:04.469666Z"
    }
   },
   "outputs": [
    {
     "data": {
      "text/plain": [
       "'I eat 3 apples'"
      ]
     },
     "execution_count": 64,
     "metadata": {},
     "output_type": "execute_result"
    }
   ],
   "source": [
    "\"I eat {0} apples\".format(3)"
   ]
  },
  {
   "cell_type": "code",
   "execution_count": 67,
   "id": "26402b2d",
   "metadata": {
    "ExecuteTime": {
     "end_time": "2024-02-28T02:34:19.588589Z",
     "start_time": "2024-02-28T02:34:19.583178Z"
    }
   },
   "outputs": [
    {
     "data": {
      "text/plain": [
       "'I eat 3 apples'"
      ]
     },
     "execution_count": 67,
     "metadata": {},
     "output_type": "execute_result"
    }
   ],
   "source": [
    "\"I eat {0} apples\".format(3)"
   ]
  },
  {
   "cell_type": "code",
   "execution_count": 69,
   "id": "c3164224",
   "metadata": {
    "ExecuteTime": {
     "end_time": "2024-02-28T02:34:41.108472Z",
     "start_time": "2024-02-28T02:34:41.102288Z"
    }
   },
   "outputs": [
    {
     "data": {
      "text/plain": [
       "'I eat five apples'"
      ]
     },
     "execution_count": 69,
     "metadata": {},
     "output_type": "execute_result"
    }
   ],
   "source": [
    "\"I eat {} apples\".format('five')"
   ]
  },
  {
   "cell_type": "code",
   "execution_count": 70,
   "id": "29cbb360",
   "metadata": {
    "ExecuteTime": {
     "end_time": "2024-02-28T02:35:14.535170Z",
     "start_time": "2024-02-28T02:35:14.529190Z"
    }
   },
   "outputs": [
    {
     "data": {
      "text/plain": [
       "'I eat 10 apples'"
      ]
     },
     "execution_count": 70,
     "metadata": {},
     "output_type": "execute_result"
    }
   ],
   "source": [
    "number = 10\n",
    "\"I eat {0} apples\".format(number)"
   ]
  },
  {
   "cell_type": "code",
   "execution_count": 78,
   "id": "e6653317",
   "metadata": {
    "ExecuteTime": {
     "end_time": "2024-02-28T02:38:12.170884Z",
     "start_time": "2024-02-28T02:38:12.165013Z"
    }
   },
   "outputs": [
    {
     "data": {
      "text/plain": [
       "'I ate 10 apples. so I was sick for three days.'"
      ]
     },
     "execution_count": 78,
     "metadata": {},
     "output_type": "execute_result"
    }
   ],
   "source": [
    "number = 10\n",
    "day = \"three\"\n",
    "\"I ate {0} apples. so I was sick for {1} days.\".format(number, day)"
   ]
  },
  {
   "cell_type": "code",
   "execution_count": 75,
   "id": "b4f3e8b7",
   "metadata": {
    "ExecuteTime": {
     "end_time": "2024-02-28T02:37:17.432013Z",
     "start_time": "2024-02-28T02:37:17.425591Z"
    }
   },
   "outputs": [
    {
     "data": {
      "text/plain": [
       "'I ate 10 apples. so I was sick for 3 days.'"
      ]
     },
     "execution_count": 75,
     "metadata": {},
     "output_type": "execute_result"
    }
   ],
   "source": [
    " \"I ate {number} apples. so I was sick for {day} days.\".format(number=10, day=3)"
   ]
  },
  {
   "cell_type": "code",
   "execution_count": 79,
   "id": "927ebda2",
   "metadata": {
    "ExecuteTime": {
     "end_time": "2024-02-28T02:39:08.888867Z",
     "start_time": "2024-02-28T02:39:08.883700Z"
    }
   },
   "outputs": [
    {
     "data": {
      "text/plain": [
       "'I ate 10 apples. so I was sick for 3 days.'"
      ]
     },
     "execution_count": 79,
     "metadata": {},
     "output_type": "execute_result"
    }
   ],
   "source": [
    "\"I ate {0} apples. so I was sick for {day} days.\".format(10, day=3)"
   ]
  },
  {
   "cell_type": "markdown",
   "id": "d248281f",
   "metadata": {},
   "source": [
    "## 소수점 표현하기"
   ]
  },
  {
   "cell_type": "code",
   "execution_count": 80,
   "id": "c451e756",
   "metadata": {
    "ExecuteTime": {
     "end_time": "2024-02-28T02:40:45.046771Z",
     "start_time": "2024-02-28T02:40:45.041628Z"
    }
   },
   "outputs": [
    {
     "data": {
      "text/plain": [
       "'3.4213'"
      ]
     },
     "execution_count": 80,
     "metadata": {},
     "output_type": "execute_result"
    }
   ],
   "source": [
    "y = 3.42134234\n",
    "\"{0:0.4f}\".format(y)"
   ]
  },
  {
   "cell_type": "markdown",
   "id": "0a29c9cc",
   "metadata": {},
   "source": [
    "## f문자열 포매팅(강추!!)"
   ]
  },
  {
   "cell_type": "code",
   "execution_count": 82,
   "id": "589ae7c4",
   "metadata": {
    "ExecuteTime": {
     "end_time": "2024-02-28T02:41:47.640234Z",
     "start_time": "2024-02-28T02:41:47.635722Z"
    }
   },
   "outputs": [
    {
     "data": {
      "text/plain": [
       "'나의 이름은 홍길동입니다. 나이는 30입니다.'"
      ]
     },
     "execution_count": 82,
     "metadata": {},
     "output_type": "execute_result"
    }
   ],
   "source": [
    "name = '홍길동'\n",
    "age = 30\n",
    "f'나의 이름은 {name}입니다. 나이는 {age}입니다.'"
   ]
  },
  {
   "cell_type": "code",
   "execution_count": 85,
   "id": "5fe4ede8",
   "metadata": {
    "ExecuteTime": {
     "end_time": "2024-02-28T02:43:05.124133Z",
     "start_time": "2024-02-28T02:43:05.119148Z"
    }
   },
   "outputs": [
    {
     "data": {
      "text/plain": [
       "'나는 내년이면 31살이 된다.'"
      ]
     },
     "execution_count": 85,
     "metadata": {},
     "output_type": "execute_result"
    }
   ],
   "source": [
    "age = 30\n",
    "f'나는 내년이면 {age + 1}살이 된다.'"
   ]
  },
  {
   "cell_type": "code",
   "execution_count": 86,
   "id": "958aaa1a",
   "metadata": {
    "ExecuteTime": {
     "end_time": "2024-02-28T02:43:47.394333Z",
     "start_time": "2024-02-28T02:43:47.388354Z"
    }
   },
   "outputs": [
    {
     "data": {
      "text/plain": [
       "'나의 이름은 홍길동입니다. 나이는 30입니다.'"
      ]
     },
     "execution_count": 86,
     "metadata": {},
     "output_type": "execute_result"
    }
   ],
   "source": [
    "d = {'name':'홍길동', 'age':30}\n",
    "f'나의 이름은 {d[\"name\"]}입니다. 나이는 {d[\"age\"]}입니다.'"
   ]
  },
  {
   "cell_type": "markdown",
   "id": "c9ad76a5",
   "metadata": {},
   "source": [
    "## 문자열 관련 함수들"
   ]
  },
  {
   "cell_type": "code",
   "execution_count": 87,
   "id": "d745f180",
   "metadata": {
    "ExecuteTime": {
     "end_time": "2024-02-28T02:45:08.182709Z",
     "start_time": "2024-02-28T02:45:08.177962Z"
    }
   },
   "outputs": [
    {
     "data": {
      "text/plain": [
       "2"
      ]
     },
     "execution_count": 87,
     "metadata": {},
     "output_type": "execute_result"
    }
   ],
   "source": [
    "# 문자 개수 세기 count\n",
    "a = \"hobby\"\n",
    "a.count('b')"
   ]
  },
  {
   "cell_type": "code",
   "execution_count": 90,
   "id": "9a464933",
   "metadata": {
    "ExecuteTime": {
     "end_time": "2024-02-28T02:46:38.965666Z",
     "start_time": "2024-02-28T02:46:38.959686Z"
    }
   },
   "outputs": [
    {
     "data": {
      "text/plain": [
       "14"
      ]
     },
     "execution_count": 90,
     "metadata": {},
     "output_type": "execute_result"
    }
   ],
   "source": [
    "# 위치 알려주기 find\n",
    "a = \"Python is the best choice\"\n",
    "a.find('b')"
   ]
  },
  {
   "cell_type": "code",
   "execution_count": 89,
   "id": "777e0b95",
   "metadata": {
    "ExecuteTime": {
     "end_time": "2024-02-28T02:46:28.987981Z",
     "start_time": "2024-02-28T02:46:28.981987Z"
    }
   },
   "outputs": [
    {
     "data": {
      "text/plain": [
       "-1"
      ]
     },
     "execution_count": 89,
     "metadata": {},
     "output_type": "execute_result"
    }
   ],
   "source": [
    "a = \"Python is the best choice\"\n",
    "a.find('k')"
   ]
  },
  {
   "cell_type": "code",
   "execution_count": 91,
   "id": "2f3d6683",
   "metadata": {
    "ExecuteTime": {
     "end_time": "2024-02-28T02:47:10.672140Z",
     "start_time": "2024-02-28T02:47:10.666139Z"
    }
   },
   "outputs": [
    {
     "data": {
      "text/plain": [
       "8"
      ]
     },
     "execution_count": 91,
     "metadata": {},
     "output_type": "execute_result"
    }
   ],
   "source": [
    "# 위치 알려주기 index\n",
    "a = \"Life is too short\"\n",
    "a.index('t')"
   ]
  },
  {
   "cell_type": "code",
   "execution_count": 93,
   "id": "7aa6eada",
   "metadata": {
    "ExecuteTime": {
     "end_time": "2024-02-28T02:47:37.565896Z",
     "start_time": "2024-02-28T02:47:37.548676Z"
    }
   },
   "outputs": [
    {
     "ename": "ValueError",
     "evalue": "substring not found",
     "output_type": "error",
     "traceback": [
      "\u001b[1;31m---------------------------------------------------------------------------\u001b[0m",
      "\u001b[1;31mValueError\u001b[0m                                Traceback (most recent call last)",
      "Cell \u001b[1;32mIn[93], line 1\u001b[0m\n\u001b[1;32m----> 1\u001b[0m a\u001b[38;5;241m.\u001b[39mindex(\u001b[38;5;124m'\u001b[39m\u001b[38;5;124mk\u001b[39m\u001b[38;5;124m'\u001b[39m)\n",
      "\u001b[1;31mValueError\u001b[0m: substring not found"
     ]
    }
   ],
   "source": [
    "a.index('k') # 에러가 난다!"
   ]
  },
  {
   "cell_type": "markdown",
   "id": "6ff30fc2",
   "metadata": {},
   "source": [
    "find 와 index는 사용 환경에 따라 다르다(프로그래밍적 사고!)   \n",
    "정보가 없어도 계속 동작이 되어야해! -> 멈추면 안돼 => find   \n",
    "에러를 확인해야해! 에러가 나면 크리티컬한 오류야! => index"
   ]
  },
  {
   "cell_type": "code",
   "execution_count": 94,
   "id": "199561cc",
   "metadata": {
    "ExecuteTime": {
     "end_time": "2024-02-28T02:49:48.805419Z",
     "start_time": "2024-02-28T02:49:48.799710Z"
    }
   },
   "outputs": [
    {
     "data": {
      "text/plain": [
       "'abcd'"
      ]
     },
     "execution_count": 94,
     "metadata": {},
     "output_type": "execute_result"
    }
   ],
   "source": [
    "# 문자열 삽입 join\n",
    "a = 'abcd'\n",
    "a"
   ]
  },
  {
   "cell_type": "code",
   "execution_count": 96,
   "id": "c0bdad44",
   "metadata": {
    "ExecuteTime": {
     "end_time": "2024-02-28T02:50:31.833247Z",
     "start_time": "2024-02-28T02:50:31.827099Z"
    }
   },
   "outputs": [
    {
     "data": {
      "text/plain": [
       "'a,b,c,d'"
      ]
     },
     "execution_count": 96,
     "metadata": {},
     "output_type": "execute_result"
    }
   ],
   "source": [
    "\",\".join(a)"
   ]
  },
  {
   "cell_type": "code",
   "execution_count": 1,
   "id": "d4759102",
   "metadata": {
    "ExecuteTime": {
     "end_time": "2024-02-28T04:02:44.245319Z",
     "start_time": "2024-02-28T04:02:44.239427Z"
    }
   },
   "outputs": [
    {
     "data": {
      "text/plain": [
       "['a', 'b', 'c', 'd']"
      ]
     },
     "execution_count": 1,
     "metadata": {},
     "output_type": "execute_result"
    }
   ],
   "source": [
    "a = ['a', 'b', 'c', 'd']\n",
    "a"
   ]
  },
  {
   "cell_type": "code",
   "execution_count": 16,
   "id": "69de25da",
   "metadata": {
    "ExecuteTime": {
     "end_time": "2024-02-28T04:07:51.208962Z",
     "start_time": "2024-02-28T04:07:51.204649Z"
    }
   },
   "outputs": [
    {
     "data": {
      "text/plain": [
       "'HELLO WORLD'"
      ]
     },
     "execution_count": 16,
     "metadata": {},
     "output_type": "execute_result"
    }
   ],
   "source": [
    "# 소문자를 대문자로 바꾸기 upper / ()의 유무는 함수나 객체냐의 차이\n",
    "a = 'hello world'\n",
    "a.upper()"
   ]
  },
  {
   "cell_type": "code",
   "execution_count": 17,
   "id": "4fd0a904",
   "metadata": {
    "ExecuteTime": {
     "end_time": "2024-02-28T04:08:25.912051Z",
     "start_time": "2024-02-28T04:08:25.908108Z"
    }
   },
   "outputs": [
    {
     "name": "stdout",
     "output_type": "stream",
     "text": [
      "Help on built-in function print in module builtins:\n",
      "\n",
      "print(*args, sep=' ', end='\\n', file=None, flush=False)\n",
      "    Prints the values to a stream, or to sys.stdout by default.\n",
      "    \n",
      "    sep\n",
      "      string inserted between values, default a space.\n",
      "    end\n",
      "      string appended after the last value, default a newline.\n",
      "    file\n",
      "      a file-like object (stream); defaults to the current sys.stdout.\n",
      "    flush\n",
      "      whether to forcibly flush the stream.\n",
      "\n"
     ]
    }
   ],
   "source": [
    "help(print)"
   ]
  },
  {
   "cell_type": "code",
   "execution_count": 19,
   "id": "979e7b62",
   "metadata": {
    "ExecuteTime": {
     "end_time": "2024-02-28T04:10:34.315997Z",
     "start_time": "2024-02-28T04:10:34.310220Z"
    }
   },
   "outputs": [
    {
     "data": {
      "text/plain": [
       "'hello world'"
      ]
     },
     "execution_count": 19,
     "metadata": {},
     "output_type": "execute_result"
    }
   ],
   "source": [
    "a = 'HELLO WORLD'\n",
    "a.lower()"
   ]
  },
  {
   "cell_type": "code",
   "execution_count": 20,
   "id": "ad506742",
   "metadata": {
    "ExecuteTime": {
     "end_time": "2024-02-28T04:11:10.757424Z",
     "start_time": "2024-02-28T04:11:10.752441Z"
    }
   },
   "outputs": [
    {
     "data": {
      "text/plain": [
       "'HELLO WORLD'"
      ]
     },
     "execution_count": 20,
     "metadata": {},
     "output_type": "execute_result"
    }
   ],
   "source": [
    "a"
   ]
  },
  {
   "cell_type": "code",
   "execution_count": 23,
   "id": "6112cf5c",
   "metadata": {
    "ExecuteTime": {
     "end_time": "2024-02-28T04:12:03.323316Z",
     "start_time": "2024-02-28T04:12:03.317334Z"
    }
   },
   "outputs": [
    {
     "data": {
      "text/plain": [
       "'   hi   '"
      ]
     },
     "execution_count": 23,
     "metadata": {},
     "output_type": "execute_result"
    }
   ],
   "source": [
    "# 왼쪽 공백 지우기 lstrip\n",
    "a = '   hi   '\n",
    "a"
   ]
  },
  {
   "cell_type": "code",
   "execution_count": 24,
   "id": "8c19ba20",
   "metadata": {
    "ExecuteTime": {
     "end_time": "2024-02-28T04:12:17.198442Z",
     "start_time": "2024-02-28T04:12:17.192729Z"
    }
   },
   "outputs": [
    {
     "data": {
      "text/plain": [
       "'hi   '"
      ]
     },
     "execution_count": 24,
     "metadata": {},
     "output_type": "execute_result"
    }
   ],
   "source": [
    "a.lstrip()"
   ]
  },
  {
   "cell_type": "code",
   "execution_count": 26,
   "id": "219a4209",
   "metadata": {
    "ExecuteTime": {
     "end_time": "2024-02-28T04:12:27.130925Z",
     "start_time": "2024-02-28T04:12:27.124235Z"
    }
   },
   "outputs": [
    {
     "data": {
      "text/plain": [
       "'   hi'"
      ]
     },
     "execution_count": 26,
     "metadata": {},
     "output_type": "execute_result"
    }
   ],
   "source": [
    "a.rstrip()"
   ]
  },
  {
   "cell_type": "code",
   "execution_count": 30,
   "id": "c4c3abea",
   "metadata": {
    "ExecuteTime": {
     "end_time": "2024-02-28T04:12:49.710097Z",
     "start_time": "2024-02-28T04:12:49.706024Z"
    }
   },
   "outputs": [
    {
     "data": {
      "text/plain": [
       "'hi'"
      ]
     },
     "execution_count": 30,
     "metadata": {},
     "output_type": "execute_result"
    }
   ],
   "source": [
    "a.strip()"
   ]
  },
  {
   "cell_type": "markdown",
   "id": "0791ab72",
   "metadata": {},
   "source": [
    "## 문자열 바꾸기"
   ]
  },
  {
   "cell_type": "code",
   "execution_count": 32,
   "id": "689a7d2d",
   "metadata": {
    "ExecuteTime": {
     "end_time": "2024-02-28T04:13:49.801887Z",
     "start_time": "2024-02-28T04:13:49.796717Z"
    }
   },
   "outputs": [],
   "source": [
    "a = \"Life is too short\"\n",
    "a.replace?"
   ]
  },
  {
   "cell_type": "code",
   "execution_count": 33,
   "id": "6e1befc7",
   "metadata": {
    "ExecuteTime": {
     "end_time": "2024-02-28T04:14:12.141483Z",
     "start_time": "2024-02-28T04:14:12.136421Z"
    }
   },
   "outputs": [
    {
     "data": {
      "text/plain": [
       "'Your leg is too short'"
      ]
     },
     "execution_count": 33,
     "metadata": {},
     "output_type": "execute_result"
    }
   ],
   "source": [
    "a.replace(\"Life\", \"Your leg\")"
   ]
  },
  {
   "cell_type": "markdown",
   "id": "3c6a3a9c",
   "metadata": {},
   "source": [
    "## 문자열 나누기 split"
   ]
  },
  {
   "cell_type": "code",
   "execution_count": 35,
   "id": "f0a6100e",
   "metadata": {
    "ExecuteTime": {
     "end_time": "2024-02-28T04:15:30.955492Z",
     "start_time": "2024-02-28T04:15:30.950503Z"
    }
   },
   "outputs": [
    {
     "data": {
      "text/plain": [
       "['Life', 'is', 'too', 'short']"
      ]
     },
     "execution_count": 35,
     "metadata": {},
     "output_type": "execute_result"
    }
   ],
   "source": [
    "a = \"Life is too short\"\n",
    "a.split()"
   ]
  },
  {
   "cell_type": "code",
   "execution_count": 41,
   "id": "7430ab04",
   "metadata": {
    "ExecuteTime": {
     "end_time": "2024-02-28T04:16:24.751576Z",
     "start_time": "2024-02-28T04:16:24.747092Z"
    }
   },
   "outputs": [],
   "source": [
    "a.split?"
   ]
  },
  {
   "cell_type": "code",
   "execution_count": 42,
   "id": "0f0918ed",
   "metadata": {
    "ExecuteTime": {
     "end_time": "2024-02-28T04:17:22.751928Z",
     "start_time": "2024-02-28T04:17:22.745101Z"
    }
   },
   "outputs": [
    {
     "data": {
      "text/plain": [
       "['a', 'b', 'c', 'd']"
      ]
     },
     "execution_count": 42,
     "metadata": {},
     "output_type": "execute_result"
    }
   ],
   "source": [
    "b = \"a:b:c:d\"\n",
    "b.split(':')"
   ]
  },
  {
   "cell_type": "markdown",
   "id": "5234f37c",
   "metadata": {},
   "source": [
    "## 02-8 변수"
   ]
  },
  {
   "cell_type": "code",
   "execution_count": 45,
   "id": "a38b597f",
   "metadata": {
    "ExecuteTime": {
     "end_time": "2024-02-28T04:19:16.304488Z",
     "start_time": "2024-02-28T04:19:16.299505Z"
    }
   },
   "outputs": [
    {
     "data": {
      "text/plain": [
       "(1, int)"
      ]
     },
     "execution_count": 45,
     "metadata": {},
     "output_type": "execute_result"
    }
   ],
   "source": [
    "a = 1\n",
    "a, type(a)"
   ]
  },
  {
   "cell_type": "code",
   "execution_count": 46,
   "id": "5853ab6c",
   "metadata": {
    "ExecuteTime": {
     "end_time": "2024-02-28T04:19:37.946402Z",
     "start_time": "2024-02-28T04:19:37.941419Z"
    }
   },
   "outputs": [
    {
     "data": {
      "text/plain": [
       "('python', str)"
      ]
     },
     "execution_count": 46,
     "metadata": {},
     "output_type": "execute_result"
    }
   ],
   "source": [
    "b = 'python'\n",
    "b,type(b)"
   ]
  },
  {
   "cell_type": "code",
   "execution_count": 48,
   "id": "47036f42",
   "metadata": {
    "ExecuteTime": {
     "end_time": "2024-02-28T04:20:12.633532Z",
     "start_time": "2024-02-28T04:20:12.628451Z"
    }
   },
   "outputs": [
    {
     "data": {
      "text/plain": [
       "([1, 2, 3], list)"
      ]
     },
     "execution_count": 48,
     "metadata": {},
     "output_type": "execute_result"
    }
   ],
   "source": [
    "c = [1, 2, 3]\n",
    "c, type(c)"
   ]
  },
  {
   "cell_type": "code",
   "execution_count": 49,
   "id": "2f8f3fbd",
   "metadata": {
    "ExecuteTime": {
     "end_time": "2024-02-28T04:20:23.003983Z",
     "start_time": "2024-02-28T04:20:22.999000Z"
    }
   },
   "outputs": [
    {
     "data": {
      "text/plain": [
       "140715900310312"
      ]
     },
     "execution_count": 49,
     "metadata": {},
     "output_type": "execute_result"
    }
   ],
   "source": [
    "id(a)"
   ]
  },
  {
   "cell_type": "code",
   "execution_count": 53,
   "id": "37c5f972",
   "metadata": {
    "ExecuteTime": {
     "end_time": "2024-02-28T04:25:03.191476Z",
     "start_time": "2024-02-28T04:25:03.186493Z"
    }
   },
   "outputs": [
    {
     "data": {
      "text/plain": [
       "[1, 2, 3]"
      ]
     },
     "execution_count": 53,
     "metadata": {},
     "output_type": "execute_result"
    }
   ],
   "source": [
    "# 문자열 복사\n",
    "a = [1, 2, 3]\n",
    "b = a \n",
    "b"
   ]
  },
  {
   "cell_type": "code",
   "execution_count": 54,
   "id": "a52901f4",
   "metadata": {
    "ExecuteTime": {
     "end_time": "2024-02-28T04:25:07.249045Z",
     "start_time": "2024-02-28T04:25:07.244152Z"
    }
   },
   "outputs": [
    {
     "data": {
      "text/plain": [
       "(2305672474880, 2305672474880)"
      ]
     },
     "execution_count": 54,
     "metadata": {},
     "output_type": "execute_result"
    }
   ],
   "source": [
    "id(a), id(b)"
   ]
  },
  {
   "cell_type": "code",
   "execution_count": 55,
   "id": "1e77ca28",
   "metadata": {
    "ExecuteTime": {
     "end_time": "2024-02-28T04:25:43.766370Z",
     "start_time": "2024-02-28T04:25:43.763385Z"
    }
   },
   "outputs": [],
   "source": [
    "del b"
   ]
  },
  {
   "cell_type": "code",
   "execution_count": 56,
   "id": "b3a1076a",
   "metadata": {
    "ExecuteTime": {
     "end_time": "2024-02-28T04:25:49.972266Z",
     "start_time": "2024-02-28T04:25:49.967286Z"
    }
   },
   "outputs": [
    {
     "data": {
      "text/plain": [
       "[1, 2, 3]"
      ]
     },
     "execution_count": 56,
     "metadata": {},
     "output_type": "execute_result"
    }
   ],
   "source": [
    "a"
   ]
  },
  {
   "cell_type": "code",
   "execution_count": 57,
   "id": "16a1a6be",
   "metadata": {
    "ExecuteTime": {
     "end_time": "2024-02-28T04:25:52.800888Z",
     "start_time": "2024-02-28T04:25:52.782366Z"
    }
   },
   "outputs": [
    {
     "ename": "NameError",
     "evalue": "name 'b' is not defined",
     "output_type": "error",
     "traceback": [
      "\u001b[1;31m---------------------------------------------------------------------------\u001b[0m",
      "\u001b[1;31mNameError\u001b[0m                                 Traceback (most recent call last)",
      "Cell \u001b[1;32mIn[57], line 1\u001b[0m\n\u001b[1;32m----> 1\u001b[0m b\n",
      "\u001b[1;31mNameError\u001b[0m: name 'b' is not defined"
     ]
    }
   ],
   "source": [
    "b"
   ]
  },
  {
   "cell_type": "code",
   "execution_count": 58,
   "id": "4c22df30",
   "metadata": {
    "ExecuteTime": {
     "end_time": "2024-02-28T04:26:24.890171Z",
     "start_time": "2024-02-28T04:26:24.885372Z"
    }
   },
   "outputs": [
    {
     "data": {
      "text/plain": [
       "[1, 2, 3]"
      ]
     },
     "execution_count": 58,
     "metadata": {},
     "output_type": "execute_result"
    }
   ],
   "source": [
    "a"
   ]
  },
  {
   "cell_type": "code",
   "execution_count": 59,
   "id": "0cae1a62",
   "metadata": {
    "ExecuteTime": {
     "end_time": "2024-02-28T04:26:31.550872Z",
     "start_time": "2024-02-28T04:26:31.546582Z"
    }
   },
   "outputs": [
    {
     "data": {
      "text/plain": [
       "[1, 4, 3]"
      ]
     },
     "execution_count": 59,
     "metadata": {},
     "output_type": "execute_result"
    }
   ],
   "source": [
    "a[1] = 4\n",
    "a"
   ]
  },
  {
   "cell_type": "code",
   "execution_count": 60,
   "id": "d12eddde",
   "metadata": {
    "ExecuteTime": {
     "end_time": "2024-02-28T04:27:24.126041Z",
     "start_time": "2024-02-28T04:27:24.122121Z"
    }
   },
   "outputs": [],
   "source": [
    "a = [1, 2, 3]\n",
    "b = a "
   ]
  },
  {
   "cell_type": "code",
   "execution_count": 61,
   "id": "55713a2c",
   "metadata": {
    "ExecuteTime": {
     "end_time": "2024-02-28T04:27:32.504201Z",
     "start_time": "2024-02-28T04:27:32.500160Z"
    }
   },
   "outputs": [
    {
     "data": {
      "text/plain": [
       "(2305666426240, 2305666426240)"
      ]
     },
     "execution_count": 61,
     "metadata": {},
     "output_type": "execute_result"
    }
   ],
   "source": [
    "id(a), id(b)"
   ]
  },
  {
   "cell_type": "code",
   "execution_count": 62,
   "id": "53300ade",
   "metadata": {
    "ExecuteTime": {
     "end_time": "2024-02-28T04:27:45.085638Z",
     "start_time": "2024-02-28T04:27:45.080656Z"
    }
   },
   "outputs": [
    {
     "data": {
      "text/plain": [
       "[1, 4, 3]"
      ]
     },
     "execution_count": 62,
     "metadata": {},
     "output_type": "execute_result"
    }
   ],
   "source": [
    "a[1] = 4\n",
    "a"
   ]
  },
  {
   "cell_type": "code",
   "execution_count": 63,
   "id": "2f568a31",
   "metadata": {
    "ExecuteTime": {
     "end_time": "2024-02-28T04:27:48.250274Z",
     "start_time": "2024-02-28T04:27:48.246457Z"
    }
   },
   "outputs": [
    {
     "data": {
      "text/plain": [
       "[1, 4, 3]"
      ]
     },
     "execution_count": 63,
     "metadata": {},
     "output_type": "execute_result"
    }
   ],
   "source": [
    "b"
   ]
  },
  {
   "cell_type": "code",
   "execution_count": 64,
   "id": "8d104f3e",
   "metadata": {
    "ExecuteTime": {
     "end_time": "2024-02-28T04:32:12.141338Z",
     "start_time": "2024-02-28T04:32:12.137261Z"
    }
   },
   "outputs": [
    {
     "data": {
      "text/plain": [
       "10"
      ]
     },
     "execution_count": 64,
     "metadata": {},
     "output_type": "execute_result"
    }
   ],
   "source": [
    "num1 = 10\n",
    "num1"
   ]
  },
  {
   "cell_type": "code",
   "execution_count": 65,
   "id": "b86473c9",
   "metadata": {
    "ExecuteTime": {
     "end_time": "2024-02-28T04:32:30.272236Z",
     "start_time": "2024-02-28T04:32:30.266967Z"
    }
   },
   "outputs": [
    {
     "data": {
      "text/plain": [
       "(10, 10)"
      ]
     },
     "execution_count": 65,
     "metadata": {},
     "output_type": "execute_result"
    }
   ],
   "source": [
    "num2 = num1\n",
    "num1,num2"
   ]
  },
  {
   "cell_type": "code",
   "execution_count": 67,
   "id": "95098b44",
   "metadata": {
    "ExecuteTime": {
     "end_time": "2024-02-28T04:32:53.332441Z",
     "start_time": "2024-02-28T04:32:53.328396Z"
    }
   },
   "outputs": [
    {
     "data": {
      "text/plain": [
       "11"
      ]
     },
     "execution_count": 67,
     "metadata": {},
     "output_type": "execute_result"
    }
   ],
   "source": [
    "num1 = 11\n",
    "num1"
   ]
  },
  {
   "cell_type": "code",
   "execution_count": 68,
   "id": "32b6f2ea",
   "metadata": {
    "ExecuteTime": {
     "end_time": "2024-02-28T04:32:57.289468Z",
     "start_time": "2024-02-28T04:32:57.285483Z"
    }
   },
   "outputs": [
    {
     "data": {
      "text/plain": [
       "10"
      ]
     },
     "execution_count": 68,
     "metadata": {},
     "output_type": "execute_result"
    }
   ],
   "source": [
    "num2"
   ]
  },
  {
   "cell_type": "markdown",
   "id": "d5cdb268",
   "metadata": {},
   "source": [
    "## COPY"
   ]
  },
  {
   "cell_type": "markdown",
   "id": "7ccb65c4",
   "metadata": {
    "ExecuteTime": {
     "end_time": "2024-02-28T04:44:40.300714Z",
     "start_time": "2024-02-28T04:44:40.296150Z"
    }
   },
   "source": [
    "얕은 복사\n",
    "```\n",
    "a = [1, 2, 3]\n",
    "b = a \n",
    "```"
   ]
  },
  {
   "cell_type": "markdown",
   "id": "e57f64f8",
   "metadata": {},
   "source": [
    "아래는 깊은 복사, 서로 id 값이 다르다!"
   ]
  },
  {
   "cell_type": "code",
   "execution_count": 70,
   "id": "4ee73dd3",
   "metadata": {
    "ExecuteTime": {
     "end_time": "2024-02-28T04:45:41.005475Z",
     "start_time": "2024-02-28T04:45:41.000482Z"
    }
   },
   "outputs": [
    {
     "data": {
      "text/plain": [
       "[1, 2, 3]"
      ]
     },
     "execution_count": 70,
     "metadata": {},
     "output_type": "execute_result"
    }
   ],
   "source": [
    "from copy import copy\n",
    "a = [1, 2, 3]\n",
    "a"
   ]
  },
  {
   "cell_type": "code",
   "execution_count": 71,
   "id": "add5f993",
   "metadata": {
    "ExecuteTime": {
     "end_time": "2024-02-28T04:45:59.242474Z",
     "start_time": "2024-02-28T04:45:59.237265Z"
    }
   },
   "outputs": [
    {
     "data": {
      "text/plain": [
       "(2305672800768, 2305672052608)"
      ]
     },
     "execution_count": 71,
     "metadata": {},
     "output_type": "execute_result"
    }
   ],
   "source": [
    "b = copy(a)\n",
    "id(a), id(b)"
   ]
  },
  {
   "cell_type": "markdown",
   "id": "36e1d7dd",
   "metadata": {},
   "source": [
    "## 변수를 만드는 여러가지 방법"
   ]
  },
  {
   "cell_type": "code",
   "execution_count": 72,
   "id": "9395974b",
   "metadata": {
    "ExecuteTime": {
     "end_time": "2024-02-28T04:49:00.719753Z",
     "start_time": "2024-02-28T04:49:00.716440Z"
    }
   },
   "outputs": [],
   "source": [
    "a, b = ('python' , 'life')"
   ]
  },
  {
   "cell_type": "code",
   "execution_count": 73,
   "id": "4a977c63",
   "metadata": {
    "ExecuteTime": {
     "end_time": "2024-02-28T04:49:03.876927Z",
     "start_time": "2024-02-28T04:49:03.871945Z"
    }
   },
   "outputs": [
    {
     "data": {
      "text/plain": [
       "'python'"
      ]
     },
     "execution_count": 73,
     "metadata": {},
     "output_type": "execute_result"
    }
   ],
   "source": [
    "a"
   ]
  },
  {
   "cell_type": "code",
   "execution_count": 74,
   "id": "79448aea",
   "metadata": {
    "ExecuteTime": {
     "end_time": "2024-02-28T04:49:06.245148Z",
     "start_time": "2024-02-28T04:49:06.240088Z"
    }
   },
   "outputs": [
    {
     "data": {
      "text/plain": [
       "'life'"
      ]
     },
     "execution_count": 74,
     "metadata": {},
     "output_type": "execute_result"
    }
   ],
   "source": [
    "b"
   ]
  },
  {
   "cell_type": "code",
   "execution_count": 77,
   "id": "2839ff32",
   "metadata": {
    "ExecuteTime": {
     "end_time": "2024-02-28T04:49:49.080906Z",
     "start_time": "2024-02-28T04:49:49.076785Z"
    }
   },
   "outputs": [
    {
     "data": {
      "text/plain": [
       "('python', 'life')"
      ]
     },
     "execution_count": 77,
     "metadata": {},
     "output_type": "execute_result"
    }
   ],
   "source": [
    "(a,b) = 'python' , 'life'\n",
    "a, b"
   ]
  },
  {
   "cell_type": "code",
   "execution_count": 80,
   "id": "1b145ef6",
   "metadata": {
    "ExecuteTime": {
     "end_time": "2024-02-28T04:50:25.294425Z",
     "start_time": "2024-02-28T04:50:25.290364Z"
    }
   },
   "outputs": [
    {
     "data": {
      "text/plain": [
       "('python', 'life')"
      ]
     },
     "execution_count": 80,
     "metadata": {},
     "output_type": "execute_result"
    }
   ],
   "source": [
    "[a,b] = ['python' , 'life']\n",
    "a,b"
   ]
  },
  {
   "cell_type": "markdown",
   "id": "02632922",
   "metadata": {},
   "source": [
    "# 리스트 객체"
   ]
  },
  {
   "cell_type": "code",
   "execution_count": 2,
   "id": "40275c5b",
   "metadata": {
    "ExecuteTime": {
     "end_time": "2024-03-04T00:35:49.813010Z",
     "start_time": "2024-03-04T00:35:49.806712Z"
    }
   },
   "outputs": [
    {
     "data": {
      "text/plain": [
       "[1, 3, 5, 7, 9]"
      ]
     },
     "execution_count": 2,
     "metadata": {},
     "output_type": "execute_result"
    }
   ],
   "source": [
    "odd = [1,3,5,7,9]\n",
    "odd"
   ]
  },
  {
   "cell_type": "code",
   "execution_count": 4,
   "id": "d83ff7ce",
   "metadata": {
    "ExecuteTime": {
     "end_time": "2024-03-04T00:36:06.227132Z",
     "start_time": "2024-03-04T00:36:06.222450Z"
    }
   },
   "outputs": [
    {
     "data": {
      "text/plain": [
       "list"
      ]
     },
     "execution_count": 4,
     "metadata": {},
     "output_type": "execute_result"
    }
   ],
   "source": [
    "type(odd)"
   ]
  },
  {
   "cell_type": "code",
   "execution_count": 7,
   "id": "a97a6a9c",
   "metadata": {
    "ExecuteTime": {
     "end_time": "2024-03-04T00:38:35.702433Z",
     "start_time": "2024-03-04T00:38:35.696461Z"
    }
   },
   "outputs": [
    {
     "data": {
      "text/plain": [
       "([],\n",
       " [1, 2, 3],\n",
       " ['Life', 'is', 'too', 'short'],\n",
       " [1, 2, 'life', 'is'],\n",
       " [1, 2, ['life', 'is']])"
      ]
     },
     "execution_count": 7,
     "metadata": {},
     "output_type": "execute_result"
    }
   ],
   "source": [
    "a = []\n",
    "b = [1, 2, 3]\n",
    "c = ['Life', 'is', 'too', 'short']\n",
    "d = [1, 2, 'life', 'is']\n",
    "e = [1, 2, ['life', 'is']]\n",
    "a,b,c,d,e"
   ]
  },
  {
   "cell_type": "code",
   "execution_count": 8,
   "id": "dee1278e",
   "metadata": {
    "ExecuteTime": {
     "end_time": "2024-03-04T00:38:52.464964Z",
     "start_time": "2024-03-04T00:38:52.459835Z"
    }
   },
   "outputs": [
    {
     "data": {
      "text/plain": [
       "([], list)"
      ]
     },
     "execution_count": 8,
     "metadata": {},
     "output_type": "execute_result"
    }
   ],
   "source": [
    "a = list()\n",
    "a, type(a)"
   ]
  },
  {
   "cell_type": "markdown",
   "id": "1c42f7c1",
   "metadata": {},
   "source": [
    "## 리스트의 인덱싱"
   ]
  },
  {
   "cell_type": "code",
   "execution_count": 9,
   "id": "0d8be7e3",
   "metadata": {
    "ExecuteTime": {
     "end_time": "2024-03-04T00:40:24.299288Z",
     "start_time": "2024-03-04T00:40:24.294305Z"
    }
   },
   "outputs": [
    {
     "data": {
      "text/plain": [
       "[1, 2, 3]"
      ]
     },
     "execution_count": 9,
     "metadata": {},
     "output_type": "execute_result"
    }
   ],
   "source": [
    "a = [1, 2, 3]\n",
    "a"
   ]
  },
  {
   "cell_type": "code",
   "execution_count": 10,
   "id": "aa79076d",
   "metadata": {
    "ExecuteTime": {
     "end_time": "2024-03-04T00:40:36.042071Z",
     "start_time": "2024-03-04T00:40:36.037575Z"
    }
   },
   "outputs": [
    {
     "data": {
      "text/plain": [
       "1"
      ]
     },
     "execution_count": 10,
     "metadata": {},
     "output_type": "execute_result"
    }
   ],
   "source": [
    "a[0]"
   ]
  },
  {
   "cell_type": "code",
   "execution_count": 11,
   "id": "22311b95",
   "metadata": {
    "ExecuteTime": {
     "end_time": "2024-03-04T00:40:51.129118Z",
     "start_time": "2024-03-04T00:40:51.124423Z"
    }
   },
   "outputs": [
    {
     "data": {
      "text/plain": [
       "4"
      ]
     },
     "execution_count": 11,
     "metadata": {},
     "output_type": "execute_result"
    }
   ],
   "source": [
    "a[0] + a[2]"
   ]
  },
  {
   "cell_type": "code",
   "execution_count": 12,
   "id": "40ce6a01",
   "metadata": {
    "ExecuteTime": {
     "end_time": "2024-03-04T00:41:02.836867Z",
     "start_time": "2024-03-04T00:41:02.832373Z"
    }
   },
   "outputs": [
    {
     "data": {
      "text/plain": [
       "3"
      ]
     },
     "execution_count": 12,
     "metadata": {},
     "output_type": "execute_result"
    }
   ],
   "source": [
    "a[-1]"
   ]
  },
  {
   "cell_type": "code",
   "execution_count": 23,
   "id": "b14a21c3",
   "metadata": {
    "ExecuteTime": {
     "end_time": "2024-03-04T00:44:27.970018Z",
     "start_time": "2024-03-04T00:44:27.965806Z"
    }
   },
   "outputs": [
    {
     "data": {
      "text/plain": [
       "[1, 2, 3, ['a', 'b', 'c']]"
      ]
     },
     "execution_count": 23,
     "metadata": {},
     "output_type": "execute_result"
    }
   ],
   "source": [
    "a = [1, 2, 3, ['a', 'b', 'c']]\n",
    "a"
   ]
  },
  {
   "cell_type": "code",
   "execution_count": 24,
   "id": "418d3699",
   "metadata": {
    "ExecuteTime": {
     "end_time": "2024-03-04T00:44:30.419940Z",
     "start_time": "2024-03-04T00:44:30.416160Z"
    }
   },
   "outputs": [
    {
     "data": {
      "text/plain": [
       "4"
      ]
     },
     "execution_count": 24,
     "metadata": {},
     "output_type": "execute_result"
    }
   ],
   "source": [
    "len(a)"
   ]
  },
  {
   "cell_type": "code",
   "execution_count": 14,
   "id": "00e768a4",
   "metadata": {
    "ExecuteTime": {
     "end_time": "2024-03-04T00:41:49.126277Z",
     "start_time": "2024-03-04T00:41:49.121162Z"
    }
   },
   "outputs": [
    {
     "data": {
      "text/plain": [
       "1"
      ]
     },
     "execution_count": 14,
     "metadata": {},
     "output_type": "execute_result"
    }
   ],
   "source": [
    "a[0]"
   ]
  },
  {
   "cell_type": "code",
   "execution_count": 15,
   "id": "dfb1e6a1",
   "metadata": {
    "ExecuteTime": {
     "end_time": "2024-03-04T00:41:53.851721Z",
     "start_time": "2024-03-04T00:41:53.847738Z"
    }
   },
   "outputs": [
    {
     "data": {
      "text/plain": [
       "['a', 'b', 'c']"
      ]
     },
     "execution_count": 15,
     "metadata": {},
     "output_type": "execute_result"
    }
   ],
   "source": [
    "a[-1]"
   ]
  },
  {
   "cell_type": "code",
   "execution_count": 16,
   "id": "175bddde",
   "metadata": {
    "ExecuteTime": {
     "end_time": "2024-03-04T00:42:01.180236Z",
     "start_time": "2024-03-04T00:42:01.175254Z"
    }
   },
   "outputs": [
    {
     "data": {
      "text/plain": [
       "['a', 'b', 'c']"
      ]
     },
     "execution_count": 16,
     "metadata": {},
     "output_type": "execute_result"
    }
   ],
   "source": [
    "a[3]"
   ]
  },
  {
   "cell_type": "code",
   "execution_count": 17,
   "id": "340ec35e",
   "metadata": {
    "ExecuteTime": {
     "end_time": "2024-03-04T00:42:23.275688Z",
     "start_time": "2024-03-04T00:42:23.271316Z"
    }
   },
   "outputs": [
    {
     "data": {
      "text/plain": [
       "'a'"
      ]
     },
     "execution_count": 17,
     "metadata": {},
     "output_type": "execute_result"
    }
   ],
   "source": [
    "a[-1][0]"
   ]
  },
  {
   "cell_type": "code",
   "execution_count": 18,
   "id": "8da1a53b",
   "metadata": {
    "ExecuteTime": {
     "end_time": "2024-03-04T00:42:47.031594Z",
     "start_time": "2024-03-04T00:42:47.026610Z"
    }
   },
   "outputs": [
    {
     "data": {
      "text/plain": [
       "'b'"
      ]
     },
     "execution_count": 18,
     "metadata": {},
     "output_type": "execute_result"
    }
   ],
   "source": [
    "a[-1][1]"
   ]
  },
  {
   "cell_type": "code",
   "execution_count": 19,
   "id": "63cc94f4",
   "metadata": {
    "ExecuteTime": {
     "end_time": "2024-03-04T00:42:55.472270Z",
     "start_time": "2024-03-04T00:42:55.467287Z"
    }
   },
   "outputs": [
    {
     "data": {
      "text/plain": [
       "'c'"
      ]
     },
     "execution_count": 19,
     "metadata": {},
     "output_type": "execute_result"
    }
   ],
   "source": [
    "a[-1][2]"
   ]
  },
  {
   "cell_type": "markdown",
   "id": "9df43537",
   "metadata": {},
   "source": [
    "### 삼중 리스트 인덱싱"
   ]
  },
  {
   "cell_type": "code",
   "execution_count": 20,
   "id": "a6fe69e9",
   "metadata": {
    "ExecuteTime": {
     "end_time": "2024-03-04T00:43:38.734969Z",
     "start_time": "2024-03-04T00:43:38.731461Z"
    }
   },
   "outputs": [],
   "source": [
    "a = [1, 2, ['a', 'b', ['Life', 'is']]]"
   ]
  },
  {
   "cell_type": "code",
   "execution_count": 21,
   "id": "c7939eb8",
   "metadata": {
    "ExecuteTime": {
     "end_time": "2024-03-04T00:43:48.809260Z",
     "start_time": "2024-03-04T00:43:48.805199Z"
    }
   },
   "outputs": [
    {
     "data": {
      "text/plain": [
       "'Life'"
      ]
     },
     "execution_count": 21,
     "metadata": {},
     "output_type": "execute_result"
    }
   ],
   "source": [
    "a[2][2][0]"
   ]
  },
  {
   "cell_type": "markdown",
   "id": "1e8d4bdc",
   "metadata": {},
   "source": [
    "## 리스트의  슬라이싱"
   ]
  },
  {
   "cell_type": "code",
   "execution_count": 29,
   "id": "8649ba75",
   "metadata": {
    "ExecuteTime": {
     "end_time": "2024-03-04T00:47:51.761515Z",
     "start_time": "2024-03-04T00:47:51.756969Z"
    }
   },
   "outputs": [
    {
     "data": {
      "text/plain": [
       "[1, 2]"
      ]
     },
     "execution_count": 29,
     "metadata": {},
     "output_type": "execute_result"
    }
   ],
   "source": [
    "a = [1, 2, 3, 4, 5]\n",
    "a[0:2]"
   ]
  },
  {
   "cell_type": "code",
   "execution_count": 30,
   "id": "1c896bd2",
   "metadata": {
    "ExecuteTime": {
     "end_time": "2024-03-04T00:48:12.587925Z",
     "start_time": "2024-03-04T00:48:12.582951Z"
    }
   },
   "outputs": [
    {
     "data": {
      "text/plain": [
       "'12'"
      ]
     },
     "execution_count": 30,
     "metadata": {},
     "output_type": "execute_result"
    }
   ],
   "source": [
    " a = \"12345\"\n",
    "a[0:2]"
   ]
  },
  {
   "cell_type": "code",
   "execution_count": 31,
   "id": "9a9be4d8",
   "metadata": {
    "ExecuteTime": {
     "end_time": "2024-03-04T00:48:55.021181Z",
     "start_time": "2024-03-04T00:48:55.016793Z"
    }
   },
   "outputs": [
    {
     "data": {
      "text/plain": [
       "[1, 2]"
      ]
     },
     "execution_count": 31,
     "metadata": {},
     "output_type": "execute_result"
    }
   ],
   "source": [
    "a = [1, 2, 3, 4, 5]\n",
    "b = a[:2]\n",
    "c = a[2:]\n",
    "b"
   ]
  },
  {
   "cell_type": "code",
   "execution_count": 32,
   "id": "5a176c74",
   "metadata": {
    "ExecuteTime": {
     "end_time": "2024-03-04T00:48:59.090169Z",
     "start_time": "2024-03-04T00:48:59.085011Z"
    }
   },
   "outputs": [
    {
     "data": {
      "text/plain": [
       "[3, 4, 5]"
      ]
     },
     "execution_count": 32,
     "metadata": {},
     "output_type": "execute_result"
    }
   ],
   "source": [
    "c"
   ]
  },
  {
   "cell_type": "markdown",
   "id": "f8eff911",
   "metadata": {},
   "source": [
    "### 중첩 리스트 슬라이싱"
   ]
  },
  {
   "cell_type": "code",
   "execution_count": 33,
   "id": "1a429343",
   "metadata": {
    "ExecuteTime": {
     "end_time": "2024-03-04T00:50:06.796503Z",
     "start_time": "2024-03-04T00:50:06.791520Z"
    }
   },
   "outputs": [
    {
     "data": {
      "text/plain": [
       "[3, ['a', 'b', 'c'], 4]"
      ]
     },
     "execution_count": 33,
     "metadata": {},
     "output_type": "execute_result"
    }
   ],
   "source": [
    "a = [1, 2, 3, ['a', 'b', 'c'], 4, 5]\n",
    "a[2:5]"
   ]
  },
  {
   "cell_type": "code",
   "execution_count": 34,
   "id": "283799a4",
   "metadata": {
    "ExecuteTime": {
     "end_time": "2024-03-04T00:50:37.009984Z",
     "start_time": "2024-03-04T00:50:37.006064Z"
    }
   },
   "outputs": [
    {
     "data": {
      "text/plain": [
       "['a', 'b']"
      ]
     },
     "execution_count": 34,
     "metadata": {},
     "output_type": "execute_result"
    }
   ],
   "source": [
    "a[3][:2]"
   ]
  },
  {
   "cell_type": "markdown",
   "id": "b90858e9",
   "metadata": {},
   "source": [
    "## del로 리스트 요소 삭제하기"
   ]
  },
  {
   "cell_type": "markdown",
   "id": "2c6b472c",
   "metadata": {},
   "source": [
    "## 리스트 관련 함수"
   ]
  },
  {
   "cell_type": "markdown",
   "id": "213425e2",
   "metadata": {},
   "source": [
    "### 리스트 요소 추가 append"
   ]
  },
  {
   "cell_type": "code",
   "execution_count": 36,
   "id": "1174be4e",
   "metadata": {
    "ExecuteTime": {
     "end_time": "2024-03-04T01:05:55.153887Z",
     "start_time": "2024-03-04T01:05:55.149225Z"
    }
   },
   "outputs": [
    {
     "data": {
      "text/plain": [
       "[1, 2, 3]"
      ]
     },
     "execution_count": 36,
     "metadata": {},
     "output_type": "execute_result"
    }
   ],
   "source": [
    "a = [1, 2, 3]\n",
    "a"
   ]
  },
  {
   "cell_type": "code",
   "execution_count": 37,
   "id": "c78efe85",
   "metadata": {
    "ExecuteTime": {
     "end_time": "2024-03-04T01:06:04.876297Z",
     "start_time": "2024-03-04T01:06:04.871662Z"
    }
   },
   "outputs": [
    {
     "data": {
      "text/plain": [
       "[1, 2, 3, 4]"
      ]
     },
     "execution_count": 37,
     "metadata": {},
     "output_type": "execute_result"
    }
   ],
   "source": [
    "a.append(4)\n",
    "a"
   ]
  },
  {
   "cell_type": "markdown",
   "id": "74f26a17",
   "metadata": {},
   "source": [
    "### 리스트 정렬 sort"
   ]
  },
  {
   "cell_type": "code",
   "execution_count": 38,
   "id": "d407665a",
   "metadata": {
    "ExecuteTime": {
     "end_time": "2024-03-04T01:06:51.097019Z",
     "start_time": "2024-03-04T01:06:51.091583Z"
    }
   },
   "outputs": [
    {
     "data": {
      "text/plain": [
       "[1, 2, 3, 4]"
      ]
     },
     "execution_count": 38,
     "metadata": {},
     "output_type": "execute_result"
    }
   ],
   "source": [
    "a = [1, 4, 3, 2]\n",
    "a.sort()\n",
    "a"
   ]
  },
  {
   "cell_type": "code",
   "execution_count": 40,
   "id": "70c6d0c9",
   "metadata": {
    "ExecuteTime": {
     "end_time": "2024-03-04T01:07:38.590572Z",
     "start_time": "2024-03-04T01:07:38.586009Z"
    }
   },
   "outputs": [],
   "source": [
    "a.sort?"
   ]
  },
  {
   "cell_type": "code",
   "execution_count": 42,
   "id": "770f77e6",
   "metadata": {
    "ExecuteTime": {
     "end_time": "2024-03-04T01:08:13.166996Z",
     "start_time": "2024-03-04T01:08:13.162429Z"
    }
   },
   "outputs": [
    {
     "data": {
      "text/plain": [
       "[4, 3, 2, 1]"
      ]
     },
     "execution_count": 42,
     "metadata": {},
     "output_type": "execute_result"
    }
   ],
   "source": [
    "a.sort(reverse=True)\n",
    "a"
   ]
  },
  {
   "cell_type": "markdown",
   "id": "10c066c4",
   "metadata": {},
   "source": [
    "### 리스트 뒤집기 reverse"
   ]
  },
  {
   "cell_type": "code",
   "execution_count": 43,
   "id": "a614ec3b",
   "metadata": {
    "ExecuteTime": {
     "end_time": "2024-03-04T01:09:03.141846Z",
     "start_time": "2024-03-04T01:09:03.137292Z"
    }
   },
   "outputs": [
    {
     "data": {
      "text/plain": [
       "['b', 'c', 'a']"
      ]
     },
     "execution_count": 43,
     "metadata": {},
     "output_type": "execute_result"
    }
   ],
   "source": [
    "a = ['a', 'c', 'b']\n",
    "a.reverse()\n",
    "a"
   ]
  },
  {
   "cell_type": "markdown",
   "id": "fb85b7c1",
   "metadata": {},
   "source": [
    "### 인덱스 반환 index"
   ]
  },
  {
   "cell_type": "code",
   "execution_count": 45,
   "id": "db17b487",
   "metadata": {
    "ExecuteTime": {
     "end_time": "2024-03-04T01:10:15.274420Z",
     "start_time": "2024-03-04T01:10:15.270471Z"
    }
   },
   "outputs": [
    {
     "data": {
      "text/plain": [
       "2"
      ]
     },
     "execution_count": 45,
     "metadata": {},
     "output_type": "execute_result"
    }
   ],
   "source": [
    "a = [1, 2, 3]\n",
    "a.index(3)"
   ]
  },
  {
   "cell_type": "code",
   "execution_count": 46,
   "id": "376f690a",
   "metadata": {
    "ExecuteTime": {
     "end_time": "2024-03-04T01:10:46.077654Z",
     "start_time": "2024-03-04T01:10:46.063708Z"
    }
   },
   "outputs": [
    {
     "ename": "ValueError",
     "evalue": "0 is not in list",
     "output_type": "error",
     "traceback": [
      "\u001b[1;31m---------------------------------------------------------------------------\u001b[0m",
      "\u001b[1;31mValueError\u001b[0m                                Traceback (most recent call last)",
      "Cell \u001b[1;32mIn[46], line 1\u001b[0m\n\u001b[1;32m----> 1\u001b[0m a\u001b[38;5;241m.\u001b[39mindex(\u001b[38;5;241m0\u001b[39m)\n",
      "\u001b[1;31mValueError\u001b[0m: 0 is not in list"
     ]
    }
   ],
   "source": [
    "a.index(0)"
   ]
  },
  {
   "cell_type": "markdown",
   "id": "26422ad1",
   "metadata": {
    "ExecuteTime": {
     "end_time": "2024-03-04T01:11:12.411074Z",
     "start_time": "2024-03-04T01:11:12.396663Z"
    }
   },
   "source": [
    "### 리스트에 요소 삽입 insert"
   ]
  },
  {
   "cell_type": "code",
   "execution_count": 49,
   "id": "1aa5b5ad",
   "metadata": {
    "ExecuteTime": {
     "end_time": "2024-03-04T01:11:51.040493Z",
     "start_time": "2024-03-04T01:11:51.035401Z"
    }
   },
   "outputs": [
    {
     "data": {
      "text/plain": [
       "[4, 1, 2, 3]"
      ]
     },
     "execution_count": 49,
     "metadata": {},
     "output_type": "execute_result"
    }
   ],
   "source": [
    "a = [1, 2, 3]\n",
    "a.insert(0, 4)\n",
    "a"
   ]
  },
  {
   "cell_type": "code",
   "execution_count": 50,
   "id": "c6e111f2",
   "metadata": {
    "ExecuteTime": {
     "end_time": "2024-03-04T01:11:59.676831Z",
     "start_time": "2024-03-04T01:11:59.671863Z"
    }
   },
   "outputs": [],
   "source": [
    "a.insert?"
   ]
  },
  {
   "cell_type": "markdown",
   "id": "9e8973b6",
   "metadata": {},
   "source": [
    "### 리스트에 요소 제거 remove"
   ]
  },
  {
   "cell_type": "code",
   "execution_count": 51,
   "id": "6e9fd37f",
   "metadata": {
    "ExecuteTime": {
     "end_time": "2024-03-04T01:15:35.276176Z",
     "start_time": "2024-03-04T01:15:35.271076Z"
    }
   },
   "outputs": [
    {
     "data": {
      "text/plain": [
       "[1, 2, 1, 2, 3]"
      ]
     },
     "execution_count": 51,
     "metadata": {},
     "output_type": "execute_result"
    }
   ],
   "source": [
    "a = [1, 2, 3, 1, 2, 3]\n",
    "a.remove(3)\n",
    "a"
   ]
  },
  {
   "cell_type": "code",
   "execution_count": 54,
   "id": "e5257e38",
   "metadata": {
    "ExecuteTime": {
     "end_time": "2024-03-04T01:16:49.082028Z",
     "start_time": "2024-03-04T01:16:49.069102Z"
    }
   },
   "outputs": [
    {
     "ename": "ValueError",
     "evalue": "list.remove(x): x not in list",
     "output_type": "error",
     "traceback": [
      "\u001b[1;31m---------------------------------------------------------------------------\u001b[0m",
      "\u001b[1;31mValueError\u001b[0m                                Traceback (most recent call last)",
      "Cell \u001b[1;32mIn[54], line 1\u001b[0m\n\u001b[1;32m----> 1\u001b[0m a\u001b[38;5;241m.\u001b[39mremove(\u001b[38;5;241m3\u001b[39m)\n\u001b[0;32m      2\u001b[0m a\n",
      "\u001b[1;31mValueError\u001b[0m: list.remove(x): x not in list"
     ]
    }
   ],
   "source": [
    "a.remove(3)\n",
    "a"
   ]
  },
  {
   "cell_type": "markdown",
   "id": "bc67ed4b",
   "metadata": {},
   "source": [
    "### 리스트 요소 끄집어 내기 pop"
   ]
  },
  {
   "cell_type": "code",
   "execution_count": 52,
   "id": "f21b18dd",
   "metadata": {
    "ExecuteTime": {
     "end_time": "2024-03-04T01:16:11.633635Z",
     "start_time": "2024-03-04T01:16:11.627505Z"
    }
   },
   "outputs": [
    {
     "data": {
      "text/plain": [
       "3"
      ]
     },
     "execution_count": 52,
     "metadata": {},
     "output_type": "execute_result"
    }
   ],
   "source": [
    "a = [1, 2, 3]\n",
    "a.pop()"
   ]
  },
  {
   "cell_type": "code",
   "execution_count": 53,
   "id": "858fc3d6",
   "metadata": {
    "ExecuteTime": {
     "end_time": "2024-03-04T01:16:22.801297Z",
     "start_time": "2024-03-04T01:16:22.796232Z"
    }
   },
   "outputs": [
    {
     "data": {
      "text/plain": [
       "[1, 2]"
      ]
     },
     "execution_count": 53,
     "metadata": {},
     "output_type": "execute_result"
    }
   ],
   "source": [
    "a"
   ]
  },
  {
   "cell_type": "markdown",
   "id": "8726fa94",
   "metadata": {},
   "source": [
    "### 리스트에 포함된 요소 x의 개수 세기 count"
   ]
  },
  {
   "cell_type": "code",
   "execution_count": 55,
   "id": "783202bd",
   "metadata": {
    "ExecuteTime": {
     "end_time": "2024-03-04T01:17:38.481575Z",
     "start_time": "2024-03-04T01:17:38.477340Z"
    }
   },
   "outputs": [
    {
     "data": {
      "text/plain": [
       "2"
      ]
     },
     "execution_count": 55,
     "metadata": {},
     "output_type": "execute_result"
    }
   ],
   "source": [
    "a = [1, 2, 3, 1]\n",
    "a.count(1)"
   ]
  },
  {
   "cell_type": "markdown",
   "id": "199f49ce",
   "metadata": {},
   "source": [
    "### 리스트 확장 extend"
   ]
  },
  {
   "cell_type": "markdown",
   "id": "59527f4f",
   "metadata": {},
   "source": [
    "extend(x)에서 x에는 리스트만 올 수 있다!"
   ]
  },
  {
   "cell_type": "code",
   "execution_count": 56,
   "id": "ba1a8354",
   "metadata": {
    "ExecuteTime": {
     "end_time": "2024-03-04T01:19:28.175313Z",
     "start_time": "2024-03-04T01:19:28.171288Z"
    }
   },
   "outputs": [
    {
     "data": {
      "text/plain": [
       "[1, 2, 3, 4, 5]"
      ]
     },
     "execution_count": 56,
     "metadata": {},
     "output_type": "execute_result"
    }
   ],
   "source": [
    "a = [1, 2, 3]\n",
    "a.extend([4, 5])\n",
    "a"
   ]
  },
  {
   "cell_type": "code",
   "execution_count": 57,
   "id": "5f8a9ec1",
   "metadata": {
    "ExecuteTime": {
     "end_time": "2024-03-04T01:20:41.009037Z",
     "start_time": "2024-03-04T01:20:41.005051Z"
    }
   },
   "outputs": [
    {
     "data": {
      "text/plain": [
       "[1, 2, 3, 4, 5, 6, 7]"
      ]
     },
     "execution_count": 57,
     "metadata": {},
     "output_type": "execute_result"
    }
   ],
   "source": [
    "b = [6, 7]\n",
    "a.extend(b)\n",
    "a"
   ]
  },
  {
   "cell_type": "markdown",
   "id": "c1db1a68",
   "metadata": {},
   "source": [
    "a.extend([4, 5])는 a += [4, 5]와 동일하다."
   ]
  },
  {
   "cell_type": "code",
   "execution_count": 58,
   "id": "77e494e4",
   "metadata": {
    "ExecuteTime": {
     "end_time": "2024-03-04T01:21:21.836136Z",
     "start_time": "2024-03-04T01:21:21.831809Z"
    }
   },
   "outputs": [
    {
     "data": {
      "text/plain": [
       "[1, 2, 3, 4, 5, 6, 7, 8, 9]"
      ]
     },
     "execution_count": 58,
     "metadata": {},
     "output_type": "execute_result"
    }
   ],
   "source": [
    "a += [8, 9]\n",
    "a"
   ]
  },
  {
   "cell_type": "markdown",
   "id": "3ca46215",
   "metadata": {
    "heading_collapsed": true
   },
   "source": [
    "# 튜플 자료형"
   ]
  },
  {
   "cell_type": "code",
   "execution_count": 59,
   "id": "eda23895",
   "metadata": {
    "ExecuteTime": {
     "end_time": "2024-03-04T01:26:27.703968Z",
     "start_time": "2024-03-04T01:26:27.698530Z"
    },
    "hidden": true
   },
   "outputs": [
    {
     "data": {
      "text/plain": [
       "((), (1,), (1, 2, 3), (1, 2, 3), ('a', 'b', ('ab', 'cd')))"
      ]
     },
     "execution_count": 59,
     "metadata": {},
     "output_type": "execute_result"
    }
   ],
   "source": [
    "t1 = ()\n",
    "t2 = (1,)\n",
    "t3 = (1, 2, 3)\n",
    "t4 = 1, 2, 3\n",
    "t5 = ('a', 'b', ('ab', 'cd'))\n",
    "t1, t2, t3, t4, t5"
   ]
  },
  {
   "cell_type": "code",
   "execution_count": 62,
   "id": "e7e9569b",
   "metadata": {
    "ExecuteTime": {
     "end_time": "2024-03-04T01:29:14.278214Z",
     "start_time": "2024-03-04T01:29:14.275162Z"
    },
    "hidden": true
   },
   "outputs": [
    {
     "name": "stdout",
     "output_type": "stream",
     "text": [
      "() (1,) (1, 2, 3) (1, 2, 3) ('a', 'b', ('ab', 'cd'))\n"
     ]
    }
   ],
   "source": [
    "print(t1, t2, t3, t4, t5)"
   ]
  },
  {
   "cell_type": "code",
   "execution_count": 60,
   "id": "fed53bc0",
   "metadata": {
    "ExecuteTime": {
     "end_time": "2024-03-04T01:26:51.070398Z",
     "start_time": "2024-03-04T01:26:51.065503Z"
    },
    "hidden": true
   },
   "outputs": [
    {
     "data": {
      "text/plain": [
       "tuple"
      ]
     },
     "execution_count": 60,
     "metadata": {},
     "output_type": "execute_result"
    }
   ],
   "source": [
    "type(t1)"
   ]
  },
  {
   "cell_type": "code",
   "execution_count": 61,
   "id": "4621065e",
   "metadata": {
    "ExecuteTime": {
     "end_time": "2024-03-04T01:27:38.638749Z",
     "start_time": "2024-03-04T01:27:38.634184Z"
    },
    "hidden": true
   },
   "outputs": [
    {
     "data": {
      "text/plain": [
       "(int, tuple)"
      ]
     },
     "execution_count": 61,
     "metadata": {},
     "output_type": "execute_result"
    }
   ],
   "source": [
    "type((1)), type((1,))"
   ]
  },
  {
   "cell_type": "markdown",
   "id": "3b7a4bc3",
   "metadata": {
    "hidden": true
   },
   "source": [
    "## 튜플 요소 삭제/변경 시도"
   ]
  },
  {
   "cell_type": "code",
   "execution_count": 63,
   "id": "e9e0aad3",
   "metadata": {
    "ExecuteTime": {
     "end_time": "2024-03-04T01:32:02.670432Z",
     "start_time": "2024-03-04T01:32:02.656411Z"
    },
    "hidden": true
   },
   "outputs": [
    {
     "ename": "TypeError",
     "evalue": "'tuple' object doesn't support item deletion",
     "output_type": "error",
     "traceback": [
      "\u001b[1;31m---------------------------------------------------------------------------\u001b[0m",
      "\u001b[1;31mTypeError\u001b[0m                                 Traceback (most recent call last)",
      "Cell \u001b[1;32mIn[63], line 2\u001b[0m\n\u001b[0;32m      1\u001b[0m t1 \u001b[38;5;241m=\u001b[39m (\u001b[38;5;241m1\u001b[39m, \u001b[38;5;241m2\u001b[39m, \u001b[38;5;124m'\u001b[39m\u001b[38;5;124ma\u001b[39m\u001b[38;5;124m'\u001b[39m, \u001b[38;5;124m'\u001b[39m\u001b[38;5;124mb\u001b[39m\u001b[38;5;124m'\u001b[39m)\n\u001b[1;32m----> 2\u001b[0m \u001b[38;5;28;01mdel\u001b[39;00m t1[\u001b[38;5;241m0\u001b[39m]\n",
      "\u001b[1;31mTypeError\u001b[0m: 'tuple' object doesn't support item deletion"
     ]
    }
   ],
   "source": [
    "t1 = (1, 2, 'a', 'b')\n",
    "del t1[0]"
   ]
  },
  {
   "cell_type": "code",
   "execution_count": 64,
   "id": "8d7a1b19",
   "metadata": {
    "ExecuteTime": {
     "end_time": "2024-03-04T01:32:21.305064Z",
     "start_time": "2024-03-04T01:32:21.292483Z"
    },
    "hidden": true
   },
   "outputs": [
    {
     "ename": "TypeError",
     "evalue": "'tuple' object does not support item assignment",
     "output_type": "error",
     "traceback": [
      "\u001b[1;31m---------------------------------------------------------------------------\u001b[0m",
      "\u001b[1;31mTypeError\u001b[0m                                 Traceback (most recent call last)",
      "Cell \u001b[1;32mIn[64], line 2\u001b[0m\n\u001b[0;32m      1\u001b[0m t1 \u001b[38;5;241m=\u001b[39m (\u001b[38;5;241m1\u001b[39m, \u001b[38;5;241m2\u001b[39m, \u001b[38;5;124m'\u001b[39m\u001b[38;5;124ma\u001b[39m\u001b[38;5;124m'\u001b[39m, \u001b[38;5;124m'\u001b[39m\u001b[38;5;124mb\u001b[39m\u001b[38;5;124m'\u001b[39m)\n\u001b[1;32m----> 2\u001b[0m t1[\u001b[38;5;241m0\u001b[39m] \u001b[38;5;241m=\u001b[39m \u001b[38;5;124m'\u001b[39m\u001b[38;5;124mc\u001b[39m\u001b[38;5;124m'\u001b[39m\n",
      "\u001b[1;31mTypeError\u001b[0m: 'tuple' object does not support item assignment"
     ]
    }
   ],
   "source": [
    "t1 = (1, 2, 'a', 'b')\n",
    "t1[0] = 'c'"
   ]
  },
  {
   "cell_type": "markdown",
   "id": "4daf16a9",
   "metadata": {
    "hidden": true
   },
   "source": [
    "## 튜플 다루기(조회 가능)"
   ]
  },
  {
   "cell_type": "code",
   "execution_count": 65,
   "id": "c5b258a9",
   "metadata": {
    "ExecuteTime": {
     "end_time": "2024-03-04T01:33:57.943786Z",
     "start_time": "2024-03-04T01:33:57.939754Z"
    },
    "hidden": true
   },
   "outputs": [
    {
     "data": {
      "text/plain": [
       "(1, 'b')"
      ]
     },
     "execution_count": 65,
     "metadata": {},
     "output_type": "execute_result"
    }
   ],
   "source": [
    "# 인덱싱\n",
    "t1 = (1, 2, 'a', 'b')\n",
    "t1[0], t1[3]"
   ]
  },
  {
   "cell_type": "code",
   "execution_count": 66,
   "id": "1aeec33a",
   "metadata": {
    "ExecuteTime": {
     "end_time": "2024-03-04T01:34:21.264352Z",
     "start_time": "2024-03-04T01:34:21.259265Z"
    },
    "hidden": true
   },
   "outputs": [
    {
     "data": {
      "text/plain": [
       "(2, 'a', 'b')"
      ]
     },
     "execution_count": 66,
     "metadata": {},
     "output_type": "execute_result"
    }
   ],
   "source": [
    "# 슬라이싱\n",
    "t1 = (1, 2, 'a', 'b')\n",
    "t1[1:]"
   ]
  },
  {
   "cell_type": "code",
   "execution_count": 67,
   "id": "0a0d14a8",
   "metadata": {
    "ExecuteTime": {
     "end_time": "2024-03-04T01:35:04.978233Z",
     "start_time": "2024-03-04T01:35:04.973551Z"
    },
    "hidden": true
   },
   "outputs": [
    {
     "data": {
      "text/plain": [
       "(1, 2, 'a', 'b', 3, 4)"
      ]
     },
     "execution_count": 67,
     "metadata": {},
     "output_type": "execute_result"
    }
   ],
   "source": [
    "# 튜플 더하기\n",
    "t1 = (1, 2, 'a', 'b')\n",
    "t2 = (3, 4)\n",
    "t3 = t1 + t2\n",
    "t3"
   ]
  },
  {
   "cell_type": "code",
   "execution_count": 69,
   "id": "f3b68acf",
   "metadata": {
    "ExecuteTime": {
     "end_time": "2024-03-04T01:37:24.659918Z",
     "start_time": "2024-03-04T01:37:24.655082Z"
    },
    "hidden": true
   },
   "outputs": [
    {
     "data": {
      "text/plain": [
       "(3, 4, 3, 4, 3, 4)"
      ]
     },
     "execution_count": 69,
     "metadata": {},
     "output_type": "execute_result"
    }
   ],
   "source": [
    "# 튜플 곱하기\n",
    "# 정수가 있음에도 산수계산이 아닌 반복 횟수를 나타낸다.\n",
    "# 연산을 원한다면? => array 함수 사용!\n",
    "t2 = (3, 4)\n",
    "t3 = t2 * 3\n",
    "t3"
   ]
  },
  {
   "cell_type": "code",
   "execution_count": 70,
   "id": "0859168e",
   "metadata": {
    "ExecuteTime": {
     "end_time": "2024-03-04T01:38:00.926498Z",
     "start_time": "2024-03-04T01:38:00.921933Z"
    },
    "hidden": true
   },
   "outputs": [
    {
     "data": {
      "text/plain": [
       "4"
      ]
     },
     "execution_count": 70,
     "metadata": {},
     "output_type": "execute_result"
    }
   ],
   "source": [
    "# 튜플 길이 구하기\n",
    "t1 = (1, 2, 'a', 'b')\n",
    "len(t1)"
   ]
  },
  {
   "cell_type": "markdown",
   "id": "9595ee54",
   "metadata": {
    "hidden": true
   },
   "source": [
    "튜플은 요솟값을 변경할수 없기 때문에 sort, insert, remove, pop과 같은 내장 함수가 없다."
   ]
  },
  {
   "cell_type": "markdown",
   "id": "bc10f0b7",
   "metadata": {
    "heading_collapsed": true
   },
   "source": [
    "# 딕셔너리 자료형"
   ]
  },
  {
   "cell_type": "markdown",
   "id": "92fdcb8b",
   "metadata": {
    "heading_collapsed": true,
    "hidden": true
   },
   "source": [
    "## 딕셔너리는 어떻게 만들까?"
   ]
  },
  {
   "cell_type": "markdown",
   "id": "abdb83e2",
   "metadata": {
    "ExecuteTime": {
     "end_time": "2024-03-04T01:50:22.479275Z",
     "start_time": "2024-03-04T01:50:22.474290Z"
    },
    "hidden": true
   },
   "source": [
    "기본 모습   \n",
    "{Key1: Value1, Key2: Value2, Key3: Value3, ...}   \n",
    "dic = {'name': 'pey', 'phone': '010-9999-1234', 'birth': '1118'}"
   ]
  },
  {
   "cell_type": "code",
   "execution_count": 90,
   "id": "2cb54a9b",
   "metadata": {
    "ExecuteTime": {
     "end_time": "2024-03-04T02:08:26.102578Z",
     "start_time": "2024-03-04T02:08:26.098844Z"
    },
    "hidden": true
   },
   "outputs": [
    {
     "data": {
      "text/plain": [
       "{'name': 'pey', 'phone': '010-9999-1234', 'birth': '1118'}"
      ]
     },
     "execution_count": 90,
     "metadata": {},
     "output_type": "execute_result"
    }
   ],
   "source": [
    "dic = {'name': 'pey', 'phone': '010-9999-1234', 'birth': '1118'}\n",
    "dic"
   ]
  },
  {
   "cell_type": "code",
   "execution_count": 86,
   "id": "ec06e42c",
   "metadata": {
    "ExecuteTime": {
     "end_time": "2024-03-04T02:06:29.802329Z",
     "start_time": "2024-03-04T02:06:29.797986Z"
    },
    "hidden": true
   },
   "outputs": [
    {
     "data": {
      "text/plain": [
       "{1: 'hi'}"
      ]
     },
     "execution_count": 86,
     "metadata": {},
     "output_type": "execute_result"
    }
   ],
   "source": [
    "# Key로 정숫값 1, Value로 문자열 'hi'를 사용한 예\n",
    "a = {1: 'hi'}\n",
    "a"
   ]
  },
  {
   "cell_type": "code",
   "execution_count": 87,
   "id": "159fbb8e",
   "metadata": {
    "ExecuteTime": {
     "end_time": "2024-03-04T02:06:38.490303Z",
     "start_time": "2024-03-04T02:06:38.485211Z"
    },
    "hidden": true
   },
   "outputs": [
    {
     "data": {
      "text/plain": [
       "{'a': [1, 2, 3]}"
      ]
     },
     "execution_count": 87,
     "metadata": {},
     "output_type": "execute_result"
    }
   ],
   "source": [
    "# Value에 리스트도 넣을 수 있다.\n",
    "a = {'a': [1, 2, 3]}\n",
    "a"
   ]
  },
  {
   "cell_type": "markdown",
   "id": "386bb9a6",
   "metadata": {
    "heading_collapsed": true,
    "hidden": true
   },
   "source": [
    "## 딕셔너리 쌍 추가/삭제하기"
   ]
  },
  {
   "cell_type": "code",
   "execution_count": 76,
   "id": "12ca81df",
   "metadata": {
    "ExecuteTime": {
     "end_time": "2024-03-04T01:56:09.315571Z",
     "start_time": "2024-03-04T01:56:09.309937Z"
    },
    "hidden": true
   },
   "outputs": [
    {
     "data": {
      "text/plain": [
       "{1: 'a', 2: 'b'}"
      ]
     },
     "execution_count": 76,
     "metadata": {},
     "output_type": "execute_result"
    }
   ],
   "source": [
    "# 쌍 추가하기\n",
    "a = {1: 'a'}\n",
    "a[2] = 'b'\n",
    "a"
   ]
  },
  {
   "cell_type": "code",
   "execution_count": 81,
   "id": "1e955f33",
   "metadata": {
    "ExecuteTime": {
     "end_time": "2024-03-04T01:58:44.705047Z",
     "start_time": "2024-03-04T01:58:44.700053Z"
    },
    "hidden": true
   },
   "outputs": [
    {
     "data": {
      "text/plain": [
       "{1: 'a', 2: 'b', 'name': 'pey'}"
      ]
     },
     "execution_count": 81,
     "metadata": {},
     "output_type": "execute_result"
    }
   ],
   "source": [
    "# {'name':'pey'}쌍 추가\n",
    "a['name'] = 'pey'\n",
    "a"
   ]
  },
  {
   "cell_type": "code",
   "execution_count": 83,
   "id": "5bf7d43d",
   "metadata": {
    "ExecuteTime": {
     "end_time": "2024-03-04T01:59:23.521026Z",
     "start_time": "2024-03-04T01:59:23.514837Z"
    },
    "hidden": true
   },
   "outputs": [
    {
     "data": {
      "text/plain": [
       "{1: 'a', 2: 'b', 'name': 'pey', 3: [1, 2, 3]}"
      ]
     },
     "execution_count": 83,
     "metadata": {},
     "output_type": "execute_result"
    }
   ],
   "source": [
    "# Key는 3, Value는 [1, 2, 3]을 가지는 한 쌍 추가\n",
    "a[3] = [1, 2, 3]\n",
    "a"
   ]
  },
  {
   "cell_type": "code",
   "execution_count": 84,
   "id": "17c7f51d",
   "metadata": {
    "ExecuteTime": {
     "end_time": "2024-03-04T02:01:03.913256Z",
     "start_time": "2024-03-04T02:01:03.908911Z"
    },
    "hidden": true
   },
   "outputs": [
    {
     "data": {
      "text/plain": [
       "{2: 'b', 'name': 'pey', 3: [1, 2, 3]}"
      ]
     },
     "execution_count": 84,
     "metadata": {},
     "output_type": "execute_result"
    }
   ],
   "source": [
    "# 딕셔너리 요소 삭제하기\n",
    "del a[1]\n",
    "a"
   ]
  },
  {
   "cell_type": "markdown",
   "id": "4c746c8e",
   "metadata": {
    "heading_collapsed": true,
    "hidden": true
   },
   "source": [
    "## 딕셔너리를 사용하는 방법"
   ]
  },
  {
   "cell_type": "markdown",
   "id": "d69f2c57",
   "metadata": {
    "hidden": true
   },
   "source": [
    "### key를 사용해 Value 얻기"
   ]
  },
  {
   "cell_type": "code",
   "execution_count": 88,
   "id": "d7b519c2",
   "metadata": {
    "ExecuteTime": {
     "end_time": "2024-03-04T02:07:46.438008Z",
     "start_time": "2024-03-04T02:07:46.433279Z"
    },
    "hidden": true
   },
   "outputs": [
    {
     "data": {
      "text/plain": [
       "10"
      ]
     },
     "execution_count": 88,
     "metadata": {},
     "output_type": "execute_result"
    }
   ],
   "source": [
    "grade = {'pey': 10, 'julliet': 99}\n",
    "grade['pey']"
   ]
  },
  {
   "cell_type": "code",
   "execution_count": 89,
   "id": "68596de4",
   "metadata": {
    "ExecuteTime": {
     "end_time": "2024-03-04T02:07:54.133990Z",
     "start_time": "2024-03-04T02:07:54.130003Z"
    },
    "hidden": true
   },
   "outputs": [
    {
     "data": {
      "text/plain": [
       "99"
      ]
     },
     "execution_count": 89,
     "metadata": {},
     "output_type": "execute_result"
    }
   ],
   "source": [
    "grade['julliet']"
   ]
  },
  {
   "cell_type": "code",
   "execution_count": 92,
   "id": "2723839b",
   "metadata": {
    "ExecuteTime": {
     "end_time": "2024-03-04T02:09:15.426019Z",
     "start_time": "2024-03-04T02:09:15.421146Z"
    },
    "hidden": true
   },
   "outputs": [
    {
     "data": {
      "text/plain": [
       "('pey', '010-9999-1234', '1118')"
      ]
     },
     "execution_count": 92,
     "metadata": {},
     "output_type": "execute_result"
    }
   ],
   "source": [
    "dic = {'name':'pey', 'phone':'010-9999-1234', 'birth': '1118'}\n",
    "dic['name'], dic['phone'],dic['birth']"
   ]
  },
  {
   "cell_type": "markdown",
   "id": "a5281f8e",
   "metadata": {
    "hidden": true
   },
   "source": [
    "### 주의사항"
   ]
  },
  {
   "cell_type": "code",
   "execution_count": 93,
   "id": "e2673435",
   "metadata": {
    "ExecuteTime": {
     "end_time": "2024-03-04T02:10:04.041873Z",
     "start_time": "2024-03-04T02:10:04.036894Z"
    },
    "hidden": true
   },
   "outputs": [
    {
     "data": {
      "text/plain": [
       "{1: 'b'}"
      ]
     },
     "execution_count": 93,
     "metadata": {},
     "output_type": "execute_result"
    }
   ],
   "source": [
    "a = {1:'a', 1:'b'}\n",
    "a"
   ]
  },
  {
   "cell_type": "code",
   "execution_count": 94,
   "id": "33ace490",
   "metadata": {
    "ExecuteTime": {
     "end_time": "2024-03-04T02:10:34.743119Z",
     "start_time": "2024-03-04T02:10:34.739745Z"
    },
    "hidden": true
   },
   "outputs": [],
   "source": [
    "a[1] = 'c'"
   ]
  },
  {
   "cell_type": "code",
   "execution_count": 95,
   "id": "eb526de5",
   "metadata": {
    "ExecuteTime": {
     "end_time": "2024-03-04T02:10:35.335535Z",
     "start_time": "2024-03-04T02:10:35.330552Z"
    },
    "hidden": true
   },
   "outputs": [
    {
     "data": {
      "text/plain": [
       "{1: 'c'}"
      ]
     },
     "execution_count": 95,
     "metadata": {},
     "output_type": "execute_result"
    }
   ],
   "source": [
    "a"
   ]
  },
  {
   "cell_type": "code",
   "execution_count": 98,
   "id": "5a66a541",
   "metadata": {
    "ExecuteTime": {
     "end_time": "2024-03-04T02:11:15.771043Z",
     "start_time": "2024-03-04T02:11:15.757698Z"
    },
    "hidden": true
   },
   "outputs": [
    {
     "ename": "TypeError",
     "evalue": "unhashable type: 'list'",
     "output_type": "error",
     "traceback": [
      "\u001b[1;31m---------------------------------------------------------------------------\u001b[0m",
      "\u001b[1;31mTypeError\u001b[0m                                 Traceback (most recent call last)",
      "Cell \u001b[1;32mIn[98], line 2\u001b[0m\n\u001b[0;32m      1\u001b[0m \u001b[38;5;66;03m# Key에 리스트는 쓸 수 없다는 것이다.\u001b[39;00m\n\u001b[1;32m----> 2\u001b[0m a \u001b[38;5;241m=\u001b[39m {[\u001b[38;5;241m1\u001b[39m,\u001b[38;5;241m2\u001b[39m] : \u001b[38;5;124m'\u001b[39m\u001b[38;5;124mhi\u001b[39m\u001b[38;5;124m'\u001b[39m}\n",
      "\u001b[1;31mTypeError\u001b[0m: unhashable type: 'list'"
     ]
    }
   ],
   "source": [
    "# Key에 리스트는 쓸 수 없다.\n",
    "a = {[1,2] : 'hi'}"
   ]
  },
  {
   "cell_type": "markdown",
   "id": "29782bbb",
   "metadata": {
    "heading_collapsed": true,
    "hidden": true
   },
   "source": [
    "## 딕셔너리 관련 함수"
   ]
  },
  {
   "cell_type": "code",
   "execution_count": null,
   "id": "186cde75",
   "metadata": {
    "hidden": true
   },
   "outputs": [],
   "source": [
    "# key 리스트 만들기 - keys \n",
    "a."
   ]
  },
  {
   "cell_type": "code",
   "execution_count": 100,
   "id": "7638e723",
   "metadata": {
    "ExecuteTime": {
     "end_time": "2024-03-04T02:13:55.258860Z",
     "start_time": "2024-03-04T02:13:55.254037Z"
    },
    "hidden": true
   },
   "outputs": [
    {
     "data": {
      "text/plain": [
       "(str, list, tuple, dict)"
      ]
     },
     "execution_count": 100,
     "metadata": {},
     "output_type": "execute_result"
    }
   ],
   "source": [
    "a1 = 'str'\n",
    "a2 = [1, 2, 3]\n",
    "a3 = (1,)\n",
    "a4 = {1:'a'}\n",
    "type(a1), type(a2), type(a3), type(a4)"
   ]
  },
  {
   "cell_type": "code",
   "execution_count": 101,
   "id": "721fc8ef",
   "metadata": {
    "ExecuteTime": {
     "end_time": "2024-03-04T02:14:34.209627Z",
     "start_time": "2024-03-04T02:14:34.204574Z"
    },
    "hidden": true
   },
   "outputs": [
    {
     "data": {
      "text/plain": [
       "dict_keys(['name', 'phone', 'birth'])"
      ]
     },
     "execution_count": 101,
     "metadata": {},
     "output_type": "execute_result"
    }
   ],
   "source": [
    "a = {'name': 'pey', 'phone': '010-9999-1234', 'birth': '1118'}\n",
    "a.keys()"
   ]
  },
  {
   "cell_type": "code",
   "execution_count": 103,
   "id": "e39f24a5",
   "metadata": {
    "ExecuteTime": {
     "end_time": "2024-03-04T02:15:30.099934Z",
     "start_time": "2024-03-04T02:15:30.096464Z"
    },
    "hidden": true
   },
   "outputs": [
    {
     "name": "stdout",
     "output_type": "stream",
     "text": [
      "name\n",
      "phone\n",
      "birth\n"
     ]
    }
   ],
   "source": [
    "for k in a.keys():\n",
    "    print(k)"
   ]
  },
  {
   "cell_type": "code",
   "execution_count": 107,
   "id": "458b3f91",
   "metadata": {
    "ExecuteTime": {
     "end_time": "2024-03-04T02:16:27.933673Z",
     "start_time": "2024-03-04T02:16:27.929690Z"
    },
    "hidden": true
   },
   "outputs": [
    {
     "data": {
      "text/plain": [
       "dict_values(['pey', '010-9999-1234', '1118'])"
      ]
     },
     "execution_count": 107,
     "metadata": {},
     "output_type": "execute_result"
    }
   ],
   "source": [
    "# Value 리스트 만들기 - values\n",
    "a.values()"
   ]
  },
  {
   "cell_type": "code",
   "execution_count": 109,
   "id": "82ae1546",
   "metadata": {
    "ExecuteTime": {
     "end_time": "2024-03-04T02:16:43.651430Z",
     "start_time": "2024-03-04T02:16:43.646395Z"
    },
    "hidden": true
   },
   "outputs": [
    {
     "data": {
      "text/plain": [
       "dict_items([('name', 'pey'), ('phone', '010-9999-1234'), ('birth', '1118')])"
      ]
     },
     "execution_count": 109,
     "metadata": {},
     "output_type": "execute_result"
    }
   ],
   "source": [
    "# Key, Value 쌍 얻기 - items\n",
    "a.items()"
   ]
  },
  {
   "cell_type": "code",
   "execution_count": 110,
   "id": "cf07b7a0",
   "metadata": {
    "ExecuteTime": {
     "end_time": "2024-03-04T02:17:06.352741Z",
     "start_time": "2024-03-04T02:17:06.348692Z"
    },
    "hidden": true
   },
   "outputs": [
    {
     "data": {
      "text/plain": [
       "{}"
      ]
     },
     "execution_count": 110,
     "metadata": {},
     "output_type": "execute_result"
    }
   ],
   "source": [
    "# Key: Value 쌍 모두 지우기 - clear\n",
    "a.clear()\n",
    "a"
   ]
  },
  {
   "cell_type": "code",
   "execution_count": 111,
   "id": "a48993a6",
   "metadata": {
    "ExecuteTime": {
     "end_time": "2024-03-04T02:19:26.516311Z",
     "start_time": "2024-03-04T02:19:26.511327Z"
    },
    "hidden": true
   },
   "outputs": [
    {
     "data": {
      "text/plain": [
       "'pey'"
      ]
     },
     "execution_count": 111,
     "metadata": {},
     "output_type": "execute_result"
    }
   ],
   "source": [
    "# Key로 Value 얻기 - get\n",
    "a = {'name': 'pey', 'phone': '010-9999-1234', 'birth': '1118'}\n",
    "a.get('name')"
   ]
  },
  {
   "cell_type": "code",
   "execution_count": 115,
   "id": "60ef7a5d",
   "metadata": {
    "ExecuteTime": {
     "end_time": "2024-03-04T02:20:53.198719Z",
     "start_time": "2024-03-04T02:20:53.193283Z"
    },
    "hidden": true
   },
   "outputs": [
    {
     "data": {
      "text/plain": [
       "True"
      ]
     },
     "execution_count": 115,
     "metadata": {},
     "output_type": "execute_result"
    }
   ],
   "source": [
    "# 해당 Key가 딕셔너리 안에 있는지 조사하기 - in\n",
    "'name' in a"
   ]
  },
  {
   "cell_type": "code",
   "execution_count": 113,
   "id": "481b25cd",
   "metadata": {
    "ExecuteTime": {
     "end_time": "2024-03-04T02:20:18.976482Z",
     "start_time": "2024-03-04T02:20:18.972390Z"
    },
    "hidden": true
   },
   "outputs": [
    {
     "data": {
      "text/plain": [
       "False"
      ]
     },
     "execution_count": 113,
     "metadata": {},
     "output_type": "execute_result"
    }
   ],
   "source": [
    "'email' in a"
   ]
  },
  {
   "cell_type": "markdown",
   "id": "641c3394",
   "metadata": {},
   "source": [
    "# 집합 자료형"
   ]
  },
  {
   "cell_type": "markdown",
   "id": "1c9c6bdf",
   "metadata": {},
   "source": [
    "집합(set)은 집합에 관련된 것을 쉽게 처리하기 위해 만든 자료형이다.   \n",
    "[특징]   \n",
    "- 중복을 허용하지 않는다.   \n",
    "- 순서가 없다(Unordered)   "
   ]
  },
  {
   "cell_type": "markdown",
   "id": "be8e0fe3",
   "metadata": {},
   "source": [
    "## 딕셔너리는 어떻게 만들까?"
   ]
  },
  {
   "cell_type": "code",
   "execution_count": 116,
   "id": "088b1fa4",
   "metadata": {
    "ExecuteTime": {
     "end_time": "2024-03-04T02:22:23.682447Z",
     "start_time": "2024-03-04T02:22:23.678438Z"
    }
   },
   "outputs": [
    {
     "data": {
      "text/plain": [
       "{1, 2, 3}"
      ]
     },
     "execution_count": 116,
     "metadata": {},
     "output_type": "execute_result"
    }
   ],
   "source": [
    "s1 = set([1, 2, 3])\n",
    "s1"
   ]
  },
  {
   "cell_type": "code",
   "execution_count": 121,
   "id": "d3937595",
   "metadata": {
    "ExecuteTime": {
     "end_time": "2024-03-04T02:25:30.451286Z",
     "start_time": "2024-03-04T02:25:30.446050Z"
    }
   },
   "outputs": [
    {
     "data": {
      "text/plain": [
       "{'H', 'e', 'l', 'o'}"
      ]
     },
     "execution_count": 121,
     "metadata": {},
     "output_type": "execute_result"
    }
   ],
   "source": [
    "s2 = set('Hello')\n",
    "s2"
   ]
  },
  {
   "cell_type": "code",
   "execution_count": 122,
   "id": "d6932d29",
   "metadata": {
    "ExecuteTime": {
     "end_time": "2024-03-04T02:26:42.519684Z",
     "start_time": "2024-03-04T02:26:42.516017Z"
    }
   },
   "outputs": [
    {
     "data": {
      "text/plain": [
       "[1, 2, 3]"
      ]
     },
     "execution_count": 122,
     "metadata": {},
     "output_type": "execute_result"
    }
   ],
   "source": [
    "s1 = set([1, 2, 3])\n",
    "l1 = list(s1)\n",
    "l1"
   ]
  },
  {
   "cell_type": "code",
   "execution_count": 124,
   "id": "f0717834",
   "metadata": {
    "ExecuteTime": {
     "end_time": "2024-03-04T02:27:49.011482Z",
     "start_time": "2024-03-04T02:27:49.007552Z"
    }
   },
   "outputs": [
    {
     "data": {
      "text/plain": [
       "1"
      ]
     },
     "execution_count": 124,
     "metadata": {},
     "output_type": "execute_result"
    }
   ],
   "source": [
    "l1[0]"
   ]
  },
  {
   "cell_type": "code",
   "execution_count": 126,
   "id": "95f611ae",
   "metadata": {
    "ExecuteTime": {
     "end_time": "2024-03-04T02:28:19.256257Z",
     "start_time": "2024-03-04T02:28:19.251273Z"
    }
   },
   "outputs": [
    {
     "data": {
      "text/plain": [
       "((1, 2, 3), 1)"
      ]
     },
     "execution_count": 126,
     "metadata": {},
     "output_type": "execute_result"
    }
   ],
   "source": [
    "t1 = tuple(s1)\n",
    "t1, t1[0]"
   ]
  },
  {
   "cell_type": "markdown",
   "id": "876cec56",
   "metadata": {},
   "source": [
    "## 교집합, 합집합, 차집합 구하기"
   ]
  },
  {
   "cell_type": "code",
   "execution_count": 127,
   "id": "97376cf7",
   "metadata": {
    "ExecuteTime": {
     "end_time": "2024-03-04T02:30:14.148186Z",
     "start_time": "2024-03-04T02:30:14.144747Z"
    }
   },
   "outputs": [],
   "source": [
    "s1 = set([1, 2, 3, 4, 5, 6])\n",
    "s2 = set([4, 5, 6, 7, 8, 9])"
   ]
  },
  {
   "cell_type": "code",
   "execution_count": 128,
   "id": "5b1c75a8",
   "metadata": {
    "ExecuteTime": {
     "end_time": "2024-03-04T02:30:26.126291Z",
     "start_time": "2024-03-04T02:30:26.122060Z"
    }
   },
   "outputs": [
    {
     "data": {
      "text/plain": [
       "{4, 5, 6}"
      ]
     },
     "execution_count": 128,
     "metadata": {},
     "output_type": "execute_result"
    }
   ],
   "source": [
    "# 교집합\n",
    "s1 & s2"
   ]
  },
  {
   "cell_type": "code",
   "execution_count": 129,
   "id": "bab4aa37",
   "metadata": {
    "ExecuteTime": {
     "end_time": "2024-03-04T02:30:39.229265Z",
     "start_time": "2024-03-04T02:30:39.224281Z"
    }
   },
   "outputs": [
    {
     "data": {
      "text/plain": [
       "{4, 5, 6}"
      ]
     },
     "execution_count": 129,
     "metadata": {},
     "output_type": "execute_result"
    }
   ],
   "source": [
    "s1.intersection(s2)"
   ]
  },
  {
   "cell_type": "code",
   "execution_count": 130,
   "id": "0707fc17",
   "metadata": {
    "ExecuteTime": {
     "end_time": "2024-03-04T02:31:07.078861Z",
     "start_time": "2024-03-04T02:31:07.074328Z"
    }
   },
   "outputs": [
    {
     "data": {
      "text/plain": [
       "{1, 2, 3, 4, 5, 6, 7, 8, 9}"
      ]
     },
     "execution_count": 130,
     "metadata": {},
     "output_type": "execute_result"
    }
   ],
   "source": [
    "# 합집합\n",
    "s1 | s2"
   ]
  },
  {
   "cell_type": "code",
   "execution_count": 131,
   "id": "c981b5b1",
   "metadata": {
    "ExecuteTime": {
     "end_time": "2024-03-04T02:31:21.835708Z",
     "start_time": "2024-03-04T02:31:21.830256Z"
    }
   },
   "outputs": [
    {
     "data": {
      "text/plain": [
       "{1, 2, 3, 4, 5, 6, 7, 8, 9}"
      ]
     },
     "execution_count": 131,
     "metadata": {},
     "output_type": "execute_result"
    }
   ],
   "source": [
    "s1.union(s2)"
   ]
  },
  {
   "cell_type": "code",
   "execution_count": 132,
   "id": "d17ba38f",
   "metadata": {
    "ExecuteTime": {
     "end_time": "2024-03-04T02:32:31.624207Z",
     "start_time": "2024-03-04T02:32:31.619674Z"
    }
   },
   "outputs": [
    {
     "data": {
      "text/plain": [
       "{1, 2, 3}"
      ]
     },
     "execution_count": 132,
     "metadata": {},
     "output_type": "execute_result"
    }
   ],
   "source": [
    "# 차집합\n",
    "s1 - s2"
   ]
  },
  {
   "cell_type": "code",
   "execution_count": 133,
   "id": "483f5273",
   "metadata": {
    "ExecuteTime": {
     "end_time": "2024-03-04T02:32:43.799121Z",
     "start_time": "2024-03-04T02:32:43.794084Z"
    }
   },
   "outputs": [
    {
     "data": {
      "text/plain": [
       "{7, 8, 9}"
      ]
     },
     "execution_count": 133,
     "metadata": {},
     "output_type": "execute_result"
    }
   ],
   "source": [
    "s2 - s1"
   ]
  },
  {
   "cell_type": "code",
   "execution_count": 134,
   "id": "f672cf9f",
   "metadata": {
    "ExecuteTime": {
     "end_time": "2024-03-04T02:32:56.221404Z",
     "start_time": "2024-03-04T02:32:56.216519Z"
    }
   },
   "outputs": [
    {
     "data": {
      "text/plain": [
       "{1, 2, 3}"
      ]
     },
     "execution_count": 134,
     "metadata": {},
     "output_type": "execute_result"
    }
   ],
   "source": [
    "s1.difference(s2)"
   ]
  },
  {
   "cell_type": "code",
   "execution_count": 135,
   "id": "47b77ce8",
   "metadata": {
    "ExecuteTime": {
     "end_time": "2024-03-04T02:33:04.924776Z",
     "start_time": "2024-03-04T02:33:04.920790Z"
    }
   },
   "outputs": [
    {
     "data": {
      "text/plain": [
       "{7, 8, 9}"
      ]
     },
     "execution_count": 135,
     "metadata": {},
     "output_type": "execute_result"
    }
   ],
   "source": [
    "s2.difference(s1)"
   ]
  },
  {
   "cell_type": "markdown",
   "id": "39c9dfb3",
   "metadata": {},
   "source": [
    "## 집합 자료형 관련 함수"
   ]
  },
  {
   "cell_type": "code",
   "execution_count": 137,
   "id": "0e4bcc31",
   "metadata": {
    "ExecuteTime": {
     "end_time": "2024-03-04T02:34:04.077111Z",
     "start_time": "2024-03-04T02:34:04.072473Z"
    }
   },
   "outputs": [
    {
     "data": {
      "text/plain": [
       "{1, 2, 3, 4}"
      ]
     },
     "execution_count": 137,
     "metadata": {},
     "output_type": "execute_result"
    }
   ],
   "source": [
    "# add : 값 1개 추가하기 \n",
    "s1 = set([1, 2, 3])\n",
    "s1.add(4)\n",
    "s1"
   ]
  },
  {
   "cell_type": "code",
   "execution_count": 144,
   "id": "c35373c0",
   "metadata": {
    "ExecuteTime": {
     "end_time": "2024-03-04T02:37:11.067208Z",
     "start_time": "2024-03-04T02:37:11.051435Z"
    }
   },
   "outputs": [
    {
     "ename": "TypeError",
     "evalue": "unhashable type: 'list'",
     "output_type": "error",
     "traceback": [
      "\u001b[1;31m---------------------------------------------------------------------------\u001b[0m",
      "\u001b[1;31mTypeError\u001b[0m                                 Traceback (most recent call last)",
      "Cell \u001b[1;32mIn[144], line 1\u001b[0m\n\u001b[1;32m----> 1\u001b[0m s1\u001b[38;5;241m.\u001b[39madd([\u001b[38;5;241m4\u001b[39m])\n",
      "\u001b[1;31mTypeError\u001b[0m: unhashable type: 'list'"
     ]
    }
   ],
   "source": [
    "s1.add([4])"
   ]
  },
  {
   "cell_type": "code",
   "execution_count": 138,
   "id": "ccc59ddc",
   "metadata": {
    "ExecuteTime": {
     "end_time": "2024-03-04T02:34:43.319458Z",
     "start_time": "2024-03-04T02:34:43.314783Z"
    }
   },
   "outputs": [
    {
     "data": {
      "text/plain": [
       "{1, 2, 3, 4, 5, 6}"
      ]
     },
     "execution_count": 138,
     "metadata": {},
     "output_type": "execute_result"
    }
   ],
   "source": [
    "# update : 값 여러 개 추가하기\n",
    "s1 = set([1, 2, 3])\n",
    "s1.update([4, 5, 6])\n",
    "s1"
   ]
  },
  {
   "cell_type": "code",
   "execution_count": 140,
   "id": "2718693b",
   "metadata": {
    "ExecuteTime": {
     "end_time": "2024-03-04T02:35:14.485792Z",
     "start_time": "2024-03-04T02:35:14.481697Z"
    }
   },
   "outputs": [
    {
     "data": {
      "text/plain": [
       "{1, 2, 3, 4, 5, 6}"
      ]
     },
     "execution_count": 140,
     "metadata": {},
     "output_type": "execute_result"
    }
   ],
   "source": [
    "s1.update([4])\n",
    "s1"
   ]
  },
  {
   "cell_type": "code",
   "execution_count": 143,
   "id": "c3d78000",
   "metadata": {
    "ExecuteTime": {
     "end_time": "2024-03-04T02:36:54.865492Z",
     "start_time": "2024-03-04T02:36:54.850348Z"
    }
   },
   "outputs": [
    {
     "ename": "TypeError",
     "evalue": "'int' object is not iterable",
     "output_type": "error",
     "traceback": [
      "\u001b[1;31m---------------------------------------------------------------------------\u001b[0m",
      "\u001b[1;31mTypeError\u001b[0m                                 Traceback (most recent call last)",
      "Cell \u001b[1;32mIn[143], line 1\u001b[0m\n\u001b[1;32m----> 1\u001b[0m s1\u001b[38;5;241m.\u001b[39mupdate(\u001b[38;5;241m4\u001b[39m)\n",
      "\u001b[1;31mTypeError\u001b[0m: 'int' object is not iterable"
     ]
    }
   ],
   "source": [
    "s1.update(4)"
   ]
  },
  {
   "cell_type": "code",
   "execution_count": 142,
   "id": "ee656234",
   "metadata": {
    "ExecuteTime": {
     "end_time": "2024-03-04T02:36:32.180248Z",
     "start_time": "2024-03-04T02:36:32.175265Z"
    }
   },
   "outputs": [
    {
     "data": {
      "text/plain": [
       "{1, 3}"
      ]
     },
     "execution_count": 142,
     "metadata": {},
     "output_type": "execute_result"
    }
   ],
   "source": [
    "# remove : 특정 값 제거하기\n",
    "s1 = set([1, 2, 3])\n",
    "s1.remove(2)\n",
    "s1"
   ]
  },
  {
   "cell_type": "markdown",
   "id": "50e1cc3a",
   "metadata": {},
   "source": [
    "# 불 자료형"
   ]
  },
  {
   "cell_type": "markdown",
   "id": "93aaf56b",
   "metadata": {},
   "source": [
    "불(bool) 자료형이란 참(True)과 거짓(False)을 나타내는 자료형이다.   \n",
    "불 자료형은 다음 2가지 값만을 가질 수 있다.\n",
    "\n",
    "- True: 참을 의미한다.   \n",
    "- False: 거짓을 의미한다.   \n",
    "\n",
    "True나 False는 파이썬의 예약어로, true, false와 같이 작성하면 안 되고 첫 문자를 항상 대문자로 작성해야 한다."
   ]
  },
  {
   "cell_type": "code",
   "execution_count": 145,
   "id": "1978de01",
   "metadata": {
    "ExecuteTime": {
     "end_time": "2024-03-04T02:38:33.467827Z",
     "start_time": "2024-03-04T02:38:33.464838Z"
    }
   },
   "outputs": [],
   "source": [
    "a = True\n",
    "b = False"
   ]
  },
  {
   "cell_type": "code",
   "execution_count": 146,
   "id": "978f932d",
   "metadata": {
    "ExecuteTime": {
     "end_time": "2024-03-04T02:38:44.623824Z",
     "start_time": "2024-03-04T02:38:44.619319Z"
    }
   },
   "outputs": [
    {
     "data": {
      "text/plain": [
       "(bool, bool)"
      ]
     },
     "execution_count": 146,
     "metadata": {},
     "output_type": "execute_result"
    }
   ],
   "source": [
    "type(a), type(b)"
   ]
  },
  {
   "cell_type": "code",
   "execution_count": 147,
   "id": "fdecac3c",
   "metadata": {
    "ExecuteTime": {
     "end_time": "2024-03-04T02:38:49.784068Z",
     "start_time": "2024-03-04T02:38:49.779888Z"
    }
   },
   "outputs": [
    {
     "data": {
      "text/plain": [
       "True"
      ]
     },
     "execution_count": 147,
     "metadata": {},
     "output_type": "execute_result"
    }
   ],
   "source": [
    "1 == 1"
   ]
  },
  {
   "cell_type": "code",
   "execution_count": 148,
   "id": "4009f436",
   "metadata": {
    "ExecuteTime": {
     "end_time": "2024-03-04T02:38:54.184995Z",
     "start_time": "2024-03-04T02:38:54.180012Z"
    }
   },
   "outputs": [
    {
     "data": {
      "text/plain": [
       "True"
      ]
     },
     "execution_count": 148,
     "metadata": {},
     "output_type": "execute_result"
    }
   ],
   "source": [
    "2 > 1"
   ]
  },
  {
   "cell_type": "code",
   "execution_count": 149,
   "id": "2f94d1ef",
   "metadata": {
    "ExecuteTime": {
     "end_time": "2024-03-04T02:39:02.137600Z",
     "start_time": "2024-03-04T02:39:02.132540Z"
    }
   },
   "outputs": [
    {
     "data": {
      "text/plain": [
       "False"
      ]
     },
     "execution_count": 149,
     "metadata": {},
     "output_type": "execute_result"
    }
   ],
   "source": [
    "2 < 1"
   ]
  },
  {
   "cell_type": "code",
   "execution_count": 154,
   "id": "c142e142",
   "metadata": {
    "ExecuteTime": {
     "end_time": "2024-03-04T02:41:56.503309Z",
     "start_time": "2024-03-04T02:41:56.499695Z"
    }
   },
   "outputs": [
    {
     "name": "stdout",
     "output_type": "stream",
     "text": [
      "4\n",
      "3\n",
      "2\n",
      "1\n"
     ]
    }
   ],
   "source": [
    "a = [1, 2, 3, 4]\n",
    "while a :\n",
    "    print(a.pop())"
   ]
  },
  {
   "cell_type": "code",
   "execution_count": 155,
   "id": "fd90a210",
   "metadata": {
    "ExecuteTime": {
     "end_time": "2024-03-04T02:44:24.998192Z",
     "start_time": "2024-03-04T02:44:24.995130Z"
    }
   },
   "outputs": [
    {
     "name": "stdout",
     "output_type": "stream",
     "text": [
      "거짓\n"
     ]
    }
   ],
   "source": [
    "if []:\n",
    "    print(\"참\")\n",
    "else:\n",
    "    print(\"거짓\")"
   ]
  },
  {
   "cell_type": "code",
   "execution_count": 156,
   "id": "7e2c22ae",
   "metadata": {
    "ExecuteTime": {
     "end_time": "2024-03-04T02:44:30.998117Z",
     "start_time": "2024-03-04T02:44:30.994838Z"
    }
   },
   "outputs": [
    {
     "name": "stdout",
     "output_type": "stream",
     "text": [
      "참\n"
     ]
    }
   ],
   "source": [
    "if [1]:\n",
    "    print(\"참\")\n",
    "else:\n",
    "    print(\"거짓\")"
   ]
  },
  {
   "cell_type": "markdown",
   "id": "27438fac",
   "metadata": {},
   "source": [
    "## 불 연산"
   ]
  },
  {
   "cell_type": "code",
   "execution_count": 157,
   "id": "444a7703",
   "metadata": {
    "ExecuteTime": {
     "end_time": "2024-03-04T02:45:04.789014Z",
     "start_time": "2024-03-04T02:45:04.785147Z"
    }
   },
   "outputs": [
    {
     "data": {
      "text/plain": [
       "True"
      ]
     },
     "execution_count": 157,
     "metadata": {},
     "output_type": "execute_result"
    }
   ],
   "source": [
    "bool('pyton') # 논리를 알려줌"
   ]
  },
  {
   "cell_type": "code",
   "execution_count": 158,
   "id": "612ef04c",
   "metadata": {
    "ExecuteTime": {
     "end_time": "2024-03-04T02:45:14.319317Z",
     "start_time": "2024-03-04T02:45:14.314348Z"
    }
   },
   "outputs": [
    {
     "data": {
      "text/plain": [
       "False"
      ]
     },
     "execution_count": 158,
     "metadata": {},
     "output_type": "execute_result"
    }
   ],
   "source": [
    "bool('')"
   ]
  },
  {
   "cell_type": "code",
   "execution_count": 159,
   "id": "541efe1a",
   "metadata": {
    "ExecuteTime": {
     "end_time": "2024-03-04T02:45:37.039101Z",
     "start_time": "2024-03-04T02:45:37.035254Z"
    }
   },
   "outputs": [
    {
     "data": {
      "text/plain": [
       "False"
      ]
     },
     "execution_count": 159,
     "metadata": {},
     "output_type": "execute_result"
    }
   ],
   "source": [
    "'python' == True # 값을 비교"
   ]
  },
  {
   "cell_type": "code",
   "execution_count": 160,
   "id": "d96723ba",
   "metadata": {
    "ExecuteTime": {
     "end_time": "2024-03-04T02:45:55.202272Z",
     "start_time": "2024-03-04T02:45:55.197289Z"
    }
   },
   "outputs": [
    {
     "name": "stderr",
     "output_type": "stream",
     "text": [
      "<>:1: SyntaxWarning: \"is\" with a literal. Did you mean \"==\"?\n",
      "<>:1: SyntaxWarning: \"is\" with a literal. Did you mean \"==\"?\n",
      "C:\\Users\\user\\AppData\\Local\\Temp\\ipykernel_13008\\486934944.py:1: SyntaxWarning: \"is\" with a literal. Did you mean \"==\"?\n",
      "  'python' is True\n"
     ]
    },
    {
     "data": {
      "text/plain": [
       "False"
      ]
     },
     "execution_count": 160,
     "metadata": {},
     "output_type": "execute_result"
    }
   ],
   "source": [
    "'python' is True "
   ]
  },
  {
   "cell_type": "code",
   "execution_count": 161,
   "id": "02114d26",
   "metadata": {
    "ExecuteTime": {
     "end_time": "2024-03-04T02:47:25.861755Z",
     "start_time": "2024-03-04T02:47:25.857055Z"
    }
   },
   "outputs": [
    {
     "data": {
      "text/plain": [
       "False"
      ]
     },
     "execution_count": 161,
     "metadata": {},
     "output_type": "execute_result"
    }
   ],
   "source": [
    "bool(0)"
   ]
  },
  {
   "cell_type": "code",
   "execution_count": 162,
   "id": "0b5305ed",
   "metadata": {
    "ExecuteTime": {
     "end_time": "2024-03-04T02:47:30.845205Z",
     "start_time": "2024-03-04T02:47:30.841341Z"
    }
   },
   "outputs": [
    {
     "data": {
      "text/plain": [
       "True"
      ]
     },
     "execution_count": 162,
     "metadata": {},
     "output_type": "execute_result"
    }
   ],
   "source": [
    "bool(3)"
   ]
  },
  {
   "cell_type": "code",
   "execution_count": 163,
   "id": "943f95f8",
   "metadata": {
    "ExecuteTime": {
     "end_time": "2024-03-04T02:47:50.832876Z",
     "start_time": "2024-03-04T02:47:50.828707Z"
    }
   },
   "outputs": [
    {
     "data": {
      "text/plain": [
       "True"
      ]
     },
     "execution_count": 163,
     "metadata": {},
     "output_type": "execute_result"
    }
   ],
   "source": [
    "bool([1, 2, 3])"
   ]
  },
  {
   "cell_type": "code",
   "execution_count": null,
   "id": "b0d8d767",
   "metadata": {},
   "outputs": [],
   "source": []
  }
 ],
 "metadata": {
  "kernelspec": {
   "display_name": "Python 3 (ipykernel)",
   "language": "python",
   "name": "python3"
  },
  "language_info": {
   "codemirror_mode": {
    "name": "ipython",
    "version": 3
   },
   "file_extension": ".py",
   "mimetype": "text/x-python",
   "name": "python",
   "nbconvert_exporter": "python",
   "pygments_lexer": "ipython3",
   "version": "3.11.5"
  },
  "toc": {
   "base_numbering": 1,
   "nav_menu": {},
   "number_sections": true,
   "sideBar": true,
   "skip_h1_title": false,
   "title_cell": "Table of Contents",
   "title_sidebar": "Contents",
   "toc_cell": false,
   "toc_position": {},
   "toc_section_display": true,
   "toc_window_display": false
  },
  "varInspector": {
   "cols": {
    "lenName": 16,
    "lenType": 16,
    "lenVar": 40
   },
   "kernels_config": {
    "python": {
     "delete_cmd_postfix": "",
     "delete_cmd_prefix": "del ",
     "library": "var_list.py",
     "varRefreshCmd": "print(var_dic_list())"
    },
    "r": {
     "delete_cmd_postfix": ") ",
     "delete_cmd_prefix": "rm(",
     "library": "var_list.r",
     "varRefreshCmd": "cat(var_dic_list()) "
    }
   },
   "types_to_exclude": [
    "module",
    "function",
    "builtin_function_or_method",
    "instance",
    "_Feature"
   ],
   "window_display": false
  },
  "widgets": {
   "application/vnd.jupyter.widget-state+json": {
    "state": {},
    "version_major": 2,
    "version_minor": 0
   }
  }
 },
 "nbformat": 4,
 "nbformat_minor": 5
}
