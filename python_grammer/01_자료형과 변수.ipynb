{
 "cells": [
  {
   "cell_type": "markdown",
   "id": "b4acafb1",
   "metadata": {},
   "source": [
    "# 1. 숫자형"
   ]
  },
  {
   "cell_type": "markdown",
   "id": "56ea05cd",
   "metadata": {},
   "source": [
    "## 정수형"
   ]
  },
  {
   "cell_type": "code",
   "execution_count": null,
   "id": "3cb09803",
   "metadata": {
    "scrolled": true
   },
   "outputs": [],
   "source": [
    "a = 123\n",
    "a"
   ]
  },
  {
   "cell_type": "code",
   "execution_count": null,
   "id": "d871a0bc",
   "metadata": {
    "scrolled": true
   },
   "outputs": [],
   "source": [
    "a = -178\n",
    "a"
   ]
  },
  {
   "cell_type": "markdown",
   "id": "431b12b7",
   "metadata": {},
   "source": [
    "## 실수형"
   ]
  },
  {
   "cell_type": "code",
   "execution_count": null,
   "id": "f3e75aa5",
   "metadata": {
    "scrolled": true
   },
   "outputs": [],
   "source": [
    "a = 1.2\n",
    "a"
   ]
  },
  {
   "cell_type": "code",
   "execution_count": null,
   "id": "b24e0493",
   "metadata": {
    "scrolled": true
   },
   "outputs": [],
   "source": [
    "a = -3.45\n",
    "a"
   ]
  },
  {
   "cell_type": "code",
   "execution_count": null,
   "id": "01a88190",
   "metadata": {
    "scrolled": true
   },
   "outputs": [],
   "source": [
    "a = 4.24E10\n",
    "a"
   ]
  },
  {
   "cell_type": "code",
   "execution_count": null,
   "id": "d8278bc7",
   "metadata": {
    "scrolled": true
   },
   "outputs": [],
   "source": [
    "a = 4.24e-10\n",
    "a"
   ]
  },
  {
   "cell_type": "markdown",
   "id": "6d5b5beb",
   "metadata": {},
   "source": [
    "## 8진수와 16진수"
   ]
  },
  {
   "cell_type": "code",
   "execution_count": null,
   "id": "c0cb5f22",
   "metadata": {
    "scrolled": true
   },
   "outputs": [],
   "source": [
    "a = 0o177\n",
    "a"
   ]
  },
  {
   "cell_type": "code",
   "execution_count": null,
   "id": "2bea02aa",
   "metadata": {
    "scrolled": true
   },
   "outputs": [],
   "source": [
    "a = 0x8ff\n",
    "b = 0xABC\n",
    "a, b"
   ]
  },
  {
   "cell_type": "markdown",
   "id": "d1e67a6d",
   "metadata": {},
   "source": [
    "## 사칙 연산"
   ]
  },
  {
   "cell_type": "code",
   "execution_count": null,
   "id": "869ed695",
   "metadata": {
    "scrolled": true
   },
   "outputs": [],
   "source": [
    "a=3\n",
    "b=4\n",
    "a+b"
   ]
  },
  {
   "cell_type": "code",
   "execution_count": null,
   "id": "e7f1bf10",
   "metadata": {
    "scrolled": true
   },
   "outputs": [],
   "source": [
    " a-b"
   ]
  },
  {
   "cell_type": "code",
   "execution_count": null,
   "id": "9bd0502e",
   "metadata": {
    "scrolled": true
   },
   "outputs": [],
   "source": [
    "a*b"
   ]
  },
  {
   "cell_type": "code",
   "execution_count": null,
   "id": "09387217",
   "metadata": {
    "scrolled": true
   },
   "outputs": [],
   "source": [
    "a/b"
   ]
  },
  {
   "cell_type": "markdown",
   "id": "e346302f",
   "metadata": {},
   "source": [
    "## 제곱 연산"
   ]
  },
  {
   "cell_type": "code",
   "execution_count": null,
   "id": "7139adb9",
   "metadata": {
    "scrolled": true
   },
   "outputs": [],
   "source": [
    "a=3\n",
    "b=4\n",
    "a**b"
   ]
  },
  {
   "cell_type": "markdown",
   "id": "eae73210",
   "metadata": {},
   "source": [
    "## 나눗셈 후 나머지 리턴"
   ]
  },
  {
   "cell_type": "code",
   "execution_count": null,
   "id": "084eba3d",
   "metadata": {
    "scrolled": true
   },
   "outputs": [],
   "source": [
    "7 % 3"
   ]
  },
  {
   "cell_type": "code",
   "execution_count": null,
   "id": "bd8b94e4",
   "metadata": {
    "scrolled": true
   },
   "outputs": [],
   "source": [
    "3 % 7"
   ]
  },
  {
   "cell_type": "markdown",
   "id": "3da62bf0",
   "metadata": {},
   "source": [
    "## 나눗셈 후 몫을 리턴"
   ]
  },
  {
   "cell_type": "code",
   "execution_count": null,
   "id": "b4df45f1",
   "metadata": {
    "scrolled": true
   },
   "outputs": [],
   "source": [
    "7 / 4 #단순 나눗셈"
   ]
  },
  {
   "cell_type": "code",
   "execution_count": null,
   "id": "571d45c9",
   "metadata": {
    "scrolled": true
   },
   "outputs": [],
   "source": [
    "7 // 4 #몫만 출력"
   ]
  },
  {
   "cell_type": "code",
   "execution_count": null,
   "id": "8248ce98",
   "metadata": {
    "scrolled": true
   },
   "outputs": [],
   "source": [
    "8 // 3"
   ]
  },
  {
   "cell_type": "markdown",
   "id": "c410cf3f",
   "metadata": {},
   "source": [
    "# 문자열 자료형"
   ]
  },
  {
   "cell_type": "markdown",
   "id": "dce9fccd",
   "metadata": {},
   "source": [
    "*주의) 파이썬은 대소문자를 구분한다!*"
   ]
  },
  {
   "cell_type": "code",
   "execution_count": null,
   "id": "9ea33a7a",
   "metadata": {
    "scrolled": true
   },
   "outputs": [],
   "source": [
    "\"Hello World\""
   ]
  },
  {
   "cell_type": "code",
   "execution_count": null,
   "id": "8881275b",
   "metadata": {
    "scrolled": true
   },
   "outputs": [],
   "source": [
    "Hello World #따옴표가 없어서 안된다!"
   ]
  },
  {
   "cell_type": "code",
   "execution_count": null,
   "id": "1fc8ffae",
   "metadata": {
    "scrolled": true
   },
   "outputs": [],
   "source": [
    "'Hello World'"
   ]
  },
  {
   "cell_type": "code",
   "execution_count": null,
   "id": "02443cd8",
   "metadata": {
    "scrolled": true
   },
   "outputs": [],
   "source": [
    "\"\"\"Hello World\"\"\""
   ]
  },
  {
   "cell_type": "code",
   "execution_count": null,
   "id": "085b6ea0",
   "metadata": {
    "scrolled": true
   },
   "outputs": [],
   "source": [
    "\" Hello World \""
   ]
  },
  {
   "cell_type": "markdown",
   "id": "96daa0e3",
   "metadata": {},
   "source": [
    "## 문자열에 작은따옴표 포함하기"
   ]
  },
  {
   "cell_type": "code",
   "execution_count": null,
   "id": "f2d8dba2",
   "metadata": {
    "scrolled": true
   },
   "outputs": [],
   "source": [
    "pyhton's favorite food is perl"
   ]
  },
  {
   "cell_type": "code",
   "execution_count": null,
   "id": "ab31b988",
   "metadata": {
    "scrolled": true
   },
   "outputs": [],
   "source": [
    "\"python's favorite food is perl\""
   ]
  },
  {
   "cell_type": "markdown",
   "id": "468ec75d",
   "metadata": {},
   "source": [
    "## 문자열에 큰따옴표 포함하기"
   ]
  },
  {
   "cell_type": "code",
   "execution_count": null,
   "id": "5ec0d13c",
   "metadata": {
    "scrolled": true
   },
   "outputs": [],
   "source": []
  },
  {
   "cell_type": "markdown",
   "id": "ea96b1a6",
   "metadata": {},
   "source": [
    "## 역슬래시 사용!"
   ]
  },
  {
   "cell_type": "code",
   "execution_count": null,
   "id": "c69805ff",
   "metadata": {
    "scrolled": true
   },
   "outputs": [],
   "source": [
    "'pyhton\\'s favorite food is perl'"
   ]
  },
  {
   "cell_type": "code",
   "execution_count": null,
   "id": "fd0ad969",
   "metadata": {
    "scrolled": true
   },
   "outputs": [],
   "source": [
    "'\\\"파이썬 누가 쉽데? 겁나 어려움! ㅜ \\\" 재성이 말했다.'"
   ]
  },
  {
   "cell_type": "code",
   "execution_count": null,
   "id": "505c38ed",
   "metadata": {
    "scrolled": true
   },
   "outputs": [],
   "source": []
  },
  {
   "cell_type": "markdown",
   "id": "b8760ed2",
   "metadata": {},
   "source": [
    "***"
   ]
  },
  {
   "cell_type": "code",
   "execution_count": 7,
   "id": "58ca4551",
   "metadata": {
    "ExecuteTime": {
     "end_time": "2024-02-28T01:44:43.122112Z",
     "start_time": "2024-02-28T01:44:43.116848Z"
    },
    "scrolled": true
   },
   "outputs": [
    {
     "data": {
      "text/plain": [
       "17"
      ]
     },
     "execution_count": 7,
     "metadata": {},
     "output_type": "execute_result"
    }
   ],
   "source": [
    "a = \"life is too short\"\n",
    "len(a)"
   ]
  },
  {
   "cell_type": "markdown",
   "id": "5686fbfe",
   "metadata": {},
   "source": [
    "## 문자열 인덱싱"
   ]
  },
  {
   "cell_type": "code",
   "execution_count": 8,
   "id": "23627a9e",
   "metadata": {
    "ExecuteTime": {
     "end_time": "2024-02-28T01:44:45.296619Z",
     "start_time": "2024-02-28T01:44:45.291158Z"
    },
    "scrolled": true
   },
   "outputs": [
    {
     "data": {
      "text/plain": [
       "' '"
      ]
     },
     "execution_count": 8,
     "metadata": {},
     "output_type": "execute_result"
    }
   ],
   "source": [
    "a = \"Life is too short, You need Python\"\n",
    "a[-7]"
   ]
  },
  {
   "cell_type": "markdown",
   "id": "7062305a",
   "metadata": {},
   "source": [
    "## 문자열 슬라이싱 #end -> +1"
   ]
  },
  {
   "cell_type": "code",
   "execution_count": 10,
   "id": "7f4a8b7b",
   "metadata": {
    "ExecuteTime": {
     "end_time": "2024-02-28T01:45:46.168412Z",
     "start_time": "2024-02-28T01:45:46.163296Z"
    },
    "scrolled": true
   },
   "outputs": [
    {
     "data": {
      "text/plain": [
       "'Life'"
      ]
     },
     "execution_count": 10,
     "metadata": {},
     "output_type": "execute_result"
    }
   ],
   "source": [
    "a = \"Life is too short, You need Python\"\n",
    "b = a[0] + a[1] + a[2] + a[3]\n",
    "b\n",
    "'Life'"
   ]
  },
  {
   "cell_type": "code",
   "execution_count": 19,
   "id": "f323abfa",
   "metadata": {
    "ExecuteTime": {
     "end_time": "2024-02-28T01:49:14.232702Z",
     "start_time": "2024-02-28T01:49:14.227445Z"
    },
    "scrolled": true
   },
   "outputs": [
    {
     "data": {
      "text/plain": [
       "'too short'"
      ]
     },
     "execution_count": 19,
     "metadata": {},
     "output_type": "execute_result"
    }
   ],
   "source": [
    "a = \"Life is too short, You need Python\"\n",
    "a[8:17]"
   ]
  },
  {
   "cell_type": "code",
   "execution_count": 20,
   "id": "9ed29b8e",
   "metadata": {
    "ExecuteTime": {
     "end_time": "2024-02-28T01:50:05.654208Z",
     "start_time": "2024-02-28T01:50:05.648542Z"
    },
    "scrolled": true
   },
   "outputs": [
    {
     "data": {
      "text/plain": [
       "'Life'"
      ]
     },
     "execution_count": 20,
     "metadata": {},
     "output_type": "execute_result"
    }
   ],
   "source": [
    "a[0:4]"
   ]
  },
  {
   "cell_type": "code",
   "execution_count": 21,
   "id": "ae9bbc14",
   "metadata": {
    "ExecuteTime": {
     "end_time": "2024-02-28T01:50:56.396176Z",
     "start_time": "2024-02-28T01:50:56.391039Z"
    }
   },
   "outputs": [
    {
     "data": {
      "text/plain": [
       "False"
      ]
     },
     "execution_count": 21,
     "metadata": {},
     "output_type": "execute_result"
    }
   ],
   "source": [
    "a[0:4] == a[0:5]"
   ]
  },
  {
   "cell_type": "code",
   "execution_count": 22,
   "id": "3ffff79a",
   "metadata": {
    "ExecuteTime": {
     "end_time": "2024-02-28T02:05:11.257978Z",
     "start_time": "2024-02-28T02:05:11.252813Z"
    }
   },
   "outputs": [
    {
     "data": {
      "text/plain": [
       "'You need Python'"
      ]
     },
     "execution_count": 22,
     "metadata": {},
     "output_type": "execute_result"
    }
   ],
   "source": [
    "a[19:]"
   ]
  },
  {
   "cell_type": "code",
   "execution_count": 23,
   "id": "0d54a8b8",
   "metadata": {
    "ExecuteTime": {
     "end_time": "2024-02-28T02:05:39.855360Z",
     "start_time": "2024-02-28T02:05:39.850965Z"
    }
   },
   "outputs": [
    {
     "data": {
      "text/plain": [
       "'Life is too short'"
      ]
     },
     "execution_count": 23,
     "metadata": {},
     "output_type": "execute_result"
    }
   ],
   "source": [
    "a[:17]"
   ]
  },
  {
   "cell_type": "code",
   "execution_count": 24,
   "id": "f06ca41c",
   "metadata": {
    "ExecuteTime": {
     "end_time": "2024-02-28T02:05:45.964959Z",
     "start_time": "2024-02-28T02:05:45.958972Z"
    }
   },
   "outputs": [
    {
     "data": {
      "text/plain": [
       "'Life is too short, You need Python'"
      ]
     },
     "execution_count": 24,
     "metadata": {},
     "output_type": "execute_result"
    }
   ],
   "source": [
    "a[:]"
   ]
  },
  {
   "cell_type": "code",
   "execution_count": 25,
   "id": "bb5d8994",
   "metadata": {
    "ExecuteTime": {
     "end_time": "2024-02-28T02:06:28.131321Z",
     "start_time": "2024-02-28T02:06:28.125265Z"
    }
   },
   "outputs": [
    {
     "data": {
      "text/plain": [
       "'You need'"
      ]
     },
     "execution_count": 25,
     "metadata": {},
     "output_type": "execute_result"
    }
   ],
   "source": [
    "a[19:-7]"
   ]
  },
  {
   "cell_type": "code",
   "execution_count": 29,
   "id": "26bc08c8",
   "metadata": {
    "ExecuteTime": {
     "end_time": "2024-02-28T02:09:05.570162Z",
     "start_time": "2024-02-28T02:09:05.563952Z"
    }
   },
   "outputs": [
    {
     "data": {
      "text/plain": [
       "('20230228', 'Cold')"
      ]
     },
     "execution_count": 29,
     "metadata": {},
     "output_type": "execute_result"
    }
   ],
   "source": [
    "a = \"20230228Cold\"\n",
    "date = a[:8]\n",
    "weather = a[8:]\n",
    "date, weather"
   ]
  },
  {
   "cell_type": "code",
   "execution_count": 30,
   "id": "b9393e95",
   "metadata": {
    "ExecuteTime": {
     "end_time": "2024-02-28T02:09:10.455764Z",
     "start_time": "2024-02-28T02:09:10.448868Z"
    }
   },
   "outputs": [
    {
     "data": {
      "text/plain": [
       "('2023', '0228', '1Cold')"
      ]
     },
     "execution_count": 30,
     "metadata": {},
     "output_type": "execute_result"
    }
   ],
   "source": [
    "a = \"202302281Cold\"\n",
    "year = a[0:4]\n",
    "day = a[4:8]\n",
    "weather = a[8:]\n",
    "year, day, weather"
   ]
  },
  {
   "cell_type": "code",
   "execution_count": 32,
   "id": "36732a19",
   "metadata": {
    "ExecuteTime": {
     "end_time": "2024-02-28T02:10:18.405869Z",
     "start_time": "2024-02-28T02:10:18.389745Z"
    }
   },
   "outputs": [
    {
     "ename": "TypeError",
     "evalue": "'str' object does not support item assignment",
     "output_type": "error",
     "traceback": [
      "\u001b[1;31m---------------------------------------------------------------------------\u001b[0m",
      "\u001b[1;31mTypeError\u001b[0m                                 Traceback (most recent call last)",
      "Cell \u001b[1;32mIn[32], line 3\u001b[0m\n\u001b[0;32m      1\u001b[0m \u001b[38;5;66;03m# 문자열 수정하기\u001b[39;00m\n\u001b[0;32m      2\u001b[0m a \u001b[38;5;241m=\u001b[39m \u001b[38;5;124m'\u001b[39m\u001b[38;5;124mPithon\u001b[39m\u001b[38;5;124m'\u001b[39m\n\u001b[1;32m----> 3\u001b[0m a[\u001b[38;5;241m1\u001b[39m] \u001b[38;5;241m=\u001b[39m \u001b[38;5;124m'\u001b[39m\u001b[38;5;124my\u001b[39m\u001b[38;5;124m'\u001b[39m\n\u001b[0;32m      4\u001b[0m a\n",
      "\u001b[1;31mTypeError\u001b[0m: 'str' object does not support item assignment"
     ]
    }
   ],
   "source": [
    "# 문자열 수정하기 => 문자열은 변경 불가능하다!\n",
    "a = 'Pithon'\n",
    "a[1] = 'y'\n",
    "a"
   ]
  },
  {
   "cell_type": "code",
   "execution_count": 33,
   "id": "c743a1e0",
   "metadata": {
    "ExecuteTime": {
     "end_time": "2024-02-28T02:12:45.644802Z",
     "start_time": "2024-02-28T02:12:45.638577Z"
    }
   },
   "outputs": [
    {
     "data": {
      "text/plain": [
       "('P', 'P')"
      ]
     },
     "execution_count": 33,
     "metadata": {},
     "output_type": "execute_result"
    }
   ],
   "source": [
    "a[0], a[:1]"
   ]
  },
  {
   "cell_type": "code",
   "execution_count": 34,
   "id": "f5611d95",
   "metadata": {
    "ExecuteTime": {
     "end_time": "2024-02-28T02:12:51.910099Z",
     "start_time": "2024-02-28T02:12:51.903891Z"
    }
   },
   "outputs": [
    {
     "data": {
      "text/plain": [
       "'thon'"
      ]
     },
     "execution_count": 34,
     "metadata": {},
     "output_type": "execute_result"
    }
   ],
   "source": [
    "a[2:]"
   ]
  },
  {
   "cell_type": "code",
   "execution_count": 35,
   "id": "aae61077",
   "metadata": {
    "ExecuteTime": {
     "end_time": "2024-02-28T02:13:10.542329Z",
     "start_time": "2024-02-28T02:13:10.537245Z"
    }
   },
   "outputs": [
    {
     "data": {
      "text/plain": [
       "'Python'"
      ]
     },
     "execution_count": 35,
     "metadata": {},
     "output_type": "execute_result"
    }
   ],
   "source": [
    "a[:1] + 'y' + a[2:]"
   ]
  },
  {
   "cell_type": "code",
   "execution_count": 36,
   "id": "72c2f55a",
   "metadata": {
    "ExecuteTime": {
     "end_time": "2024-02-28T02:14:23.822613Z",
     "start_time": "2024-02-28T02:14:23.803068Z"
    }
   },
   "outputs": [
    {
     "ename": "TypeError",
     "evalue": "'str' object does not support item assignment",
     "output_type": "error",
     "traceback": [
      "\u001b[1;31m---------------------------------------------------------------------------\u001b[0m",
      "\u001b[1;31mTypeError\u001b[0m                                 Traceback (most recent call last)",
      "Cell \u001b[1;32mIn[36], line 2\u001b[0m\n\u001b[0;32m      1\u001b[0m a \u001b[38;5;241m=\u001b[39m \u001b[38;5;124m'\u001b[39m\u001b[38;5;124m파이손은 어려워\u001b[39m\u001b[38;5;124m'\u001b[39m\n\u001b[1;32m----> 2\u001b[0m a[\u001b[38;5;241m2\u001b[39m] \u001b[38;5;241m=\u001b[39m \u001b[38;5;124m'\u001b[39m\u001b[38;5;124m썬\u001b[39m\u001b[38;5;124m'\u001b[39m\n\u001b[0;32m      3\u001b[0m a\n",
      "\u001b[1;31mTypeError\u001b[0m: 'str' object does not support item assignment"
     ]
    }
   ],
   "source": [
    "a = '파이손은 어려워'\n",
    "a[2] = '썬'\n",
    "a"
   ]
  },
  {
   "cell_type": "code",
   "execution_count": 38,
   "id": "f2ec6252",
   "metadata": {
    "ExecuteTime": {
     "end_time": "2024-02-28T02:14:58.527399Z",
     "start_time": "2024-02-28T02:14:58.522461Z"
    }
   },
   "outputs": [
    {
     "data": {
      "text/plain": [
       "'파이'"
      ]
     },
     "execution_count": 38,
     "metadata": {},
     "output_type": "execute_result"
    }
   ],
   "source": [
    "a[:2]"
   ]
  },
  {
   "cell_type": "code",
   "execution_count": 39,
   "id": "2c88d955",
   "metadata": {
    "ExecuteTime": {
     "end_time": "2024-02-28T02:15:20.285703Z",
     "start_time": "2024-02-28T02:15:20.280630Z"
    }
   },
   "outputs": [
    {
     "data": {
      "text/plain": [
       "'손은 어려워'"
      ]
     },
     "execution_count": 39,
     "metadata": {},
     "output_type": "execute_result"
    }
   ],
   "source": [
    "a[2:]"
   ]
  },
  {
   "cell_type": "code",
   "execution_count": 41,
   "id": "46c98c74",
   "metadata": {
    "ExecuteTime": {
     "end_time": "2024-02-28T02:16:09.925335Z",
     "start_time": "2024-02-28T02:16:09.920304Z"
    }
   },
   "outputs": [
    {
     "data": {
      "text/plain": [
       "'파이썬은 어려워'"
      ]
     },
     "execution_count": 41,
     "metadata": {},
     "output_type": "execute_result"
    }
   ],
   "source": [
    "a[:2] + '썬' + a[3:]"
   ]
  },
  {
   "cell_type": "markdown",
   "id": "7c304cd8",
   "metadata": {},
   "source": [
    "## 문자열 포매팅"
   ]
  },
  {
   "cell_type": "code",
   "execution_count": 42,
   "id": "ada849ab",
   "metadata": {
    "ExecuteTime": {
     "end_time": "2024-02-28T02:17:19.601370Z",
     "start_time": "2024-02-28T02:17:19.595616Z"
    }
   },
   "outputs": [
    {
     "data": {
      "text/plain": [
       "'I eat 3 apples.'"
      ]
     },
     "execution_count": 42,
     "metadata": {},
     "output_type": "execute_result"
    }
   ],
   "source": [
    "# 숫자 바로 대입하는 방법!\n",
    "\"I eat %d apples.\" %3"
   ]
  },
  {
   "cell_type": "code",
   "execution_count": 51,
   "id": "18827045",
   "metadata": {
    "ExecuteTime": {
     "end_time": "2024-02-28T02:19:23.986505Z",
     "start_time": "2024-02-28T02:19:23.980523Z"
    }
   },
   "outputs": [
    {
     "data": {
      "text/plain": [
       "'I eat five apples.'"
      ]
     },
     "execution_count": 51,
     "metadata": {},
     "output_type": "execute_result"
    }
   ],
   "source": [
    "# 문자열 바로 대입!\n",
    "\"I eat %s apples.\" %\"five\""
   ]
  },
  {
   "cell_type": "code",
   "execution_count": 55,
   "id": "87cb48cb",
   "metadata": {
    "ExecuteTime": {
     "end_time": "2024-02-28T02:20:41.974538Z",
     "start_time": "2024-02-28T02:20:41.968609Z"
    }
   },
   "outputs": [
    {
     "data": {
      "text/plain": [
       "'I eat 3 apples.'"
      ]
     },
     "execution_count": 55,
     "metadata": {},
     "output_type": "execute_result"
    }
   ],
   "source": [
    "# 숫자 값을 나타내는 변수로 대입\n",
    "number = 3\n",
    "\"I eat %d apples.\" %number"
   ]
  },
  {
   "cell_type": "code",
   "execution_count": 58,
   "id": "8bd9f2d0",
   "metadata": {
    "ExecuteTime": {
     "end_time": "2024-02-28T02:21:54.649123Z",
     "start_time": "2024-02-28T02:21:54.643087Z"
    }
   },
   "outputs": [
    {
     "data": {
      "text/plain": [
       "'I ate 10 apples. so I was sick for three days.'"
      ]
     },
     "execution_count": 58,
     "metadata": {},
     "output_type": "execute_result"
    }
   ],
   "source": [
    "number = 10\n",
    "day = \"three\"\n",
    "\"I ate %d apples. so I was sick for %s days.\" % (number, day)"
   ]
  },
  {
   "cell_type": "code",
   "execution_count": 59,
   "id": "05df6c70",
   "metadata": {
    "ExecuteTime": {
     "end_time": "2024-02-28T02:23:18.832347Z",
     "start_time": "2024-02-28T02:23:18.826366Z"
    }
   },
   "outputs": [
    {
     "data": {
      "text/plain": [
       "'I eat 3 apples.'"
      ]
     },
     "execution_count": 59,
     "metadata": {},
     "output_type": "execute_result"
    }
   ],
   "source": [
    "\"I eat %s apples.\" %3 # 문자열은 숫자를 강제로 문자로 변환한다."
   ]
  },
  {
   "cell_type": "code",
   "execution_count": 61,
   "id": "72861eb1",
   "metadata": {
    "ExecuteTime": {
     "end_time": "2024-02-28T02:27:01.705588Z",
     "start_time": "2024-02-28T02:27:01.700660Z"
    }
   },
   "outputs": [
    {
     "data": {
      "text/plain": [
       "'오늘의 습도는 65%입니다.'"
      ]
     },
     "execution_count": 61,
     "metadata": {},
     "output_type": "execute_result"
    }
   ],
   "source": [
    "\"오늘의 습도는 %d%%입니다.\" %65"
   ]
  },
  {
   "cell_type": "markdown",
   "id": "f3c57904",
   "metadata": {},
   "source": [
    "## 소수점 표현하기"
   ]
  },
  {
   "cell_type": "code",
   "execution_count": 62,
   "id": "ee7bb240",
   "metadata": {
    "ExecuteTime": {
     "end_time": "2024-02-28T02:31:06.702150Z",
     "start_time": "2024-02-28T02:31:06.697093Z"
    }
   },
   "outputs": [
    {
     "data": {
      "text/plain": [
       "'3.4213'"
      ]
     },
     "execution_count": 62,
     "metadata": {},
     "output_type": "execute_result"
    }
   ],
   "source": [
    "\"%0.4f\" %3.42134435"
   ]
  },
  {
   "cell_type": "code",
   "execution_count": 63,
   "id": "75d04225",
   "metadata": {
    "ExecuteTime": {
     "end_time": "2024-02-28T02:31:27.364909Z",
     "start_time": "2024-02-28T02:31:27.357873Z"
    }
   },
   "outputs": [
    {
     "data": {
      "text/plain": [
       "'    3.4213'"
      ]
     },
     "execution_count": 63,
     "metadata": {},
     "output_type": "execute_result"
    }
   ],
   "source": [
    "\"%10.4f\" %3.42134435"
   ]
  },
  {
   "cell_type": "markdown",
   "id": "582eba23",
   "metadata": {},
   "source": [
    "### format 함수를 사용한 포맷팅"
   ]
  },
  {
   "cell_type": "code",
   "execution_count": 64,
   "id": "1b36e64c",
   "metadata": {
    "ExecuteTime": {
     "end_time": "2024-02-28T02:33:04.475096Z",
     "start_time": "2024-02-28T02:33:04.469666Z"
    }
   },
   "outputs": [
    {
     "data": {
      "text/plain": [
       "'I eat 3 apples'"
      ]
     },
     "execution_count": 64,
     "metadata": {},
     "output_type": "execute_result"
    }
   ],
   "source": [
    "\"I eat {0} apples\".format(3)"
   ]
  },
  {
   "cell_type": "code",
   "execution_count": 67,
   "id": "26402b2d",
   "metadata": {
    "ExecuteTime": {
     "end_time": "2024-02-28T02:34:19.588589Z",
     "start_time": "2024-02-28T02:34:19.583178Z"
    }
   },
   "outputs": [
    {
     "data": {
      "text/plain": [
       "'I eat 3 apples'"
      ]
     },
     "execution_count": 67,
     "metadata": {},
     "output_type": "execute_result"
    }
   ],
   "source": [
    "\"I eat {0} apples\".format(3)"
   ]
  },
  {
   "cell_type": "code",
   "execution_count": 69,
   "id": "c3164224",
   "metadata": {
    "ExecuteTime": {
     "end_time": "2024-02-28T02:34:41.108472Z",
     "start_time": "2024-02-28T02:34:41.102288Z"
    }
   },
   "outputs": [
    {
     "data": {
      "text/plain": [
       "'I eat five apples'"
      ]
     },
     "execution_count": 69,
     "metadata": {},
     "output_type": "execute_result"
    }
   ],
   "source": [
    "\"I eat {} apples\".format('five')"
   ]
  },
  {
   "cell_type": "code",
   "execution_count": 70,
   "id": "29cbb360",
   "metadata": {
    "ExecuteTime": {
     "end_time": "2024-02-28T02:35:14.535170Z",
     "start_time": "2024-02-28T02:35:14.529190Z"
    }
   },
   "outputs": [
    {
     "data": {
      "text/plain": [
       "'I eat 10 apples'"
      ]
     },
     "execution_count": 70,
     "metadata": {},
     "output_type": "execute_result"
    }
   ],
   "source": [
    "number = 10\n",
    "\"I eat {0} apples\".format(number)"
   ]
  },
  {
   "cell_type": "code",
   "execution_count": 78,
   "id": "e6653317",
   "metadata": {
    "ExecuteTime": {
     "end_time": "2024-02-28T02:38:12.170884Z",
     "start_time": "2024-02-28T02:38:12.165013Z"
    }
   },
   "outputs": [
    {
     "data": {
      "text/plain": [
       "'I ate 10 apples. so I was sick for three days.'"
      ]
     },
     "execution_count": 78,
     "metadata": {},
     "output_type": "execute_result"
    }
   ],
   "source": [
    "number = 10\n",
    "day = \"three\"\n",
    "\"I ate {0} apples. so I was sick for {1} days.\".format(number, day)"
   ]
  },
  {
   "cell_type": "code",
   "execution_count": 75,
   "id": "b4f3e8b7",
   "metadata": {
    "ExecuteTime": {
     "end_time": "2024-02-28T02:37:17.432013Z",
     "start_time": "2024-02-28T02:37:17.425591Z"
    }
   },
   "outputs": [
    {
     "data": {
      "text/plain": [
       "'I ate 10 apples. so I was sick for 3 days.'"
      ]
     },
     "execution_count": 75,
     "metadata": {},
     "output_type": "execute_result"
    }
   ],
   "source": [
    " \"I ate {number} apples. so I was sick for {day} days.\".format(number=10, day=3)"
   ]
  },
  {
   "cell_type": "code",
   "execution_count": 79,
   "id": "927ebda2",
   "metadata": {
    "ExecuteTime": {
     "end_time": "2024-02-28T02:39:08.888867Z",
     "start_time": "2024-02-28T02:39:08.883700Z"
    }
   },
   "outputs": [
    {
     "data": {
      "text/plain": [
       "'I ate 10 apples. so I was sick for 3 days.'"
      ]
     },
     "execution_count": 79,
     "metadata": {},
     "output_type": "execute_result"
    }
   ],
   "source": [
    "\"I ate {0} apples. so I was sick for {day} days.\".format(10, day=3)"
   ]
  },
  {
   "cell_type": "markdown",
   "id": "d248281f",
   "metadata": {},
   "source": [
    "## 소수점 표현하기"
   ]
  },
  {
   "cell_type": "code",
   "execution_count": 80,
   "id": "c451e756",
   "metadata": {
    "ExecuteTime": {
     "end_time": "2024-02-28T02:40:45.046771Z",
     "start_time": "2024-02-28T02:40:45.041628Z"
    }
   },
   "outputs": [
    {
     "data": {
      "text/plain": [
       "'3.4213'"
      ]
     },
     "execution_count": 80,
     "metadata": {},
     "output_type": "execute_result"
    }
   ],
   "source": [
    "y = 3.42134234\n",
    "\"{0:0.4f}\".format(y)"
   ]
  },
  {
   "cell_type": "markdown",
   "id": "0a29c9cc",
   "metadata": {},
   "source": [
    "## f문자열 포매팅(강추!!)"
   ]
  },
  {
   "cell_type": "code",
   "execution_count": 82,
   "id": "589ae7c4",
   "metadata": {
    "ExecuteTime": {
     "end_time": "2024-02-28T02:41:47.640234Z",
     "start_time": "2024-02-28T02:41:47.635722Z"
    }
   },
   "outputs": [
    {
     "data": {
      "text/plain": [
       "'나의 이름은 홍길동입니다. 나이는 30입니다.'"
      ]
     },
     "execution_count": 82,
     "metadata": {},
     "output_type": "execute_result"
    }
   ],
   "source": [
    "name = '홍길동'\n",
    "age = 30\n",
    "f'나의 이름은 {name}입니다. 나이는 {age}입니다.'"
   ]
  },
  {
   "cell_type": "code",
   "execution_count": 85,
   "id": "5fe4ede8",
   "metadata": {
    "ExecuteTime": {
     "end_time": "2024-02-28T02:43:05.124133Z",
     "start_time": "2024-02-28T02:43:05.119148Z"
    }
   },
   "outputs": [
    {
     "data": {
      "text/plain": [
       "'나는 내년이면 31살이 된다.'"
      ]
     },
     "execution_count": 85,
     "metadata": {},
     "output_type": "execute_result"
    }
   ],
   "source": [
    "age = 30\n",
    "f'나는 내년이면 {age + 1}살이 된다.'"
   ]
  },
  {
   "cell_type": "code",
   "execution_count": 86,
   "id": "958aaa1a",
   "metadata": {
    "ExecuteTime": {
     "end_time": "2024-02-28T02:43:47.394333Z",
     "start_time": "2024-02-28T02:43:47.388354Z"
    }
   },
   "outputs": [
    {
     "data": {
      "text/plain": [
       "'나의 이름은 홍길동입니다. 나이는 30입니다.'"
      ]
     },
     "execution_count": 86,
     "metadata": {},
     "output_type": "execute_result"
    }
   ],
   "source": [
    "d = {'name':'홍길동', 'age':30}\n",
    "f'나의 이름은 {d[\"name\"]}입니다. 나이는 {d[\"age\"]}입니다.'"
   ]
  },
  {
   "cell_type": "markdown",
   "id": "c9ad76a5",
   "metadata": {},
   "source": [
    "## 문자열 관련 함수들"
   ]
  },
  {
   "cell_type": "code",
   "execution_count": 87,
   "id": "d745f180",
   "metadata": {
    "ExecuteTime": {
     "end_time": "2024-02-28T02:45:08.182709Z",
     "start_time": "2024-02-28T02:45:08.177962Z"
    }
   },
   "outputs": [
    {
     "data": {
      "text/plain": [
       "2"
      ]
     },
     "execution_count": 87,
     "metadata": {},
     "output_type": "execute_result"
    }
   ],
   "source": [
    "# 문자 개수 세기 count\n",
    "a = \"hobby\"\n",
    "a.count('b')"
   ]
  },
  {
   "cell_type": "code",
   "execution_count": 90,
   "id": "9a464933",
   "metadata": {
    "ExecuteTime": {
     "end_time": "2024-02-28T02:46:38.965666Z",
     "start_time": "2024-02-28T02:46:38.959686Z"
    }
   },
   "outputs": [
    {
     "data": {
      "text/plain": [
       "14"
      ]
     },
     "execution_count": 90,
     "metadata": {},
     "output_type": "execute_result"
    }
   ],
   "source": [
    "# 위치 알려주기 find\n",
    "a = \"Python is the best choice\"\n",
    "a.find('b')"
   ]
  },
  {
   "cell_type": "code",
   "execution_count": 89,
   "id": "777e0b95",
   "metadata": {
    "ExecuteTime": {
     "end_time": "2024-02-28T02:46:28.987981Z",
     "start_time": "2024-02-28T02:46:28.981987Z"
    }
   },
   "outputs": [
    {
     "data": {
      "text/plain": [
       "-1"
      ]
     },
     "execution_count": 89,
     "metadata": {},
     "output_type": "execute_result"
    }
   ],
   "source": [
    "a = \"Python is the best choice\"\n",
    "a.find('k')"
   ]
  },
  {
   "cell_type": "code",
   "execution_count": 91,
   "id": "2f3d6683",
   "metadata": {
    "ExecuteTime": {
     "end_time": "2024-02-28T02:47:10.672140Z",
     "start_time": "2024-02-28T02:47:10.666139Z"
    }
   },
   "outputs": [
    {
     "data": {
      "text/plain": [
       "8"
      ]
     },
     "execution_count": 91,
     "metadata": {},
     "output_type": "execute_result"
    }
   ],
   "source": [
    "# 위치 알려주기 index\n",
    "a = \"Life is too short\"\n",
    "a.index('t')"
   ]
  },
  {
   "cell_type": "code",
   "execution_count": 93,
   "id": "7aa6eada",
   "metadata": {
    "ExecuteTime": {
     "end_time": "2024-02-28T02:47:37.565896Z",
     "start_time": "2024-02-28T02:47:37.548676Z"
    }
   },
   "outputs": [
    {
     "ename": "ValueError",
     "evalue": "substring not found",
     "output_type": "error",
     "traceback": [
      "\u001b[1;31m---------------------------------------------------------------------------\u001b[0m",
      "\u001b[1;31mValueError\u001b[0m                                Traceback (most recent call last)",
      "Cell \u001b[1;32mIn[93], line 1\u001b[0m\n\u001b[1;32m----> 1\u001b[0m a\u001b[38;5;241m.\u001b[39mindex(\u001b[38;5;124m'\u001b[39m\u001b[38;5;124mk\u001b[39m\u001b[38;5;124m'\u001b[39m)\n",
      "\u001b[1;31mValueError\u001b[0m: substring not found"
     ]
    }
   ],
   "source": [
    "a.index('k') # 에러가 난다!"
   ]
  },
  {
   "cell_type": "markdown",
   "id": "6ff30fc2",
   "metadata": {},
   "source": [
    "find 와 index는 사용 환경에 따라 다르다(프로그래밍적 사고!)   \n",
    "정보가 없어도 계속 동작이 되어야해! -> 멈추면 안돼 => find   \n",
    "에러를 확인해야해! 에러가 나면 크리티컬한 오류야! => index"
   ]
  },
  {
   "cell_type": "code",
   "execution_count": 94,
   "id": "199561cc",
   "metadata": {
    "ExecuteTime": {
     "end_time": "2024-02-28T02:49:48.805419Z",
     "start_time": "2024-02-28T02:49:48.799710Z"
    }
   },
   "outputs": [
    {
     "data": {
      "text/plain": [
       "'abcd'"
      ]
     },
     "execution_count": 94,
     "metadata": {},
     "output_type": "execute_result"
    }
   ],
   "source": [
    "# 문자열 삽입 join\n",
    "a = 'abcd'\n",
    "a"
   ]
  },
  {
   "cell_type": "code",
   "execution_count": 96,
   "id": "c0bdad44",
   "metadata": {
    "ExecuteTime": {
     "end_time": "2024-02-28T02:50:31.833247Z",
     "start_time": "2024-02-28T02:50:31.827099Z"
    }
   },
   "outputs": [
    {
     "data": {
      "text/plain": [
       "'a,b,c,d'"
      ]
     },
     "execution_count": 96,
     "metadata": {},
     "output_type": "execute_result"
    }
   ],
   "source": [
    "\",\".join(a)"
   ]
  },
  {
   "cell_type": "code",
   "execution_count": 1,
   "id": "d4759102",
   "metadata": {
    "ExecuteTime": {
     "end_time": "2024-02-28T04:02:44.245319Z",
     "start_time": "2024-02-28T04:02:44.239427Z"
    }
   },
   "outputs": [
    {
     "data": {
      "text/plain": [
       "['a', 'b', 'c', 'd']"
      ]
     },
     "execution_count": 1,
     "metadata": {},
     "output_type": "execute_result"
    }
   ],
   "source": [
    "a = ['a', 'b', 'c', 'd']\n",
    "a"
   ]
  },
  {
   "cell_type": "code",
   "execution_count": 16,
   "id": "69de25da",
   "metadata": {
    "ExecuteTime": {
     "end_time": "2024-02-28T04:07:51.208962Z",
     "start_time": "2024-02-28T04:07:51.204649Z"
    }
   },
   "outputs": [
    {
     "data": {
      "text/plain": [
       "'HELLO WORLD'"
      ]
     },
     "execution_count": 16,
     "metadata": {},
     "output_type": "execute_result"
    }
   ],
   "source": [
    "# 소문자를 대문자로 바꾸기 upper / ()의 유무는 함수나 객체냐의 차이\n",
    "a = 'hello world'\n",
    "a.upper()"
   ]
  },
  {
   "cell_type": "code",
   "execution_count": 17,
   "id": "4fd0a904",
   "metadata": {
    "ExecuteTime": {
     "end_time": "2024-02-28T04:08:25.912051Z",
     "start_time": "2024-02-28T04:08:25.908108Z"
    }
   },
   "outputs": [
    {
     "name": "stdout",
     "output_type": "stream",
     "text": [
      "Help on built-in function print in module builtins:\n",
      "\n",
      "print(*args, sep=' ', end='\\n', file=None, flush=False)\n",
      "    Prints the values to a stream, or to sys.stdout by default.\n",
      "    \n",
      "    sep\n",
      "      string inserted between values, default a space.\n",
      "    end\n",
      "      string appended after the last value, default a newline.\n",
      "    file\n",
      "      a file-like object (stream); defaults to the current sys.stdout.\n",
      "    flush\n",
      "      whether to forcibly flush the stream.\n",
      "\n"
     ]
    }
   ],
   "source": [
    "help(print)"
   ]
  },
  {
   "cell_type": "code",
   "execution_count": 19,
   "id": "979e7b62",
   "metadata": {
    "ExecuteTime": {
     "end_time": "2024-02-28T04:10:34.315997Z",
     "start_time": "2024-02-28T04:10:34.310220Z"
    }
   },
   "outputs": [
    {
     "data": {
      "text/plain": [
       "'hello world'"
      ]
     },
     "execution_count": 19,
     "metadata": {},
     "output_type": "execute_result"
    }
   ],
   "source": [
    "a = 'HELLO WORLD'\n",
    "a.lower()"
   ]
  },
  {
   "cell_type": "code",
   "execution_count": 20,
   "id": "ad506742",
   "metadata": {
    "ExecuteTime": {
     "end_time": "2024-02-28T04:11:10.757424Z",
     "start_time": "2024-02-28T04:11:10.752441Z"
    }
   },
   "outputs": [
    {
     "data": {
      "text/plain": [
       "'HELLO WORLD'"
      ]
     },
     "execution_count": 20,
     "metadata": {},
     "output_type": "execute_result"
    }
   ],
   "source": [
    "a"
   ]
  },
  {
   "cell_type": "code",
   "execution_count": 23,
   "id": "6112cf5c",
   "metadata": {
    "ExecuteTime": {
     "end_time": "2024-02-28T04:12:03.323316Z",
     "start_time": "2024-02-28T04:12:03.317334Z"
    }
   },
   "outputs": [
    {
     "data": {
      "text/plain": [
       "'   hi   '"
      ]
     },
     "execution_count": 23,
     "metadata": {},
     "output_type": "execute_result"
    }
   ],
   "source": [
    "# 왼쪽 공백 지우기 lstrip\n",
    "a = '   hi   '\n",
    "a"
   ]
  },
  {
   "cell_type": "code",
   "execution_count": 24,
   "id": "8c19ba20",
   "metadata": {
    "ExecuteTime": {
     "end_time": "2024-02-28T04:12:17.198442Z",
     "start_time": "2024-02-28T04:12:17.192729Z"
    }
   },
   "outputs": [
    {
     "data": {
      "text/plain": [
       "'hi   '"
      ]
     },
     "execution_count": 24,
     "metadata": {},
     "output_type": "execute_result"
    }
   ],
   "source": [
    "a.lstrip()"
   ]
  },
  {
   "cell_type": "code",
   "execution_count": 26,
   "id": "219a4209",
   "metadata": {
    "ExecuteTime": {
     "end_time": "2024-02-28T04:12:27.130925Z",
     "start_time": "2024-02-28T04:12:27.124235Z"
    }
   },
   "outputs": [
    {
     "data": {
      "text/plain": [
       "'   hi'"
      ]
     },
     "execution_count": 26,
     "metadata": {},
     "output_type": "execute_result"
    }
   ],
   "source": [
    "a.rstrip()"
   ]
  },
  {
   "cell_type": "code",
   "execution_count": 30,
   "id": "c4c3abea",
   "metadata": {
    "ExecuteTime": {
     "end_time": "2024-02-28T04:12:49.710097Z",
     "start_time": "2024-02-28T04:12:49.706024Z"
    }
   },
   "outputs": [
    {
     "data": {
      "text/plain": [
       "'hi'"
      ]
     },
     "execution_count": 30,
     "metadata": {},
     "output_type": "execute_result"
    }
   ],
   "source": [
    "a.strip()"
   ]
  },
  {
   "cell_type": "markdown",
   "id": "0791ab72",
   "metadata": {},
   "source": [
    "## 문자열 바꾸기"
   ]
  },
  {
   "cell_type": "code",
   "execution_count": 32,
   "id": "689a7d2d",
   "metadata": {
    "ExecuteTime": {
     "end_time": "2024-02-28T04:13:49.801887Z",
     "start_time": "2024-02-28T04:13:49.796717Z"
    }
   },
   "outputs": [],
   "source": [
    "a = \"Life is too short\"\n",
    "a.replace?"
   ]
  },
  {
   "cell_type": "code",
   "execution_count": 33,
   "id": "6e1befc7",
   "metadata": {
    "ExecuteTime": {
     "end_time": "2024-02-28T04:14:12.141483Z",
     "start_time": "2024-02-28T04:14:12.136421Z"
    }
   },
   "outputs": [
    {
     "data": {
      "text/plain": [
       "'Your leg is too short'"
      ]
     },
     "execution_count": 33,
     "metadata": {},
     "output_type": "execute_result"
    }
   ],
   "source": [
    "a.replace(\"Life\", \"Your leg\")"
   ]
  },
  {
   "cell_type": "markdown",
   "id": "3c6a3a9c",
   "metadata": {},
   "source": [
    "## 문자열 나누기 split"
   ]
  },
  {
   "cell_type": "code",
   "execution_count": 35,
   "id": "f0a6100e",
   "metadata": {
    "ExecuteTime": {
     "end_time": "2024-02-28T04:15:30.955492Z",
     "start_time": "2024-02-28T04:15:30.950503Z"
    }
   },
   "outputs": [
    {
     "data": {
      "text/plain": [
       "['Life', 'is', 'too', 'short']"
      ]
     },
     "execution_count": 35,
     "metadata": {},
     "output_type": "execute_result"
    }
   ],
   "source": [
    "a = \"Life is too short\"\n",
    "a.split()"
   ]
  },
  {
   "cell_type": "code",
   "execution_count": 41,
   "id": "7430ab04",
   "metadata": {
    "ExecuteTime": {
     "end_time": "2024-02-28T04:16:24.751576Z",
     "start_time": "2024-02-28T04:16:24.747092Z"
    }
   },
   "outputs": [],
   "source": [
    "a.split?"
   ]
  },
  {
   "cell_type": "code",
   "execution_count": 42,
   "id": "0f0918ed",
   "metadata": {
    "ExecuteTime": {
     "end_time": "2024-02-28T04:17:22.751928Z",
     "start_time": "2024-02-28T04:17:22.745101Z"
    }
   },
   "outputs": [
    {
     "data": {
      "text/plain": [
       "['a', 'b', 'c', 'd']"
      ]
     },
     "execution_count": 42,
     "metadata": {},
     "output_type": "execute_result"
    }
   ],
   "source": [
    "b = \"a:b:c:d\"\n",
    "b.split(':')"
   ]
  },
  {
   "cell_type": "markdown",
   "id": "5234f37c",
   "metadata": {},
   "source": [
    "## 02-8 변수"
   ]
  },
  {
   "cell_type": "code",
   "execution_count": 45,
   "id": "a38b597f",
   "metadata": {
    "ExecuteTime": {
     "end_time": "2024-02-28T04:19:16.304488Z",
     "start_time": "2024-02-28T04:19:16.299505Z"
    }
   },
   "outputs": [
    {
     "data": {
      "text/plain": [
       "(1, int)"
      ]
     },
     "execution_count": 45,
     "metadata": {},
     "output_type": "execute_result"
    }
   ],
   "source": [
    "a = 1\n",
    "a, type(a)"
   ]
  },
  {
   "cell_type": "code",
   "execution_count": 46,
   "id": "5853ab6c",
   "metadata": {
    "ExecuteTime": {
     "end_time": "2024-02-28T04:19:37.946402Z",
     "start_time": "2024-02-28T04:19:37.941419Z"
    }
   },
   "outputs": [
    {
     "data": {
      "text/plain": [
       "('python', str)"
      ]
     },
     "execution_count": 46,
     "metadata": {},
     "output_type": "execute_result"
    }
   ],
   "source": [
    "b = 'python'\n",
    "b,type(b)"
   ]
  },
  {
   "cell_type": "code",
   "execution_count": 48,
   "id": "47036f42",
   "metadata": {
    "ExecuteTime": {
     "end_time": "2024-02-28T04:20:12.633532Z",
     "start_time": "2024-02-28T04:20:12.628451Z"
    }
   },
   "outputs": [
    {
     "data": {
      "text/plain": [
       "([1, 2, 3], list)"
      ]
     },
     "execution_count": 48,
     "metadata": {},
     "output_type": "execute_result"
    }
   ],
   "source": [
    "c = [1, 2, 3]\n",
    "c, type(c)"
   ]
  },
  {
   "cell_type": "code",
   "execution_count": 49,
   "id": "2f8f3fbd",
   "metadata": {
    "ExecuteTime": {
     "end_time": "2024-02-28T04:20:23.003983Z",
     "start_time": "2024-02-28T04:20:22.999000Z"
    }
   },
   "outputs": [
    {
     "data": {
      "text/plain": [
       "140715900310312"
      ]
     },
     "execution_count": 49,
     "metadata": {},
     "output_type": "execute_result"
    }
   ],
   "source": [
    "id(a)"
   ]
  },
  {
   "cell_type": "code",
   "execution_count": 53,
   "id": "37c5f972",
   "metadata": {
    "ExecuteTime": {
     "end_time": "2024-02-28T04:25:03.191476Z",
     "start_time": "2024-02-28T04:25:03.186493Z"
    }
   },
   "outputs": [
    {
     "data": {
      "text/plain": [
       "[1, 2, 3]"
      ]
     },
     "execution_count": 53,
     "metadata": {},
     "output_type": "execute_result"
    }
   ],
   "source": [
    "# 문자열 복사\n",
    "a = [1, 2, 3]\n",
    "b = a \n",
    "b"
   ]
  },
  {
   "cell_type": "code",
   "execution_count": 54,
   "id": "a52901f4",
   "metadata": {
    "ExecuteTime": {
     "end_time": "2024-02-28T04:25:07.249045Z",
     "start_time": "2024-02-28T04:25:07.244152Z"
    }
   },
   "outputs": [
    {
     "data": {
      "text/plain": [
       "(2305672474880, 2305672474880)"
      ]
     },
     "execution_count": 54,
     "metadata": {},
     "output_type": "execute_result"
    }
   ],
   "source": [
    "id(a), id(b)"
   ]
  },
  {
   "cell_type": "code",
   "execution_count": 55,
   "id": "1e77ca28",
   "metadata": {
    "ExecuteTime": {
     "end_time": "2024-02-28T04:25:43.766370Z",
     "start_time": "2024-02-28T04:25:43.763385Z"
    }
   },
   "outputs": [],
   "source": [
    "del b"
   ]
  },
  {
   "cell_type": "code",
   "execution_count": 56,
   "id": "b3a1076a",
   "metadata": {
    "ExecuteTime": {
     "end_time": "2024-02-28T04:25:49.972266Z",
     "start_time": "2024-02-28T04:25:49.967286Z"
    }
   },
   "outputs": [
    {
     "data": {
      "text/plain": [
       "[1, 2, 3]"
      ]
     },
     "execution_count": 56,
     "metadata": {},
     "output_type": "execute_result"
    }
   ],
   "source": [
    "a"
   ]
  },
  {
   "cell_type": "code",
   "execution_count": 57,
   "id": "16a1a6be",
   "metadata": {
    "ExecuteTime": {
     "end_time": "2024-02-28T04:25:52.800888Z",
     "start_time": "2024-02-28T04:25:52.782366Z"
    }
   },
   "outputs": [
    {
     "ename": "NameError",
     "evalue": "name 'b' is not defined",
     "output_type": "error",
     "traceback": [
      "\u001b[1;31m---------------------------------------------------------------------------\u001b[0m",
      "\u001b[1;31mNameError\u001b[0m                                 Traceback (most recent call last)",
      "Cell \u001b[1;32mIn[57], line 1\u001b[0m\n\u001b[1;32m----> 1\u001b[0m b\n",
      "\u001b[1;31mNameError\u001b[0m: name 'b' is not defined"
     ]
    }
   ],
   "source": [
    "b"
   ]
  },
  {
   "cell_type": "code",
   "execution_count": 58,
   "id": "4c22df30",
   "metadata": {
    "ExecuteTime": {
     "end_time": "2024-02-28T04:26:24.890171Z",
     "start_time": "2024-02-28T04:26:24.885372Z"
    }
   },
   "outputs": [
    {
     "data": {
      "text/plain": [
       "[1, 2, 3]"
      ]
     },
     "execution_count": 58,
     "metadata": {},
     "output_type": "execute_result"
    }
   ],
   "source": [
    "a"
   ]
  },
  {
   "cell_type": "code",
   "execution_count": 59,
   "id": "0cae1a62",
   "metadata": {
    "ExecuteTime": {
     "end_time": "2024-02-28T04:26:31.550872Z",
     "start_time": "2024-02-28T04:26:31.546582Z"
    }
   },
   "outputs": [
    {
     "data": {
      "text/plain": [
       "[1, 4, 3]"
      ]
     },
     "execution_count": 59,
     "metadata": {},
     "output_type": "execute_result"
    }
   ],
   "source": [
    "a[1] = 4\n",
    "a"
   ]
  },
  {
   "cell_type": "code",
   "execution_count": 60,
   "id": "d12eddde",
   "metadata": {
    "ExecuteTime": {
     "end_time": "2024-02-28T04:27:24.126041Z",
     "start_time": "2024-02-28T04:27:24.122121Z"
    }
   },
   "outputs": [],
   "source": [
    "a = [1, 2, 3]\n",
    "b = a "
   ]
  },
  {
   "cell_type": "code",
   "execution_count": 61,
   "id": "55713a2c",
   "metadata": {
    "ExecuteTime": {
     "end_time": "2024-02-28T04:27:32.504201Z",
     "start_time": "2024-02-28T04:27:32.500160Z"
    }
   },
   "outputs": [
    {
     "data": {
      "text/plain": [
       "(2305666426240, 2305666426240)"
      ]
     },
     "execution_count": 61,
     "metadata": {},
     "output_type": "execute_result"
    }
   ],
   "source": [
    "id(a), id(b)"
   ]
  },
  {
   "cell_type": "code",
   "execution_count": 62,
   "id": "53300ade",
   "metadata": {
    "ExecuteTime": {
     "end_time": "2024-02-28T04:27:45.085638Z",
     "start_time": "2024-02-28T04:27:45.080656Z"
    }
   },
   "outputs": [
    {
     "data": {
      "text/plain": [
       "[1, 4, 3]"
      ]
     },
     "execution_count": 62,
     "metadata": {},
     "output_type": "execute_result"
    }
   ],
   "source": [
    "a[1] = 4\n",
    "a"
   ]
  },
  {
   "cell_type": "code",
   "execution_count": 63,
   "id": "2f568a31",
   "metadata": {
    "ExecuteTime": {
     "end_time": "2024-02-28T04:27:48.250274Z",
     "start_time": "2024-02-28T04:27:48.246457Z"
    }
   },
   "outputs": [
    {
     "data": {
      "text/plain": [
       "[1, 4, 3]"
      ]
     },
     "execution_count": 63,
     "metadata": {},
     "output_type": "execute_result"
    }
   ],
   "source": [
    "b"
   ]
  },
  {
   "cell_type": "code",
   "execution_count": 64,
   "id": "8d104f3e",
   "metadata": {
    "ExecuteTime": {
     "end_time": "2024-02-28T04:32:12.141338Z",
     "start_time": "2024-02-28T04:32:12.137261Z"
    }
   },
   "outputs": [
    {
     "data": {
      "text/plain": [
       "10"
      ]
     },
     "execution_count": 64,
     "metadata": {},
     "output_type": "execute_result"
    }
   ],
   "source": [
    "num1 = 10\n",
    "num1"
   ]
  },
  {
   "cell_type": "code",
   "execution_count": 65,
   "id": "b86473c9",
   "metadata": {
    "ExecuteTime": {
     "end_time": "2024-02-28T04:32:30.272236Z",
     "start_time": "2024-02-28T04:32:30.266967Z"
    }
   },
   "outputs": [
    {
     "data": {
      "text/plain": [
       "(10, 10)"
      ]
     },
     "execution_count": 65,
     "metadata": {},
     "output_type": "execute_result"
    }
   ],
   "source": [
    "num2 = num1\n",
    "num1,num2"
   ]
  },
  {
   "cell_type": "code",
   "execution_count": 67,
   "id": "95098b44",
   "metadata": {
    "ExecuteTime": {
     "end_time": "2024-02-28T04:32:53.332441Z",
     "start_time": "2024-02-28T04:32:53.328396Z"
    }
   },
   "outputs": [
    {
     "data": {
      "text/plain": [
       "11"
      ]
     },
     "execution_count": 67,
     "metadata": {},
     "output_type": "execute_result"
    }
   ],
   "source": [
    "num1 = 11\n",
    "num1"
   ]
  },
  {
   "cell_type": "code",
   "execution_count": 68,
   "id": "32b6f2ea",
   "metadata": {
    "ExecuteTime": {
     "end_time": "2024-02-28T04:32:57.289468Z",
     "start_time": "2024-02-28T04:32:57.285483Z"
    }
   },
   "outputs": [
    {
     "data": {
      "text/plain": [
       "10"
      ]
     },
     "execution_count": 68,
     "metadata": {},
     "output_type": "execute_result"
    }
   ],
   "source": [
    "num2"
   ]
  },
  {
   "cell_type": "markdown",
   "id": "d5cdb268",
   "metadata": {},
   "source": [
    "## COPY"
   ]
  },
  {
   "cell_type": "markdown",
   "id": "7ccb65c4",
   "metadata": {
    "ExecuteTime": {
     "end_time": "2024-02-28T04:44:40.300714Z",
     "start_time": "2024-02-28T04:44:40.296150Z"
    }
   },
   "source": [
    "얕은 복사\n",
    "```\n",
    "a = [1, 2, 3]\n",
    "b = a \n",
    "```"
   ]
  },
  {
   "cell_type": "markdown",
   "id": "e57f64f8",
   "metadata": {},
   "source": [
    "아래는 깊은 복사, 서로 id 값이 다르다!"
   ]
  },
  {
   "cell_type": "code",
   "execution_count": 70,
   "id": "4ee73dd3",
   "metadata": {
    "ExecuteTime": {
     "end_time": "2024-02-28T04:45:41.005475Z",
     "start_time": "2024-02-28T04:45:41.000482Z"
    }
   },
   "outputs": [
    {
     "data": {
      "text/plain": [
       "[1, 2, 3]"
      ]
     },
     "execution_count": 70,
     "metadata": {},
     "output_type": "execute_result"
    }
   ],
   "source": [
    "from copy import copy\n",
    "a = [1, 2, 3]\n",
    "a"
   ]
  },
  {
   "cell_type": "code",
   "execution_count": 71,
   "id": "add5f993",
   "metadata": {
    "ExecuteTime": {
     "end_time": "2024-02-28T04:45:59.242474Z",
     "start_time": "2024-02-28T04:45:59.237265Z"
    }
   },
   "outputs": [
    {
     "data": {
      "text/plain": [
       "(2305672800768, 2305672052608)"
      ]
     },
     "execution_count": 71,
     "metadata": {},
     "output_type": "execute_result"
    }
   ],
   "source": [
    "b = copy(a)\n",
    "id(a), id(b)"
   ]
  },
  {
   "cell_type": "markdown",
   "id": "36e1d7dd",
   "metadata": {},
   "source": [
    "## 변수를 만드는 여러가지 방법"
   ]
  },
  {
   "cell_type": "code",
   "execution_count": 72,
   "id": "9395974b",
   "metadata": {
    "ExecuteTime": {
     "end_time": "2024-02-28T04:49:00.719753Z",
     "start_time": "2024-02-28T04:49:00.716440Z"
    }
   },
   "outputs": [],
   "source": [
    "a, b = ('python' , 'life')"
   ]
  },
  {
   "cell_type": "code",
   "execution_count": 73,
   "id": "4a977c63",
   "metadata": {
    "ExecuteTime": {
     "end_time": "2024-02-28T04:49:03.876927Z",
     "start_time": "2024-02-28T04:49:03.871945Z"
    }
   },
   "outputs": [
    {
     "data": {
      "text/plain": [
       "'python'"
      ]
     },
     "execution_count": 73,
     "metadata": {},
     "output_type": "execute_result"
    }
   ],
   "source": [
    "a"
   ]
  },
  {
   "cell_type": "code",
   "execution_count": 74,
   "id": "79448aea",
   "metadata": {
    "ExecuteTime": {
     "end_time": "2024-02-28T04:49:06.245148Z",
     "start_time": "2024-02-28T04:49:06.240088Z"
    }
   },
   "outputs": [
    {
     "data": {
      "text/plain": [
       "'life'"
      ]
     },
     "execution_count": 74,
     "metadata": {},
     "output_type": "execute_result"
    }
   ],
   "source": [
    "b"
   ]
  },
  {
   "cell_type": "code",
   "execution_count": 77,
   "id": "2839ff32",
   "metadata": {
    "ExecuteTime": {
     "end_time": "2024-02-28T04:49:49.080906Z",
     "start_time": "2024-02-28T04:49:49.076785Z"
    }
   },
   "outputs": [
    {
     "data": {
      "text/plain": [
       "('python', 'life')"
      ]
     },
     "execution_count": 77,
     "metadata": {},
     "output_type": "execute_result"
    }
   ],
   "source": [
    "(a,b) = 'python' , 'life'\n",
    "a, b"
   ]
  },
  {
   "cell_type": "code",
   "execution_count": 80,
   "id": "1b145ef6",
   "metadata": {
    "ExecuteTime": {
     "end_time": "2024-02-28T04:50:25.294425Z",
     "start_time": "2024-02-28T04:50:25.290364Z"
    }
   },
   "outputs": [
    {
     "data": {
      "text/plain": [
       "('python', 'life')"
      ]
     },
     "execution_count": 80,
     "metadata": {},
     "output_type": "execute_result"
    }
   ],
   "source": [
    "[a,b] = ['python' , 'life']\n",
    "a,b"
   ]
  },
  {
   "cell_type": "markdown",
   "id": "3e179979",
   "metadata": {},
   "source": [
    "# 리스트 객체"
   ]
  },
  {
   "cell_type": "code",
   "execution_count": 2,
   "id": "40275c5b",
   "metadata": {
    "ExecuteTime": {
     "end_time": "2024-03-04T00:35:49.813010Z",
     "start_time": "2024-03-04T00:35:49.806712Z"
    }
   },
   "outputs": [
    {
     "data": {
      "text/plain": [
       "[1, 3, 5, 7, 9]"
      ]
     },
     "execution_count": 2,
     "metadata": {},
     "output_type": "execute_result"
    }
   ],
   "source": [
    "odd = [1,3,5,7,9]\n",
    "odd"
   ]
  },
  {
   "cell_type": "code",
   "execution_count": 4,
   "id": "d83ff7ce",
   "metadata": {
    "ExecuteTime": {
     "end_time": "2024-03-04T00:36:06.227132Z",
     "start_time": "2024-03-04T00:36:06.222450Z"
    }
   },
   "outputs": [
    {
     "data": {
      "text/plain": [
       "list"
      ]
     },
     "execution_count": 4,
     "metadata": {},
     "output_type": "execute_result"
    }
   ],
   "source": [
    "type(odd)"
   ]
  },
  {
   "cell_type": "code",
   "execution_count": 7,
   "id": "a97a6a9c",
   "metadata": {
    "ExecuteTime": {
     "end_time": "2024-03-04T00:38:35.702433Z",
     "start_time": "2024-03-04T00:38:35.696461Z"
    }
   },
   "outputs": [
    {
     "data": {
      "text/plain": [
       "([],\n",
       " [1, 2, 3],\n",
       " ['Life', 'is', 'too', 'short'],\n",
       " [1, 2, 'life', 'is'],\n",
       " [1, 2, ['life', 'is']])"
      ]
     },
     "execution_count": 7,
     "metadata": {},
     "output_type": "execute_result"
    }
   ],
   "source": [
    "a = []\n",
    "b = [1, 2, 3]\n",
    "c = ['Life', 'is', 'too', 'short']\n",
    "d = [1, 2, 'life', 'is']\n",
    "e = [1, 2, ['life', 'is']]\n",
    "a,b,c,d,e"
   ]
  },
  {
   "cell_type": "code",
   "execution_count": 8,
   "id": "dee1278e",
   "metadata": {
    "ExecuteTime": {
     "end_time": "2024-03-04T00:38:52.464964Z",
     "start_time": "2024-03-04T00:38:52.459835Z"
    }
   },
   "outputs": [
    {
     "data": {
      "text/plain": [
       "([], list)"
      ]
     },
     "execution_count": 8,
     "metadata": {},
     "output_type": "execute_result"
    }
   ],
   "source": [
    "a = list()\n",
    "a, type(a)"
   ]
  },
  {
   "cell_type": "markdown",
   "id": "938c432b",
   "metadata": {},
   "source": [
    "## 리스트의 인덱싱"
   ]
  },
  {
   "cell_type": "code",
   "execution_count": 9,
   "id": "0d8be7e3",
   "metadata": {
    "ExecuteTime": {
     "end_time": "2024-03-04T00:40:24.299288Z",
     "start_time": "2024-03-04T00:40:24.294305Z"
    }
   },
   "outputs": [
    {
     "data": {
      "text/plain": [
       "[1, 2, 3]"
      ]
     },
     "execution_count": 9,
     "metadata": {},
     "output_type": "execute_result"
    }
   ],
   "source": [
    "a = [1, 2, 3]\n",
    "a"
   ]
  },
  {
   "cell_type": "code",
   "execution_count": 10,
   "id": "aa79076d",
   "metadata": {
    "ExecuteTime": {
     "end_time": "2024-03-04T00:40:36.042071Z",
     "start_time": "2024-03-04T00:40:36.037575Z"
    }
   },
   "outputs": [
    {
     "data": {
      "text/plain": [
       "1"
      ]
     },
     "execution_count": 10,
     "metadata": {},
     "output_type": "execute_result"
    }
   ],
   "source": [
    "a[0]"
   ]
  },
  {
   "cell_type": "code",
   "execution_count": 11,
   "id": "22311b95",
   "metadata": {
    "ExecuteTime": {
     "end_time": "2024-03-04T00:40:51.129118Z",
     "start_time": "2024-03-04T00:40:51.124423Z"
    }
   },
   "outputs": [
    {
     "data": {
      "text/plain": [
       "4"
      ]
     },
     "execution_count": 11,
     "metadata": {},
     "output_type": "execute_result"
    }
   ],
   "source": [
    "a[0] + a[2]"
   ]
  },
  {
   "cell_type": "code",
   "execution_count": 12,
   "id": "40ce6a01",
   "metadata": {
    "ExecuteTime": {
     "end_time": "2024-03-04T00:41:02.836867Z",
     "start_time": "2024-03-04T00:41:02.832373Z"
    }
   },
   "outputs": [
    {
     "data": {
      "text/plain": [
       "3"
      ]
     },
     "execution_count": 12,
     "metadata": {},
     "output_type": "execute_result"
    }
   ],
   "source": [
    "a[-1]"
   ]
  },
  {
   "cell_type": "code",
   "execution_count": 23,
   "id": "b14a21c3",
   "metadata": {
    "ExecuteTime": {
     "end_time": "2024-03-04T00:44:27.970018Z",
     "start_time": "2024-03-04T00:44:27.965806Z"
    }
   },
   "outputs": [
    {
     "data": {
      "text/plain": [
       "[1, 2, 3, ['a', 'b', 'c']]"
      ]
     },
     "execution_count": 23,
     "metadata": {},
     "output_type": "execute_result"
    }
   ],
   "source": [
    "a = [1, 2, 3, ['a', 'b', 'c']]\n",
    "a"
   ]
  },
  {
   "cell_type": "code",
   "execution_count": 24,
   "id": "0580dbfc",
   "metadata": {
    "ExecuteTime": {
     "end_time": "2024-03-04T00:44:30.419940Z",
     "start_time": "2024-03-04T00:44:30.416160Z"
    }
   },
   "outputs": [
    {
     "data": {
      "text/plain": [
       "4"
      ]
     },
     "execution_count": 24,
     "metadata": {},
     "output_type": "execute_result"
    }
   ],
   "source": [
    "len(a)"
   ]
  },
  {
   "cell_type": "code",
   "execution_count": 14,
   "id": "00e768a4",
   "metadata": {
    "ExecuteTime": {
     "end_time": "2024-03-04T00:41:49.126277Z",
     "start_time": "2024-03-04T00:41:49.121162Z"
    }
   },
   "outputs": [
    {
     "data": {
      "text/plain": [
       "1"
      ]
     },
     "execution_count": 14,
     "metadata": {},
     "output_type": "execute_result"
    }
   ],
   "source": [
    "a[0]"
   ]
  },
  {
   "cell_type": "code",
   "execution_count": 15,
   "id": "bf110829",
   "metadata": {
    "ExecuteTime": {
     "end_time": "2024-03-04T00:41:53.851721Z",
     "start_time": "2024-03-04T00:41:53.847738Z"
    }
   },
   "outputs": [
    {
     "data": {
      "text/plain": [
       "['a', 'b', 'c']"
      ]
     },
     "execution_count": 15,
     "metadata": {},
     "output_type": "execute_result"
    }
   ],
   "source": [
    "a[-1]"
   ]
  },
  {
   "cell_type": "code",
   "execution_count": 16,
   "id": "4b6c428f",
   "metadata": {
    "ExecuteTime": {
     "end_time": "2024-03-04T00:42:01.180236Z",
     "start_time": "2024-03-04T00:42:01.175254Z"
    }
   },
   "outputs": [
    {
     "data": {
      "text/plain": [
       "['a', 'b', 'c']"
      ]
     },
     "execution_count": 16,
     "metadata": {},
     "output_type": "execute_result"
    }
   ],
   "source": [
    "a[3]"
   ]
  },
  {
   "cell_type": "code",
   "execution_count": 17,
   "id": "79c9a48a",
   "metadata": {
    "ExecuteTime": {
     "end_time": "2024-03-04T00:42:23.275688Z",
     "start_time": "2024-03-04T00:42:23.271316Z"
    }
   },
   "outputs": [
    {
     "data": {
      "text/plain": [
       "'a'"
      ]
     },
     "execution_count": 17,
     "metadata": {},
     "output_type": "execute_result"
    }
   ],
   "source": [
    "a[-1][0]"
   ]
  },
  {
   "cell_type": "code",
   "execution_count": 18,
   "id": "65e3852f",
   "metadata": {
    "ExecuteTime": {
     "end_time": "2024-03-04T00:42:47.031594Z",
     "start_time": "2024-03-04T00:42:47.026610Z"
    }
   },
   "outputs": [
    {
     "data": {
      "text/plain": [
       "'b'"
      ]
     },
     "execution_count": 18,
     "metadata": {},
     "output_type": "execute_result"
    }
   ],
   "source": [
    "a[-1][1]"
   ]
  },
  {
   "cell_type": "code",
   "execution_count": 19,
   "id": "8fee355a",
   "metadata": {
    "ExecuteTime": {
     "end_time": "2024-03-04T00:42:55.472270Z",
     "start_time": "2024-03-04T00:42:55.467287Z"
    }
   },
   "outputs": [
    {
     "data": {
      "text/plain": [
       "'c'"
      ]
     },
     "execution_count": 19,
     "metadata": {},
     "output_type": "execute_result"
    }
   ],
   "source": [
    "a[-1][2]"
   ]
  },
  {
   "cell_type": "markdown",
   "id": "74130fb8",
   "metadata": {},
   "source": [
    "### 삼중 리스트 인덱싱"
   ]
  },
  {
   "cell_type": "code",
   "execution_count": 20,
   "id": "b93de9e8",
   "metadata": {
    "ExecuteTime": {
     "end_time": "2024-03-04T00:43:38.734969Z",
     "start_time": "2024-03-04T00:43:38.731461Z"
    }
   },
   "outputs": [],
   "source": [
    "a = [1, 2, ['a', 'b', ['Life', 'is']]]"
   ]
  },
  {
   "cell_type": "code",
   "execution_count": 21,
   "id": "13c5b9aa",
   "metadata": {
    "ExecuteTime": {
     "end_time": "2024-03-04T00:43:48.809260Z",
     "start_time": "2024-03-04T00:43:48.805199Z"
    }
   },
   "outputs": [
    {
     "data": {
      "text/plain": [
       "'Life'"
      ]
     },
     "execution_count": 21,
     "metadata": {},
     "output_type": "execute_result"
    }
   ],
   "source": [
    "a[2][2][0]"
   ]
  },
  {
   "cell_type": "markdown",
   "id": "e28d9d28",
   "metadata": {},
   "source": [
    "## 리스트의  슬라이싱"
   ]
  },
  {
   "cell_type": "code",
   "execution_count": 29,
   "id": "02ee9ed4",
   "metadata": {
    "ExecuteTime": {
     "end_time": "2024-03-04T00:47:51.761515Z",
     "start_time": "2024-03-04T00:47:51.756969Z"
    }
   },
   "outputs": [
    {
     "data": {
      "text/plain": [
       "[1, 2]"
      ]
     },
     "execution_count": 29,
     "metadata": {},
     "output_type": "execute_result"
    }
   ],
   "source": [
    "a = [1, 2, 3, 4, 5]\n",
    "a[0:2]"
   ]
  },
  {
   "cell_type": "code",
   "execution_count": 30,
   "id": "6bf5b1d1",
   "metadata": {
    "ExecuteTime": {
     "end_time": "2024-03-04T00:48:12.587925Z",
     "start_time": "2024-03-04T00:48:12.582951Z"
    }
   },
   "outputs": [
    {
     "data": {
      "text/plain": [
       "'12'"
      ]
     },
     "execution_count": 30,
     "metadata": {},
     "output_type": "execute_result"
    }
   ],
   "source": [
    " a = \"12345\"\n",
    "a[0:2]"
   ]
  },
  {
   "cell_type": "code",
   "execution_count": 31,
   "id": "eebe6b47",
   "metadata": {
    "ExecuteTime": {
     "end_time": "2024-03-04T00:48:55.021181Z",
     "start_time": "2024-03-04T00:48:55.016793Z"
    }
   },
   "outputs": [
    {
     "data": {
      "text/plain": [
       "[1, 2]"
      ]
     },
     "execution_count": 31,
     "metadata": {},
     "output_type": "execute_result"
    }
   ],
   "source": [
    "a = [1, 2, 3, 4, 5]\n",
    "b = a[:2]\n",
    "c = a[2:]\n",
    "b"
   ]
  },
  {
   "cell_type": "code",
   "execution_count": 32,
   "id": "9ca134f9",
   "metadata": {
    "ExecuteTime": {
     "end_time": "2024-03-04T00:48:59.090169Z",
     "start_time": "2024-03-04T00:48:59.085011Z"
    }
   },
   "outputs": [
    {
     "data": {
      "text/plain": [
       "[3, 4, 5]"
      ]
     },
     "execution_count": 32,
     "metadata": {},
     "output_type": "execute_result"
    }
   ],
   "source": [
    "c"
   ]
  },
  {
   "cell_type": "markdown",
   "id": "6f8f26b7",
   "metadata": {},
   "source": [
    "### 중첩 리스트 슬라이싱"
   ]
  },
  {
   "cell_type": "code",
   "execution_count": 33,
   "id": "bca95e90",
   "metadata": {
    "ExecuteTime": {
     "end_time": "2024-03-04T00:50:06.796503Z",
     "start_time": "2024-03-04T00:50:06.791520Z"
    }
   },
   "outputs": [
    {
     "data": {
      "text/plain": [
       "[3, ['a', 'b', 'c'], 4]"
      ]
     },
     "execution_count": 33,
     "metadata": {},
     "output_type": "execute_result"
    }
   ],
   "source": [
    "a = [1, 2, 3, ['a', 'b', 'c'], 4, 5]\n",
    "a[2:5]"
   ]
  },
  {
   "cell_type": "code",
   "execution_count": 34,
   "id": "5e8ac9a4",
   "metadata": {
    "ExecuteTime": {
     "end_time": "2024-03-04T00:50:37.009984Z",
     "start_time": "2024-03-04T00:50:37.006064Z"
    }
   },
   "outputs": [
    {
     "data": {
      "text/plain": [
       "['a', 'b']"
      ]
     },
     "execution_count": 34,
     "metadata": {},
     "output_type": "execute_result"
    }
   ],
   "source": [
    "a[3][:2]"
   ]
  },
  {
   "cell_type": "markdown",
   "id": "9f02371b",
   "metadata": {},
   "source": [
    "## del로 리스트 요소 삭제하기"
   ]
  },
  {
   "cell_type": "markdown",
   "id": "4eeab597",
   "metadata": {},
   "source": [
    "## 리스트 관련 함수"
   ]
  },
  {
   "cell_type": "markdown",
   "id": "efb22eb7",
   "metadata": {},
   "source": [
    "### 리스트 요소 추가 append"
   ]
  },
  {
   "cell_type": "code",
   "execution_count": 36,
   "id": "7a7e0d30",
   "metadata": {
    "ExecuteTime": {
     "end_time": "2024-03-04T01:05:55.153887Z",
     "start_time": "2024-03-04T01:05:55.149225Z"
    }
   },
   "outputs": [
    {
     "data": {
      "text/plain": [
       "[1, 2, 3]"
      ]
     },
     "execution_count": 36,
     "metadata": {},
     "output_type": "execute_result"
    }
   ],
   "source": [
    "a = [1, 2, 3]\n",
    "a"
   ]
  },
  {
   "cell_type": "code",
   "execution_count": 37,
   "id": "a79895e0",
   "metadata": {
    "ExecuteTime": {
     "end_time": "2024-03-04T01:06:04.876297Z",
     "start_time": "2024-03-04T01:06:04.871662Z"
    }
   },
   "outputs": [
    {
     "data": {
      "text/plain": [
       "[1, 2, 3, 4]"
      ]
     },
     "execution_count": 37,
     "metadata": {},
     "output_type": "execute_result"
    }
   ],
   "source": [
    "a.append(4)\n",
    "a"
   ]
  },
  {
   "cell_type": "markdown",
   "id": "6750e940",
   "metadata": {},
   "source": [
    "### 리스트 정렬 sort"
   ]
  },
  {
   "cell_type": "code",
   "execution_count": 38,
   "id": "a0e7477f",
   "metadata": {
    "ExecuteTime": {
     "end_time": "2024-03-04T01:06:51.097019Z",
     "start_time": "2024-03-04T01:06:51.091583Z"
    }
   },
   "outputs": [
    {
     "data": {
      "text/plain": [
       "[1, 2, 3, 4]"
      ]
     },
     "execution_count": 38,
     "metadata": {},
     "output_type": "execute_result"
    }
   ],
   "source": [
    "a = [1, 4, 3, 2]\n",
    "a.sort()\n",
    "a"
   ]
  },
  {
   "cell_type": "code",
   "execution_count": 40,
   "id": "6963f87a",
   "metadata": {
    "ExecuteTime": {
     "end_time": "2024-03-04T01:07:38.590572Z",
     "start_time": "2024-03-04T01:07:38.586009Z"
    }
   },
   "outputs": [],
   "source": [
    "a.sort?"
   ]
  },
  {
   "cell_type": "code",
   "execution_count": 42,
   "id": "9d827d30",
   "metadata": {
    "ExecuteTime": {
     "end_time": "2024-03-04T01:08:13.166996Z",
     "start_time": "2024-03-04T01:08:13.162429Z"
    }
   },
   "outputs": [
    {
     "data": {
      "text/plain": [
       "[4, 3, 2, 1]"
      ]
     },
     "execution_count": 42,
     "metadata": {},
     "output_type": "execute_result"
    }
   ],
   "source": [
    "a.sort(reverse=True)\n",
    "a"
   ]
  },
  {
   "cell_type": "markdown",
   "id": "39ed07f3",
   "metadata": {},
   "source": [
    "### 리스트 뒤집기 reverse"
   ]
  },
  {
   "cell_type": "code",
   "execution_count": 43,
   "id": "2d648447",
   "metadata": {
    "ExecuteTime": {
     "end_time": "2024-03-04T01:09:03.141846Z",
     "start_time": "2024-03-04T01:09:03.137292Z"
    }
   },
   "outputs": [
    {
     "data": {
      "text/plain": [
       "['b', 'c', 'a']"
      ]
     },
     "execution_count": 43,
     "metadata": {},
     "output_type": "execute_result"
    }
   ],
   "source": [
    "a = ['a', 'c', 'b']\n",
    "a.reverse()\n",
    "a"
   ]
  },
  {
   "cell_type": "markdown",
   "id": "c3daac18",
   "metadata": {},
   "source": [
    "### 인덱스 반환 index"
   ]
  },
  {
   "cell_type": "code",
   "execution_count": 45,
   "id": "071efd2b",
   "metadata": {
    "ExecuteTime": {
     "end_time": "2024-03-04T01:10:15.274420Z",
     "start_time": "2024-03-04T01:10:15.270471Z"
    }
   },
   "outputs": [
    {
     "data": {
      "text/plain": [
       "2"
      ]
     },
     "execution_count": 45,
     "metadata": {},
     "output_type": "execute_result"
    }
   ],
   "source": [
    "a = [1, 2, 3]\n",
    "a.index(3)"
   ]
  },
  {
   "cell_type": "code",
   "execution_count": 46,
   "id": "057fe435",
   "metadata": {
    "ExecuteTime": {
     "end_time": "2024-03-04T01:10:46.077654Z",
     "start_time": "2024-03-04T01:10:46.063708Z"
    }
   },
   "outputs": [
    {
     "ename": "ValueError",
     "evalue": "0 is not in list",
     "output_type": "error",
     "traceback": [
      "\u001b[1;31m---------------------------------------------------------------------------\u001b[0m",
      "\u001b[1;31mValueError\u001b[0m                                Traceback (most recent call last)",
      "Cell \u001b[1;32mIn[46], line 1\u001b[0m\n\u001b[1;32m----> 1\u001b[0m a\u001b[38;5;241m.\u001b[39mindex(\u001b[38;5;241m0\u001b[39m)\n",
      "\u001b[1;31mValueError\u001b[0m: 0 is not in list"
     ]
    }
   ],
   "source": [
    "a.index(0)"
   ]
  },
  {
   "cell_type": "markdown",
   "id": "41a5243c",
   "metadata": {
    "ExecuteTime": {
     "end_time": "2024-03-04T01:11:12.411074Z",
     "start_time": "2024-03-04T01:11:12.396663Z"
    }
   },
   "source": [
    "### 리스트에 요소 삽입 insert"
   ]
  },
  {
   "cell_type": "code",
   "execution_count": 49,
   "id": "46836c01",
   "metadata": {
    "ExecuteTime": {
     "end_time": "2024-03-04T01:11:51.040493Z",
     "start_time": "2024-03-04T01:11:51.035401Z"
    }
   },
   "outputs": [
    {
     "data": {
      "text/plain": [
       "[4, 1, 2, 3]"
      ]
     },
     "execution_count": 49,
     "metadata": {},
     "output_type": "execute_result"
    }
   ],
   "source": [
    "a = [1, 2, 3]\n",
    "a.insert(0, 4)\n",
    "a"
   ]
  },
  {
   "cell_type": "code",
   "execution_count": 50,
   "id": "a44f1284",
   "metadata": {
    "ExecuteTime": {
     "end_time": "2024-03-04T01:11:59.676831Z",
     "start_time": "2024-03-04T01:11:59.671863Z"
    }
   },
   "outputs": [],
   "source": [
    "a.insert?"
   ]
  },
  {
   "cell_type": "markdown",
   "id": "b59c8b62",
   "metadata": {},
   "source": [
    "### 리스트에 요소 제거 remove"
   ]
  },
  {
   "cell_type": "code",
   "execution_count": 51,
   "id": "cbbaae1e",
   "metadata": {
    "ExecuteTime": {
     "end_time": "2024-03-04T01:15:35.276176Z",
     "start_time": "2024-03-04T01:15:35.271076Z"
    }
   },
   "outputs": [
    {
     "data": {
      "text/plain": [
       "[1, 2, 1, 2, 3]"
      ]
     },
     "execution_count": 51,
     "metadata": {},
     "output_type": "execute_result"
    }
   ],
   "source": [
    "a = [1, 2, 3, 1, 2, 3]\n",
    "a.remove(3)\n",
    "a"
   ]
  },
  {
   "cell_type": "code",
   "execution_count": 54,
   "id": "d1dae595",
   "metadata": {
    "ExecuteTime": {
     "end_time": "2024-03-04T01:16:49.082028Z",
     "start_time": "2024-03-04T01:16:49.069102Z"
    }
   },
   "outputs": [
    {
     "ename": "ValueError",
     "evalue": "list.remove(x): x not in list",
     "output_type": "error",
     "traceback": [
      "\u001b[1;31m---------------------------------------------------------------------------\u001b[0m",
      "\u001b[1;31mValueError\u001b[0m                                Traceback (most recent call last)",
      "Cell \u001b[1;32mIn[54], line 1\u001b[0m\n\u001b[1;32m----> 1\u001b[0m a\u001b[38;5;241m.\u001b[39mremove(\u001b[38;5;241m3\u001b[39m)\n\u001b[0;32m      2\u001b[0m a\n",
      "\u001b[1;31mValueError\u001b[0m: list.remove(x): x not in list"
     ]
    }
   ],
   "source": [
    "a.remove(3)\n",
    "a"
   ]
  },
  {
   "cell_type": "markdown",
   "id": "d9caf178",
   "metadata": {},
   "source": [
    "### 리스트 요소 끄집어 내기 pop"
   ]
  },
  {
   "cell_type": "code",
   "execution_count": 52,
   "id": "621b47f4",
   "metadata": {
    "ExecuteTime": {
     "end_time": "2024-03-04T01:16:11.633635Z",
     "start_time": "2024-03-04T01:16:11.627505Z"
    }
   },
   "outputs": [
    {
     "data": {
      "text/plain": [
       "3"
      ]
     },
     "execution_count": 52,
     "metadata": {},
     "output_type": "execute_result"
    }
   ],
   "source": [
    "a = [1, 2, 3]\n",
    "a.pop()"
   ]
  },
  {
   "cell_type": "code",
   "execution_count": 53,
   "id": "9b6c5984",
   "metadata": {
    "ExecuteTime": {
     "end_time": "2024-03-04T01:16:22.801297Z",
     "start_time": "2024-03-04T01:16:22.796232Z"
    }
   },
   "outputs": [
    {
     "data": {
      "text/plain": [
       "[1, 2]"
      ]
     },
     "execution_count": 53,
     "metadata": {},
     "output_type": "execute_result"
    }
   ],
   "source": [
    "a"
   ]
  },
  {
   "cell_type": "markdown",
   "id": "d9c244b7",
   "metadata": {},
   "source": [
    "### 리스트에 포함된 요소 x의 개수 세기 count"
   ]
  },
  {
   "cell_type": "code",
   "execution_count": 55,
   "id": "ac29a727",
   "metadata": {
    "ExecuteTime": {
     "end_time": "2024-03-04T01:17:38.481575Z",
     "start_time": "2024-03-04T01:17:38.477340Z"
    }
   },
   "outputs": [
    {
     "data": {
      "text/plain": [
       "2"
      ]
     },
     "execution_count": 55,
     "metadata": {},
     "output_type": "execute_result"
    }
   ],
   "source": [
    "a = [1, 2, 3, 1]\n",
    "a.count(1)"
   ]
  },
  {
   "cell_type": "markdown",
   "id": "f5e4fde3",
   "metadata": {},
   "source": [
    "### 리스트 확장 extend"
   ]
  },
  {
   "cell_type": "markdown",
   "id": "20a5f43b",
   "metadata": {},
   "source": [
    "extend(x)에서 x에는 리스트만 올 수 있다!"
   ]
  },
  {
   "cell_type": "code",
   "execution_count": 56,
   "id": "48a07362",
   "metadata": {
    "ExecuteTime": {
     "end_time": "2024-03-04T01:19:28.175313Z",
     "start_time": "2024-03-04T01:19:28.171288Z"
    }
   },
   "outputs": [
    {
     "data": {
      "text/plain": [
       "[1, 2, 3, 4, 5]"
      ]
     },
     "execution_count": 56,
     "metadata": {},
     "output_type": "execute_result"
    }
   ],
   "source": [
    "a = [1, 2, 3]\n",
    "a.extend([4, 5])\n",
    "a"
   ]
  },
  {
   "cell_type": "code",
   "execution_count": 57,
   "id": "1a764570",
   "metadata": {
    "ExecuteTime": {
     "end_time": "2024-03-04T01:20:41.009037Z",
     "start_time": "2024-03-04T01:20:41.005051Z"
    }
   },
   "outputs": [
    {
     "data": {
      "text/plain": [
       "[1, 2, 3, 4, 5, 6, 7]"
      ]
     },
     "execution_count": 57,
     "metadata": {},
     "output_type": "execute_result"
    }
   ],
   "source": [
    "b = [6, 7]\n",
    "a.extend(b)\n",
    "a"
   ]
  },
  {
   "cell_type": "markdown",
   "id": "de7267b1",
   "metadata": {},
   "source": [
    "a.extend([4, 5])는 a += [4, 5]와 동일하다."
   ]
  },
  {
   "cell_type": "code",
   "execution_count": 58,
   "id": "04aaf374",
   "metadata": {
    "ExecuteTime": {
     "end_time": "2024-03-04T01:21:21.836136Z",
     "start_time": "2024-03-04T01:21:21.831809Z"
    }
   },
   "outputs": [
    {
     "data": {
      "text/plain": [
       "[1, 2, 3, 4, 5, 6, 7, 8, 9]"
      ]
     },
     "execution_count": 58,
     "metadata": {},
     "output_type": "execute_result"
    }
   ],
   "source": [
    "a += [8, 9]\n",
    "a"
   ]
  },
  {
   "cell_type": "markdown",
   "id": "0c6e83de",
   "metadata": {
    "heading_collapsed": true
   },
   "source": [
    "# 튜플 자료형"
   ]
  },
  {
   "cell_type": "code",
   "execution_count": 59,
   "id": "71282d89",
   "metadata": {
    "ExecuteTime": {
     "end_time": "2024-03-04T01:26:27.703968Z",
     "start_time": "2024-03-04T01:26:27.698530Z"
    },
    "hidden": true
   },
   "outputs": [
    {
     "data": {
      "text/plain": [
       "((), (1,), (1, 2, 3), (1, 2, 3), ('a', 'b', ('ab', 'cd')))"
      ]
     },
     "execution_count": 59,
     "metadata": {},
     "output_type": "execute_result"
    }
   ],
   "source": [
    "t1 = ()\n",
    "t2 = (1,)\n",
    "t3 = (1, 2, 3)\n",
    "t4 = 1, 2, 3\n",
    "t5 = ('a', 'b', ('ab', 'cd'))\n",
    "t1, t2, t3, t4, t5"
   ]
  },
  {
   "cell_type": "code",
   "execution_count": 62,
   "id": "0472901e",
   "metadata": {
    "ExecuteTime": {
     "end_time": "2024-03-04T01:29:14.278214Z",
     "start_time": "2024-03-04T01:29:14.275162Z"
    },
    "hidden": true
   },
   "outputs": [
    {
     "name": "stdout",
     "output_type": "stream",
     "text": [
      "() (1,) (1, 2, 3) (1, 2, 3) ('a', 'b', ('ab', 'cd'))\n"
     ]
    }
   ],
   "source": [
    "print(t1, t2, t3, t4, t5)"
   ]
  },
  {
   "cell_type": "code",
   "execution_count": 60,
   "id": "a741295a",
   "metadata": {
    "ExecuteTime": {
     "end_time": "2024-03-04T01:26:51.070398Z",
     "start_time": "2024-03-04T01:26:51.065503Z"
    },
    "hidden": true
   },
   "outputs": [
    {
     "data": {
      "text/plain": [
       "tuple"
      ]
     },
     "execution_count": 60,
     "metadata": {},
     "output_type": "execute_result"
    }
   ],
   "source": [
    "type(t1)"
   ]
  },
  {
   "cell_type": "code",
   "execution_count": 61,
   "id": "711b82b3",
   "metadata": {
    "ExecuteTime": {
     "end_time": "2024-03-04T01:27:38.638749Z",
     "start_time": "2024-03-04T01:27:38.634184Z"
    },
    "hidden": true
   },
   "outputs": [
    {
     "data": {
      "text/plain": [
       "(int, tuple)"
      ]
     },
     "execution_count": 61,
     "metadata": {},
     "output_type": "execute_result"
    }
   ],
   "source": [
    "type((1)), type((1,))"
   ]
  },
  {
   "cell_type": "markdown",
   "id": "66c54469",
   "metadata": {
    "hidden": true
   },
   "source": [
    "## 튜플 요소 삭제/변경 시도"
   ]
  },
  {
   "cell_type": "code",
   "execution_count": 63,
   "id": "5132f9de",
   "metadata": {
    "ExecuteTime": {
     "end_time": "2024-03-04T01:32:02.670432Z",
     "start_time": "2024-03-04T01:32:02.656411Z"
    },
    "hidden": true
   },
   "outputs": [
    {
     "ename": "TypeError",
     "evalue": "'tuple' object doesn't support item deletion",
     "output_type": "error",
     "traceback": [
      "\u001b[1;31m---------------------------------------------------------------------------\u001b[0m",
      "\u001b[1;31mTypeError\u001b[0m                                 Traceback (most recent call last)",
      "Cell \u001b[1;32mIn[63], line 2\u001b[0m\n\u001b[0;32m      1\u001b[0m t1 \u001b[38;5;241m=\u001b[39m (\u001b[38;5;241m1\u001b[39m, \u001b[38;5;241m2\u001b[39m, \u001b[38;5;124m'\u001b[39m\u001b[38;5;124ma\u001b[39m\u001b[38;5;124m'\u001b[39m, \u001b[38;5;124m'\u001b[39m\u001b[38;5;124mb\u001b[39m\u001b[38;5;124m'\u001b[39m)\n\u001b[1;32m----> 2\u001b[0m \u001b[38;5;28;01mdel\u001b[39;00m t1[\u001b[38;5;241m0\u001b[39m]\n",
      "\u001b[1;31mTypeError\u001b[0m: 'tuple' object doesn't support item deletion"
     ]
    }
   ],
   "source": [
    "t1 = (1, 2, 'a', 'b')\n",
    "del t1[0]"
   ]
  },
  {
   "cell_type": "code",
   "execution_count": 64,
   "id": "8563ff61",
   "metadata": {
    "ExecuteTime": {
     "end_time": "2024-03-04T01:32:21.305064Z",
     "start_time": "2024-03-04T01:32:21.292483Z"
    },
    "hidden": true
   },
   "outputs": [
    {
     "ename": "TypeError",
     "evalue": "'tuple' object does not support item assignment",
     "output_type": "error",
     "traceback": [
      "\u001b[1;31m---------------------------------------------------------------------------\u001b[0m",
      "\u001b[1;31mTypeError\u001b[0m                                 Traceback (most recent call last)",
      "Cell \u001b[1;32mIn[64], line 2\u001b[0m\n\u001b[0;32m      1\u001b[0m t1 \u001b[38;5;241m=\u001b[39m (\u001b[38;5;241m1\u001b[39m, \u001b[38;5;241m2\u001b[39m, \u001b[38;5;124m'\u001b[39m\u001b[38;5;124ma\u001b[39m\u001b[38;5;124m'\u001b[39m, \u001b[38;5;124m'\u001b[39m\u001b[38;5;124mb\u001b[39m\u001b[38;5;124m'\u001b[39m)\n\u001b[1;32m----> 2\u001b[0m t1[\u001b[38;5;241m0\u001b[39m] \u001b[38;5;241m=\u001b[39m \u001b[38;5;124m'\u001b[39m\u001b[38;5;124mc\u001b[39m\u001b[38;5;124m'\u001b[39m\n",
      "\u001b[1;31mTypeError\u001b[0m: 'tuple' object does not support item assignment"
     ]
    }
   ],
   "source": [
    "t1 = (1, 2, 'a', 'b')\n",
    "t1[0] = 'c'"
   ]
  },
  {
   "cell_type": "markdown",
   "id": "57b1013b",
   "metadata": {
    "hidden": true
   },
   "source": [
    "## 튜플 다루기(조회 가능)"
   ]
  },
  {
   "cell_type": "code",
   "execution_count": 65,
   "id": "ab7c384c",
   "metadata": {
    "ExecuteTime": {
     "end_time": "2024-03-04T01:33:57.943786Z",
     "start_time": "2024-03-04T01:33:57.939754Z"
    },
    "hidden": true
   },
   "outputs": [
    {
     "data": {
      "text/plain": [
       "(1, 'b')"
      ]
     },
     "execution_count": 65,
     "metadata": {},
     "output_type": "execute_result"
    }
   ],
   "source": [
    "# 인덱싱\n",
    "t1 = (1, 2, 'a', 'b')\n",
    "t1[0], t1[3]"
   ]
  },
  {
   "cell_type": "code",
   "execution_count": 66,
   "id": "3a667e74",
   "metadata": {
    "ExecuteTime": {
     "end_time": "2024-03-04T01:34:21.264352Z",
     "start_time": "2024-03-04T01:34:21.259265Z"
    },
    "hidden": true
   },
   "outputs": [
    {
     "data": {
      "text/plain": [
       "(2, 'a', 'b')"
      ]
     },
     "execution_count": 66,
     "metadata": {},
     "output_type": "execute_result"
    }
   ],
   "source": [
    "# 슬라이싱\n",
    "t1 = (1, 2, 'a', 'b')\n",
    "t1[1:]"
   ]
  },
  {
   "cell_type": "code",
   "execution_count": 67,
   "id": "dc051a00",
   "metadata": {
    "ExecuteTime": {
     "end_time": "2024-03-04T01:35:04.978233Z",
     "start_time": "2024-03-04T01:35:04.973551Z"
    },
    "hidden": true
   },
   "outputs": [
    {
     "data": {
      "text/plain": [
       "(1, 2, 'a', 'b', 3, 4)"
      ]
     },
     "execution_count": 67,
     "metadata": {},
     "output_type": "execute_result"
    }
   ],
   "source": [
    "# 튜플 더하기\n",
    "t1 = (1, 2, 'a', 'b')\n",
    "t2 = (3, 4)\n",
    "t3 = t1 + t2\n",
    "t3"
   ]
  },
  {
   "cell_type": "code",
   "execution_count": 69,
   "id": "54c184c4",
   "metadata": {
    "ExecuteTime": {
     "end_time": "2024-03-04T01:37:24.659918Z",
     "start_time": "2024-03-04T01:37:24.655082Z"
    },
    "hidden": true
   },
   "outputs": [
    {
     "data": {
      "text/plain": [
       "(3, 4, 3, 4, 3, 4)"
      ]
     },
     "execution_count": 69,
     "metadata": {},
     "output_type": "execute_result"
    }
   ],
   "source": [
    "# 튜플 곱하기\n",
    "# 정수가 있음에도 산수계산이 아닌 반복 횟수를 나타낸다.\n",
    "# 연산을 원한다면? => array 함수 사용!\n",
    "t2 = (3, 4)\n",
    "t3 = t2 * 3\n",
    "t3"
   ]
  },
  {
   "cell_type": "code",
   "execution_count": 70,
   "id": "cadcd606",
   "metadata": {
    "ExecuteTime": {
     "end_time": "2024-03-04T01:38:00.926498Z",
     "start_time": "2024-03-04T01:38:00.921933Z"
    },
    "hidden": true
   },
   "outputs": [
    {
     "data": {
      "text/plain": [
       "4"
      ]
     },
     "execution_count": 70,
     "metadata": {},
     "output_type": "execute_result"
    }
   ],
   "source": [
    "# 튜플 길이 구하기\n",
    "t1 = (1, 2, 'a', 'b')\n",
    "len(t1)"
   ]
  },
  {
   "cell_type": "markdown",
   "id": "27130e9a",
   "metadata": {
    "hidden": true
   },
   "source": [
    "튜플은 요솟값을 변경할수 없기 때문에 sort, insert, remove, pop과 같은 내장 함수가 없다."
   ]
  },
  {
   "cell_type": "markdown",
   "id": "3ff46d21",
   "metadata": {
    "heading_collapsed": true
   },
   "source": [
    "# 딕셔너리 자료형"
   ]
  },
  {
   "cell_type": "markdown",
   "id": "548bf44c",
   "metadata": {
    "heading_collapsed": true,
    "hidden": true
   },
   "source": [
    "## 딕셔너리는 어떻게 만들까?"
   ]
  },
  {
   "cell_type": "markdown",
   "id": "319e108d",
   "metadata": {
    "ExecuteTime": {
     "end_time": "2024-03-04T01:50:22.479275Z",
     "start_time": "2024-03-04T01:50:22.474290Z"
    },
    "hidden": true
   },
   "source": [
    "기본 모습   \n",
    "{Key1: Value1, Key2: Value2, Key3: Value3, ...}   \n",
    "dic = {'name': 'pey', 'phone': '010-9999-1234', 'birth': '1118'}"
   ]
  },
  {
   "cell_type": "code",
   "execution_count": 90,
   "id": "903ec0c1",
   "metadata": {
    "ExecuteTime": {
     "end_time": "2024-03-04T02:08:26.102578Z",
     "start_time": "2024-03-04T02:08:26.098844Z"
    },
    "hidden": true
   },
   "outputs": [
    {
     "data": {
      "text/plain": [
       "{'name': 'pey', 'phone': '010-9999-1234', 'birth': '1118'}"
      ]
     },
     "execution_count": 90,
     "metadata": {},
     "output_type": "execute_result"
    }
   ],
   "source": [
    "dic = {'name': 'pey', 'phone': '010-9999-1234', 'birth': '1118'}\n",
    "dic"
   ]
  },
  {
   "cell_type": "code",
   "execution_count": 86,
   "id": "c400d80f",
   "metadata": {
    "ExecuteTime": {
     "end_time": "2024-03-04T02:06:29.802329Z",
     "start_time": "2024-03-04T02:06:29.797986Z"
    },
    "hidden": true
   },
   "outputs": [
    {
     "data": {
      "text/plain": [
       "{1: 'hi'}"
      ]
     },
     "execution_count": 86,
     "metadata": {},
     "output_type": "execute_result"
    }
   ],
   "source": [
    "# Key로 정숫값 1, Value로 문자열 'hi'를 사용한 예\n",
    "a = {1: 'hi'}\n",
    "a"
   ]
  },
  {
   "cell_type": "code",
   "execution_count": 87,
   "id": "a6ebfbf8",
   "metadata": {
    "ExecuteTime": {
     "end_time": "2024-03-04T02:06:38.490303Z",
     "start_time": "2024-03-04T02:06:38.485211Z"
    },
    "hidden": true
   },
   "outputs": [
    {
     "data": {
      "text/plain": [
       "{'a': [1, 2, 3]}"
      ]
     },
     "execution_count": 87,
     "metadata": {},
     "output_type": "execute_result"
    }
   ],
   "source": [
    "# Value에 리스트도 넣을 수 있다.\n",
    "a = {'a': [1, 2, 3]}\n",
    "a"
   ]
  },
  {
   "cell_type": "markdown",
   "id": "6c0fbd3d",
   "metadata": {
    "heading_collapsed": true,
    "hidden": true
   },
   "source": [
    "## 딕셔너리 쌍 추가/삭제하기"
   ]
  },
  {
   "cell_type": "code",
   "execution_count": 76,
   "id": "71791ed9",
   "metadata": {
    "ExecuteTime": {
     "end_time": "2024-03-04T01:56:09.315571Z",
     "start_time": "2024-03-04T01:56:09.309937Z"
    },
    "hidden": true
   },
   "outputs": [
    {
     "data": {
      "text/plain": [
       "{1: 'a', 2: 'b'}"
      ]
     },
     "execution_count": 76,
     "metadata": {},
     "output_type": "execute_result"
    }
   ],
   "source": [
    "# 쌍 추가하기\n",
    "a = {1: 'a'}\n",
    "a[2] = 'b'\n",
    "a"
   ]
  },
  {
   "cell_type": "code",
   "execution_count": 81,
   "id": "f81a307b",
   "metadata": {
    "ExecuteTime": {
     "end_time": "2024-03-04T01:58:44.705047Z",
     "start_time": "2024-03-04T01:58:44.700053Z"
    },
    "hidden": true
   },
   "outputs": [
    {
     "data": {
      "text/plain": [
       "{1: 'a', 2: 'b', 'name': 'pey'}"
      ]
     },
     "execution_count": 81,
     "metadata": {},
     "output_type": "execute_result"
    }
   ],
   "source": [
    "# {'name':'pey'}쌍 추가\n",
    "a['name'] = 'pey'\n",
    "a"
   ]
  },
  {
   "cell_type": "code",
   "execution_count": 83,
   "id": "a0008a8d",
   "metadata": {
    "ExecuteTime": {
     "end_time": "2024-03-04T01:59:23.521026Z",
     "start_time": "2024-03-04T01:59:23.514837Z"
    },
    "hidden": true
   },
   "outputs": [
    {
     "data": {
      "text/plain": [
       "{1: 'a', 2: 'b', 'name': 'pey', 3: [1, 2, 3]}"
      ]
     },
     "execution_count": 83,
     "metadata": {},
     "output_type": "execute_result"
    }
   ],
   "source": [
    "# Key는 3, Value는 [1, 2, 3]을 가지는 한 쌍 추가\n",
    "a[3] = [1, 2, 3]\n",
    "a"
   ]
  },
  {
   "cell_type": "code",
   "execution_count": 84,
   "id": "3140a8e2",
   "metadata": {
    "ExecuteTime": {
     "end_time": "2024-03-04T02:01:03.913256Z",
     "start_time": "2024-03-04T02:01:03.908911Z"
    },
    "hidden": true
   },
   "outputs": [
    {
     "data": {
      "text/plain": [
       "{2: 'b', 'name': 'pey', 3: [1, 2, 3]}"
      ]
     },
     "execution_count": 84,
     "metadata": {},
     "output_type": "execute_result"
    }
   ],
   "source": [
    "# 딕셔너리 요소 삭제하기\n",
    "del a[1]\n",
    "a"
   ]
  },
  {
   "cell_type": "markdown",
   "id": "a0ae6ffd",
   "metadata": {
    "heading_collapsed": true,
    "hidden": true
   },
   "source": [
    "## 딕셔너리를 사용하는 방법"
   ]
  },
  {
   "cell_type": "markdown",
   "id": "ebf89558",
   "metadata": {
    "hidden": true
   },
   "source": [
    "### key를 사용해 Value 얻기"
   ]
  },
  {
   "cell_type": "code",
   "execution_count": 88,
   "id": "097bccc6",
   "metadata": {
    "ExecuteTime": {
     "end_time": "2024-03-04T02:07:46.438008Z",
     "start_time": "2024-03-04T02:07:46.433279Z"
    },
    "hidden": true
   },
   "outputs": [
    {
     "data": {
      "text/plain": [
       "10"
      ]
     },
     "execution_count": 88,
     "metadata": {},
     "output_type": "execute_result"
    }
   ],
   "source": [
    "grade = {'pey': 10, 'julliet': 99}\n",
    "grade['pey']"
   ]
  },
  {
   "cell_type": "code",
   "execution_count": 89,
   "id": "9e72acb0",
   "metadata": {
    "ExecuteTime": {
     "end_time": "2024-03-04T02:07:54.133990Z",
     "start_time": "2024-03-04T02:07:54.130003Z"
    },
    "hidden": true
   },
   "outputs": [
    {
     "data": {
      "text/plain": [
       "99"
      ]
     },
     "execution_count": 89,
     "metadata": {},
     "output_type": "execute_result"
    }
   ],
   "source": [
    "grade['julliet']"
   ]
  },
  {
   "cell_type": "code",
   "execution_count": 92,
   "id": "3e7c2ace",
   "metadata": {
    "ExecuteTime": {
     "end_time": "2024-03-04T02:09:15.426019Z",
     "start_time": "2024-03-04T02:09:15.421146Z"
    },
    "hidden": true
   },
   "outputs": [
    {
     "data": {
      "text/plain": [
       "('pey', '010-9999-1234', '1118')"
      ]
     },
     "execution_count": 92,
     "metadata": {},
     "output_type": "execute_result"
    }
   ],
   "source": [
    "dic = {'name':'pey', 'phone':'010-9999-1234', 'birth': '1118'}\n",
    "dic['name'], dic['phone'],dic['birth']"
   ]
  },
  {
   "cell_type": "markdown",
   "id": "fbab59b9",
   "metadata": {
    "hidden": true
   },
   "source": [
    "### 주의사항"
   ]
  },
  {
   "cell_type": "code",
   "execution_count": 93,
   "id": "4ec492da",
   "metadata": {
    "ExecuteTime": {
     "end_time": "2024-03-04T02:10:04.041873Z",
     "start_time": "2024-03-04T02:10:04.036894Z"
    },
    "hidden": true
   },
   "outputs": [
    {
     "data": {
      "text/plain": [
       "{1: 'b'}"
      ]
     },
     "execution_count": 93,
     "metadata": {},
     "output_type": "execute_result"
    }
   ],
   "source": [
    "a = {1:'a', 1:'b'}\n",
    "a"
   ]
  },
  {
   "cell_type": "code",
   "execution_count": 94,
   "id": "697a3cdb",
   "metadata": {
    "ExecuteTime": {
     "end_time": "2024-03-04T02:10:34.743119Z",
     "start_time": "2024-03-04T02:10:34.739745Z"
    },
    "hidden": true
   },
   "outputs": [],
   "source": [
    "a[1] = 'c'"
   ]
  },
  {
   "cell_type": "code",
   "execution_count": 95,
   "id": "fe285417",
   "metadata": {
    "ExecuteTime": {
     "end_time": "2024-03-04T02:10:35.335535Z",
     "start_time": "2024-03-04T02:10:35.330552Z"
    },
    "hidden": true
   },
   "outputs": [
    {
     "data": {
      "text/plain": [
       "{1: 'c'}"
      ]
     },
     "execution_count": 95,
     "metadata": {},
     "output_type": "execute_result"
    }
   ],
   "source": [
    "a"
   ]
  },
  {
   "cell_type": "code",
   "execution_count": 98,
   "id": "3493c728",
   "metadata": {
    "ExecuteTime": {
     "end_time": "2024-03-04T02:11:15.771043Z",
     "start_time": "2024-03-04T02:11:15.757698Z"
    },
    "hidden": true
   },
   "outputs": [
    {
     "ename": "TypeError",
     "evalue": "unhashable type: 'list'",
     "output_type": "error",
     "traceback": [
      "\u001b[1;31m---------------------------------------------------------------------------\u001b[0m",
      "\u001b[1;31mTypeError\u001b[0m                                 Traceback (most recent call last)",
      "Cell \u001b[1;32mIn[98], line 2\u001b[0m\n\u001b[0;32m      1\u001b[0m \u001b[38;5;66;03m# Key에 리스트는 쓸 수 없다는 것이다.\u001b[39;00m\n\u001b[1;32m----> 2\u001b[0m a \u001b[38;5;241m=\u001b[39m {[\u001b[38;5;241m1\u001b[39m,\u001b[38;5;241m2\u001b[39m] : \u001b[38;5;124m'\u001b[39m\u001b[38;5;124mhi\u001b[39m\u001b[38;5;124m'\u001b[39m}\n",
      "\u001b[1;31mTypeError\u001b[0m: unhashable type: 'list'"
     ]
    }
   ],
   "source": [
    "# Key에 리스트는 쓸 수 없다.\n",
    "a = {[1,2] : 'hi'}"
   ]
  },
  {
   "cell_type": "markdown",
   "id": "6a8ec10b",
   "metadata": {
    "heading_collapsed": true,
    "hidden": true
   },
   "source": [
    "## 딕셔너리 관련 함수"
   ]
  },
  {
   "cell_type": "code",
   "execution_count": null,
   "id": "654c88e4",
   "metadata": {
    "hidden": true
   },
   "outputs": [],
   "source": [
    "# key 리스트 만들기 - keys \n",
    "a."
   ]
  },
  {
   "cell_type": "code",
   "execution_count": 100,
   "id": "76db3ee4",
   "metadata": {
    "ExecuteTime": {
     "end_time": "2024-03-04T02:13:55.258860Z",
     "start_time": "2024-03-04T02:13:55.254037Z"
    },
    "hidden": true
   },
   "outputs": [
    {
     "data": {
      "text/plain": [
       "(str, list, tuple, dict)"
      ]
     },
     "execution_count": 100,
     "metadata": {},
     "output_type": "execute_result"
    }
   ],
   "source": [
    "a1 = 'str'\n",
    "a2 = [1, 2, 3]\n",
    "a3 = (1,)\n",
    "a4 = {1:'a'}\n",
    "type(a1), type(a2), type(a3), type(a4)"
   ]
  },
  {
   "cell_type": "code",
   "execution_count": 101,
   "id": "f791b25c",
   "metadata": {
    "ExecuteTime": {
     "end_time": "2024-03-04T02:14:34.209627Z",
     "start_time": "2024-03-04T02:14:34.204574Z"
    },
    "hidden": true
   },
   "outputs": [
    {
     "data": {
      "text/plain": [
       "dict_keys(['name', 'phone', 'birth'])"
      ]
     },
     "execution_count": 101,
     "metadata": {},
     "output_type": "execute_result"
    }
   ],
   "source": [
    "a = {'name': 'pey', 'phone': '010-9999-1234', 'birth': '1118'}\n",
    "a.keys()"
   ]
  },
  {
   "cell_type": "code",
   "execution_count": 103,
   "id": "3eff17b3",
   "metadata": {
    "ExecuteTime": {
     "end_time": "2024-03-04T02:15:30.099934Z",
     "start_time": "2024-03-04T02:15:30.096464Z"
    },
    "hidden": true
   },
   "outputs": [
    {
     "name": "stdout",
     "output_type": "stream",
     "text": [
      "name\n",
      "phone\n",
      "birth\n"
     ]
    }
   ],
   "source": [
    "for k in a.keys():\n",
    "    print(k)"
   ]
  },
  {
   "cell_type": "code",
   "execution_count": 107,
   "id": "44b738fe",
   "metadata": {
    "ExecuteTime": {
     "end_time": "2024-03-04T02:16:27.933673Z",
     "start_time": "2024-03-04T02:16:27.929690Z"
    },
    "hidden": true
   },
   "outputs": [
    {
     "data": {
      "text/plain": [
       "dict_values(['pey', '010-9999-1234', '1118'])"
      ]
     },
     "execution_count": 107,
     "metadata": {},
     "output_type": "execute_result"
    }
   ],
   "source": [
    "# Value 리스트 만들기 - values\n",
    "a.values()"
   ]
  },
  {
   "cell_type": "code",
   "execution_count": 109,
   "id": "02b96a5d",
   "metadata": {
    "ExecuteTime": {
     "end_time": "2024-03-04T02:16:43.651430Z",
     "start_time": "2024-03-04T02:16:43.646395Z"
    },
    "hidden": true
   },
   "outputs": [
    {
     "data": {
      "text/plain": [
       "dict_items([('name', 'pey'), ('phone', '010-9999-1234'), ('birth', '1118')])"
      ]
     },
     "execution_count": 109,
     "metadata": {},
     "output_type": "execute_result"
    }
   ],
   "source": [
    "# Key, Value 쌍 얻기 - items\n",
    "a.items()"
   ]
  },
  {
   "cell_type": "code",
   "execution_count": 110,
   "id": "0a688c8f",
   "metadata": {
    "ExecuteTime": {
     "end_time": "2024-03-04T02:17:06.352741Z",
     "start_time": "2024-03-04T02:17:06.348692Z"
    },
    "hidden": true
   },
   "outputs": [
    {
     "data": {
      "text/plain": [
       "{}"
      ]
     },
     "execution_count": 110,
     "metadata": {},
     "output_type": "execute_result"
    }
   ],
   "source": [
    "# Key: Value 쌍 모두 지우기 - clear\n",
    "a.clear()\n",
    "a"
   ]
  },
  {
   "cell_type": "code",
   "execution_count": 111,
   "id": "26626d18",
   "metadata": {
    "ExecuteTime": {
     "end_time": "2024-03-04T02:19:26.516311Z",
     "start_time": "2024-03-04T02:19:26.511327Z"
    },
    "hidden": true
   },
   "outputs": [
    {
     "data": {
      "text/plain": [
       "'pey'"
      ]
     },
     "execution_count": 111,
     "metadata": {},
     "output_type": "execute_result"
    }
   ],
   "source": [
    "# Key로 Value 얻기 - get\n",
    "a = {'name': 'pey', 'phone': '010-9999-1234', 'birth': '1118'}\n",
    "a.get('name')"
   ]
  },
  {
   "cell_type": "code",
   "execution_count": 115,
   "id": "f30722ab",
   "metadata": {
    "ExecuteTime": {
     "end_time": "2024-03-04T02:20:53.198719Z",
     "start_time": "2024-03-04T02:20:53.193283Z"
    },
    "hidden": true
   },
   "outputs": [
    {
     "data": {
      "text/plain": [
       "True"
      ]
     },
     "execution_count": 115,
     "metadata": {},
     "output_type": "execute_result"
    }
   ],
   "source": [
    "# 해당 Key가 딕셔너리 안에 있는지 조사하기 - in\n",
    "'name' in a"
   ]
  },
  {
   "cell_type": "code",
   "execution_count": 113,
   "id": "7b9aae55",
   "metadata": {
    "ExecuteTime": {
     "end_time": "2024-03-04T02:20:18.976482Z",
     "start_time": "2024-03-04T02:20:18.972390Z"
    },
    "hidden": true
   },
   "outputs": [
    {
     "data": {
      "text/plain": [
       "False"
      ]
     },
     "execution_count": 113,
     "metadata": {},
     "output_type": "execute_result"
    }
   ],
   "source": [
    "'email' in a"
   ]
  },
  {
   "cell_type": "markdown",
   "id": "f89944a9",
   "metadata": {},
   "source": [
    "# 집합 자료형"
   ]
  },
  {
   "cell_type": "markdown",
   "id": "a65626f7",
   "metadata": {},
   "source": [
    "집합(set)은 집합에 관련된 것을 쉽게 처리하기 위해 만든 자료형이다.   \n",
    "[특징]   \n",
    "- 중복을 허용하지 않는다.   \n",
    "- 순서가 없다(Unordered)   "
   ]
  },
  {
   "cell_type": "markdown",
   "id": "ec74ef23",
   "metadata": {},
   "source": [
    "## 딕셔너리는 어떻게 만들까?"
   ]
  },
  {
   "cell_type": "code",
   "execution_count": 116,
   "id": "22796908",
   "metadata": {
    "ExecuteTime": {
     "end_time": "2024-03-04T02:22:23.682447Z",
     "start_time": "2024-03-04T02:22:23.678438Z"
    }
   },
   "outputs": [
    {
     "data": {
      "text/plain": [
       "{1, 2, 3}"
      ]
     },
     "execution_count": 116,
     "metadata": {},
     "output_type": "execute_result"
    }
   ],
   "source": [
    "s1 = set([1, 2, 3])\n",
    "s1"
   ]
  },
  {
   "cell_type": "code",
   "execution_count": 121,
   "id": "2af0500e",
   "metadata": {
    "ExecuteTime": {
     "end_time": "2024-03-04T02:25:30.451286Z",
     "start_time": "2024-03-04T02:25:30.446050Z"
    }
   },
   "outputs": [
    {
     "data": {
      "text/plain": [
       "{'H', 'e', 'l', 'o'}"
      ]
     },
     "execution_count": 121,
     "metadata": {},
     "output_type": "execute_result"
    }
   ],
   "source": [
    "s2 = set('Hello')\n",
    "s2"
   ]
  },
  {
   "cell_type": "code",
   "execution_count": 122,
   "id": "440759ca",
   "metadata": {
    "ExecuteTime": {
     "end_time": "2024-03-04T02:26:42.519684Z",
     "start_time": "2024-03-04T02:26:42.516017Z"
    }
   },
   "outputs": [
    {
     "data": {
      "text/plain": [
       "[1, 2, 3]"
      ]
     },
     "execution_count": 122,
     "metadata": {},
     "output_type": "execute_result"
    }
   ],
   "source": [
    "s1 = set([1, 2, 3])\n",
    "l1 = list(s1)\n",
    "l1"
   ]
  },
  {
   "cell_type": "code",
   "execution_count": 124,
   "id": "d67a515a",
   "metadata": {
    "ExecuteTime": {
     "end_time": "2024-03-04T02:27:49.011482Z",
     "start_time": "2024-03-04T02:27:49.007552Z"
    }
   },
   "outputs": [
    {
     "data": {
      "text/plain": [
       "1"
      ]
     },
     "execution_count": 124,
     "metadata": {},
     "output_type": "execute_result"
    }
   ],
   "source": [
    "l1[0]"
   ]
  },
  {
   "cell_type": "code",
   "execution_count": 126,
   "id": "1d2221e5",
   "metadata": {
    "ExecuteTime": {
     "end_time": "2024-03-04T02:28:19.256257Z",
     "start_time": "2024-03-04T02:28:19.251273Z"
    }
   },
   "outputs": [
    {
     "data": {
      "text/plain": [
       "((1, 2, 3), 1)"
      ]
     },
     "execution_count": 126,
     "metadata": {},
     "output_type": "execute_result"
    }
   ],
   "source": [
    "t1 = tuple(s1)\n",
    "t1, t1[0]"
   ]
  },
  {
   "cell_type": "markdown",
   "id": "a8c2e73c",
   "metadata": {},
   "source": [
    "## 교집합, 합집합, 차집합 구하기"
   ]
  },
  {
   "cell_type": "code",
   "execution_count": 127,
   "id": "9e62a3b5",
   "metadata": {
    "ExecuteTime": {
     "end_time": "2024-03-04T02:30:14.148186Z",
     "start_time": "2024-03-04T02:30:14.144747Z"
    }
   },
   "outputs": [],
   "source": [
    "s1 = set([1, 2, 3, 4, 5, 6])\n",
    "s2 = set([4, 5, 6, 7, 8, 9])"
   ]
  },
  {
   "cell_type": "code",
   "execution_count": 128,
   "id": "1ea8699e",
   "metadata": {
    "ExecuteTime": {
     "end_time": "2024-03-04T02:30:26.126291Z",
     "start_time": "2024-03-04T02:30:26.122060Z"
    }
   },
   "outputs": [
    {
     "data": {
      "text/plain": [
       "{4, 5, 6}"
      ]
     },
     "execution_count": 128,
     "metadata": {},
     "output_type": "execute_result"
    }
   ],
   "source": [
    "# 교집합\n",
    "s1 & s2"
   ]
  },
  {
   "cell_type": "code",
   "execution_count": 129,
   "id": "c3f9e693",
   "metadata": {
    "ExecuteTime": {
     "end_time": "2024-03-04T02:30:39.229265Z",
     "start_time": "2024-03-04T02:30:39.224281Z"
    }
   },
   "outputs": [
    {
     "data": {
      "text/plain": [
       "{4, 5, 6}"
      ]
     },
     "execution_count": 129,
     "metadata": {},
     "output_type": "execute_result"
    }
   ],
   "source": [
    "s1.intersection(s2)"
   ]
  },
  {
   "cell_type": "code",
   "execution_count": 130,
   "id": "f5cc3810",
   "metadata": {
    "ExecuteTime": {
     "end_time": "2024-03-04T02:31:07.078861Z",
     "start_time": "2024-03-04T02:31:07.074328Z"
    }
   },
   "outputs": [
    {
     "data": {
      "text/plain": [
       "{1, 2, 3, 4, 5, 6, 7, 8, 9}"
      ]
     },
     "execution_count": 130,
     "metadata": {},
     "output_type": "execute_result"
    }
   ],
   "source": [
    "# 합집합\n",
    "s1 | s2"
   ]
  },
  {
   "cell_type": "code",
   "execution_count": 131,
   "id": "16744bcd",
   "metadata": {
    "ExecuteTime": {
     "end_time": "2024-03-04T02:31:21.835708Z",
     "start_time": "2024-03-04T02:31:21.830256Z"
    }
   },
   "outputs": [
    {
     "data": {
      "text/plain": [
       "{1, 2, 3, 4, 5, 6, 7, 8, 9}"
      ]
     },
     "execution_count": 131,
     "metadata": {},
     "output_type": "execute_result"
    }
   ],
   "source": [
    "s1.union(s2)"
   ]
  },
  {
   "cell_type": "code",
   "execution_count": 132,
   "id": "afcb3d66",
   "metadata": {
    "ExecuteTime": {
     "end_time": "2024-03-04T02:32:31.624207Z",
     "start_time": "2024-03-04T02:32:31.619674Z"
    }
   },
   "outputs": [
    {
     "data": {
      "text/plain": [
       "{1, 2, 3}"
      ]
     },
     "execution_count": 132,
     "metadata": {},
     "output_type": "execute_result"
    }
   ],
   "source": [
    "# 차집합\n",
    "s1 - s2"
   ]
  },
  {
   "cell_type": "code",
   "execution_count": 133,
   "id": "02ed6dcd",
   "metadata": {
    "ExecuteTime": {
     "end_time": "2024-03-04T02:32:43.799121Z",
     "start_time": "2024-03-04T02:32:43.794084Z"
    }
   },
   "outputs": [
    {
     "data": {
      "text/plain": [
       "{7, 8, 9}"
      ]
     },
     "execution_count": 133,
     "metadata": {},
     "output_type": "execute_result"
    }
   ],
   "source": [
    "s2 - s1"
   ]
  },
  {
   "cell_type": "code",
   "execution_count": 134,
   "id": "696e5226",
   "metadata": {
    "ExecuteTime": {
     "end_time": "2024-03-04T02:32:56.221404Z",
     "start_time": "2024-03-04T02:32:56.216519Z"
    }
   },
   "outputs": [
    {
     "data": {
      "text/plain": [
       "{1, 2, 3}"
      ]
     },
     "execution_count": 134,
     "metadata": {},
     "output_type": "execute_result"
    }
   ],
   "source": [
    "s1.difference(s2)"
   ]
  },
  {
   "cell_type": "code",
   "execution_count": 135,
   "id": "9cd1e678",
   "metadata": {
    "ExecuteTime": {
     "end_time": "2024-03-04T02:33:04.924776Z",
     "start_time": "2024-03-04T02:33:04.920790Z"
    }
   },
   "outputs": [
    {
     "data": {
      "text/plain": [
       "{7, 8, 9}"
      ]
     },
     "execution_count": 135,
     "metadata": {},
     "output_type": "execute_result"
    }
   ],
   "source": [
    "s2.difference(s1)"
   ]
  },
  {
   "cell_type": "markdown",
   "id": "c34ad6a7",
   "metadata": {},
   "source": [
    "## 집합 자료형 관련 함수"
   ]
  },
  {
   "cell_type": "code",
   "execution_count": 137,
   "id": "e0d80328",
   "metadata": {
    "ExecuteTime": {
     "end_time": "2024-03-04T02:34:04.077111Z",
     "start_time": "2024-03-04T02:34:04.072473Z"
    }
   },
   "outputs": [
    {
     "data": {
      "text/plain": [
       "{1, 2, 3, 4}"
      ]
     },
     "execution_count": 137,
     "metadata": {},
     "output_type": "execute_result"
    }
   ],
   "source": [
    "# add : 값 1개 추가하기 \n",
    "s1 = set([1, 2, 3])\n",
    "s1.add(4)\n",
    "s1"
   ]
  },
  {
   "cell_type": "code",
   "execution_count": 144,
   "id": "58f30ca3",
   "metadata": {
    "ExecuteTime": {
     "end_time": "2024-03-04T02:37:11.067208Z",
     "start_time": "2024-03-04T02:37:11.051435Z"
    }
   },
   "outputs": [
    {
     "ename": "TypeError",
     "evalue": "unhashable type: 'list'",
     "output_type": "error",
     "traceback": [
      "\u001b[1;31m---------------------------------------------------------------------------\u001b[0m",
      "\u001b[1;31mTypeError\u001b[0m                                 Traceback (most recent call last)",
      "Cell \u001b[1;32mIn[144], line 1\u001b[0m\n\u001b[1;32m----> 1\u001b[0m s1\u001b[38;5;241m.\u001b[39madd([\u001b[38;5;241m4\u001b[39m])\n",
      "\u001b[1;31mTypeError\u001b[0m: unhashable type: 'list'"
     ]
    }
   ],
   "source": [
    "s1.add([4])"
   ]
  },
  {
   "cell_type": "code",
   "execution_count": 138,
   "id": "be37c857",
   "metadata": {
    "ExecuteTime": {
     "end_time": "2024-03-04T02:34:43.319458Z",
     "start_time": "2024-03-04T02:34:43.314783Z"
    }
   },
   "outputs": [
    {
     "data": {
      "text/plain": [
       "{1, 2, 3, 4, 5, 6}"
      ]
     },
     "execution_count": 138,
     "metadata": {},
     "output_type": "execute_result"
    }
   ],
   "source": [
    "# update : 값 여러 개 추가하기\n",
    "s1 = set([1, 2, 3])\n",
    "s1.update([4, 5, 6])\n",
    "s1"
   ]
  },
  {
   "cell_type": "code",
   "execution_count": 140,
   "id": "9b1ec90f",
   "metadata": {
    "ExecuteTime": {
     "end_time": "2024-03-04T02:35:14.485792Z",
     "start_time": "2024-03-04T02:35:14.481697Z"
    }
   },
   "outputs": [
    {
     "data": {
      "text/plain": [
       "{1, 2, 3, 4, 5, 6}"
      ]
     },
     "execution_count": 140,
     "metadata": {},
     "output_type": "execute_result"
    }
   ],
   "source": [
    "s1.update([4])\n",
    "s1"
   ]
  },
  {
   "cell_type": "code",
   "execution_count": 143,
   "id": "954c1d32",
   "metadata": {
    "ExecuteTime": {
     "end_time": "2024-03-04T02:36:54.865492Z",
     "start_time": "2024-03-04T02:36:54.850348Z"
    }
   },
   "outputs": [
    {
     "ename": "TypeError",
     "evalue": "'int' object is not iterable",
     "output_type": "error",
     "traceback": [
      "\u001b[1;31m---------------------------------------------------------------------------\u001b[0m",
      "\u001b[1;31mTypeError\u001b[0m                                 Traceback (most recent call last)",
      "Cell \u001b[1;32mIn[143], line 1\u001b[0m\n\u001b[1;32m----> 1\u001b[0m s1\u001b[38;5;241m.\u001b[39mupdate(\u001b[38;5;241m4\u001b[39m)\n",
      "\u001b[1;31mTypeError\u001b[0m: 'int' object is not iterable"
     ]
    }
   ],
   "source": [
    "s1.update(4)"
   ]
  },
  {
   "cell_type": "code",
   "execution_count": 142,
   "id": "8da61fb8",
   "metadata": {
    "ExecuteTime": {
     "end_time": "2024-03-04T02:36:32.180248Z",
     "start_time": "2024-03-04T02:36:32.175265Z"
    }
   },
   "outputs": [
    {
     "data": {
      "text/plain": [
       "{1, 3}"
      ]
     },
     "execution_count": 142,
     "metadata": {},
     "output_type": "execute_result"
    }
   ],
   "source": [
    "# remove : 특정 값 제거하기\n",
    "s1 = set([1, 2, 3])\n",
    "s1.remove(2)\n",
    "s1"
   ]
  },
  {
   "cell_type": "markdown",
   "id": "c8f99176",
   "metadata": {},
   "source": [
    "# 불 자료형"
   ]
  },
  {
   "cell_type": "markdown",
   "id": "acce8eb1",
   "metadata": {},
   "source": [
    "불(bool) 자료형이란 참(True)과 거짓(False)을 나타내는 자료형이다.   \n",
    "불 자료형은 다음 2가지 값만을 가질 수 있다.\n",
    "\n",
    "- True: 참을 의미한다.   \n",
    "- False: 거짓을 의미한다.   \n",
    "\n",
    "True나 False는 파이썬의 예약어로, true, false와 같이 작성하면 안 되고 첫 문자를 항상 대문자로 작성해야 한다."
   ]
  },
  {
   "cell_type": "code",
   "execution_count": 145,
   "id": "33daa0e5",
   "metadata": {
    "ExecuteTime": {
     "end_time": "2024-03-04T02:38:33.467827Z",
     "start_time": "2024-03-04T02:38:33.464838Z"
    }
   },
   "outputs": [],
   "source": [
    "a = True\n",
    "b = False"
   ]
  },
  {
   "cell_type": "code",
   "execution_count": 146,
   "id": "23836191",
   "metadata": {
    "ExecuteTime": {
     "end_time": "2024-03-04T02:38:44.623824Z",
     "start_time": "2024-03-04T02:38:44.619319Z"
    }
   },
   "outputs": [
    {
     "data": {
      "text/plain": [
       "(bool, bool)"
      ]
     },
     "execution_count": 146,
     "metadata": {},
     "output_type": "execute_result"
    }
   ],
   "source": [
    "type(a), type(b)"
   ]
  },
  {
   "cell_type": "code",
   "execution_count": 147,
   "id": "9166afd2",
   "metadata": {
    "ExecuteTime": {
     "end_time": "2024-03-04T02:38:49.784068Z",
     "start_time": "2024-03-04T02:38:49.779888Z"
    }
   },
   "outputs": [
    {
     "data": {
      "text/plain": [
       "True"
      ]
     },
     "execution_count": 147,
     "metadata": {},
     "output_type": "execute_result"
    }
   ],
   "source": [
    "1 == 1"
   ]
  },
  {
   "cell_type": "code",
   "execution_count": 148,
   "id": "7d825a01",
   "metadata": {
    "ExecuteTime": {
     "end_time": "2024-03-04T02:38:54.184995Z",
     "start_time": "2024-03-04T02:38:54.180012Z"
    }
   },
   "outputs": [
    {
     "data": {
      "text/plain": [
       "True"
      ]
     },
     "execution_count": 148,
     "metadata": {},
     "output_type": "execute_result"
    }
   ],
   "source": [
    "2 > 1"
   ]
  },
  {
   "cell_type": "code",
   "execution_count": 149,
   "id": "f9df98ef",
   "metadata": {
    "ExecuteTime": {
     "end_time": "2024-03-04T02:39:02.137600Z",
     "start_time": "2024-03-04T02:39:02.132540Z"
    }
   },
   "outputs": [
    {
     "data": {
      "text/plain": [
       "False"
      ]
     },
     "execution_count": 149,
     "metadata": {},
     "output_type": "execute_result"
    }
   ],
   "source": [
    "2 < 1"
   ]
  },
  {
   "cell_type": "code",
   "execution_count": 154,
   "id": "238c65e3",
   "metadata": {
    "ExecuteTime": {
     "end_time": "2024-03-04T02:41:56.503309Z",
     "start_time": "2024-03-04T02:41:56.499695Z"
    }
   },
   "outputs": [
    {
     "name": "stdout",
     "output_type": "stream",
     "text": [
      "4\n",
      "3\n",
      "2\n",
      "1\n"
     ]
    }
   ],
   "source": [
    "a = [1, 2, 3, 4]\n",
    "while a :\n",
    "    print(a.pop())"
   ]
  },
  {
   "cell_type": "code",
   "execution_count": 155,
   "id": "66a45499",
   "metadata": {
    "ExecuteTime": {
     "end_time": "2024-03-04T02:44:24.998192Z",
     "start_time": "2024-03-04T02:44:24.995130Z"
    }
   },
   "outputs": [
    {
     "name": "stdout",
     "output_type": "stream",
     "text": [
      "거짓\n"
     ]
    }
   ],
   "source": [
    "if []:\n",
    "    print(\"참\")\n",
    "else:\n",
    "    print(\"거짓\")"
   ]
  },
  {
   "cell_type": "code",
   "execution_count": 156,
   "id": "56e66e3d",
   "metadata": {
    "ExecuteTime": {
     "end_time": "2024-03-04T02:44:30.998117Z",
     "start_time": "2024-03-04T02:44:30.994838Z"
    }
   },
   "outputs": [
    {
     "name": "stdout",
     "output_type": "stream",
     "text": [
      "참\n"
     ]
    }
   ],
   "source": [
    "if [1]:\n",
    "    print(\"참\")\n",
    "else:\n",
    "    print(\"거짓\")"
   ]
  },
  {
   "cell_type": "markdown",
   "id": "3ed212ae",
   "metadata": {},
   "source": [
    "## 불 연산"
   ]
  },
  {
   "cell_type": "code",
   "execution_count": 157,
   "id": "89090559",
   "metadata": {
    "ExecuteTime": {
     "end_time": "2024-03-04T02:45:04.789014Z",
     "start_time": "2024-03-04T02:45:04.785147Z"
    }
   },
   "outputs": [
    {
     "data": {
      "text/plain": [
       "True"
      ]
     },
     "execution_count": 157,
     "metadata": {},
     "output_type": "execute_result"
    }
   ],
   "source": [
    "bool('pyton') # 논리를 알려줌"
   ]
  },
  {
   "cell_type": "code",
   "execution_count": 158,
   "id": "d9fc4637",
   "metadata": {
    "ExecuteTime": {
     "end_time": "2024-03-04T02:45:14.319317Z",
     "start_time": "2024-03-04T02:45:14.314348Z"
    }
   },
   "outputs": [
    {
     "data": {
      "text/plain": [
       "False"
      ]
     },
     "execution_count": 158,
     "metadata": {},
     "output_type": "execute_result"
    }
   ],
   "source": [
    "bool('')"
   ]
  },
  {
   "cell_type": "code",
   "execution_count": 159,
   "id": "d519a508",
   "metadata": {
    "ExecuteTime": {
     "end_time": "2024-03-04T02:45:37.039101Z",
     "start_time": "2024-03-04T02:45:37.035254Z"
    }
   },
   "outputs": [
    {
     "data": {
      "text/plain": [
       "False"
      ]
     },
     "execution_count": 159,
     "metadata": {},
     "output_type": "execute_result"
    }
   ],
   "source": [
    "'python' == True # 값을 비교"
   ]
  },
  {
   "cell_type": "code",
   "execution_count": 160,
   "id": "9c797426",
   "metadata": {
    "ExecuteTime": {
     "end_time": "2024-03-04T02:45:55.202272Z",
     "start_time": "2024-03-04T02:45:55.197289Z"
    }
   },
   "outputs": [
    {
     "name": "stderr",
     "output_type": "stream",
     "text": [
      "<>:1: SyntaxWarning: \"is\" with a literal. Did you mean \"==\"?\n",
      "<>:1: SyntaxWarning: \"is\" with a literal. Did you mean \"==\"?\n",
      "C:\\Users\\user\\AppData\\Local\\Temp\\ipykernel_13008\\486934944.py:1: SyntaxWarning: \"is\" with a literal. Did you mean \"==\"?\n",
      "  'python' is True\n"
     ]
    },
    {
     "data": {
      "text/plain": [
       "False"
      ]
     },
     "execution_count": 160,
     "metadata": {},
     "output_type": "execute_result"
    }
   ],
   "source": [
    "'python' is True "
   ]
  },
  {
   "cell_type": "code",
   "execution_count": 161,
   "id": "aa5e065c",
   "metadata": {
    "ExecuteTime": {
     "end_time": "2024-03-04T02:47:25.861755Z",
     "start_time": "2024-03-04T02:47:25.857055Z"
    }
   },
   "outputs": [
    {
     "data": {
      "text/plain": [
       "False"
      ]
     },
     "execution_count": 161,
     "metadata": {},
     "output_type": "execute_result"
    }
   ],
   "source": [
    "bool(0)"
   ]
  },
  {
   "cell_type": "code",
   "execution_count": 162,
   "id": "df6c8fde",
   "metadata": {
    "ExecuteTime": {
     "end_time": "2024-03-04T02:47:30.845205Z",
     "start_time": "2024-03-04T02:47:30.841341Z"
    }
   },
   "outputs": [
    {
     "data": {
      "text/plain": [
       "True"
      ]
     },
     "execution_count": 162,
     "metadata": {},
     "output_type": "execute_result"
    }
   ],
   "source": [
    "bool(3)"
   ]
  },
  {
   "cell_type": "code",
   "execution_count": 163,
   "id": "f6355bd0",
   "metadata": {
    "ExecuteTime": {
     "end_time": "2024-03-04T02:47:50.832876Z",
     "start_time": "2024-03-04T02:47:50.828707Z"
    }
   },
   "outputs": [
    {
     "data": {
      "text/plain": [
       "True"
      ]
     },
     "execution_count": 163,
     "metadata": {},
     "output_type": "execute_result"
    }
   ],
   "source": [
    "bool([1, 2, 3])"
   ]
  },
  {
   "cell_type": "code",
   "execution_count": null,
   "id": "8bbf9c09",
   "metadata": {},
   "outputs": [],
   "source": []
  }
 ],
 "metadata": {
  "kernelspec": {
   "display_name": "Python 3 (ipykernel)",
   "language": "python",
   "name": "python3"
  },
  "language_info": {
   "codemirror_mode": {
    "name": "ipython",
    "version": 3
   },
   "file_extension": ".py",
   "mimetype": "text/x-python",
   "name": "python",
   "nbconvert_exporter": "python",
   "pygments_lexer": "ipython3",
   "version": "3.11.5"
  },
  "toc": {
   "base_numbering": 1,
   "nav_menu": {},
   "number_sections": true,
   "sideBar": true,
   "skip_h1_title": false,
   "title_cell": "Table of Contents",
   "title_sidebar": "Contents",
   "toc_cell": false,
   "toc_position": {},
   "toc_section_display": true,
   "toc_window_display": false
  },
  "varInspector": {
   "cols": {
    "lenName": 16,
    "lenType": 16,
    "lenVar": 40
   },
   "kernels_config": {
    "python": {
     "delete_cmd_postfix": "",
     "delete_cmd_prefix": "del ",
     "library": "var_list.py",
     "varRefreshCmd": "print(var_dic_list())"
    },
    "r": {
     "delete_cmd_postfix": ") ",
     "delete_cmd_prefix": "rm(",
     "library": "var_list.r",
     "varRefreshCmd": "cat(var_dic_list()) "
    }
   },
   "types_to_exclude": [
    "module",
    "function",
    "builtin_function_or_method",
    "instance",
    "_Feature"
   ],
   "window_display": false
  },
  "widgets": {
   "application/vnd.jupyter.widget-state+json": {
    "state": {},
    "version_major": 2,
    "version_minor": 0
   }
  }
 },
 "nbformat": 4,
 "nbformat_minor": 5
}
