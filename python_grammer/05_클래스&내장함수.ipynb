{
 "cells": [
  {
   "cell_type": "markdown",
   "id": "ac953c77",
   "metadata": {},
   "source": [
    "# 클래스"
   ]
  },
  {
   "cell_type": "markdown",
   "id": "401078d6",
   "metadata": {},
   "source": [
    "클래스는 반드시 첫글자가 [대문자]!!"
   ]
  },
  {
   "cell_type": "code",
   "execution_count": 1,
   "id": "0869d3e0",
   "metadata": {
    "ExecuteTime": {
     "end_time": "2024-03-11T01:05:06.281178Z",
     "start_time": "2024-03-11T01:05:06.276878Z"
    }
   },
   "outputs": [
    {
     "name": "stdout",
     "output_type": "stream",
     "text": [
      "3\n",
      "7\n"
     ]
    }
   ],
   "source": [
    "# 계산기 프로그램을 함수로 만들어보자!\n",
    "# calculator.py\n",
    "result = 0\n",
    "\n",
    "def add(num):\n",
    "    global result\n",
    "    result += num  # 결괏값(result)에 입력값(num) 더하기\n",
    "    return result  # 결괏값 리턴\n",
    "\n",
    "print(add(3))\n",
    "print(add(4))"
   ]
  },
  {
   "cell_type": "code",
   "execution_count": 2,
   "id": "72a92dd8",
   "metadata": {
    "ExecuteTime": {
     "end_time": "2024-03-11T01:08:33.565738Z",
     "start_time": "2024-03-11T01:08:33.560616Z"
    }
   },
   "outputs": [
    {
     "name": "stdout",
     "output_type": "stream",
     "text": [
      "3\n",
      "7\n",
      "3\n",
      "10\n"
     ]
    }
   ],
   "source": [
    "# 만일 한 프로그램에서 2대의 계산기가 필요한 상황이 발생하면 어떻게 해야 할까?\n",
    "# calculator2.py\n",
    "result1 = 0\n",
    "def add1(num):  # 계산기1\n",
    "    global result1\n",
    "    result1 += num\n",
    "    return result1\n",
    "\n",
    "result2 = 0\n",
    "def add2(num):  # 계산기2\n",
    "    global result2\n",
    "    result2 += num\n",
    "    return result2\n",
    "\n",
    "print(add1(3))\n",
    "print(add1(4))\n",
    "print(add2(3))\n",
    "print(add2(7))"
   ]
  },
  {
   "cell_type": "markdown",
   "id": "147630e4",
   "metadata": {},
   "source": [
    "클래스"
   ]
  },
  {
   "cell_type": "code",
   "execution_count": 3,
   "id": "55b99d59",
   "metadata": {
    "ExecuteTime": {
     "end_time": "2024-03-11T01:09:40.225938Z",
     "start_time": "2024-03-11T01:09:40.220641Z"
    }
   },
   "outputs": [
    {
     "name": "stdout",
     "output_type": "stream",
     "text": [
      "3\n",
      "7\n",
      "3\n",
      "10\n"
     ]
    }
   ],
   "source": [
    "# calculator3.py\n",
    "class Calculator:\n",
    "    def __init__(self):\n",
    "        self.result = 0\n",
    "\n",
    "    def add(self, num):\n",
    "        self.result += num\n",
    "        return self.result\n",
    "\n",
    "cal1 = Calculator()\n",
    "cal2 = Calculator()\n",
    "\n",
    "print(cal1.add(3))\n",
    "print(cal1.add(4))\n",
    "print(cal2.add(3))\n",
    "print(cal2.add(7))"
   ]
  },
  {
   "cell_type": "markdown",
   "id": "718ff2f8",
   "metadata": {},
   "source": [
    "## 클래스와 객체"
   ]
  },
  {
   "cell_type": "code",
   "execution_count": 5,
   "id": "9b342fbd",
   "metadata": {
    "ExecuteTime": {
     "end_time": "2024-03-11T01:18:26.379262Z",
     "start_time": "2024-03-11T01:18:26.376240Z"
    }
   },
   "outputs": [],
   "source": [
    "class Cookie:\n",
    "    pass"
   ]
  },
  {
   "cell_type": "code",
   "execution_count": 6,
   "id": "718f5617",
   "metadata": {
    "ExecuteTime": {
     "end_time": "2024-03-11T01:18:31.069717Z",
     "start_time": "2024-03-11T01:18:31.063104Z"
    }
   },
   "outputs": [
    {
     "data": {
      "text/plain": [
       "<__main__.Cookie at 0x1bbda967e10>"
      ]
     },
     "execution_count": 6,
     "metadata": {},
     "output_type": "execute_result"
    }
   ],
   "source": [
    "a = Cookie()\n",
    "a"
   ]
  },
  {
   "cell_type": "code",
   "execution_count": null,
   "id": "8c22d8ce",
   "metadata": {},
   "outputs": [],
   "source": []
  },
  {
   "cell_type": "code",
   "execution_count": null,
   "id": "ce12d32b",
   "metadata": {},
   "outputs": [],
   "source": []
  },
  {
   "cell_type": "code",
   "execution_count": 8,
   "id": "c741611f",
   "metadata": {
    "ExecuteTime": {
     "end_time": "2024-03-11T01:21:40.763396Z",
     "start_time": "2024-03-11T01:21:40.758225Z"
    }
   },
   "outputs": [
    {
     "data": {
      "text/plain": [
       "('python', str)"
      ]
     },
     "execution_count": 8,
     "metadata": {},
     "output_type": "execute_result"
    }
   ],
   "source": [
    "# 객체\n",
    "b = 'python'\n",
    "b, type(b)"
   ]
  },
  {
   "cell_type": "markdown",
   "id": "5b0779b1",
   "metadata": {},
   "source": [
    "## 사칙 연산 클래스 만들기"
   ]
  },
  {
   "cell_type": "code",
   "execution_count": 9,
   "id": "6280ea51",
   "metadata": {
    "ExecuteTime": {
     "end_time": "2024-03-11T01:24:38.575750Z",
     "start_time": "2024-03-11T01:24:38.572612Z"
    }
   },
   "outputs": [],
   "source": [
    "# 클래스 구조 만들기\n",
    "\n",
    "class FourCal:\n",
    "    pass"
   ]
  },
  {
   "cell_type": "code",
   "execution_count": 10,
   "id": "dc8cf507",
   "metadata": {
    "ExecuteTime": {
     "end_time": "2024-03-11T01:25:01.495731Z",
     "start_time": "2024-03-11T01:25:01.490733Z"
    }
   },
   "outputs": [
    {
     "data": {
      "text/plain": [
       "(<__main__.FourCal at 0x1bbdbff3910>, __main__.FourCal)"
      ]
     },
     "execution_count": 10,
     "metadata": {},
     "output_type": "execute_result"
    }
   ],
   "source": [
    "a = FourCal()\n",
    "a, type(a)"
   ]
  },
  {
   "cell_type": "code",
   "execution_count": 11,
   "id": "7a080576",
   "metadata": {
    "ExecuteTime": {
     "end_time": "2024-03-11T01:33:05.064704Z",
     "start_time": "2024-03-11T01:33:05.060910Z"
    }
   },
   "outputs": [],
   "source": [
    "class FourCal:\n",
    "    def setdata(self, first, second):\n",
    "        self.first = first\n",
    "        self.second = second"
   ]
  },
  {
   "cell_type": "code",
   "execution_count": 12,
   "id": "aead4364",
   "metadata": {
    "ExecuteTime": {
     "end_time": "2024-03-11T01:33:34.695257Z",
     "start_time": "2024-03-11T01:33:34.691589Z"
    }
   },
   "outputs": [],
   "source": [
    "a = FourCal()\n",
    "a.setdata(3, 4)"
   ]
  },
  {
   "cell_type": "code",
   "execution_count": 13,
   "id": "8d7aef36",
   "metadata": {
    "ExecuteTime": {
     "end_time": "2024-03-11T01:34:20.909899Z",
     "start_time": "2024-03-11T01:34:20.905981Z"
    }
   },
   "outputs": [],
   "source": [
    "# 대상이 누구인지 알아야하기에 맨 앞에 self_a 를 꼭 지정해주어야한다.\n",
    "FourCal.setdata(a, 3, 4)"
   ]
  },
  {
   "cell_type": "code",
   "execution_count": 14,
   "id": "0f04540a",
   "metadata": {
    "ExecuteTime": {
     "end_time": "2024-03-11T01:38:18.351010Z",
     "start_time": "2024-03-11T01:38:18.346536Z"
    }
   },
   "outputs": [
    {
     "data": {
      "text/plain": [
       "3"
      ]
     },
     "execution_count": 14,
     "metadata": {},
     "output_type": "execute_result"
    }
   ],
   "source": [
    "# 객체변수\n",
    "a.first"
   ]
  },
  {
   "cell_type": "code",
   "execution_count": 15,
   "id": "6aaccc54",
   "metadata": {
    "ExecuteTime": {
     "end_time": "2024-03-11T01:38:25.774287Z",
     "start_time": "2024-03-11T01:38:25.769304Z"
    }
   },
   "outputs": [
    {
     "data": {
      "text/plain": [
       "4"
      ]
     },
     "execution_count": 15,
     "metadata": {},
     "output_type": "execute_result"
    }
   ],
   "source": [
    "# 객체변수\n",
    "a.second"
   ]
  },
  {
   "cell_type": "code",
   "execution_count": 18,
   "id": "f2e21353",
   "metadata": {
    "ExecuteTime": {
     "end_time": "2024-03-11T01:40:21.312044Z",
     "start_time": "2024-03-11T01:40:21.309152Z"
    }
   },
   "outputs": [],
   "source": [
    "# 함수\n",
    "a = FourCal()\n",
    "b = FourCal()"
   ]
  },
  {
   "cell_type": "code",
   "execution_count": 19,
   "id": "c26cf5db",
   "metadata": {
    "ExecuteTime": {
     "end_time": "2024-03-11T01:40:36.949712Z",
     "start_time": "2024-03-11T01:40:36.944633Z"
    }
   },
   "outputs": [
    {
     "data": {
      "text/plain": [
       "4"
      ]
     },
     "execution_count": 19,
     "metadata": {},
     "output_type": "execute_result"
    }
   ],
   "source": [
    "a.setdata(4, 2)\n",
    "a.first"
   ]
  },
  {
   "cell_type": "code",
   "execution_count": 20,
   "id": "93badd86",
   "metadata": {
    "ExecuteTime": {
     "end_time": "2024-03-11T01:40:56.679858Z",
     "start_time": "2024-03-11T01:40:56.675302Z"
    }
   },
   "outputs": [
    {
     "data": {
      "text/plain": [
       "3"
      ]
     },
     "execution_count": 20,
     "metadata": {},
     "output_type": "execute_result"
    }
   ],
   "source": [
    "b.setdata(3, 7)\n",
    "b.first"
   ]
  },
  {
   "cell_type": "code",
   "execution_count": 21,
   "id": "7edfde57",
   "metadata": {
    "ExecuteTime": {
     "end_time": "2024-03-11T01:41:05.657519Z",
     "start_time": "2024-03-11T01:41:05.652553Z"
    }
   },
   "outputs": [
    {
     "data": {
      "text/plain": [
       "7"
      ]
     },
     "execution_count": 21,
     "metadata": {},
     "output_type": "execute_result"
    }
   ],
   "source": [
    "b.second"
   ]
  },
  {
   "cell_type": "code",
   "execution_count": 22,
   "id": "761f1daa",
   "metadata": {
    "ExecuteTime": {
     "end_time": "2024-03-11T01:42:48.544557Z",
     "start_time": "2024-03-11T01:42:48.540812Z"
    }
   },
   "outputs": [],
   "source": [
    "# 더하기 기능 만들기\n",
    "class FourCal:\n",
    "    def setdata(self, first, second):\n",
    "        self.first = first\n",
    "        self.second = second\n",
    "    def add(self):\n",
    "        result = self.first + self.second\n",
    "        return result"
   ]
  },
  {
   "cell_type": "code",
   "execution_count": 24,
   "id": "1d87820e",
   "metadata": {
    "ExecuteTime": {
     "end_time": "2024-03-11T01:44:46.357133Z",
     "start_time": "2024-03-11T01:44:46.354011Z"
    }
   },
   "outputs": [],
   "source": [
    "a = FourCal()\n",
    "a.setdata(4, 2)"
   ]
  },
  {
   "cell_type": "code",
   "execution_count": 25,
   "id": "3c65a21b",
   "metadata": {
    "ExecuteTime": {
     "end_time": "2024-03-11T01:44:47.881179Z",
     "start_time": "2024-03-11T01:44:47.876578Z"
    }
   },
   "outputs": [
    {
     "data": {
      "text/plain": [
       "6"
      ]
     },
     "execution_count": 25,
     "metadata": {},
     "output_type": "execute_result"
    }
   ],
   "source": [
    "a.add()"
   ]
  },
  {
   "cell_type": "code",
   "execution_count": 26,
   "id": "63251632",
   "metadata": {
    "ExecuteTime": {
     "end_time": "2024-03-11T01:45:06.540595Z",
     "start_time": "2024-03-11T01:45:06.536607Z"
    }
   },
   "outputs": [
    {
     "data": {
      "text/plain": [
       "6"
      ]
     },
     "execution_count": 26,
     "metadata": {},
     "output_type": "execute_result"
    }
   ],
   "source": [
    "c = a.add()\n",
    "c"
   ]
  },
  {
   "cell_type": "code",
   "execution_count": 27,
   "id": "f7d6ff27",
   "metadata": {
    "ExecuteTime": {
     "end_time": "2024-03-11T01:46:33.293134Z",
     "start_time": "2024-03-11T01:46:33.288086Z"
    }
   },
   "outputs": [],
   "source": [
    "# 곱하기, 빼기, 나누기\n",
    "class FourCal:\n",
    "    def setdata(self, first, second):\n",
    "        self.first = first\n",
    "        self.second = second\n",
    "    def add(self):\n",
    "        result = self.first + self.second\n",
    "        return result\n",
    "    def mul(self):\n",
    "        result = self.first * self.second\n",
    "        return result\n",
    "    def sub(self):\n",
    "        result = self.first - self.second\n",
    "        return result\n",
    "    def div(self):\n",
    "        result = self.first / self.second\n",
    "        return result"
   ]
  },
  {
   "cell_type": "code",
   "execution_count": 28,
   "id": "66a4071e",
   "metadata": {
    "ExecuteTime": {
     "end_time": "2024-03-11T01:46:54.263059Z",
     "start_time": "2024-03-11T01:46:54.259568Z"
    }
   },
   "outputs": [],
   "source": [
    "b = FourCal()\n",
    "b.setdata(7, 7)"
   ]
  },
  {
   "cell_type": "code",
   "execution_count": 29,
   "id": "808a0b82",
   "metadata": {
    "ExecuteTime": {
     "end_time": "2024-03-11T01:47:07.332229Z",
     "start_time": "2024-03-11T01:47:07.327248Z"
    }
   },
   "outputs": [
    {
     "data": {
      "text/plain": [
       "49"
      ]
     },
     "execution_count": 29,
     "metadata": {},
     "output_type": "execute_result"
    }
   ],
   "source": [
    "b.mul()"
   ]
  },
  {
   "cell_type": "code",
   "execution_count": 31,
   "id": "36043de6",
   "metadata": {
    "ExecuteTime": {
     "end_time": "2024-03-11T01:47:37.461230Z",
     "start_time": "2024-03-11T01:47:37.456637Z"
    }
   },
   "outputs": [
    {
     "data": {
      "text/plain": [
       "9.0"
      ]
     },
     "execution_count": 31,
     "metadata": {},
     "output_type": "execute_result"
    }
   ],
   "source": [
    "c = FourCal()\n",
    "c.setdata(81, 9)\n",
    "c.div()"
   ]
  },
  {
   "cell_type": "code",
   "execution_count": 32,
   "id": "32838ca8",
   "metadata": {
    "ExecuteTime": {
     "end_time": "2024-03-11T01:48:32.013920Z",
     "start_time": "2024-03-11T01:48:32.007854Z"
    }
   },
   "outputs": [
    {
     "data": {
      "text/plain": [
       "40"
      ]
     },
     "execution_count": 32,
     "metadata": {},
     "output_type": "execute_result"
    }
   ],
   "source": [
    "d = FourCal()\n",
    "d.setdata(49, 9)\n",
    "d.sub()"
   ]
  },
  {
   "cell_type": "markdown",
   "id": "fc82f1d2",
   "metadata": {},
   "source": [
    "## 생성자"
   ]
  },
  {
   "cell_type": "code",
   "execution_count": null,
   "id": "ab54bfe2",
   "metadata": {
    "ExecuteTime": {
     "end_time": "2024-03-11T02:10:01.012966Z",
     "start_time": "2024-03-11T02:10:00.985962Z"
    }
   },
   "outputs": [],
   "source": [
    "a = FourCal()\n",
    "a.add()"
   ]
  },
  {
   "cell_type": "code",
   "execution_count": 55,
   "id": "7b03dd3f",
   "metadata": {
    "ExecuteTime": {
     "end_time": "2024-03-11T02:14:58.557758Z",
     "start_time": "2024-03-11T02:14:58.552107Z"
    }
   },
   "outputs": [],
   "source": [
    "class FourCal:\n",
    "    def __init__(self, first, second):\n",
    "        self.first = first\n",
    "        self.second = second\n",
    "        \n",
    "    def setdata(self, first, second):\n",
    "        self.first = first\n",
    "        self.second = second\n",
    "        \n",
    "    def add(self):\n",
    "        result = self.first + self.second\n",
    "        return result\n",
    "    \n",
    "    def mul(self):\n",
    "        result = self.first * self.second\n",
    "        return result\n",
    "    \n",
    "    def sub(self):\n",
    "        result = self.first - self.second\n",
    "        return result\n",
    "    \n",
    "    def div(self):\n",
    "        result = self.first / self.second\n",
    "        return result"
   ]
  },
  {
   "cell_type": "code",
   "execution_count": 50,
   "id": "69c8edb5",
   "metadata": {
    "ExecuteTime": {
     "end_time": "2024-03-11T02:14:21.272028Z",
     "start_time": "2024-03-11T02:14:21.268530Z"
    }
   },
   "outputs": [],
   "source": [
    "a = FourCal(4, 2)"
   ]
  },
  {
   "cell_type": "markdown",
   "id": "9e6d6f87",
   "metadata": {},
   "source": [
    "## 클래스의 상속"
   ]
  },
  {
   "cell_type": "code",
   "execution_count": 51,
   "id": "97149c4a",
   "metadata": {
    "ExecuteTime": {
     "end_time": "2024-03-11T02:14:23.630117Z",
     "start_time": "2024-03-11T02:14:23.626506Z"
    }
   },
   "outputs": [],
   "source": [
    "# 괄호 안은 상속하고자 하는 대상!\n",
    "class MoreFourCal(FourCal):\n",
    "    pass"
   ]
  },
  {
   "cell_type": "code",
   "execution_count": 58,
   "id": "2ad58c07",
   "metadata": {
    "ExecuteTime": {
     "end_time": "2024-03-11T02:16:45.117634Z",
     "start_time": "2024-03-11T02:16:45.113732Z"
    }
   },
   "outputs": [
    {
     "name": "stdout",
     "output_type": "stream",
     "text": [
      "6 8 2.0 2\n"
     ]
    }
   ],
   "source": [
    "a = MoreFourCal(4 ,2)\n",
    "print(a.add(), a.mul(), a.div(), a.sub())"
   ]
  },
  {
   "cell_type": "code",
   "execution_count": 56,
   "id": "a2f7d892",
   "metadata": {
    "ExecuteTime": {
     "end_time": "2024-03-11T02:15:17.345158Z",
     "start_time": "2024-03-11T02:15:17.341748Z"
    }
   },
   "outputs": [],
   "source": [
    "class MoreFourCal(FourCal):\n",
    "    def pow(self):\n",
    "        result = self.first ** self.second\n",
    "        return result"
   ]
  },
  {
   "cell_type": "code",
   "execution_count": 57,
   "id": "690aee60",
   "metadata": {
    "ExecuteTime": {
     "end_time": "2024-03-11T02:15:29.313925Z",
     "start_time": "2024-03-11T02:15:29.310096Z"
    }
   },
   "outputs": [
    {
     "data": {
      "text/plain": [
       "16"
      ]
     },
     "execution_count": 57,
     "metadata": {},
     "output_type": "execute_result"
    }
   ],
   "source": [
    "a = MoreFourCal(4, 2)\n",
    "a.pow()"
   ]
  },
  {
   "cell_type": "markdown",
   "id": "8d372e1d",
   "metadata": {},
   "source": [
    "## 메서드 오버라이딩"
   ]
  },
  {
   "cell_type": "code",
   "execution_count": 59,
   "id": "06c03da4",
   "metadata": {
    "ExecuteTime": {
     "end_time": "2024-03-11T02:32:56.446325Z",
     "start_time": "2024-03-11T02:32:56.442405Z"
    }
   },
   "outputs": [],
   "source": [
    "class SafeFourCal(FourCal):\n",
    "    def div(self):\n",
    "        if self.second == 0:  # 나누는 값이 0인 경우 0을 리턴하도록 수정\n",
    "            return 0\n",
    "        else:\n",
    "            return self.first / self.second"
   ]
  },
  {
   "cell_type": "code",
   "execution_count": 60,
   "id": "52935f56",
   "metadata": {
    "ExecuteTime": {
     "end_time": "2024-03-11T02:33:13.206357Z",
     "start_time": "2024-03-11T02:33:13.201291Z"
    }
   },
   "outputs": [
    {
     "data": {
      "text/plain": [
       "0"
      ]
     },
     "execution_count": 60,
     "metadata": {},
     "output_type": "execute_result"
    }
   ],
   "source": [
    "a = SafeFourCal(4, 0)\n",
    "a.div()"
   ]
  },
  {
   "cell_type": "markdown",
   "id": "6a997cde",
   "metadata": {},
   "source": [
    "## 클래스 변수"
   ]
  },
  {
   "cell_type": "code",
   "execution_count": 61,
   "id": "78df6f30",
   "metadata": {
    "ExecuteTime": {
     "end_time": "2024-03-11T02:34:45.514315Z",
     "start_time": "2024-03-11T02:34:45.510840Z"
    }
   },
   "outputs": [],
   "source": [
    "class Family:\n",
    "    lastname = \"김\""
   ]
  },
  {
   "cell_type": "code",
   "execution_count": 64,
   "id": "55e61504",
   "metadata": {
    "ExecuteTime": {
     "end_time": "2024-03-11T02:35:09.888174Z",
     "start_time": "2024-03-11T02:35:09.882194Z"
    }
   },
   "outputs": [
    {
     "data": {
      "text/plain": [
       "'김'"
      ]
     },
     "execution_count": 64,
     "metadata": {},
     "output_type": "execute_result"
    }
   ],
   "source": [
    "Family.lastname"
   ]
  },
  {
   "cell_type": "code",
   "execution_count": 65,
   "id": "0eb5aff1",
   "metadata": {
    "ExecuteTime": {
     "end_time": "2024-03-11T02:36:33.794087Z",
     "start_time": "2024-03-11T02:36:33.788176Z"
    }
   },
   "outputs": [
    {
     "data": {
      "text/plain": [
       "'김'"
      ]
     },
     "execution_count": 65,
     "metadata": {},
     "output_type": "execute_result"
    }
   ],
   "source": [
    "a = Family()\n",
    "b = Family()\n",
    "a.lastname"
   ]
  },
  {
   "cell_type": "code",
   "execution_count": 67,
   "id": "7f397de8",
   "metadata": {
    "ExecuteTime": {
     "end_time": "2024-03-11T02:36:41.402378Z",
     "start_time": "2024-03-11T02:36:41.396696Z"
    }
   },
   "outputs": [
    {
     "data": {
      "text/plain": [
       "'김'"
      ]
     },
     "execution_count": 67,
     "metadata": {},
     "output_type": "execute_result"
    }
   ],
   "source": [
    "b.lastname"
   ]
  },
  {
   "cell_type": "code",
   "execution_count": 68,
   "id": "f784e579",
   "metadata": {
    "ExecuteTime": {
     "end_time": "2024-03-11T02:37:13.124194Z",
     "start_time": "2024-03-11T02:37:13.118270Z"
    }
   },
   "outputs": [
    {
     "data": {
      "text/plain": [
       "'박'"
      ]
     },
     "execution_count": 68,
     "metadata": {},
     "output_type": "execute_result"
    }
   ],
   "source": [
    "Family.lastname = \"박\"\n",
    "a.lastname"
   ]
  },
  {
   "cell_type": "code",
   "execution_count": 69,
   "id": "2e011dc6",
   "metadata": {
    "ExecuteTime": {
     "end_time": "2024-03-11T02:37:15.544336Z",
     "start_time": "2024-03-11T02:37:15.538357Z"
    }
   },
   "outputs": [
    {
     "data": {
      "text/plain": [
       "'박'"
      ]
     },
     "execution_count": 69,
     "metadata": {},
     "output_type": "execute_result"
    }
   ],
   "source": [
    "b.lastname"
   ]
  },
  {
   "cell_type": "code",
   "execution_count": 70,
   "id": "864b1467",
   "metadata": {
    "ExecuteTime": {
     "end_time": "2024-03-11T02:37:35.744690Z",
     "start_time": "2024-03-11T02:37:35.738088Z"
    }
   },
   "outputs": [
    {
     "data": {
      "text/plain": [
       "'최'"
      ]
     },
     "execution_count": 70,
     "metadata": {},
     "output_type": "execute_result"
    }
   ],
   "source": [
    "a.lastname = \"최\"\n",
    "a.lastname"
   ]
  },
  {
   "cell_type": "code",
   "execution_count": 71,
   "id": "0c1b30dd",
   "metadata": {
    "ExecuteTime": {
     "end_time": "2024-03-11T02:37:43.464581Z",
     "start_time": "2024-03-11T02:37:43.459598Z"
    }
   },
   "outputs": [
    {
     "data": {
      "text/plain": [
       "'박'"
      ]
     },
     "execution_count": 71,
     "metadata": {},
     "output_type": "execute_result"
    }
   ],
   "source": [
    "Family.lastname"
   ]
  },
  {
   "cell_type": "code",
   "execution_count": 72,
   "id": "5f7b6b54",
   "metadata": {
    "ExecuteTime": {
     "end_time": "2024-03-11T02:37:49.131797Z",
     "start_time": "2024-03-11T02:37:49.126072Z"
    }
   },
   "outputs": [
    {
     "data": {
      "text/plain": [
       "'박'"
      ]
     },
     "execution_count": 72,
     "metadata": {},
     "output_type": "execute_result"
    }
   ],
   "source": [
    "b.lastname"
   ]
  },
  {
   "cell_type": "code",
   "execution_count": 73,
   "id": "7d0e9bc9",
   "metadata": {
    "ExecuteTime": {
     "end_time": "2024-03-11T02:39:57.382054Z",
     "start_time": "2024-03-11T02:39:57.377072Z"
    }
   },
   "outputs": [
    {
     "data": {
      "text/plain": [
       "'최'"
      ]
     },
     "execution_count": 73,
     "metadata": {},
     "output_type": "execute_result"
    }
   ],
   "source": [
    "a.lastname"
   ]
  },
  {
   "cell_type": "markdown",
   "id": "37cb51db",
   "metadata": {},
   "source": [
    "# 예외 처리"
   ]
  },
  {
   "cell_type": "code",
   "execution_count": null,
   "id": "d75eb9cb",
   "metadata": {},
   "outputs": [],
   "source": []
  }
 ],
 "metadata": {
  "kernelspec": {
   "display_name": "Python 3 (ipykernel)",
   "language": "python",
   "name": "python3"
  },
  "language_info": {
   "codemirror_mode": {
    "name": "ipython",
    "version": 3
   },
   "file_extension": ".py",
   "mimetype": "text/x-python",
   "name": "python",
   "nbconvert_exporter": "python",
   "pygments_lexer": "ipython3",
   "version": "3.11.5"
  },
  "toc": {
   "base_numbering": 1,
   "nav_menu": {},
   "number_sections": true,
   "sideBar": true,
   "skip_h1_title": false,
   "title_cell": "Table of Contents",
   "title_sidebar": "Contents",
   "toc_cell": false,
   "toc_position": {},
   "toc_section_display": true,
   "toc_window_display": false
  },
  "varInspector": {
   "cols": {
    "lenName": 16,
    "lenType": 16,
    "lenVar": 40
   },
   "kernels_config": {
    "python": {
     "delete_cmd_postfix": "",
     "delete_cmd_prefix": "del ",
     "library": "var_list.py",
     "varRefreshCmd": "print(var_dic_list())"
    },
    "r": {
     "delete_cmd_postfix": ") ",
     "delete_cmd_prefix": "rm(",
     "library": "var_list.r",
     "varRefreshCmd": "cat(var_dic_list()) "
    }
   },
   "types_to_exclude": [
    "module",
    "function",
    "builtin_function_or_method",
    "instance",
    "_Feature"
   ],
   "window_display": false
  }
 },
 "nbformat": 4,
 "nbformat_minor": 5
}
