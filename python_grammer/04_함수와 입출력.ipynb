{
 "cells": [
  {
   "cell_type": "markdown",
   "id": "03825720",
   "metadata": {},
   "source": [
    "# 함수"
   ]
  },
  {
   "cell_type": "markdown",
   "id": "a9423ce3",
   "metadata": {},
   "source": [
    "## 파이썬 함수의 구조"
   ]
  },
  {
   "cell_type": "code",
   "execution_count": 1,
   "id": "9200cb82",
   "metadata": {
    "ExecuteTime": {
     "end_time": "2024-03-07T00:29:08.776403Z",
     "start_time": "2024-03-07T00:29:08.773752Z"
    }
   },
   "outputs": [],
   "source": [
    "def add(a, b): \n",
    "    return a + b"
   ]
  },
  {
   "cell_type": "code",
   "execution_count": 2,
   "id": "3e2c3c5d",
   "metadata": {
    "ExecuteTime": {
     "end_time": "2024-03-07T00:29:34.335800Z",
     "start_time": "2024-03-07T00:29:34.328700Z"
    }
   },
   "outputs": [
    {
     "data": {
      "text/plain": [
       "7"
      ]
     },
     "execution_count": 2,
     "metadata": {},
     "output_type": "execute_result"
    }
   ],
   "source": [
    "c = 3\n",
    "d = 4\n",
    "add(c, d)"
   ]
  },
  {
   "cell_type": "code",
   "execution_count": 3,
   "id": "94494b4a",
   "metadata": {
    "ExecuteTime": {
     "end_time": "2024-03-07T00:29:51.436351Z",
     "start_time": "2024-03-07T00:29:51.431369Z"
    }
   },
   "outputs": [
    {
     "data": {
      "text/plain": [
       "7"
      ]
     },
     "execution_count": 3,
     "metadata": {},
     "output_type": "execute_result"
    }
   ],
   "source": [
    "e = add(c, d) # add(c, d)의 리턴 값을 c에 대입\n",
    "e"
   ]
  },
  {
   "cell_type": "markdown",
   "id": "aeb2801b",
   "metadata": {},
   "source": [
    "## 매개변수와 인수"
   ]
  },
  {
   "cell_type": "markdown",
   "id": "90c70599",
   "metadata": {},
   "source": [
    "매개변수는 함수에 입력으로 전달된 값을 받는 변수, 인수는 함수를 호출할 때 전달하는 입력값을 의미한다.   \n",
    "```\n",
    "def add(a, b):  # a, b는 매개변수\n",
    "    return a+b\n",
    "\n",
    "print(add(3, 4))  # 3, 4는 인수\n",
    "```"
   ]
  },
  {
   "cell_type": "markdown",
   "id": "71d89fff",
   "metadata": {},
   "source": [
    "## 입력값과 리턴값에 따른 함수의 형태"
   ]
  },
  {
   "cell_type": "markdown",
   "id": "6061e573",
   "metadata": {},
   "source": [
    "함수의 형태는 입력값과 리턴값의 존재 유무에 따라 4가지 유형으로 나뉜다."
   ]
  },
  {
   "cell_type": "code",
   "execution_count": 4,
   "id": "bfaca2a8",
   "metadata": {
    "ExecuteTime": {
     "end_time": "2024-03-07T00:36:00.457501Z",
     "start_time": "2024-03-07T00:36:00.454217Z"
    }
   },
   "outputs": [],
   "source": [
    "# 일반적인 함수 \n",
    "def add(a, b): \n",
    "    result = a + b \n",
    "    return result"
   ]
  },
  {
   "cell_type": "code",
   "execution_count": 5,
   "id": "88b3d84e",
   "metadata": {
    "ExecuteTime": {
     "end_time": "2024-03-07T00:36:01.665271Z",
     "start_time": "2024-03-07T00:36:01.660584Z"
    }
   },
   "outputs": [
    {
     "name": "stdout",
     "output_type": "stream",
     "text": [
      "7\n"
     ]
    }
   ],
   "source": [
    "a = add(3, 4)\n",
    "print(a)"
   ]
  },
  {
   "cell_type": "code",
   "execution_count": 6,
   "id": "ca4b3ef9",
   "metadata": {
    "ExecuteTime": {
     "end_time": "2024-03-07T00:36:24.515224Z",
     "start_time": "2024-03-07T00:36:24.511238Z"
    }
   },
   "outputs": [],
   "source": [
    "# 입력값이 없는 함수\n",
    "def say(): \n",
    "    return 'Hi' "
   ]
  },
  {
   "cell_type": "code",
   "execution_count": 7,
   "id": "aae22746",
   "metadata": {
    "ExecuteTime": {
     "end_time": "2024-03-07T00:36:41.479822Z",
     "start_time": "2024-03-07T00:36:41.476325Z"
    }
   },
   "outputs": [
    {
     "name": "stdout",
     "output_type": "stream",
     "text": [
      "Hi\n"
     ]
    }
   ],
   "source": [
    "a = say()\n",
    "print(a)"
   ]
  },
  {
   "cell_type": "code",
   "execution_count": 9,
   "id": "18a08cc3",
   "metadata": {
    "ExecuteTime": {
     "end_time": "2024-03-07T00:37:31.815799Z",
     "start_time": "2024-03-07T00:37:31.812302Z"
    }
   },
   "outputs": [],
   "source": [
    "# 리턴값이 없는 함수 \n",
    "def add(a, b): \n",
    "    print(\"%d, %d의 합은 %d입니다.\" % (a, b, a+b))"
   ]
  },
  {
   "cell_type": "code",
   "execution_count": 10,
   "id": "aafcf3f9",
   "metadata": {
    "ExecuteTime": {
     "end_time": "2024-03-07T00:37:33.437058Z",
     "start_time": "2024-03-07T00:37:33.433162Z"
    }
   },
   "outputs": [
    {
     "name": "stdout",
     "output_type": "stream",
     "text": [
      "3, 4의 합은 7입니다.\n"
     ]
    }
   ],
   "source": [
    "add(3 ,4)"
   ]
  },
  {
   "cell_type": "code",
   "execution_count": 13,
   "id": "07f99a65",
   "metadata": {
    "ExecuteTime": {
     "end_time": "2024-03-07T00:38:59.666025Z",
     "start_time": "2024-03-07T00:38:59.662263Z"
    }
   },
   "outputs": [
    {
     "name": "stdout",
     "output_type": "stream",
     "text": [
      "3, 4의 합은 7입니다.\n",
      "None\n"
     ]
    }
   ],
   "source": [
    "a = add(3, 4)\n",
    "print(a)"
   ]
  },
  {
   "cell_type": "code",
   "execution_count": 15,
   "id": "b7414027",
   "metadata": {
    "ExecuteTime": {
     "end_time": "2024-03-07T00:46:59.956393Z",
     "start_time": "2024-03-07T00:46:59.953722Z"
    }
   },
   "outputs": [],
   "source": [
    "# 입력값도, 리턴값도 없는 함수\n"
   ]
  },
  {
   "cell_type": "code",
   "execution_count": 16,
   "id": "1dfdfb21",
   "metadata": {
    "ExecuteTime": {
     "end_time": "2024-03-07T00:47:32.981111Z",
     "start_time": "2024-03-07T00:47:32.976766Z"
    }
   },
   "outputs": [],
   "source": [
    "def say(): \n",
    "    print('Hi')"
   ]
  },
  {
   "cell_type": "code",
   "execution_count": 17,
   "id": "a2b87799",
   "metadata": {
    "ExecuteTime": {
     "end_time": "2024-03-07T00:47:37.579044Z",
     "start_time": "2024-03-07T00:47:37.574705Z"
    }
   },
   "outputs": [
    {
     "name": "stdout",
     "output_type": "stream",
     "text": [
      "Hi\n"
     ]
    }
   ],
   "source": [
    "say()"
   ]
  },
  {
   "cell_type": "code",
   "execution_count": 18,
   "id": "b6e598c1",
   "metadata": {
    "ExecuteTime": {
     "end_time": "2024-03-07T00:47:48.528443Z",
     "start_time": "2024-03-07T00:47:48.524960Z"
    }
   },
   "outputs": [
    {
     "name": "stdout",
     "output_type": "stream",
     "text": [
      "Hi\n"
     ]
    }
   ],
   "source": [
    "a = say()"
   ]
  },
  {
   "cell_type": "markdown",
   "id": "5f79f907",
   "metadata": {},
   "source": [
    "## 매개변수를 지정하여 호출하기"
   ]
  },
  {
   "cell_type": "code",
   "execution_count": 19,
   "id": "13ce34e9",
   "metadata": {
    "ExecuteTime": {
     "end_time": "2024-03-07T01:12:16.208569Z",
     "start_time": "2024-03-07T01:12:16.205536Z"
    }
   },
   "outputs": [],
   "source": [
    "def sub(a, b):\n",
    "    return a - b"
   ]
  },
  {
   "cell_type": "code",
   "execution_count": 20,
   "id": "7e6fcb2e",
   "metadata": {
    "ExecuteTime": {
     "end_time": "2024-03-07T01:12:45.978093Z",
     "start_time": "2024-03-07T01:12:45.973769Z"
    }
   },
   "outputs": [
    {
     "data": {
      "text/plain": [
       "4"
      ]
     },
     "execution_count": 20,
     "metadata": {},
     "output_type": "execute_result"
    }
   ],
   "source": [
    "sub(7, 3)"
   ]
  },
  {
   "cell_type": "code",
   "execution_count": 21,
   "id": "53942698",
   "metadata": {
    "ExecuteTime": {
     "end_time": "2024-03-07T01:13:20.650071Z",
     "start_time": "2024-03-07T01:13:20.645942Z"
    }
   },
   "outputs": [
    {
     "name": "stdout",
     "output_type": "stream",
     "text": [
      "4\n"
     ]
    }
   ],
   "source": [
    "result = sub(a=7, b=3)  # a에 7, b에 3을 전달\n",
    "print(result)"
   ]
  },
  {
   "cell_type": "markdown",
   "id": "715a628c",
   "metadata": {},
   "source": [
    "## 입력값이 몇 개가 될지 모를 때는 어떻게 해야 할까?"
   ]
  },
  {
   "cell_type": "markdown",
   "id": "33b6c4d2",
   "metadata": {},
   "source": [
    "여러 개의 입력값을 받는 함수 만들기"
   ]
  },
  {
   "cell_type": "code",
   "execution_count": 22,
   "id": "cdcc7963",
   "metadata": {
    "ExecuteTime": {
     "end_time": "2024-03-07T01:17:49.744945Z",
     "start_time": "2024-03-07T01:17:49.740946Z"
    }
   },
   "outputs": [],
   "source": [
    "def add_many(*args): \n",
    "     result = 0 \n",
    "     for i in args:\n",
    "        result = result + i   # *args에 입력받은 모든 값을 더한다.\n",
    "     return result"
   ]
  },
  {
   "cell_type": "code",
   "execution_count": 23,
   "id": "1c09981f",
   "metadata": {
    "ExecuteTime": {
     "end_time": "2024-03-07T01:18:07.744497Z",
     "start_time": "2024-03-07T01:18:07.741357Z"
    }
   },
   "outputs": [
    {
     "name": "stdout",
     "output_type": "stream",
     "text": [
      "6\n"
     ]
    }
   ],
   "source": [
    "result = add_many(1,2,3)\n",
    "print(result)"
   ]
  },
  {
   "cell_type": "code",
   "execution_count": 24,
   "id": "8b970b92",
   "metadata": {
    "ExecuteTime": {
     "end_time": "2024-03-07T01:18:39.654367Z",
     "start_time": "2024-03-07T01:18:39.651531Z"
    }
   },
   "outputs": [
    {
     "name": "stdout",
     "output_type": "stream",
     "text": [
      "55\n"
     ]
    }
   ],
   "source": [
    "result = add_many(1,2,3,4,5,6,7,8,9,10)\n",
    "print(result)"
   ]
  },
  {
   "cell_type": "code",
   "execution_count": 26,
   "id": "fe896692",
   "metadata": {
    "ExecuteTime": {
     "end_time": "2024-03-07T01:22:18.102867Z",
     "start_time": "2024-03-07T01:22:18.098059Z"
    }
   },
   "outputs": [],
   "source": [
    "def add_mul(choice, *args): \n",
    "    if choice == \"add\":   # 매개변수 choice에 \"add\"를 입력받았을 때\n",
    "        result = 0 \n",
    "        for i in args: \n",
    "            result = result + i \n",
    "    elif choice == \"mul\":   # 매개변수 choice에 \"mul\"을 입력받았을 때\n",
    "        result = 1 \n",
    "        for i in args: \n",
    "            result = result * i \n",
    "    return result "
   ]
  },
  {
   "cell_type": "code",
   "execution_count": 27,
   "id": "96f56628",
   "metadata": {
    "ExecuteTime": {
     "end_time": "2024-03-07T01:22:20.107125Z",
     "start_time": "2024-03-07T01:22:20.103222Z"
    }
   },
   "outputs": [
    {
     "name": "stdout",
     "output_type": "stream",
     "text": [
      "15\n"
     ]
    }
   ],
   "source": [
    "result = add_mul('add', 1,2,3,4,5)\n",
    "print(result)"
   ]
  },
  {
   "cell_type": "code",
   "execution_count": 28,
   "id": "8501efbe",
   "metadata": {
    "ExecuteTime": {
     "end_time": "2024-03-07T01:22:21.420900Z",
     "start_time": "2024-03-07T01:22:21.417965Z"
    }
   },
   "outputs": [
    {
     "name": "stdout",
     "output_type": "stream",
     "text": [
      "120\n"
     ]
    }
   ],
   "source": [
    "result = add_mul('mul', 1,2,3,4,5)\n",
    "print(result)"
   ]
  },
  {
   "cell_type": "markdown",
   "id": "9e2d39fc",
   "metadata": {},
   "source": [
    "키워드 매개변수, kwargs"
   ]
  },
  {
   "cell_type": "code",
   "execution_count": 29,
   "id": "d6a003e1",
   "metadata": {
    "ExecuteTime": {
     "end_time": "2024-03-07T01:25:46.333626Z",
     "start_time": "2024-03-07T01:25:46.331190Z"
    }
   },
   "outputs": [],
   "source": [
    "def print_kwargs(**kwargs):\n",
    "    print(kwargs)"
   ]
  },
  {
   "cell_type": "code",
   "execution_count": 30,
   "id": "669aebed",
   "metadata": {
    "ExecuteTime": {
     "end_time": "2024-03-07T01:26:01.187598Z",
     "start_time": "2024-03-07T01:26:01.183313Z"
    }
   },
   "outputs": [
    {
     "name": "stdout",
     "output_type": "stream",
     "text": [
      "{'a': 1}\n"
     ]
    }
   ],
   "source": [
    "print_kwargs(a=1)"
   ]
  },
  {
   "cell_type": "code",
   "execution_count": 31,
   "id": "e9984f4c",
   "metadata": {
    "ExecuteTime": {
     "end_time": "2024-03-07T01:26:12.624553Z",
     "start_time": "2024-03-07T01:26:12.620483Z"
    }
   },
   "outputs": [
    {
     "name": "stdout",
     "output_type": "stream",
     "text": [
      "{'name': 'foo', 'age': 3}\n"
     ]
    }
   ],
   "source": [
    "print_kwargs(name='foo', age=3)"
   ]
  },
  {
   "cell_type": "markdown",
   "id": "fbc82f4d",
   "metadata": {},
   "source": [
    "## 함수의 리턴값은 언제나 하나이다"
   ]
  },
  {
   "cell_type": "code",
   "execution_count": 32,
   "id": "d00ee537",
   "metadata": {
    "ExecuteTime": {
     "end_time": "2024-03-07T01:27:57.202607Z",
     "start_time": "2024-03-07T01:27:57.199111Z"
    }
   },
   "outputs": [],
   "source": [
    "def add_and_mul(a,b): \n",
    "    return a+b, a*b"
   ]
  },
  {
   "cell_type": "code",
   "execution_count": 36,
   "id": "c7d0616d",
   "metadata": {
    "ExecuteTime": {
     "end_time": "2024-03-07T01:33:10.562439Z",
     "start_time": "2024-03-07T01:33:10.557527Z"
    }
   },
   "outputs": [
    {
     "data": {
      "text/plain": [
       "(7, 12)"
      ]
     },
     "execution_count": 36,
     "metadata": {},
     "output_type": "execute_result"
    }
   ],
   "source": [
    "result = add_and_mul(3,4)\n",
    "result"
   ]
  },
  {
   "cell_type": "code",
   "execution_count": 37,
   "id": "aed9f3dc",
   "metadata": {
    "ExecuteTime": {
     "end_time": "2024-03-07T01:34:25.100232Z",
     "start_time": "2024-03-07T01:34:25.096245Z"
    }
   },
   "outputs": [],
   "source": [
    "def add_and_mul(a,b): \n",
    "    return a+b \n",
    "    return a*b"
   ]
  },
  {
   "cell_type": "code",
   "execution_count": 38,
   "id": "b2535009",
   "metadata": {
    "ExecuteTime": {
     "end_time": "2024-03-07T01:34:34.118411Z",
     "start_time": "2024-03-07T01:34:34.113525Z"
    }
   },
   "outputs": [
    {
     "name": "stdout",
     "output_type": "stream",
     "text": [
      "5\n"
     ]
    }
   ],
   "source": [
    "result = add_and_mul(2, 3)\n",
    "print(result)"
   ]
  },
  {
   "cell_type": "markdown",
   "id": "fbe874c0",
   "metadata": {},
   "source": [
    "return의 또 다른 쓰임새    \n",
    "특별한 상황일 때 함수를 빠져나가고 싶다면 return을 단독으로 써서 함수를 즉시 빠져나갈 수 있다.\n",
    "```\n",
    "def say_nick(nick): \n",
    "    if nick == \"바보\": \n",
    "        return \n",
    "    print(\"나의 별명은 %s 입니다.\" % nick)\n",
    "```"
   ]
  },
  {
   "cell_type": "code",
   "execution_count": 39,
   "id": "8e1171f8",
   "metadata": {
    "ExecuteTime": {
     "end_time": "2024-03-07T01:38:07.910455Z",
     "start_time": "2024-03-07T01:38:07.907150Z"
    }
   },
   "outputs": [],
   "source": [
    "def say_nick(nick): \n",
    "    if nick == \"바보\": \n",
    "        return \n",
    "    print(\"나의 별명은 %s 입니다.\" % nick)"
   ]
  },
  {
   "cell_type": "code",
   "execution_count": 40,
   "id": "6ebae6be",
   "metadata": {
    "ExecuteTime": {
     "end_time": "2024-03-07T01:38:13.363073Z",
     "start_time": "2024-03-07T01:38:13.359966Z"
    }
   },
   "outputs": [
    {
     "name": "stdout",
     "output_type": "stream",
     "text": [
      "나의 별명은 야호 입니다.\n"
     ]
    }
   ],
   "source": [
    "say_nick('야호')"
   ]
  },
  {
   "cell_type": "code",
   "execution_count": 41,
   "id": "2acdc76e",
   "metadata": {
    "ExecuteTime": {
     "end_time": "2024-03-07T01:38:22.907340Z",
     "start_time": "2024-03-07T01:38:22.903354Z"
    }
   },
   "outputs": [],
   "source": [
    "say_nick('바보') # 함수를 빠져나감"
   ]
  },
  {
   "cell_type": "markdown",
   "id": "772bb71d",
   "metadata": {},
   "source": [
    "## 매개변수에 초깃값 미리 설정하기"
   ]
  },
  {
   "cell_type": "code",
   "execution_count": 43,
   "id": "56a2506a",
   "metadata": {
    "ExecuteTime": {
     "end_time": "2024-03-07T01:40:58.864759Z",
     "start_time": "2024-03-07T01:40:58.860026Z"
    }
   },
   "outputs": [],
   "source": [
    "# default1.py\n",
    "\n",
    "def say_myself(name, age, man=True): # man=True : 초깃값(디폴트) 설정\n",
    "    print(\"나의 이름은 %s 입니다.\" % name) \n",
    "    print(\"나이는 %d살입니다.\" % age) \n",
    "    if man: \n",
    "        print(\"남자입니다.\")\n",
    "    else: \n",
    "        print(\"여자입니다.\")"
   ]
  },
  {
   "cell_type": "code",
   "execution_count": 44,
   "id": "0e8dcb58",
   "metadata": {
    "ExecuteTime": {
     "end_time": "2024-03-07T01:41:00.164477Z",
     "start_time": "2024-03-07T01:41:00.161634Z"
    }
   },
   "outputs": [
    {
     "name": "stdout",
     "output_type": "stream",
     "text": [
      "나의 이름은 박응용 입니다.\n",
      "나이는 27살입니다.\n",
      "남자입니다.\n"
     ]
    }
   ],
   "source": [
    "say_myself(\"박응용\", 27)"
   ]
  },
  {
   "cell_type": "code",
   "execution_count": 45,
   "id": "3b0be81b",
   "metadata": {
    "ExecuteTime": {
     "end_time": "2024-03-07T01:41:35.141485Z",
     "start_time": "2024-03-07T01:41:35.136332Z"
    }
   },
   "outputs": [
    {
     "name": "stdout",
     "output_type": "stream",
     "text": [
      "나의 이름은 박응선 입니다.\n",
      "나이는 27살입니다.\n",
      "여자입니다.\n"
     ]
    }
   ],
   "source": [
    "say_myself(\"박응선\", 27, False)"
   ]
  },
  {
   "cell_type": "markdown",
   "id": "4a7867bd",
   "metadata": {
    "ExecuteTime": {
     "end_time": "2024-03-07T01:42:25.221821Z",
     "start_time": "2024-03-07T01:42:25.216838Z"
    }
   },
   "source": [
    "```\n",
    "초기화하고 싶은 매개변수는 항상 뒤쪽에 놓아야 한다는 것을 잊지 말자.\n",
    "```"
   ]
  },
  {
   "cell_type": "markdown",
   "id": "c1a593b0",
   "metadata": {},
   "source": [
    "## 함수 안에서 선언한 변수의 효력 범위"
   ]
  },
  {
   "cell_type": "code",
   "execution_count": 47,
   "id": "51e4ee84",
   "metadata": {
    "ExecuteTime": {
     "end_time": "2024-03-07T01:43:19.365735Z",
     "start_time": "2024-03-07T01:43:19.361747Z"
    }
   },
   "outputs": [
    {
     "name": "stdout",
     "output_type": "stream",
     "text": [
      "1\n"
     ]
    }
   ],
   "source": [
    "a = 1\n",
    "def vartest(a):\n",
    "    a = a +1\n",
    "\n",
    "vartest(a)\n",
    "print(a)"
   ]
  },
  {
   "cell_type": "code",
   "execution_count": 49,
   "id": "15375bcc",
   "metadata": {
    "ExecuteTime": {
     "end_time": "2024-03-07T01:44:01.748397Z",
     "start_time": "2024-03-07T01:44:01.744470Z"
    }
   },
   "outputs": [
    {
     "name": "stdout",
     "output_type": "stream",
     "text": [
      "None\n"
     ]
    }
   ],
   "source": [
    "print(vartest(a)) # return 이 없다."
   ]
  },
  {
   "cell_type": "markdown",
   "id": "e7e0a679",
   "metadata": {},
   "source": [
    "## 함수 안에서 함수 밖의 변수를 변경하는 방법"
   ]
  },
  {
   "cell_type": "code",
   "execution_count": 50,
   "id": "6e29236b",
   "metadata": {
    "ExecuteTime": {
     "end_time": "2024-03-07T01:45:42.952407Z",
     "start_time": "2024-03-07T01:45:42.948421Z"
    }
   },
   "outputs": [
    {
     "name": "stdout",
     "output_type": "stream",
     "text": [
      "2\n"
     ]
    }
   ],
   "source": [
    "# return 사용하기\n",
    "a = 1 \n",
    "def vartest(a): \n",
    "    a = a +1 \n",
    "    return a\n",
    "\n",
    "a = vartest(a) \n",
    "print(a)"
   ]
  },
  {
   "cell_type": "code",
   "execution_count": 51,
   "id": "ce463f15",
   "metadata": {
    "ExecuteTime": {
     "end_time": "2024-03-07T01:47:06.033296Z",
     "start_time": "2024-03-07T01:47:06.027907Z"
    }
   },
   "outputs": [
    {
     "name": "stdout",
     "output_type": "stream",
     "text": [
      "2\n"
     ]
    }
   ],
   "source": [
    "# global 명령어 사용하기\n",
    "a = 1 \n",
    "def vartest(): \n",
    "    global a \n",
    "    a = a+1\n",
    "\n",
    "vartest() \n",
    "print(a)"
   ]
  },
  {
   "cell_type": "markdown",
   "id": "c7ff263b",
   "metadata": {},
   "source": [
    "## lambda 예약어"
   ]
  },
  {
   "cell_type": "markdown",
   "id": "ef8cdc6f",
   "metadata": {},
   "source": [
    "사용법\n",
    "```\n",
    "함수_이름 = lambda 매개변수1, 매개변수2, ... : 매개변수를_이용한_표현식\n",
    "```"
   ]
  },
  {
   "cell_type": "code",
   "execution_count": 52,
   "id": "bcbbd889",
   "metadata": {
    "ExecuteTime": {
     "end_time": "2024-03-07T01:49:27.848505Z",
     "start_time": "2024-03-07T01:49:27.844466Z"
    }
   },
   "outputs": [
    {
     "name": "stdout",
     "output_type": "stream",
     "text": [
      "7\n"
     ]
    }
   ],
   "source": [
    "add = lambda a, b: a+b\n",
    "result = add(3, 4)\n",
    "print(result)"
   ]
  },
  {
   "cell_type": "code",
   "execution_count": 53,
   "id": "749cee6a",
   "metadata": {
    "ExecuteTime": {
     "end_time": "2024-03-07T01:51:22.438124Z",
     "start_time": "2024-03-07T01:51:22.433662Z"
    }
   },
   "outputs": [
    {
     "name": "stdout",
     "output_type": "stream",
     "text": [
      "7\n"
     ]
    }
   ],
   "source": [
    "def add(a, b):\n",
    "    return a+b\n",
    "\n",
    "result = add(3, 4)\n",
    "print(result)"
   ]
  },
  {
   "cell_type": "markdown",
   "id": "efb905d6",
   "metadata": {},
   "source": [
    "# 사용자 입출력"
   ]
  },
  {
   "cell_type": "code",
   "execution_count": 54,
   "id": "5b1088d1",
   "metadata": {
    "ExecuteTime": {
     "end_time": "2024-03-07T02:05:09.941726Z",
     "start_time": "2024-03-07T02:04:56.300720Z"
    }
   },
   "outputs": [
    {
     "name": "stdout",
     "output_type": "stream",
     "text": [
      "Life is too short, you need python\n"
     ]
    },
    {
     "data": {
      "text/plain": [
       "'Life is too short, you need python'"
      ]
     },
     "execution_count": 54,
     "metadata": {},
     "output_type": "execute_result"
    }
   ],
   "source": [
    "a = input()\n",
    "a"
   ]
  },
  {
   "cell_type": "code",
   "execution_count": 55,
   "id": "06905c50",
   "metadata": {
    "ExecuteTime": {
     "end_time": "2024-03-07T02:05:40.577959Z",
     "start_time": "2024-03-07T02:05:39.334534Z"
    }
   },
   "outputs": [
    {
     "name": "stdout",
     "output_type": "stream",
     "text": [
      "숫자를 입력하세요: 3\n"
     ]
    },
    {
     "data": {
      "text/plain": [
       "'3'"
      ]
     },
     "execution_count": 55,
     "metadata": {},
     "output_type": "execute_result"
    }
   ],
   "source": [
    "number = input(\"숫자를 입력하세요: \")\n",
    "number"
   ]
  },
  {
   "cell_type": "code",
   "execution_count": 56,
   "id": "a86809e6",
   "metadata": {
    "ExecuteTime": {
     "end_time": "2024-03-07T02:05:47.551735Z",
     "start_time": "2024-03-07T02:05:47.547287Z"
    }
   },
   "outputs": [
    {
     "data": {
      "text/plain": [
       "str"
      ]
     },
     "execution_count": 56,
     "metadata": {},
     "output_type": "execute_result"
    }
   ],
   "source": [
    "# 주의!! 숫자로 받으려면 int()\n",
    "type(number)"
   ]
  },
  {
   "cell_type": "markdown",
   "id": "c7291ec9",
   "metadata": {},
   "source": [
    "# 파일 읽고 쓰기"
   ]
  },
  {
   "cell_type": "markdown",
   "id": "5507059f",
   "metadata": {},
   "source": [
    "## 파일 생성 하기"
   ]
  },
  {
   "cell_type": "code",
   "execution_count": 58,
   "id": "6a3cf936",
   "metadata": {
    "ExecuteTime": {
     "end_time": "2024-03-07T02:08:14.811297Z",
     "start_time": "2024-03-07T02:08:14.806073Z"
    }
   },
   "outputs": [],
   "source": [
    "open?"
   ]
  },
  {
   "cell_type": "code",
   "execution_count": 59,
   "id": "78d33919",
   "metadata": {
    "ExecuteTime": {
     "end_time": "2024-03-07T02:08:57.870101Z",
     "start_time": "2024-03-07T02:08:57.865307Z"
    }
   },
   "outputs": [
    {
     "data": {
      "text/plain": [
       "<_io.TextIOWrapper name='새파일.txt' mode='w' encoding='cp949'>"
      ]
     },
     "execution_count": 59,
     "metadata": {},
     "output_type": "execute_result"
    }
   ],
   "source": [
    "# newfile.py\n",
    "f = open(\"새파일.txt\", 'w')\n",
    "f"
   ]
  },
  {
   "cell_type": "code",
   "execution_count": 60,
   "id": "a6dcdd7e",
   "metadata": {
    "ExecuteTime": {
     "end_time": "2024-03-07T02:10:49.422553Z",
     "start_time": "2024-03-07T02:10:49.418934Z"
    }
   },
   "outputs": [],
   "source": [
    "f.close() # 종료를 해줘야한다!"
   ]
  },
  {
   "cell_type": "markdown",
   "id": "8fbba8fe",
   "metadata": {},
   "source": [
    "## 파일을 쓰기 모드로 열어 내용 쓰기"
   ]
  },
  {
   "cell_type": "code",
   "execution_count": 61,
   "id": "42292023",
   "metadata": {
    "ExecuteTime": {
     "end_time": "2024-03-07T02:14:29.959051Z",
     "start_time": "2024-03-07T02:14:29.954979Z"
    }
   },
   "outputs": [
    {
     "data": {
      "text/plain": [
       "'C:\\\\Workspace_EST\\\\WASSUP2\\\\wassup2\\\\python_grammer'"
      ]
     },
     "execution_count": 61,
     "metadata": {},
     "output_type": "execute_result"
    }
   ],
   "source": [
    "pwd"
   ]
  },
  {
   "cell_type": "code",
   "execution_count": 64,
   "id": "20d789a6",
   "metadata": {
    "ExecuteTime": {
     "end_time": "2024-03-07T02:18:04.774430Z",
     "start_time": "2024-03-07T02:18:04.770442Z"
    }
   },
   "outputs": [],
   "source": [
    "# write_data.py\n",
    "f = open(\"C:\\\\Workspace_EST\\\\WASSUP2\\\\wassup2\\\\python_grammer\\\\새파일.txt\", 'w')\n",
    "for i in range(1, 11):\n",
    "    data = \"%d번째 줄입니다.\\n\" % i\n",
    "    f.write(data)\n",
    "f.close()"
   ]
  },
  {
   "cell_type": "markdown",
   "id": "18566760",
   "metadata": {},
   "source": [
    "## 파일을 읽는 여러 가지 방법"
   ]
  },
  {
   "cell_type": "code",
   "execution_count": 66,
   "id": "6b56a062",
   "metadata": {
    "ExecuteTime": {
     "end_time": "2024-03-07T02:18:50.137956Z",
     "start_time": "2024-03-07T02:18:50.133854Z"
    }
   },
   "outputs": [
    {
     "name": "stdout",
     "output_type": "stream",
     "text": [
      "1번째 줄입니다.\n",
      "\n"
     ]
    }
   ],
   "source": [
    "# readline_test.py\n",
    "f = open(\"새파일.txt\", 'r')\n",
    "line = f.readline()\n",
    "print(line)\n",
    "f.close()"
   ]
  },
  {
   "cell_type": "code",
   "execution_count": 68,
   "id": "480a27f6",
   "metadata": {
    "ExecuteTime": {
     "end_time": "2024-03-07T02:20:41.205777Z",
     "start_time": "2024-03-07T02:20:41.201332Z"
    }
   },
   "outputs": [
    {
     "name": "stdout",
     "output_type": "stream",
     "text": [
      "1번째 줄입니다.\n",
      "\n",
      "2번째 줄입니다.\n",
      "\n",
      "3번째 줄입니다.\n",
      "\n",
      "4번째 줄입니다.\n",
      "\n",
      "5번째 줄입니다.\n",
      "\n",
      "6번째 줄입니다.\n",
      "\n",
      "7번째 줄입니다.\n",
      "\n",
      "8번째 줄입니다.\n",
      "\n",
      "9번째 줄입니다.\n",
      "\n",
      "10번째 줄입니다.\n",
      "\n"
     ]
    }
   ],
   "source": [
    "# readline_all.py\n",
    "f = open(\"새파일.txt\", 'r')\n",
    "while True:\n",
    "    line = f.readline()\n",
    "    if not line: break\n",
    "    print(line)\n",
    "f.close()"
   ]
  },
  {
   "cell_type": "code",
   "execution_count": 69,
   "id": "3b75aedf",
   "metadata": {
    "ExecuteTime": {
     "end_time": "2024-03-07T02:24:36.241785Z",
     "start_time": "2024-03-07T02:24:36.236802Z"
    }
   },
   "outputs": [
    {
     "name": "stdout",
     "output_type": "stream",
     "text": [
      "1번째 줄입니다.\n",
      "\n",
      "2번째 줄입니다.\n",
      "\n",
      "3번째 줄입니다.\n",
      "\n",
      "4번째 줄입니다.\n",
      "\n",
      "5번째 줄입니다.\n",
      "\n",
      "6번째 줄입니다.\n",
      "\n",
      "7번째 줄입니다.\n",
      "\n",
      "8번째 줄입니다.\n",
      "\n",
      "9번째 줄입니다.\n",
      "\n",
      "10번째 줄입니다.\n",
      "\n"
     ]
    }
   ],
   "source": [
    "# readlines.py\n",
    "f = open(\"새파일.txt\", 'r')\n",
    "lines = f.readlines()\n",
    "for line in lines:\n",
    "    print(line)\n",
    "f.close()"
   ]
  },
  {
   "cell_type": "code",
   "execution_count": 71,
   "id": "8521888e",
   "metadata": {
    "ExecuteTime": {
     "end_time": "2024-03-07T02:25:33.528843Z",
     "start_time": "2024-03-07T02:25:33.523858Z"
    }
   },
   "outputs": [
    {
     "name": "stdout",
     "output_type": "stream",
     "text": [
      "1번째 줄입니다.\n",
      "2번째 줄입니다.\n",
      "3번째 줄입니다.\n",
      "4번째 줄입니다.\n",
      "5번째 줄입니다.\n",
      "6번째 줄입니다.\n",
      "7번째 줄입니다.\n",
      "8번째 줄입니다.\n",
      "9번째 줄입니다.\n",
      "10번째 줄입니다.\n"
     ]
    }
   ],
   "source": [
    "# 줄 바꿈 문자 제거\n",
    "f = open(\"새파일.txt\", 'r')\n",
    "lines = f.readlines()\n",
    "for line in lines:\n",
    "    line = line.strip()  # 줄 끝의 줄 바꿈 문자를 제거한다.\n",
    "    print(line)\n",
    "f.close()"
   ]
  },
  {
   "cell_type": "code",
   "execution_count": 73,
   "id": "a69db9f1",
   "metadata": {
    "ExecuteTime": {
     "end_time": "2024-03-07T02:27:22.464568Z",
     "start_time": "2024-03-07T02:27:22.459586Z"
    }
   },
   "outputs": [
    {
     "name": "stdout",
     "output_type": "stream",
     "text": [
      "1번째 줄입니다.\n",
      "2번째 줄입니다.\n",
      "3번째 줄입니다.\n",
      "4번째 줄입니다.\n",
      "5번째 줄입니다.\n",
      "6번째 줄입니다.\n",
      "7번째 줄입니다.\n",
      "8번째 줄입니다.\n",
      "9번째 줄입니다.\n",
      "10번째 줄입니다.\n",
      "\n",
      "<class 'str'>\n"
     ]
    }
   ],
   "source": [
    "# read 함수 사용하기\n",
    "# read.py\n",
    "f = open(\"새파일.txt\", 'r')\n",
    "data = f.read()\n",
    "print(data)\n",
    "print(type(data))\n",
    "f.close()"
   ]
  },
  {
   "cell_type": "markdown",
   "id": "99ced835",
   "metadata": {},
   "source": [
    "## 파일에 새로운 내용 추가하기"
   ]
  },
  {
   "cell_type": "code",
   "execution_count": 74,
   "id": "a9dafec6",
   "metadata": {
    "ExecuteTime": {
     "end_time": "2024-03-07T02:30:12.246171Z",
     "start_time": "2024-03-07T02:30:12.241988Z"
    }
   },
   "outputs": [],
   "source": [
    "# add_data.py\n",
    "f = open(\"새파일.txt\",'a')\n",
    "for i in range(11, 20):\n",
    "    data = \"%d번째 줄입니다.\\n\" % i\n",
    "    f.write(data)\n",
    "f.close()"
   ]
  },
  {
   "cell_type": "markdown",
   "id": "565565ff",
   "metadata": {},
   "source": [
    "## with 문과 함께 사용하기"
   ]
  },
  {
   "cell_type": "code",
   "execution_count": 75,
   "id": "e9b5d555",
   "metadata": {
    "ExecuteTime": {
     "end_time": "2024-03-07T02:33:00.892233Z",
     "start_time": "2024-03-07T02:33:00.888945Z"
    }
   },
   "outputs": [],
   "source": [
    "# file_with.py\n",
    "with open(\"foo.txt\", \"w\") as f:\n",
    "    f.write(\"Life is too short, you need python\")"
   ]
  },
  {
   "cell_type": "markdown",
   "id": "bf4d5eee",
   "metadata": {},
   "source": []
  },
  {
   "cell_type": "code",
   "execution_count": null,
   "id": "1e15d511",
   "metadata": {},
   "outputs": [],
   "source": []
  },
  {
   "cell_type": "code",
   "execution_count": null,
   "id": "8df5e861",
   "metadata": {},
   "outputs": [],
   "source": []
  },
  {
   "cell_type": "code",
   "execution_count": null,
   "id": "90462f79",
   "metadata": {},
   "outputs": [],
   "source": []
  },
  {
   "cell_type": "code",
   "execution_count": null,
   "id": "45670e74",
   "metadata": {},
   "outputs": [],
   "source": []
  },
  {
   "cell_type": "code",
   "execution_count": null,
   "id": "a4e2bcbd",
   "metadata": {},
   "outputs": [],
   "source": []
  }
 ],
 "metadata": {
  "kernelspec": {
   "display_name": "Python 3 (ipykernel)",
   "language": "python",
   "name": "python3"
  },
  "language_info": {
   "codemirror_mode": {
    "name": "ipython",
    "version": 3
   },
   "file_extension": ".py",
   "mimetype": "text/x-python",
   "name": "python",
   "nbconvert_exporter": "python",
   "pygments_lexer": "ipython3",
   "version": "3.11.5"
  },
  "toc": {
   "base_numbering": 1,
   "nav_menu": {},
   "number_sections": true,
   "sideBar": true,
   "skip_h1_title": false,
   "title_cell": "Table of Contents",
   "title_sidebar": "Contents",
   "toc_cell": false,
   "toc_position": {},
   "toc_section_display": true,
   "toc_window_display": false
  },
  "varInspector": {
   "cols": {
    "lenName": 16,
    "lenType": 16,
    "lenVar": 40
   },
   "kernels_config": {
    "python": {
     "delete_cmd_postfix": "",
     "delete_cmd_prefix": "del ",
     "library": "var_list.py",
     "varRefreshCmd": "print(var_dic_list())"
    },
    "r": {
     "delete_cmd_postfix": ") ",
     "delete_cmd_prefix": "rm(",
     "library": "var_list.r",
     "varRefreshCmd": "cat(var_dic_list()) "
    }
   },
   "types_to_exclude": [
    "module",
    "function",
    "builtin_function_or_method",
    "instance",
    "_Feature"
   ],
   "window_display": false
  }
 },
 "nbformat": 4,
 "nbformat_minor": 5
}
