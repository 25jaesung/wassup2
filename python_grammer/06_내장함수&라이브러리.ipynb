{
 "cells": [
  {
   "cell_type": "markdown",
   "id": "a6b088fd",
   "metadata": {},
   "source": [
    "# 내장 함수"
   ]
  },
  {
   "cell_type": "markdown",
   "id": "506f0b65",
   "metadata": {},
   "source": [
    "***\n",
    "꼭 알아야할 함수 4가지!! 전처리에 쓰인다. 외우자.<br><br>filter : 불린을 리턴하는 비교함수를 토대로 걸러내는 역할\n",
    "<br>map : 특정 함수와 데이터를 계산한 결과를 리턴하는 역할<br>ZIP : a와 b의 데이터를 묶어서 리턴<br><br>enumerate(열거)\n",
    "***"
   ]
  },
  {
   "cell_type": "markdown",
   "id": "b4c1290d",
   "metadata": {},
   "source": [
    "***\n",
    "abs\n",
    "\n",
    "abs(x)는 어떤 숫자를 입력받았을 때 그 숫자의 절댓값을 리턴하는 함수"
   ]
  },
  {
   "cell_type": "code",
   "execution_count": 1,
   "id": "5e9fa121",
   "metadata": {
    "ExecuteTime": {
     "end_time": "2024-03-12T01:07:21.184606Z",
     "start_time": "2024-03-12T01:07:21.178065Z"
    }
   },
   "outputs": [
    {
     "data": {
      "text/plain": [
       "3"
      ]
     },
     "execution_count": 1,
     "metadata": {},
     "output_type": "execute_result"
    }
   ],
   "source": [
    "abs(-3)"
   ]
  },
  {
   "cell_type": "markdown",
   "id": "4b7eec7a",
   "metadata": {},
   "source": [
    "***\n",
    "all\n",
    "\n",
    "all(x)는 반복 가능한 데이터 x를 입력값으로 받으며 이 x의 요소가 모두 참이면 True, 거짓이 하나라도 있으면 False를 리턴"
   ]
  },
  {
   "cell_type": "code",
   "execution_count": 2,
   "id": "f08a1888",
   "metadata": {
    "ExecuteTime": {
     "end_time": "2024-03-12T01:08:05.360970Z",
     "start_time": "2024-03-12T01:08:05.354990Z"
    }
   },
   "outputs": [
    {
     "data": {
      "text/plain": [
       "True"
      ]
     },
     "execution_count": 2,
     "metadata": {},
     "output_type": "execute_result"
    }
   ],
   "source": [
    "all([1,2,3])"
   ]
  },
  {
   "cell_type": "code",
   "execution_count": 3,
   "id": "ee64170a",
   "metadata": {
    "ExecuteTime": {
     "end_time": "2024-03-12T01:08:15.770965Z",
     "start_time": "2024-03-12T01:08:15.765270Z"
    }
   },
   "outputs": [
    {
     "data": {
      "text/plain": [
       "False"
      ]
     },
     "execution_count": 3,
     "metadata": {},
     "output_type": "execute_result"
    }
   ],
   "source": [
    "all([1,2,3,0])"
   ]
  },
  {
   "cell_type": "code",
   "execution_count": 4,
   "id": "643215b0",
   "metadata": {
    "ExecuteTime": {
     "end_time": "2024-03-12T01:08:30.149242Z",
     "start_time": "2024-03-12T01:08:30.143751Z"
    }
   },
   "outputs": [
    {
     "data": {
      "text/plain": [
       "True"
      ]
     },
     "execution_count": 4,
     "metadata": {},
     "output_type": "execute_result"
    }
   ],
   "source": [
    "all([]) # 요소가 모두 false이기에 True 값 반환"
   ]
  },
  {
   "cell_type": "markdown",
   "id": "02f55834",
   "metadata": {},
   "source": [
    "***\n",
    "any\n",
    "\n",
    "any(x)는 반복 가능한 데이터 x를 입력으로 받아 x의 요소 중 하나라도 참이 있으면 True를 리턴하고 x가 모두 거짓일 때만 False를 리턴한다. 즉, all(x)의 반대로 작동한다."
   ]
  },
  {
   "cell_type": "code",
   "execution_count": 5,
   "id": "9a090604",
   "metadata": {
    "ExecuteTime": {
     "end_time": "2024-03-12T01:09:20.807098Z",
     "start_time": "2024-03-12T01:09:20.800907Z"
    }
   },
   "outputs": [
    {
     "data": {
      "text/plain": [
       "True"
      ]
     },
     "execution_count": 5,
     "metadata": {},
     "output_type": "execute_result"
    }
   ],
   "source": [
    "any([1, 2, 3, 0])"
   ]
  },
  {
   "cell_type": "code",
   "execution_count": 6,
   "id": "dbecdf5f",
   "metadata": {
    "ExecuteTime": {
     "end_time": "2024-03-12T01:09:34.664774Z",
     "start_time": "2024-03-12T01:09:34.659791Z"
    }
   },
   "outputs": [
    {
     "data": {
      "text/plain": [
       "False"
      ]
     },
     "execution_count": 6,
     "metadata": {},
     "output_type": "execute_result"
    }
   ],
   "source": [
    "any([0, \"\"])"
   ]
  },
  {
   "cell_type": "code",
   "execution_count": 7,
   "id": "93eef3cd",
   "metadata": {
    "ExecuteTime": {
     "end_time": "2024-03-12T01:09:49.958981Z",
     "start_time": "2024-03-12T01:09:49.953617Z"
    }
   },
   "outputs": [
    {
     "data": {
      "text/plain": [
       "False"
      ]
     },
     "execution_count": 7,
     "metadata": {},
     "output_type": "execute_result"
    }
   ],
   "source": [
    "any([]) #  any의 입력 인수가 빈 값인 경우에는 False를 리턴"
   ]
  },
  {
   "cell_type": "markdown",
   "id": "11e37cbc",
   "metadata": {},
   "source": [
    "***\n",
    "chr\n",
    "\n",
    "chr(i)는 유니코드 숫자 값을 입력받아 그 코드에 해당하는 문자를 리턴하는 함수"
   ]
  },
  {
   "cell_type": "code",
   "execution_count": 9,
   "id": "a14ee38a",
   "metadata": {
    "ExecuteTime": {
     "end_time": "2024-03-12T01:13:07.196982Z",
     "start_time": "2024-03-12T01:13:07.190935Z"
    }
   },
   "outputs": [
    {
     "data": {
      "text/plain": [
       "'a'"
      ]
     },
     "execution_count": 9,
     "metadata": {},
     "output_type": "execute_result"
    }
   ],
   "source": [
    "chr(97)"
   ]
  },
  {
   "cell_type": "code",
   "execution_count": 10,
   "id": "5a245273",
   "metadata": {
    "ExecuteTime": {
     "end_time": "2024-03-12T01:13:11.366424Z",
     "start_time": "2024-03-12T01:13:11.361480Z"
    }
   },
   "outputs": [
    {
     "data": {
      "text/plain": [
       "'가'"
      ]
     },
     "execution_count": 10,
     "metadata": {},
     "output_type": "execute_result"
    }
   ],
   "source": [
    "chr(44032)"
   ]
  },
  {
   "cell_type": "markdown",
   "id": "ba07e3ba",
   "metadata": {},
   "source": [
    "***\n",
    "dir\n",
    "\n",
    "dir은 객체가 지닌 변수나 함수를 보여 주는 함수"
   ]
  },
  {
   "cell_type": "code",
   "execution_count": 11,
   "id": "7de7ff44",
   "metadata": {
    "ExecuteTime": {
     "end_time": "2024-03-12T01:13:41.610320Z",
     "start_time": "2024-03-12T01:13:41.602930Z"
    }
   },
   "outputs": [
    {
     "data": {
      "text/plain": [
       "['__add__',\n",
       " '__class__',\n",
       " '__class_getitem__',\n",
       " '__contains__',\n",
       " '__delattr__',\n",
       " '__delitem__',\n",
       " '__dir__',\n",
       " '__doc__',\n",
       " '__eq__',\n",
       " '__format__',\n",
       " '__ge__',\n",
       " '__getattribute__',\n",
       " '__getitem__',\n",
       " '__getstate__',\n",
       " '__gt__',\n",
       " '__hash__',\n",
       " '__iadd__',\n",
       " '__imul__',\n",
       " '__init__',\n",
       " '__init_subclass__',\n",
       " '__iter__',\n",
       " '__le__',\n",
       " '__len__',\n",
       " '__lt__',\n",
       " '__mul__',\n",
       " '__ne__',\n",
       " '__new__',\n",
       " '__reduce__',\n",
       " '__reduce_ex__',\n",
       " '__repr__',\n",
       " '__reversed__',\n",
       " '__rmul__',\n",
       " '__setattr__',\n",
       " '__setitem__',\n",
       " '__sizeof__',\n",
       " '__str__',\n",
       " '__subclasshook__',\n",
       " 'append',\n",
       " 'clear',\n",
       " 'copy',\n",
       " 'count',\n",
       " 'extend',\n",
       " 'index',\n",
       " 'insert',\n",
       " 'pop',\n",
       " 'remove',\n",
       " 'reverse',\n",
       " 'sort']"
      ]
     },
     "execution_count": 11,
     "metadata": {},
     "output_type": "execute_result"
    }
   ],
   "source": [
    "dir([1, 2, 3])"
   ]
  },
  {
   "cell_type": "code",
   "execution_count": 12,
   "id": "58db4735",
   "metadata": {
    "ExecuteTime": {
     "end_time": "2024-03-12T01:15:00.857659Z",
     "start_time": "2024-03-12T01:15:00.851458Z"
    }
   },
   "outputs": [
    {
     "data": {
      "text/plain": [
       "['__class__',\n",
       " '__class_getitem__',\n",
       " '__contains__',\n",
       " '__delattr__',\n",
       " '__delitem__',\n",
       " '__dir__',\n",
       " '__doc__',\n",
       " '__eq__',\n",
       " '__format__',\n",
       " '__ge__',\n",
       " '__getattribute__',\n",
       " '__getitem__',\n",
       " '__getstate__',\n",
       " '__gt__',\n",
       " '__hash__',\n",
       " '__init__',\n",
       " '__init_subclass__',\n",
       " '__ior__',\n",
       " '__iter__',\n",
       " '__le__',\n",
       " '__len__',\n",
       " '__lt__',\n",
       " '__ne__',\n",
       " '__new__',\n",
       " '__or__',\n",
       " '__reduce__',\n",
       " '__reduce_ex__',\n",
       " '__repr__',\n",
       " '__reversed__',\n",
       " '__ror__',\n",
       " '__setattr__',\n",
       " '__setitem__',\n",
       " '__sizeof__',\n",
       " '__str__',\n",
       " '__subclasshook__',\n",
       " 'clear',\n",
       " 'copy',\n",
       " 'fromkeys',\n",
       " 'get',\n",
       " 'items',\n",
       " 'keys',\n",
       " 'pop',\n",
       " 'popitem',\n",
       " 'setdefault',\n",
       " 'update',\n",
       " 'values']"
      ]
     },
     "execution_count": 12,
     "metadata": {},
     "output_type": "execute_result"
    }
   ],
   "source": [
    "dir({'1':'a'})"
   ]
  },
  {
   "cell_type": "markdown",
   "id": "78ff39e3",
   "metadata": {},
   "source": [
    "***\n",
    "divmod\n",
    "\n",
    "divmod(a, b)는 2개의 숫자 a, b를 입력으로 받는다. 그리고 a를 b로 나눈 몫과 나머지를 튜플로 리턴한다."
   ]
  },
  {
   "cell_type": "code",
   "execution_count": 13,
   "id": "44a5ea97",
   "metadata": {
    "ExecuteTime": {
     "end_time": "2024-03-12T01:16:10.384467Z",
     "start_time": "2024-03-12T01:16:10.378489Z"
    }
   },
   "outputs": [
    {
     "data": {
      "text/plain": [
       "(2, 1)"
      ]
     },
     "execution_count": 13,
     "metadata": {},
     "output_type": "execute_result"
    }
   ],
   "source": [
    "divmod(7, 3)"
   ]
  },
  {
   "cell_type": "markdown",
   "id": "eebe38b0",
   "metadata": {},
   "source": [
    "***\n",
    "enumerate(열거하다) **중요!\n",
    "\n",
    "순서가 있는 데이터(리스트, 튜플, 문자열)를 입력으로 받아 인덱스 값을 포함하는 enumerate 객체를 리턴"
   ]
  },
  {
   "cell_type": "code",
   "execution_count": null,
   "id": "74a54550",
   "metadata": {},
   "outputs": [],
   "source": []
  },
  {
   "cell_type": "code",
   "execution_count": 14,
   "id": "d16b536d",
   "metadata": {
    "ExecuteTime": {
     "end_time": "2024-03-12T01:18:24.927440Z",
     "start_time": "2024-03-12T01:18:24.923420Z"
    }
   },
   "outputs": [
    {
     "name": "stdout",
     "output_type": "stream",
     "text": [
      "0 body\n",
      "1 foo\n",
      "2 bar\n"
     ]
    }
   ],
   "source": [
    "for i, name in enumerate(['body', 'foo', 'bar']):\n",
    "    print(i, name)"
   ]
  },
  {
   "cell_type": "markdown",
   "id": "4111ce3c",
   "metadata": {},
   "source": []
  },
  {
   "cell_type": "code",
   "execution_count": null,
   "id": "7867356b",
   "metadata": {},
   "outputs": [],
   "source": []
  },
  {
   "cell_type": "markdown",
   "id": "f62539de",
   "metadata": {},
   "source": [
    "***\n",
    "Filter **중요!<br>\n",
    "filter 함수는 첫 번째 인수로 함수, 두 번째 인수로 그 함수에 차례로 들어갈 반복 가능한 데이터를 받는다. <br>그리고 반복 가능한 데이터의 요소 순서대로 함수를 호출했을 때 리턴값이 참인 것만 묶어서(걸러 내서) 리턴한다.\n",
    "```\n",
    "filter(함수, 반복_가능한_데이터)\n",
    "```"
   ]
  },
  {
   "cell_type": "code",
   "execution_count": 15,
   "id": "348d24f6",
   "metadata": {
    "ExecuteTime": {
     "end_time": "2024-03-12T01:23:06.371096Z",
     "start_time": "2024-03-12T01:23:06.365762Z"
    }
   },
   "outputs": [
    {
     "name": "stdout",
     "output_type": "stream",
     "text": [
      "[1, 2, 6]\n"
     ]
    }
   ],
   "source": [
    "# positive.py \n",
    "def positive(l): \n",
    "    result = [] \n",
    "    for i in l: \n",
    "        if i > 0: \n",
    "            result.append(i) \n",
    "    return result\n",
    "\n",
    "print(positive([1,-3,2,0,-5,6]))"
   ]
  },
  {
   "cell_type": "code",
   "execution_count": 16,
   "id": "d5d76a13",
   "metadata": {
    "ExecuteTime": {
     "end_time": "2024-03-12T01:23:46.142366Z",
     "start_time": "2024-03-12T01:23:46.137289Z"
    }
   },
   "outputs": [
    {
     "name": "stdout",
     "output_type": "stream",
     "text": [
      "[1, 2, 6]\n"
     ]
    }
   ],
   "source": [
    "# filter1.py\n",
    "def positive(x):\n",
    "    return x > 0\n",
    "\n",
    "print(list(filter(positive, [1, -3, 2, 0, -5, 6])))"
   ]
  },
  {
   "cell_type": "code",
   "execution_count": 17,
   "id": "223eada3",
   "metadata": {
    "ExecuteTime": {
     "end_time": "2024-03-12T01:25:58.965006Z",
     "start_time": "2024-03-12T01:25:58.957936Z"
    }
   },
   "outputs": [
    {
     "data": {
      "text/plain": [
       "<filter at 0x236f2b16140>"
      ]
     },
     "execution_count": 17,
     "metadata": {},
     "output_type": "execute_result"
    }
   ],
   "source": [
    "filter(positive, [1, -3, 2, 0, -5, 6]) # 객체이다!"
   ]
  },
  {
   "cell_type": "code",
   "execution_count": 18,
   "id": "19bc4218",
   "metadata": {
    "ExecuteTime": {
     "end_time": "2024-03-12T01:26:20.987680Z",
     "start_time": "2024-03-12T01:26:20.981677Z"
    }
   },
   "outputs": [
    {
     "data": {
      "text/plain": [
       "[1, 2, 6]"
      ]
     },
     "execution_count": 18,
     "metadata": {},
     "output_type": "execute_result"
    }
   ],
   "source": [
    "list(filter(positive, [1, -3, 2, 0, -5, 6])) # 리스트로 반환!"
   ]
  },
  {
   "cell_type": "code",
   "execution_count": 24,
   "id": "e527d6ea",
   "metadata": {
    "ExecuteTime": {
     "end_time": "2024-03-12T01:28:00.581832Z",
     "start_time": "2024-03-12T01:28:00.575346Z"
    }
   },
   "outputs": [
    {
     "data": {
      "text/plain": [
       "[1, 2, 6]"
      ]
     },
     "execution_count": 24,
     "metadata": {},
     "output_type": "execute_result"
    }
   ],
   "source": [
    "# lamda 사용!\n",
    "list(filter(lambda x: x > 0, [1, -3, 2, 0, -5, 6]))"
   ]
  },
  {
   "cell_type": "markdown",
   "id": "dc9a825c",
   "metadata": {},
   "source": [
    "***\n",
    "isinstance\n",
    "<br>\n",
    "isinstance(object, class) 함수는 첫 번째 인수로 객체, 두 번째 인수로 클래스를 받는다.\n",
    "<br>\n",
    "입력으로 받은 객체가 그 클래스의 인스턴스인지를 판단하여 참이면 True, 거짓이면 False를 리턴한다.\n"
   ]
  },
  {
   "cell_type": "code",
   "execution_count": null,
   "id": "d830ec43",
   "metadata": {},
   "outputs": [],
   "source": []
  },
  {
   "cell_type": "markdown",
   "id": "0eedd1a3",
   "metadata": {},
   "source": [
    "***\n",
    "map **중요! <br>\n",
    "map(f, iterable)은 함수(f)와 반복 가능한 데이터를 입력으로 받는다.<br>map은 입력받은 데이터의 각 요소에 함수 f를 적용한 결과를 리턴하는 함수이다."
   ]
  },
  {
   "cell_type": "code",
   "execution_count": 25,
   "id": "0f3795b7",
   "metadata": {
    "ExecuteTime": {
     "end_time": "2024-03-12T01:32:44.969984Z",
     "start_time": "2024-03-12T01:32:44.964950Z"
    }
   },
   "outputs": [
    {
     "name": "stdout",
     "output_type": "stream",
     "text": [
      "[2, 4, 6, 8]\n"
     ]
    }
   ],
   "source": [
    "# two_times.py\n",
    "def two_times(numberList):\n",
    "    result = []\n",
    "    for number in numberList:\n",
    "        result.append(number*2)\n",
    "    return result\n",
    "\n",
    "result = two_times([1, 2, 3, 4])\n",
    "print(result)"
   ]
  },
  {
   "cell_type": "code",
   "execution_count": 26,
   "id": "1228496f",
   "metadata": {
    "ExecuteTime": {
     "end_time": "2024-03-12T01:34:44.386841Z",
     "start_time": "2024-03-12T01:34:44.380501Z"
    }
   },
   "outputs": [
    {
     "data": {
      "text/plain": [
       "[2, 4, 6, 8]"
      ]
     },
     "execution_count": 26,
     "metadata": {},
     "output_type": "execute_result"
    }
   ],
   "source": [
    "def two_times(x): \n",
    "    return x*2\n",
    "\n",
    "list(map(two_times, [1, 2, 3, 4]))"
   ]
  },
  {
   "cell_type": "code",
   "execution_count": 27,
   "id": "d40566bd",
   "metadata": {
    "ExecuteTime": {
     "end_time": "2024-03-12T01:35:05.578754Z",
     "start_time": "2024-03-12T01:35:05.573194Z"
    }
   },
   "outputs": [
    {
     "data": {
      "text/plain": [
       "[2, 4, 6, 8]"
      ]
     },
     "execution_count": 27,
     "metadata": {},
     "output_type": "execute_result"
    }
   ],
   "source": [
    "# lamda 사용\n",
    "list(map(lambda a: a*2, [1, 2, 3, 4]))"
   ]
  },
  {
   "cell_type": "markdown",
   "id": "5d55bdca",
   "metadata": {},
   "source": [
    "***\n",
    "max<br>인수로 반복 가능한 데이터를 입력받아 그 최댓값을 리턴하는 함수"
   ]
  },
  {
   "cell_type": "code",
   "execution_count": 28,
   "id": "50b9c92b",
   "metadata": {
    "ExecuteTime": {
     "end_time": "2024-03-12T01:38:58.215433Z",
     "start_time": "2024-03-12T01:38:58.209518Z"
    }
   },
   "outputs": [
    {
     "data": {
      "text/plain": [
       "3"
      ]
     },
     "execution_count": 28,
     "metadata": {},
     "output_type": "execute_result"
    }
   ],
   "source": [
    "max([1, 2, 3])"
   ]
  },
  {
   "cell_type": "code",
   "execution_count": 29,
   "id": "9fd0e26f",
   "metadata": {
    "ExecuteTime": {
     "end_time": "2024-03-12T01:39:02.732917Z",
     "start_time": "2024-03-12T01:39:02.728349Z"
    }
   },
   "outputs": [
    {
     "data": {
      "text/plain": [
       "'y'"
      ]
     },
     "execution_count": 29,
     "metadata": {},
     "output_type": "execute_result"
    }
   ],
   "source": [
    "max(\"python\")"
   ]
  },
  {
   "cell_type": "markdown",
   "id": "a01db0d4",
   "metadata": {},
   "source": [
    "***\n",
    "min<br>최솟값을 리턴"
   ]
  },
  {
   "cell_type": "code",
   "execution_count": 30,
   "id": "925b06c6",
   "metadata": {
    "ExecuteTime": {
     "end_time": "2024-03-12T01:39:25.463070Z",
     "start_time": "2024-03-12T01:39:25.457417Z"
    }
   },
   "outputs": [
    {
     "data": {
      "text/plain": [
       "'h'"
      ]
     },
     "execution_count": 30,
     "metadata": {},
     "output_type": "execute_result"
    }
   ],
   "source": [
    "min(\"python\")"
   ]
  },
  {
   "cell_type": "markdown",
   "id": "486ea4ad",
   "metadata": {},
   "source": [
    "***\n",
    "pow<br>pow(x, y)는 x를 y제곱한 결괏값을 리턴하는 함수"
   ]
  },
  {
   "cell_type": "code",
   "execution_count": 31,
   "id": "d408ae36",
   "metadata": {
    "ExecuteTime": {
     "end_time": "2024-03-12T01:40:29.991044Z",
     "start_time": "2024-03-12T01:40:29.985160Z"
    }
   },
   "outputs": [
    {
     "data": {
      "text/plain": [
       "16"
      ]
     },
     "execution_count": 31,
     "metadata": {},
     "output_type": "execute_result"
    }
   ],
   "source": [
    "pow(2, 4)"
   ]
  },
  {
   "cell_type": "code",
   "execution_count": 32,
   "id": "329ce402",
   "metadata": {
    "ExecuteTime": {
     "end_time": "2024-03-12T01:40:36.061372Z",
     "start_time": "2024-03-12T01:40:36.056196Z"
    }
   },
   "outputs": [
    {
     "data": {
      "text/plain": [
       "27"
      ]
     },
     "execution_count": 32,
     "metadata": {},
     "output_type": "execute_result"
    }
   ],
   "source": [
    "pow(3, 3)"
   ]
  },
  {
   "cell_type": "markdown",
   "id": "250489e4",
   "metadata": {},
   "source": [
    "***\n",
    "range<br>"
   ]
  },
  {
   "cell_type": "code",
   "execution_count": 33,
   "id": "858556f6",
   "metadata": {
    "ExecuteTime": {
     "end_time": "2024-03-12T01:41:14.419996Z",
     "start_time": "2024-03-12T01:41:14.414546Z"
    }
   },
   "outputs": [
    {
     "data": {
      "text/plain": [
       "[0, 1, 2, 3, 4]"
      ]
     },
     "execution_count": 33,
     "metadata": {},
     "output_type": "execute_result"
    }
   ],
   "source": [
    "list(range(5))"
   ]
  },
  {
   "cell_type": "code",
   "execution_count": 34,
   "id": "e7f3f986",
   "metadata": {
    "ExecuteTime": {
     "end_time": "2024-03-12T01:41:20.527613Z",
     "start_time": "2024-03-12T01:41:20.520808Z"
    }
   },
   "outputs": [
    {
     "data": {
      "text/plain": [
       "[5, 6, 7, 8, 9]"
      ]
     },
     "execution_count": 34,
     "metadata": {},
     "output_type": "execute_result"
    }
   ],
   "source": [
    "list(range(5, 10))"
   ]
  },
  {
   "cell_type": "code",
   "execution_count": 35,
   "id": "6c3dbcff",
   "metadata": {
    "ExecuteTime": {
     "end_time": "2024-03-12T01:41:47.720313Z",
     "start_time": "2024-03-12T01:41:47.715330Z"
    }
   },
   "outputs": [
    {
     "data": {
      "text/plain": [
       "[1, 3, 5, 7, 9]"
      ]
     },
     "execution_count": 35,
     "metadata": {},
     "output_type": "execute_result"
    }
   ],
   "source": [
    "list(range(1, 10, 2)) # 세 번째 인수는 숫자 사이의 거리"
   ]
  },
  {
   "cell_type": "markdown",
   "id": "d14595a2",
   "metadata": {},
   "source": [
    "***\n",
    "round<br> 숫자를 입력받아 반올림해 리턴"
   ]
  },
  {
   "cell_type": "code",
   "execution_count": 36,
   "id": "6b2c87ae",
   "metadata": {
    "ExecuteTime": {
     "end_time": "2024-03-12T01:42:37.400631Z",
     "start_time": "2024-03-12T01:42:37.395649Z"
    }
   },
   "outputs": [
    {
     "data": {
      "text/plain": [
       "5"
      ]
     },
     "execution_count": 36,
     "metadata": {},
     "output_type": "execute_result"
    }
   ],
   "source": [
    "round(4.6)"
   ]
  },
  {
   "cell_type": "code",
   "execution_count": 37,
   "id": "a3f95b42",
   "metadata": {
    "ExecuteTime": {
     "end_time": "2024-03-12T01:42:50.587849Z",
     "start_time": "2024-03-12T01:42:50.581899Z"
    }
   },
   "outputs": [
    {
     "data": {
      "text/plain": [
       "5.68"
      ]
     },
     "execution_count": 37,
     "metadata": {},
     "output_type": "execute_result"
    }
   ],
   "source": [
    "round(5.678, 2) # 자릿수 지정"
   ]
  },
  {
   "cell_type": "markdown",
   "id": "3ed3b5c4",
   "metadata": {},
   "source": [
    "***\n",
    "sorted<br>입력 데이터를 정렬한 후 그 결과를 리스트로 리턴"
   ]
  },
  {
   "cell_type": "code",
   "execution_count": 38,
   "id": "4c9c2c38",
   "metadata": {
    "ExecuteTime": {
     "end_time": "2024-03-12T01:44:16.089584Z",
     "start_time": "2024-03-12T01:44:16.083658Z"
    }
   },
   "outputs": [
    {
     "data": {
      "text/plain": [
       "[1, 2, 3]"
      ]
     },
     "execution_count": 38,
     "metadata": {},
     "output_type": "execute_result"
    }
   ],
   "source": [
    "sorted([3, 1, 2])"
   ]
  },
  {
   "cell_type": "code",
   "execution_count": 39,
   "id": "e9f88248",
   "metadata": {
    "ExecuteTime": {
     "end_time": "2024-03-12T01:44:20.887921Z",
     "start_time": "2024-03-12T01:44:20.881749Z"
    }
   },
   "outputs": [
    {
     "data": {
      "text/plain": [
       "['a', 'b', 'c']"
      ]
     },
     "execution_count": 39,
     "metadata": {},
     "output_type": "execute_result"
    }
   ],
   "source": [
    "sorted(['a', 'c', 'b'])"
   ]
  },
  {
   "cell_type": "code",
   "execution_count": 40,
   "id": "48192ecb",
   "metadata": {
    "ExecuteTime": {
     "end_time": "2024-03-12T01:44:30.720622Z",
     "start_time": "2024-03-12T01:44:30.716182Z"
    }
   },
   "outputs": [
    {
     "data": {
      "text/plain": [
       "['e', 'o', 'r', 'z']"
      ]
     },
     "execution_count": 40,
     "metadata": {},
     "output_type": "execute_result"
    }
   ],
   "source": [
    "sorted(\"zero\")"
   ]
  },
  {
   "cell_type": "code",
   "execution_count": 41,
   "id": "d990af77",
   "metadata": {
    "ExecuteTime": {
     "end_time": "2024-03-12T01:44:41.840890Z",
     "start_time": "2024-03-12T01:44:41.835629Z"
    }
   },
   "outputs": [
    {
     "data": {
      "text/plain": [
       "[1, 2, 3]"
      ]
     },
     "execution_count": 41,
     "metadata": {},
     "output_type": "execute_result"
    }
   ],
   "source": [
    "sorted((3, 2, 1))"
   ]
  },
  {
   "cell_type": "markdown",
   "id": "0d0d536e",
   "metadata": {},
   "source": [
    "***\n",
    "sum"
   ]
  },
  {
   "cell_type": "code",
   "execution_count": 42,
   "id": "37490dd9",
   "metadata": {
    "ExecuteTime": {
     "end_time": "2024-03-12T01:45:35.277116Z",
     "start_time": "2024-03-12T01:45:35.271478Z"
    }
   },
   "outputs": [
    {
     "data": {
      "text/plain": [
       "6"
      ]
     },
     "execution_count": 42,
     "metadata": {},
     "output_type": "execute_result"
    }
   ],
   "source": [
    "sum([1,2,3])"
   ]
  },
  {
   "cell_type": "markdown",
   "id": "897d4667",
   "metadata": {},
   "source": [
    "***\n",
    "ZIP ** 아주 중요!!!<br>\n",
    "동일한 개수로 이루어진 데이터들을 묶어서 리턴하는 함수"
   ]
  },
  {
   "cell_type": "code",
   "execution_count": 43,
   "id": "6101423f",
   "metadata": {
    "ExecuteTime": {
     "end_time": "2024-03-12T01:47:57.837489Z",
     "start_time": "2024-03-12T01:47:57.832506Z"
    }
   },
   "outputs": [
    {
     "data": {
      "text/plain": [
       "[(1, 4), (2, 5), (3, 6)]"
      ]
     },
     "execution_count": 43,
     "metadata": {},
     "output_type": "execute_result"
    }
   ],
   "source": [
    " list(zip([1, 2, 3], [4, 5, 6])) # 각 인덱스의 순서끼리 묶어서 튜플로 변환"
   ]
  },
  {
   "cell_type": "code",
   "execution_count": 44,
   "id": "63d4fff8",
   "metadata": {
    "ExecuteTime": {
     "end_time": "2024-03-12T01:48:33.201014Z",
     "start_time": "2024-03-12T01:48:33.194522Z"
    }
   },
   "outputs": [
    {
     "data": {
      "text/plain": [
       "[(1, 4, 7), (2, 5, 8), (3, 6, 9)]"
      ]
     },
     "execution_count": 44,
     "metadata": {},
     "output_type": "execute_result"
    }
   ],
   "source": [
    "list(zip([1, 2, 3], [4, 5, 6], [7, 8, 9]))"
   ]
  },
  {
   "cell_type": "code",
   "execution_count": 45,
   "id": "5a954839",
   "metadata": {
    "ExecuteTime": {
     "end_time": "2024-03-12T01:48:44.177016Z",
     "start_time": "2024-03-12T01:48:44.171063Z"
    }
   },
   "outputs": [
    {
     "data": {
      "text/plain": [
       "[('a', 'd'), ('b', 'e'), ('c', 'f')]"
      ]
     },
     "execution_count": 45,
     "metadata": {},
     "output_type": "execute_result"
    }
   ],
   "source": [
    "list(zip(\"abc\", \"def\"))"
   ]
  },
  {
   "cell_type": "markdown",
   "id": "4e56201b",
   "metadata": {},
   "source": [
    "# 라이브러리"
   ]
  },
  {
   "cell_type": "markdown",
   "id": "43e7eb78",
   "metadata": {},
   "source": [
    "## datetime.date\n",
    "\n",
    "datetime.date는 연, 월, 일로 날짜를 표현할 때 사용하는 함수"
   ]
  },
  {
   "cell_type": "code",
   "execution_count": 46,
   "id": "d7275f84",
   "metadata": {
    "ExecuteTime": {
     "end_time": "2024-03-12T02:11:01.653150Z",
     "start_time": "2024-03-12T02:11:01.649479Z"
    }
   },
   "outputs": [],
   "source": [
    "import datetime"
   ]
  },
  {
   "cell_type": "code",
   "execution_count": 47,
   "id": "f561b5d9",
   "metadata": {
    "ExecuteTime": {
     "end_time": "2024-03-12T02:11:14.027196Z",
     "start_time": "2024-03-12T02:11:14.022510Z"
    }
   },
   "outputs": [
    {
     "data": {
      "text/plain": [
       "datetime.date(2021, 12, 14)"
      ]
     },
     "execution_count": 47,
     "metadata": {},
     "output_type": "execute_result"
    }
   ],
   "source": [
    "day1 = datetime.date(2021, 12, 14)\n",
    "day1"
   ]
  },
  {
   "cell_type": "code",
   "execution_count": 49,
   "id": "cebaf1bb",
   "metadata": {
    "ExecuteTime": {
     "end_time": "2024-03-12T02:11:59.252231Z",
     "start_time": "2024-03-12T02:11:59.246251Z"
    }
   },
   "outputs": [
    {
     "data": {
      "text/plain": [
       "datetime.date(2024, 1, 22)"
      ]
     },
     "execution_count": 49,
     "metadata": {},
     "output_type": "execute_result"
    }
   ],
   "source": [
    "day2 = datetime.date(2024,1,22)\n",
    "day2"
   ]
  },
  {
   "cell_type": "code",
   "execution_count": 50,
   "id": "a6ebff34",
   "metadata": {
    "ExecuteTime": {
     "end_time": "2024-03-12T02:12:23.835616Z",
     "start_time": "2024-03-12T02:12:23.830059Z"
    }
   },
   "outputs": [
    {
     "data": {
      "text/plain": [
       "769"
      ]
     },
     "execution_count": 50,
     "metadata": {},
     "output_type": "execute_result"
    }
   ],
   "source": [
    "diff = day2 - day1\n",
    "diff.days # 객체변수"
   ]
  },
  {
   "cell_type": "code",
   "execution_count": 51,
   "id": "5ddc1134",
   "metadata": {
    "ExecuteTime": {
     "end_time": "2024-03-12T02:13:57.640689Z",
     "start_time": "2024-03-12T02:13:57.634710Z"
    }
   },
   "outputs": [
    {
     "data": {
      "text/plain": [
       "0"
      ]
     },
     "execution_count": 51,
     "metadata": {},
     "output_type": "execute_result"
    }
   ],
   "source": [
    "# 요일 구하기\n",
    "day = datetime.date(2024,1,22)\n",
    "day.weekday() # 함수(메서드)"
   ]
  },
  {
   "cell_type": "markdown",
   "id": "196c875f",
   "metadata": {},
   "source": [
    "```\n",
    "0은 월요일을 의미하며 순서대로 1은 화요일, 2는 수요일, …, 6은 일요일이 된다.\n",
    "```"
   ]
  },
  {
   "cell_type": "code",
   "execution_count": 52,
   "id": "8cd3e4f3",
   "metadata": {
    "ExecuteTime": {
     "end_time": "2024-03-12T02:14:40.988930Z",
     "start_time": "2024-03-12T02:14:40.983873Z"
    }
   },
   "outputs": [
    {
     "data": {
      "text/plain": [
       "1"
      ]
     },
     "execution_count": 52,
     "metadata": {},
     "output_type": "execute_result"
    }
   ],
   "source": [
    "day.isoweekday()"
   ]
  },
  {
   "cell_type": "markdown",
   "id": "1806cfcd",
   "metadata": {},
   "source": [
    "```\n",
    "월요일은 1, 화요일은 2, …, 일요일은 7을 리턴 => iso\n",
    "```"
   ]
  },
  {
   "cell_type": "markdown",
   "id": "a910f2bf",
   "metadata": {},
   "source": [
    "## time"
   ]
  },
  {
   "cell_type": "code",
   "execution_count": 54,
   "id": "0427c1c4",
   "metadata": {
    "ExecuteTime": {
     "end_time": "2024-03-12T02:16:16.192237Z",
     "start_time": "2024-03-12T02:16:16.187463Z"
    }
   },
   "outputs": [
    {
     "data": {
      "text/plain": [
       "1710209776.1884592"
      ]
     },
     "execution_count": 54,
     "metadata": {},
     "output_type": "execute_result"
    }
   ],
   "source": [
    "import time\n",
    "time.time()"
   ]
  },
  {
   "cell_type": "markdown",
   "id": "e70afad5",
   "metadata": {},
   "source": [
    "위 숫자를 아래 형태로 다시 날짜로 계산한다!"
   ]
  },
  {
   "cell_type": "code",
   "execution_count": 55,
   "id": "f320736e",
   "metadata": {
    "ExecuteTime": {
     "end_time": "2024-03-12T02:17:17.466974Z",
     "start_time": "2024-03-12T02:17:17.460995Z"
    }
   },
   "outputs": [
    {
     "data": {
      "text/plain": [
       "time.struct_time(tm_year=2024, tm_mon=3, tm_mday=12, tm_hour=11, tm_min=17, tm_sec=17, tm_wday=1, tm_yday=72, tm_isdst=0)"
      ]
     },
     "execution_count": 55,
     "metadata": {},
     "output_type": "execute_result"
    }
   ],
   "source": [
    "time.localtime(time.time())"
   ]
  },
  {
   "cell_type": "code",
   "execution_count": 59,
   "id": "e022c19d",
   "metadata": {
    "ExecuteTime": {
     "end_time": "2024-03-12T02:18:58.763316Z",
     "start_time": "2024-03-12T02:18:58.757997Z"
    }
   },
   "outputs": [
    {
     "data": {
      "text/plain": [
       "'Tue Mar 12 11:18:58 2024'"
      ]
     },
     "execution_count": 59,
     "metadata": {},
     "output_type": "execute_result"
    }
   ],
   "source": [
    "time.asctime(time.localtime(time.time()))"
   ]
  },
  {
   "cell_type": "code",
   "execution_count": 60,
   "id": "6e8f51ef",
   "metadata": {
    "ExecuteTime": {
     "end_time": "2024-03-12T02:19:12.917527Z",
     "start_time": "2024-03-12T02:19:12.912379Z"
    }
   },
   "outputs": [
    {
     "data": {
      "text/plain": [
       "'Tue Mar 12 11:19:12 2024'"
      ]
     },
     "execution_count": 60,
     "metadata": {},
     "output_type": "execute_result"
    }
   ],
   "source": [
    "time.ctime()"
   ]
  },
  {
   "cell_type": "code",
   "execution_count": 61,
   "id": "77bba5cb",
   "metadata": {
    "ExecuteTime": {
     "end_time": "2024-03-12T02:21:01.169504Z",
     "start_time": "2024-03-12T02:21:01.163540Z"
    }
   },
   "outputs": [
    {
     "data": {
      "text/plain": [
       "'03/12/24'"
      ]
     },
     "execution_count": 61,
     "metadata": {},
     "output_type": "execute_result"
    }
   ],
   "source": [
    "import time\n",
    "time.strftime('%x', time.localtime(time.time()))"
   ]
  },
  {
   "cell_type": "markdown",
   "id": "b7f10460",
   "metadata": {},
   "source": [
    "time.sleep"
   ]
  },
  {
   "cell_type": "code",
   "execution_count": 62,
   "id": "2e4c1916",
   "metadata": {
    "ExecuteTime": {
     "end_time": "2024-03-12T02:23:58.879327Z",
     "start_time": "2024-03-12T02:23:48.870462Z"
    }
   },
   "outputs": [
    {
     "name": "stdout",
     "output_type": "stream",
     "text": [
      "0\n",
      "1\n",
      "2\n",
      "3\n",
      "4\n",
      "5\n",
      "6\n",
      "7\n",
      "8\n",
      "9\n"
     ]
    }
   ],
   "source": [
    "# sleep1.py\n",
    "import time\n",
    "for i in range(10):\n",
    "    print(i)\n",
    "    time.sleep(1)"
   ]
  },
  {
   "cell_type": "markdown",
   "id": "7419c703",
   "metadata": {},
   "source": [
    "## random\n",
    "random은 난수(규칙이 없는 임의의 수)를 발생시키는 모듈이다.<br>random과 randint 함수에 대해 알아보자."
   ]
  },
  {
   "cell_type": "code",
   "execution_count": 63,
   "id": "53ec6ae4",
   "metadata": {
    "ExecuteTime": {
     "end_time": "2024-03-12T02:29:51.057930Z",
     "start_time": "2024-03-12T02:29:51.053614Z"
    }
   },
   "outputs": [
    {
     "data": {
      "text/plain": [
       "0.5897289757507234"
      ]
     },
     "execution_count": 63,
     "metadata": {},
     "output_type": "execute_result"
    }
   ],
   "source": [
    "import random\n",
    "random.random()"
   ]
  },
  {
   "cell_type": "code",
   "execution_count": 64,
   "id": "e82387b6",
   "metadata": {
    "ExecuteTime": {
     "end_time": "2024-03-12T02:30:02.443903Z",
     "start_time": "2024-03-12T02:30:02.438463Z"
    }
   },
   "outputs": [
    {
     "data": {
      "text/plain": [
       "8"
      ]
     },
     "execution_count": 64,
     "metadata": {},
     "output_type": "execute_result"
    }
   ],
   "source": [
    "random.randint(1, 10)"
   ]
  },
  {
   "cell_type": "code",
   "execution_count": 66,
   "id": "c1a10aec",
   "metadata": {
    "ExecuteTime": {
     "end_time": "2024-03-12T02:33:01.041406Z",
     "start_time": "2024-03-12T02:33:01.034918Z"
    }
   },
   "outputs": [
    {
     "data": {
      "text/plain": [
       "[2, 3, 5, 4, 1]"
      ]
     },
     "execution_count": 66,
     "metadata": {},
     "output_type": "execute_result"
    }
   ],
   "source": [
    "# random.sample()\n",
    "data = [1, 2, 3, 4, 5]\n",
    "random.sample(data, len(data))"
   ]
  },
  {
   "cell_type": "markdown",
   "id": "4625954f",
   "metadata": {},
   "source": [
    "## glob\n",
    "파일을 읽고 쓰는 기능이 있는 프로그램을 만들다 보면 특정 디렉터리에 있는 파일 이름 모두를 알아야 할 때 시용"
   ]
  },
  {
   "cell_type": "code",
   "execution_count": 67,
   "id": "a889fd81",
   "metadata": {
    "ExecuteTime": {
     "end_time": "2024-03-12T02:36:17.519954Z",
     "start_time": "2024-03-12T02:36:17.514147Z"
    }
   },
   "outputs": [
    {
     "data": {
      "text/plain": [
       "'C:\\\\Workspace_EST\\\\WASSUP2\\\\wassup2\\\\python_grammer'"
      ]
     },
     "execution_count": 67,
     "metadata": {},
     "output_type": "execute_result"
    }
   ],
   "source": [
    "pwd"
   ]
  },
  {
   "cell_type": "code",
   "execution_count": 68,
   "id": "25f53b4d",
   "metadata": {
    "ExecuteTime": {
     "end_time": "2024-03-12T02:37:02.759118Z",
     "start_time": "2024-03-12T02:37:02.756734Z"
    }
   },
   "outputs": [],
   "source": [
    "import glob"
   ]
  },
  {
   "cell_type": "code",
   "execution_count": 73,
   "id": "d3c7dc59",
   "metadata": {
    "ExecuteTime": {
     "end_time": "2024-03-12T02:38:39.475745Z",
     "start_time": "2024-03-12T02:38:39.469776Z"
    }
   },
   "outputs": [
    {
     "data": {
      "text/plain": [
       "['C:\\\\Workspace_EST\\\\WASSUP2\\\\wassup2\\\\python_grammer\\\\00_마크다운.ipynb',\n",
       " 'C:\\\\Workspace_EST\\\\WASSUP2\\\\wassup2\\\\python_grammer\\\\01_자료형&변수.ipynb',\n",
       " 'C:\\\\Workspace_EST\\\\WASSUP2\\\\wassup2\\\\python_grammer\\\\01_자료형&변수_연습문제_실습용.ipynb',\n",
       " 'C:\\\\Workspace_EST\\\\WASSUP2\\\\wassup2\\\\python_grammer\\\\01_자료형&변수_연습문제_정답.ipynb',\n",
       " 'C:\\\\Workspace_EST\\\\WASSUP2\\\\wassup2\\\\python_grammer\\\\02_제어문(if_while_for).ipynb',\n",
       " 'C:\\\\Workspace_EST\\\\WASSUP2\\\\wassup2\\\\python_grammer\\\\02_제어문_연습문제_실습용.ipynb',\n",
       " 'C:\\\\Workspace_EST\\\\WASSUP2\\\\wassup2\\\\python_grammer\\\\03_코딩연습_전화번호프로그램_실습용.ipynb',\n",
       " 'C:\\\\Workspace_EST\\\\WASSUP2\\\\wassup2\\\\python_grammer\\\\04_함수&입출력.ipynb',\n",
       " 'C:\\\\Workspace_EST\\\\WASSUP2\\\\wassup2\\\\python_grammer\\\\04_함수&입출력_연습문제_실습용.ipynb',\n",
       " 'C:\\\\Workspace_EST\\\\WASSUP2\\\\wassup2\\\\python_grammer\\\\04_함수&입출력_연습문제_정답.ipynb',\n",
       " 'C:\\\\Workspace_EST\\\\WASSUP2\\\\wassup2\\\\python_grammer\\\\05_클래스&내장함수_연습문제_실습용.ipynb',\n",
       " 'C:\\\\Workspace_EST\\\\WASSUP2\\\\wassup2\\\\python_grammer\\\\05_클래스&내장함수_연습문제_정답.ipynb',\n",
       " 'C:\\\\Workspace_EST\\\\WASSUP2\\\\wassup2\\\\python_grammer\\\\05_클래스.ipynb',\n",
       " 'C:\\\\Workspace_EST\\\\WASSUP2\\\\wassup2\\\\python_grammer\\\\06_내장함수&라이브러리.ipynb',\n",
       " 'C:\\\\Workspace_EST\\\\WASSUP2\\\\wassup2\\\\python_grammer\\\\Test.ipynb',\n",
       " 'C:\\\\Workspace_EST\\\\WASSUP2\\\\wassup2\\\\python_grammer\\\\초보자를 위한 파이썬 300제.ipynb']"
      ]
     },
     "execution_count": 73,
     "metadata": {},
     "output_type": "execute_result"
    }
   ],
   "source": [
    "glob.glob('C:\\\\Workspace_EST\\\\WASSUP2\\\\wassup2\\\\python_grammer\\*.ipynb')"
   ]
  },
  {
   "cell_type": "code",
   "execution_count": null,
   "id": "91ebf77a",
   "metadata": {},
   "outputs": [],
   "source": []
  },
  {
   "cell_type": "code",
   "execution_count": null,
   "id": "d5046ba4",
   "metadata": {},
   "outputs": [],
   "source": []
  },
  {
   "cell_type": "code",
   "execution_count": null,
   "id": "95d5e7a5",
   "metadata": {},
   "outputs": [],
   "source": []
  },
  {
   "cell_type": "code",
   "execution_count": null,
   "id": "73df77da",
   "metadata": {},
   "outputs": [],
   "source": []
  },
  {
   "cell_type": "code",
   "execution_count": null,
   "id": "7efdfff5",
   "metadata": {},
   "outputs": [],
   "source": []
  },
  {
   "cell_type": "code",
   "execution_count": null,
   "id": "cec14e20",
   "metadata": {},
   "outputs": [],
   "source": []
  },
  {
   "cell_type": "code",
   "execution_count": null,
   "id": "3d649b23",
   "metadata": {},
   "outputs": [],
   "source": []
  },
  {
   "cell_type": "code",
   "execution_count": null,
   "id": "95670952",
   "metadata": {},
   "outputs": [],
   "source": []
  },
  {
   "cell_type": "code",
   "execution_count": null,
   "id": "e86f42de",
   "metadata": {},
   "outputs": [],
   "source": []
  },
  {
   "cell_type": "code",
   "execution_count": null,
   "id": "d794d175",
   "metadata": {},
   "outputs": [],
   "source": []
  },
  {
   "cell_type": "code",
   "execution_count": null,
   "id": "16634ba3",
   "metadata": {},
   "outputs": [],
   "source": []
  },
  {
   "cell_type": "code",
   "execution_count": null,
   "id": "91547de5",
   "metadata": {},
   "outputs": [],
   "source": []
  },
  {
   "cell_type": "code",
   "execution_count": null,
   "id": "1fdce5c4",
   "metadata": {},
   "outputs": [],
   "source": []
  },
  {
   "cell_type": "code",
   "execution_count": null,
   "id": "2857b6ee",
   "metadata": {},
   "outputs": [],
   "source": []
  },
  {
   "cell_type": "code",
   "execution_count": null,
   "id": "e708bce4",
   "metadata": {},
   "outputs": [],
   "source": []
  },
  {
   "cell_type": "code",
   "execution_count": null,
   "id": "e8615de8",
   "metadata": {},
   "outputs": [],
   "source": []
  },
  {
   "cell_type": "code",
   "execution_count": null,
   "id": "55f6676a",
   "metadata": {},
   "outputs": [],
   "source": []
  },
  {
   "cell_type": "code",
   "execution_count": null,
   "id": "6723e485",
   "metadata": {},
   "outputs": [],
   "source": []
  },
  {
   "cell_type": "code",
   "execution_count": null,
   "id": "6c116560",
   "metadata": {},
   "outputs": [],
   "source": []
  },
  {
   "cell_type": "code",
   "execution_count": null,
   "id": "bd20bbc3",
   "metadata": {},
   "outputs": [],
   "source": []
  },
  {
   "cell_type": "code",
   "execution_count": null,
   "id": "aaf438b4",
   "metadata": {},
   "outputs": [],
   "source": []
  },
  {
   "cell_type": "code",
   "execution_count": null,
   "id": "6d6cbfe3",
   "metadata": {},
   "outputs": [],
   "source": []
  }
 ],
 "metadata": {
  "kernelspec": {
   "display_name": "Python 3 (ipykernel)",
   "language": "python",
   "name": "python3"
  },
  "language_info": {
   "codemirror_mode": {
    "name": "ipython",
    "version": 3
   },
   "file_extension": ".py",
   "mimetype": "text/x-python",
   "name": "python",
   "nbconvert_exporter": "python",
   "pygments_lexer": "ipython3",
   "version": "3.11.5"
  },
  "toc": {
   "base_numbering": 1,
   "nav_menu": {},
   "number_sections": true,
   "sideBar": true,
   "skip_h1_title": false,
   "title_cell": "Table of Contents",
   "title_sidebar": "Contents",
   "toc_cell": false,
   "toc_position": {},
   "toc_section_display": true,
   "toc_window_display": false
  },
  "varInspector": {
   "cols": {
    "lenName": 16,
    "lenType": 16,
    "lenVar": 40
   },
   "kernels_config": {
    "python": {
     "delete_cmd_postfix": "",
     "delete_cmd_prefix": "del ",
     "library": "var_list.py",
     "varRefreshCmd": "print(var_dic_list())"
    },
    "r": {
     "delete_cmd_postfix": ") ",
     "delete_cmd_prefix": "rm(",
     "library": "var_list.r",
     "varRefreshCmd": "cat(var_dic_list()) "
    }
   },
   "types_to_exclude": [
    "module",
    "function",
    "builtin_function_or_method",
    "instance",
    "_Feature"
   ],
   "window_display": false
  }
 },
 "nbformat": 4,
 "nbformat_minor": 5
}
