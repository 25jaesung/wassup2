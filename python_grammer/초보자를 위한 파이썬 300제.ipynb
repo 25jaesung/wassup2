{
 "cells": [
  {
   "cell_type": "markdown",
   "id": "3c677279",
   "metadata": {},
   "source": [
    "### 파이썬 시작하기(1~10)"
   ]
  },
  {
   "cell_type": "code",
   "execution_count": null,
   "id": "944e0a52",
   "metadata": {
    "scrolled": true
   },
   "outputs": [],
   "source": []
  },
  {
   "cell_type": "markdown",
   "id": "858f09e0",
   "metadata": {},
   "source": [
    "### 파이썬 변수(11~20)"
   ]
  },
  {
   "cell_type": "code",
   "execution_count": null,
   "id": "8176f47c",
   "metadata": {
    "scrolled": true
   },
   "outputs": [],
   "source": []
  },
  {
   "cell_type": "markdown",
   "id": "95638f18",
   "metadata": {},
   "source": [
    "### 파이썬 문자열(21~50)"
   ]
  },
  {
   "cell_type": "code",
   "execution_count": null,
   "id": "04c78d9f",
   "metadata": {
    "scrolled": true
   },
   "outputs": [],
   "source": []
  },
  {
   "cell_type": "markdown",
   "id": "f17a33de",
   "metadata": {},
   "source": [
    "### 파이썬 리스트(51~70)"
   ]
  },
  {
   "cell_type": "code",
   "execution_count": null,
   "id": "06994b2f",
   "metadata": {
    "ExecuteTime": {
     "start_time": "2024-03-05T18:14:54.148Z"
    },
    "collapsed": true
   },
   "outputs": [],
   "source": [
    "# 51\n",
    "movie_rank = [\"닥터 스트레인지\", \"스플릿\", \"럭키\"]\n",
    "movie_rank"
   ]
  },
  {
   "cell_type": "code",
   "execution_count": null,
   "id": "06251773",
   "metadata": {
    "ExecuteTime": {
     "start_time": "2024-03-05T18:14:59.163Z"
    },
    "collapsed": true
   },
   "outputs": [],
   "source": [
    "# 52\n",
    "movie_rank.append(\"배트맨\")\n",
    "movie_rank"
   ]
  },
  {
   "cell_type": "code",
   "execution_count": 25,
   "id": "f480a055",
   "metadata": {
    "ExecuteTime": {
     "end_time": "2024-03-05T17:13:56.616461Z",
     "start_time": "2024-03-05T17:13:56.613168Z"
    },
    "collapsed": true
   },
   "outputs": [
    {
     "data": {
      "text/plain": [
       "['닥터 스트레인지', '스플릿', '럭키', '배트맨']"
      ]
     },
     "execution_count": 25,
     "metadata": {},
     "output_type": "execute_result"
    }
   ],
   "source": [
    "del movie_rank[4:]\n",
    "movie_rank"
   ]
  },
  {
   "cell_type": "code",
   "execution_count": 26,
   "id": "fe24663f",
   "metadata": {
    "ExecuteTime": {
     "end_time": "2024-03-05T17:13:56.623306Z",
     "start_time": "2024-03-05T17:13:56.618493Z"
    },
    "scrolled": true
   },
   "outputs": [
    {
     "data": {
      "text/plain": [
       "['닥터 스트레인지', '슈퍼맨', '스플릿', '럭키', '배트맨']"
      ]
     },
     "execution_count": 26,
     "metadata": {},
     "output_type": "execute_result"
    }
   ],
   "source": [
    "# 53\n",
    "movie_rank = ['닥터 스트레인지', '스플릿', '럭키', '배트맨']\n",
    "movie_rank.insert(1, \"슈퍼맨\")\n",
    "movie_rank"
   ]
  },
  {
   "cell_type": "code",
   "execution_count": 27,
   "id": "47f5bb83",
   "metadata": {
    "ExecuteTime": {
     "end_time": "2024-03-05T17:13:56.628781Z",
     "start_time": "2024-03-05T17:13:56.624308Z"
    },
    "scrolled": true
   },
   "outputs": [
    {
     "data": {
      "text/plain": [
       "['닥터 스트레인지', '슈퍼맨', '스플릿', '배트맨']"
      ]
     },
     "execution_count": 27,
     "metadata": {},
     "output_type": "execute_result"
    }
   ],
   "source": [
    "# 54\n",
    "movie_rank = ['닥터 스트레인지', '슈퍼맨', '스플릿', '럭키', '배트맨']\n",
    "del movie_rank[3]\n",
    "movie_rank"
   ]
  },
  {
   "cell_type": "code",
   "execution_count": 28,
   "id": "bbd28221",
   "metadata": {
    "ExecuteTime": {
     "end_time": "2024-03-05T17:13:56.634661Z",
     "start_time": "2024-03-05T17:13:56.630370Z"
    },
    "scrolled": true
   },
   "outputs": [
    {
     "data": {
      "text/plain": [
       "['닥터 스트레인지', '슈퍼맨']"
      ]
     },
     "execution_count": 28,
     "metadata": {},
     "output_type": "execute_result"
    }
   ],
   "source": [
    "# 55\n",
    "movie_rank = ['닥터 스트레인지', '슈퍼맨', '스플릿', '배트맨']\n",
    "del movie_rank[2:]\n",
    "movie_rank"
   ]
  },
  {
   "cell_type": "code",
   "execution_count": 29,
   "id": "dbd2de46",
   "metadata": {
    "ExecuteTime": {
     "end_time": "2024-03-05T17:13:56.640168Z",
     "start_time": "2024-03-05T17:13:56.635662Z"
    },
    "scrolled": false
   },
   "outputs": [
    {
     "data": {
      "text/plain": [
       "['닥터 스트레인지', '슈퍼맨']"
      ]
     },
     "execution_count": 29,
     "metadata": {},
     "output_type": "execute_result"
    }
   ],
   "source": [
    "# 55 답안\n",
    "movie_rank = ['닥터 스트레인지', '슈퍼맨', '스플릿', '배트맨']\n",
    "del movie_rank[2]\n",
    "del movie_rank[2]\n",
    "movie_rank"
   ]
  },
  {
   "cell_type": "code",
   "execution_count": 30,
   "id": "42e714f6",
   "metadata": {
    "ExecuteTime": {
     "end_time": "2024-03-05T17:13:56.644916Z",
     "start_time": "2024-03-05T17:13:56.641683Z"
    },
    "scrolled": true
   },
   "outputs": [
    {
     "name": "stdout",
     "output_type": "stream",
     "text": [
      "['C', 'C++', 'JAVA', 'Python', 'Go', 'C#']\n"
     ]
    }
   ],
   "source": [
    "# 56\n",
    "lang1 = [\"C\", \"C++\", \"JAVA\"]\n",
    "lang2 = [\"Python\", \"Go\", \"C#\"]\n",
    "langs = lang1 + lang2\n",
    "print(langs)"
   ]
  },
  {
   "cell_type": "code",
   "execution_count": 31,
   "id": "6ff4cb5a",
   "metadata": {
    "ExecuteTime": {
     "end_time": "2024-03-05T17:13:56.649316Z",
     "start_time": "2024-03-05T17:13:56.645916Z"
    },
    "scrolled": true
   },
   "outputs": [
    {
     "name": "stdout",
     "output_type": "stream",
     "text": [
      "max:  7\n",
      "min:  1\n"
     ]
    }
   ],
   "source": [
    "# 57\n",
    "nums = [1, 2, 3, 4, 5, 6, 7]\n",
    "max(nums)\n",
    "min(nums)\n",
    "print(\"max: \", max(nums))\n",
    "print(\"min: \", min(nums))"
   ]
  },
  {
   "cell_type": "code",
   "execution_count": 32,
   "id": "8026653b",
   "metadata": {
    "ExecuteTime": {
     "end_time": "2024-03-05T17:13:56.656343Z",
     "start_time": "2024-03-05T17:13:56.652751Z"
    },
    "scrolled": true
   },
   "outputs": [
    {
     "name": "stdout",
     "output_type": "stream",
     "text": [
      "15\n"
     ]
    }
   ],
   "source": [
    "# 58\n",
    "nums = [1, 2, 3, 4, 5]\n",
    "print(sum(nums))"
   ]
  },
  {
   "cell_type": "code",
   "execution_count": 33,
   "id": "81221dde",
   "metadata": {
    "ExecuteTime": {
     "end_time": "2024-03-05T17:13:56.661067Z",
     "start_time": "2024-03-05T17:13:56.657343Z"
    },
    "scrolled": true
   },
   "outputs": [
    {
     "name": "stdout",
     "output_type": "stream",
     "text": [
      "12\n"
     ]
    }
   ],
   "source": [
    "# 59\n",
    "cook = [\"피자\", \"김밥\", \"만두\", \"양념치킨\", \"족발\", \"피자\", \"김치만두\", \"쫄면\", \"소시지\", \"라면\", \"팥빙수\", \"김치전\"]\n",
    "print(len(cook))"
   ]
  },
  {
   "cell_type": "code",
   "execution_count": 34,
   "id": "6ea13248",
   "metadata": {
    "ExecuteTime": {
     "end_time": "2024-03-05T17:13:56.666030Z",
     "start_time": "2024-03-05T17:13:56.662738Z"
    },
    "code_folding": [],
    "scrolled": true
   },
   "outputs": [
    {
     "name": "stdout",
     "output_type": "stream",
     "text": [
      "3.0\n"
     ]
    }
   ],
   "source": [
    "# 60\n",
    "nums = [1, 2, 3, 4, 5]\n",
    "aver = sum(nums) / len(nums)\n",
    "print(aver)"
   ]
  },
  {
   "cell_type": "code",
   "execution_count": 35,
   "id": "a899d169",
   "metadata": {
    "ExecuteTime": {
     "end_time": "2024-03-05T17:13:56.670703Z",
     "start_time": "2024-03-05T17:13:56.667622Z"
    },
    "code_folding": [],
    "scrolled": true
   },
   "outputs": [
    {
     "name": "stdout",
     "output_type": "stream",
     "text": [
      "[100, 130, 140, 150, 160, 170]\n"
     ]
    }
   ],
   "source": [
    "# 61\n",
    "price = ['20180728', 100, 130, 140, 150, 160, 170]\n",
    "print(price[1:])"
   ]
  },
  {
   "cell_type": "code",
   "execution_count": 36,
   "id": "a9b6f414",
   "metadata": {
    "ExecuteTime": {
     "end_time": "2024-03-05T17:13:56.675886Z",
     "start_time": "2024-03-05T17:13:56.672567Z"
    },
    "collapsed": true
   },
   "outputs": [
    {
     "name": "stdout",
     "output_type": "stream",
     "text": [
      "[1, 3, 5, 7, 9]\n"
     ]
    }
   ],
   "source": [
    "# 62\n",
    "nums = [1, 2, 3, 4, 5, 6, 7, 8, 9, 10]\n",
    "print(nums[0::2])"
   ]
  },
  {
   "cell_type": "code",
   "execution_count": 37,
   "id": "5b619384",
   "metadata": {
    "ExecuteTime": {
     "end_time": "2024-03-05T17:13:56.680728Z",
     "start_time": "2024-03-05T17:13:56.676886Z"
    },
    "collapsed": true
   },
   "outputs": [
    {
     "name": "stdout",
     "output_type": "stream",
     "text": [
      "[2, 4, 6, 8, 10]\n"
     ]
    }
   ],
   "source": [
    "# 63\n",
    "nums = [1, 2, 3, 4, 5, 6, 7, 8, 9, 10]\n",
    "print(nums[1::2])"
   ]
  },
  {
   "cell_type": "markdown",
   "id": "b634ff6a",
   "metadata": {},
   "source": [
    "```\n",
    "슬라이싱 [::] 에서 첫 번쨰 인자는 index의 시작 점, 두 번째는 끝점, 마지막은 index의 간격!\n",
    "```"
   ]
  },
  {
   "cell_type": "code",
   "execution_count": 38,
   "id": "4680f2f7",
   "metadata": {
    "ExecuteTime": {
     "end_time": "2024-03-05T17:13:56.686306Z",
     "start_time": "2024-03-05T17:13:56.682760Z"
    },
    "code_folding": [],
    "scrolled": true
   },
   "outputs": [
    {
     "name": "stdout",
     "output_type": "stream",
     "text": [
      "[5, 4, 3, 2, 1]\n"
     ]
    }
   ],
   "source": [
    "# 64\n",
    "nums = [1, 2, 3, 4, 5]\n",
    "print(nums[::-1])"
   ]
  },
  {
   "cell_type": "markdown",
   "id": "9d104515",
   "metadata": {},
   "source": [
    "```\n",
    "stride(마지막칸)를 음의 값으로 하면 리스트가 역방향으로 슬라이싱된다!\n",
    "```"
   ]
  },
  {
   "cell_type": "code",
   "execution_count": 39,
   "id": "c1f205ca",
   "metadata": {
    "ExecuteTime": {
     "end_time": "2024-03-05T17:13:56.691278Z",
     "start_time": "2024-03-05T17:13:56.687308Z"
    },
    "scrolled": true
   },
   "outputs": [
    {
     "name": "stdout",
     "output_type": "stream",
     "text": [
      "삼성전자 Naver\n"
     ]
    }
   ],
   "source": [
    "# 65\n",
    "interest = ['삼성전자', 'LG전자', 'Naver']\n",
    "print(interest[0], interest[2])"
   ]
  },
  {
   "cell_type": "code",
   "execution_count": 40,
   "id": "71a7de85",
   "metadata": {
    "ExecuteTime": {
     "end_time": "2024-03-05T17:13:56.696379Z",
     "start_time": "2024-03-05T17:13:56.692925Z"
    },
    "scrolled": true
   },
   "outputs": [
    {
     "name": "stdout",
     "output_type": "stream",
     "text": [
      "삼성전자 LG전자 Naver SK하이닉스 미래에셋대우\n"
     ]
    }
   ],
   "source": [
    "# 66\n",
    "interest = ['삼성전자', 'LG전자', 'Naver', 'SK하이닉스', '미래에셋대우']\n",
    "print(\" \".join(interest))"
   ]
  },
  {
   "cell_type": "code",
   "execution_count": 41,
   "id": "1f61459a",
   "metadata": {
    "ExecuteTime": {
     "end_time": "2024-03-05T17:13:56.701132Z",
     "start_time": "2024-03-05T17:13:56.697380Z"
    },
    "scrolled": true
   },
   "outputs": [
    {
     "name": "stdout",
     "output_type": "stream",
     "text": [
      "삼성전자/LG전자/Naver/SK하이닉스/미래에셋대우\n"
     ]
    }
   ],
   "source": [
    "# 67\n",
    "interest = ['삼성전자', 'LG전자', 'Naver', 'SK하이닉스', '미래에셋대우']\n",
    "print(\"/\".join(interest))"
   ]
  },
  {
   "cell_type": "code",
   "execution_count": 42,
   "id": "ab67d73d",
   "metadata": {
    "ExecuteTime": {
     "end_time": "2024-03-05T17:13:56.705730Z",
     "start_time": "2024-03-05T17:13:56.702132Z"
    },
    "scrolled": true
   },
   "outputs": [
    {
     "name": "stdout",
     "output_type": "stream",
     "text": [
      "삼성전자\n",
      "LG전자\n",
      "Naver\n",
      "SK하이닉스\n",
      "미래에셋대우\n"
     ]
    }
   ],
   "source": [
    "# 68\n",
    "interest = ['삼성전자', 'LG전자', 'Naver', 'SK하이닉스', '미래에셋대우']\n",
    "print(\"\\n\".join(interest))"
   ]
  },
  {
   "cell_type": "code",
   "execution_count": 43,
   "id": "1ed4f25b",
   "metadata": {
    "ExecuteTime": {
     "end_time": "2024-03-05T17:13:56.709895Z",
     "start_time": "2024-03-05T17:13:56.706730Z"
    },
    "scrolled": true
   },
   "outputs": [
    {
     "name": "stdout",
     "output_type": "stream",
     "text": [
      "['삼성전자', 'LG전자', 'Naver']\n"
     ]
    }
   ],
   "source": [
    "# 69\n",
    "string = \"삼성전자/LG전자/Naver\"\n",
    "interest = string.split('/')\n",
    "print(interest)"
   ]
  },
  {
   "cell_type": "code",
   "execution_count": 44,
   "id": "3059afeb",
   "metadata": {
    "ExecuteTime": {
     "end_time": "2024-03-05T17:13:56.715283Z",
     "start_time": "2024-03-05T17:13:56.711442Z"
    },
    "scrolled": true
   },
   "outputs": [
    {
     "name": "stdout",
     "output_type": "stream",
     "text": [
      "[1, 2, 3, 4, 5, 9, 10]\n"
     ]
    }
   ],
   "source": [
    "# 70\n",
    "data = [2, 4, 3, 1, 5, 10, 9]\n",
    "data.sort()\n",
    "print(data)"
   ]
  },
  {
   "cell_type": "markdown",
   "id": "a32193e9",
   "metadata": {},
   "source": [
    "### 파이썬 튜플(71~80)"
   ]
  },
  {
   "cell_type": "code",
   "execution_count": 45,
   "id": "3f81242b",
   "metadata": {
    "ExecuteTime": {
     "end_time": "2024-03-05T17:13:56.719314Z",
     "start_time": "2024-03-05T17:13:56.716283Z"
    },
    "scrolled": true
   },
   "outputs": [],
   "source": [
    "# 71\n",
    "my_variable = ()"
   ]
  },
  {
   "cell_type": "code",
   "execution_count": 46,
   "id": "4f0479d7",
   "metadata": {
    "ExecuteTime": {
     "end_time": "2024-03-05T17:13:56.724852Z",
     "start_time": "2024-03-05T17:13:56.720314Z"
    },
    "scrolled": true
   },
   "outputs": [
    {
     "data": {
      "text/plain": [
       "tuple"
      ]
     },
     "execution_count": 46,
     "metadata": {},
     "output_type": "execute_result"
    }
   ],
   "source": [
    "type(my_variable)"
   ]
  },
  {
   "cell_type": "code",
   "execution_count": 47,
   "id": "42edd100",
   "metadata": {
    "ExecuteTime": {
     "end_time": "2024-03-05T17:13:56.730211Z",
     "start_time": "2024-03-05T17:13:56.725852Z"
    },
    "scrolled": true
   },
   "outputs": [
    {
     "data": {
      "text/plain": [
       "tuple"
      ]
     },
     "execution_count": 47,
     "metadata": {},
     "output_type": "execute_result"
    }
   ],
   "source": [
    "# 72\n",
    "movie_rank = (\"닥터 스트레인지\", \"스플릿\", \"럭키\")\n",
    "type(movie_rank)"
   ]
  },
  {
   "cell_type": "code",
   "execution_count": 48,
   "id": "7aefac54",
   "metadata": {
    "ExecuteTime": {
     "end_time": "2024-03-05T17:13:56.735674Z",
     "start_time": "2024-03-05T17:13:56.731488Z"
    },
    "scrolled": true
   },
   "outputs": [
    {
     "data": {
      "text/plain": [
       "int"
      ]
     },
     "execution_count": 48,
     "metadata": {},
     "output_type": "execute_result"
    }
   ],
   "source": [
    "# 73\n",
    "Tuple = (1)\n",
    "type(Tuple)"
   ]
  },
  {
   "cell_type": "code",
   "execution_count": 49,
   "id": "ff55bb0d",
   "metadata": {
    "ExecuteTime": {
     "end_time": "2024-03-05T17:13:56.755843Z",
     "start_time": "2024-03-05T17:13:56.736673Z"
    },
    "scrolled": true
   },
   "outputs": [
    {
     "data": {
      "text/plain": [
       "tuple"
      ]
     },
     "execution_count": 49,
     "metadata": {},
     "output_type": "execute_result"
    }
   ],
   "source": [
    "Tuple = (1, )\n",
    "type(Tuple)"
   ]
  },
  {
   "cell_type": "markdown",
   "id": "8624c6b6",
   "metadata": {},
   "source": [
    "```\n",
    "하나의 데이터가 저장되는 경우, 위와 같이 쉼표를 입력해야 한다!\n",
    "```"
   ]
  },
  {
   "cell_type": "code",
   "execution_count": 50,
   "id": "8c89870f",
   "metadata": {
    "ExecuteTime": {
     "end_time": "2024-03-05T17:13:56.774612Z",
     "start_time": "2024-03-05T17:13:56.760410Z"
    },
    "scrolled": true
   },
   "outputs": [
    {
     "ename": "TypeError",
     "evalue": "'tuple' object does not support item assignment",
     "output_type": "error",
     "traceback": [
      "\u001b[1;31m---------------------------------------------------------------------------\u001b[0m",
      "\u001b[1;31mTypeError\u001b[0m                                 Traceback (most recent call last)",
      "Cell \u001b[1;32mIn[50], line 3\u001b[0m\n\u001b[0;32m      1\u001b[0m \u001b[38;5;66;03m# 74\u001b[39;00m\n\u001b[0;32m      2\u001b[0m t \u001b[38;5;241m=\u001b[39m (\u001b[38;5;241m1\u001b[39m, \u001b[38;5;241m2\u001b[39m, \u001b[38;5;241m3\u001b[39m)\n\u001b[1;32m----> 3\u001b[0m t[\u001b[38;5;241m0\u001b[39m] \u001b[38;5;241m=\u001b[39m \u001b[38;5;124m'\u001b[39m\u001b[38;5;124ma\u001b[39m\u001b[38;5;124m'\u001b[39m\n",
      "\u001b[1;31mTypeError\u001b[0m: 'tuple' object does not support item assignment"
     ]
    }
   ],
   "source": [
    "# 74\n",
    "t = (1, 2, 3)\n",
    "t[0] = 'a'"
   ]
  },
  {
   "cell_type": "markdown",
   "id": "f2875b81",
   "metadata": {},
   "source": [
    "```\n",
    "오류 발생 원인 : 튜플은 값을 변경, 삭제할 수 없다!!!\n",
    "```"
   ]
  },
  {
   "cell_type": "code",
   "execution_count": 51,
   "id": "d33eacd1",
   "metadata": {
    "ExecuteTime": {
     "end_time": "2024-03-05T17:14:19.110479Z",
     "start_time": "2024-03-05T17:14:19.106577Z"
    },
    "scrolled": true
   },
   "outputs": [
    {
     "data": {
      "text/plain": [
       "(1, 3)"
      ]
     },
     "execution_count": 51,
     "metadata": {},
     "output_type": "execute_result"
    }
   ],
   "source": [
    "t = (1, 2, 3)\n",
    "t[0], t[2]"
   ]
  },
  {
   "cell_type": "code",
   "execution_count": 52,
   "id": "a33c30bb",
   "metadata": {
    "ExecuteTime": {
     "end_time": "2024-03-05T17:14:24.133050Z",
     "start_time": "2024-03-05T17:14:24.129583Z"
    },
    "scrolled": true
   },
   "outputs": [],
   "source": [
    "# 75\n",
    "t = 1, 2, 3, 4\n",
    "# t가 바인딩하는 데이터 타입은 튜플형이다. 튜플은 괄호 생략이 가능하다."
   ]
  },
  {
   "cell_type": "code",
   "execution_count": 53,
   "id": "c45ea3e6",
   "metadata": {
    "ExecuteTime": {
     "end_time": "2024-03-05T17:14:25.834969Z",
     "start_time": "2024-03-05T17:14:25.831283Z"
    },
    "scrolled": true
   },
   "outputs": [],
   "source": [
    "# 76\n",
    "t = ('a', 'b', 'c')\n",
    "# 튜플은 수정이 불가능하다!!"
   ]
  },
  {
   "cell_type": "markdown",
   "id": "af0fc908",
   "metadata": {},
   "source": [
    "```\n",
    "방법 : 새로운 튜플을 만들고 t 라는 변수 업데이트. 기존의 튜플 ('a', 'b', 'c')은 자동 삭제.   \n",
    "```"
   ]
  },
  {
   "cell_type": "code",
   "execution_count": 54,
   "id": "36beca86",
   "metadata": {
    "ExecuteTime": {
     "end_time": "2024-03-05T17:14:29.635269Z",
     "start_time": "2024-03-05T17:14:29.630661Z"
    },
    "scrolled": true
   },
   "outputs": [
    {
     "data": {
      "text/plain": [
       "'A'"
      ]
     },
     "execution_count": 54,
     "metadata": {},
     "output_type": "execute_result"
    }
   ],
   "source": [
    "t = ('A', 'B', 'C')\n",
    "t[0]"
   ]
  },
  {
   "cell_type": "code",
   "execution_count": 55,
   "id": "bb89a514",
   "metadata": {
    "ExecuteTime": {
     "end_time": "2024-03-05T17:14:30.319345Z",
     "start_time": "2024-03-05T17:14:30.314801Z"
    },
    "scrolled": true
   },
   "outputs": [
    {
     "name": "stdout",
     "output_type": "stream",
     "text": [
      "['삼성전자', 'LG전자', 'SK Hynix']\n"
     ]
    }
   ],
   "source": [
    "# 77\n",
    "interest = ('삼성전자', 'LG전자', 'SK Hynix')\n",
    "Trans = list(interest)\n",
    "print(Trans)"
   ]
  },
  {
   "cell_type": "code",
   "execution_count": 56,
   "id": "f73b131a",
   "metadata": {
    "ExecuteTime": {
     "end_time": "2024-03-05T17:14:30.814766Z",
     "start_time": "2024-03-05T17:14:30.810782Z"
    },
    "scrolled": true
   },
   "outputs": [
    {
     "name": "stdout",
     "output_type": "stream",
     "text": [
      "('삼성전자', 'LG전자', 'SK Hynix')\n"
     ]
    }
   ],
   "source": [
    "# 78\n",
    "interest = ['삼성전자', 'LG전자', 'SK Hynix']\n",
    "Trans = tuple(interest)\n",
    "print(Trans)"
   ]
  },
  {
   "cell_type": "code",
   "execution_count": 57,
   "id": "ffc4e1f9",
   "metadata": {
    "ExecuteTime": {
     "end_time": "2024-03-05T17:14:31.673923Z",
     "start_time": "2024-03-05T17:14:31.669873Z"
    },
    "scrolled": true
   },
   "outputs": [
    {
     "name": "stdout",
     "output_type": "stream",
     "text": [
      "apple banana cake\n"
     ]
    }
   ],
   "source": [
    "# 79 튜플을 언패킹 하는 과정\n",
    "temp = ('apple', 'banana', 'cake')\n",
    "a, b, c = temp\n",
    "print(a, b, c)"
   ]
  },
  {
   "cell_type": "code",
   "execution_count": 58,
   "id": "b6f06ecf",
   "metadata": {
    "ExecuteTime": {
     "end_time": "2024-03-05T17:14:32.472800Z",
     "start_time": "2024-03-05T17:14:32.469042Z"
    },
    "scrolled": true
   },
   "outputs": [
    {
     "name": "stdout",
     "output_type": "stream",
     "text": [
      "(2, 4, 6, 8, 10, 12, 14, 16, 18, 20, 22, 24, 26, 28, 30, 32, 34, 36, 38, 40, 42, 44, 46, 48, 50, 52, 54, 56, 58, 60, 62, 64, 66, 68, 70, 72, 74, 76, 78, 80, 82, 84, 86, 88, 90, 92, 94, 96, 98)\n"
     ]
    }
   ],
   "source": [
    "# 80\n",
    "even_tuple = tuple(range(2,100,2))\n",
    "print(even_tuple)"
   ]
  },
  {
   "cell_type": "markdown",
   "id": "ed47a596",
   "metadata": {},
   "source": [
    "### 파이썬 딕셔너리(81~100)"
   ]
  },
  {
   "cell_type": "code",
   "execution_count": 59,
   "id": "cc1610b0",
   "metadata": {
    "ExecuteTime": {
     "end_time": "2024-03-05T17:14:35.460789Z",
     "start_time": "2024-03-05T17:14:35.456888Z"
    },
    "scrolled": true
   },
   "outputs": [
    {
     "name": "stdout",
     "output_type": "stream",
     "text": [
      "[8.8, 8.9, 8.7, 9.2, 9.3, 9.7, 9.9, 9.5]\n"
     ]
    }
   ],
   "source": [
    "# 81\n",
    "scores = [8.8, 8.9, 8.7, 9.2, 9.3, 9.7, 9.9, 9.5, 7.8, 9.4]\n",
    "*valid_score, a, b = scores\n",
    "print(valid_score)"
   ]
  },
  {
   "cell_type": "code",
   "execution_count": 60,
   "id": "2b554324",
   "metadata": {
    "ExecuteTime": {
     "end_time": "2024-03-05T17:14:35.736504Z",
     "start_time": "2024-03-05T17:14:35.731940Z"
    },
    "scrolled": true
   },
   "outputs": [
    {
     "name": "stdout",
     "output_type": "stream",
     "text": [
      "[8.7, 9.2, 9.3, 9.7, 9.9, 9.5, 7.8, 9.4]\n"
     ]
    }
   ],
   "source": [
    "# 82\n",
    "scores = [8.8, 8.9, 8.7, 9.2, 9.3, 9.7, 9.9, 9.5, 7.8, 9.4]\n",
    "a, b, *valid_score = scores\n",
    "print(valid_score)"
   ]
  },
  {
   "cell_type": "code",
   "execution_count": 61,
   "id": "7e6c0131",
   "metadata": {
    "ExecuteTime": {
     "end_time": "2024-03-05T17:14:35.921731Z",
     "start_time": "2024-03-05T17:14:35.918542Z"
    },
    "scrolled": true
   },
   "outputs": [
    {
     "name": "stdout",
     "output_type": "stream",
     "text": [
      "[8.9, 8.7, 9.2, 9.3, 9.7, 9.9, 9.5, 7.8]\n"
     ]
    }
   ],
   "source": [
    "# 823scores = [8.8, 8.9, 8.7, 9.2, 9.3, 9.7, 9.9, 9.5, 7.8, 9.4]\n",
    "a, *valid_score, b = scores\n",
    "print(valid_score)"
   ]
  },
  {
   "cell_type": "code",
   "execution_count": 62,
   "id": "601324b0",
   "metadata": {
    "ExecuteTime": {
     "end_time": "2024-03-05T17:14:36.106142Z",
     "start_time": "2024-03-05T17:14:36.103618Z"
    },
    "scrolled": true
   },
   "outputs": [],
   "source": [
    "# 84\n",
    "temp = {}"
   ]
  },
  {
   "cell_type": "code",
   "execution_count": 63,
   "id": "44f70efa",
   "metadata": {
    "ExecuteTime": {
     "end_time": "2024-03-05T17:14:37.261586Z",
     "start_time": "2024-03-05T17:14:37.257912Z"
    },
    "collapsed": true
   },
   "outputs": [
    {
     "name": "stdout",
     "output_type": "stream",
     "text": [
      "{'메로나': 1000, '폴라포': 1200, '빵빠레': 1800}\n"
     ]
    }
   ],
   "source": [
    "# 85\n",
    "ice_cream = {\"메로나\":1000, \"폴라포\":1200, \"빵빠레\":1800}\n",
    "print(ice_cream)"
   ]
  },
  {
   "cell_type": "code",
   "execution_count": 64,
   "id": "24ccf193",
   "metadata": {
    "ExecuteTime": {
     "end_time": "2024-03-05T17:14:37.584907Z",
     "start_time": "2024-03-05T17:14:37.580923Z"
    },
    "scrolled": true
   },
   "outputs": [
    {
     "name": "stdout",
     "output_type": "stream",
     "text": [
      "{'메로나': 1000, '폴라포': 1200, '빵빠레': 1800, '죠스바': 1200, '월드콘': 1500}\n"
     ]
    }
   ],
   "source": [
    "# 86\n",
    "ice_cream = {\"메로나\":1000, \"폴라포\":1200, \"빵빠레\":1800}\n",
    "ice_cream[\"죠스바\"] = 1200\n",
    "ice_cream[\"월드콘\"] = 1500\n",
    "print(ice_cream)"
   ]
  },
  {
   "cell_type": "code",
   "execution_count": 65,
   "id": "9f0eb5a5",
   "metadata": {
    "ExecuteTime": {
     "end_time": "2024-03-05T17:14:38.370256Z",
     "start_time": "2024-03-05T17:14:38.365465Z"
    },
    "scrolled": true
   },
   "outputs": [
    {
     "name": "stdout",
     "output_type": "stream",
     "text": [
      "메로나 가격:  1000\n"
     ]
    }
   ],
   "source": [
    "# 87\n",
    "ice = {'메로나': 1000, '폴로포': 1200,'빵빠레': 1800,'죠스바': 1200,'월드콘': 1500}\n",
    "print(\"메로나 가격: \" , ice[\"메로나\"]) # 띄어쓰기 주의"
   ]
  },
  {
   "cell_type": "code",
   "execution_count": 67,
   "id": "4cec729d",
   "metadata": {
    "ExecuteTime": {
     "end_time": "2024-03-05T17:14:41.149846Z",
     "start_time": "2024-03-05T17:14:41.145811Z"
    },
    "scrolled": true
   },
   "outputs": [
    {
     "name": "stdout",
     "output_type": "stream",
     "text": [
      "1300\n"
     ]
    }
   ],
   "source": [
    "# 88\n",
    "ice = {'메로나': 1000,\n",
    "       '폴로포': 1200,\n",
    "       '빵빠레': 1800,\n",
    "       '죠스바': 1200,\n",
    "       '월드콘': 1500}\n",
    "ice[\"메로나\"] = 1300\n",
    "print(ice[\"메로나\"])"
   ]
  },
  {
   "cell_type": "code",
   "execution_count": 66,
   "id": "e20a0f59",
   "metadata": {
    "ExecuteTime": {
     "end_time": "2024-03-05T17:14:39.796358Z",
     "start_time": "2024-03-05T17:14:39.793766Z"
    },
    "scrolled": true
   },
   "outputs": [
    {
     "name": "stdout",
     "output_type": "stream",
     "text": [
      "{'폴로포': 1200, '빵빠레': 1800, '죠스바': 1200, '월드콘': 1500}\n"
     ]
    }
   ],
   "source": [
    "# 89\n",
    "del ice[\"메로나\"]\n",
    "print(ice)"
   ]
  },
  {
   "cell_type": "code",
   "execution_count": 68,
   "id": "bfcdaebd",
   "metadata": {
    "ExecuteTime": {
     "end_time": "2024-03-05T17:14:45.523016Z",
     "start_time": "2024-03-05T17:14:45.509218Z"
    },
    "scrolled": true
   },
   "outputs": [
    {
     "ename": "KeyError",
     "evalue": "'누가바'",
     "output_type": "error",
     "traceback": [
      "\u001b[1;31m---------------------------------------------------------------------------\u001b[0m",
      "\u001b[1;31mKeyError\u001b[0m                                  Traceback (most recent call last)",
      "Cell \u001b[1;32mIn[68], line 3\u001b[0m\n\u001b[0;32m      1\u001b[0m \u001b[38;5;66;03m# 90\u001b[39;00m\n\u001b[0;32m      2\u001b[0m icecream \u001b[38;5;241m=\u001b[39m {\u001b[38;5;124m'\u001b[39m\u001b[38;5;124m폴라포\u001b[39m\u001b[38;5;124m'\u001b[39m: \u001b[38;5;241m1200\u001b[39m, \u001b[38;5;124m'\u001b[39m\u001b[38;5;124m빵빠레\u001b[39m\u001b[38;5;124m'\u001b[39m: \u001b[38;5;241m1800\u001b[39m, \u001b[38;5;124m'\u001b[39m\u001b[38;5;124m월드콘\u001b[39m\u001b[38;5;124m'\u001b[39m: \u001b[38;5;241m1500\u001b[39m, \u001b[38;5;124m'\u001b[39m\u001b[38;5;124m메로나\u001b[39m\u001b[38;5;124m'\u001b[39m: \u001b[38;5;241m1000\u001b[39m}\n\u001b[1;32m----> 3\u001b[0m icecream[\u001b[38;5;124m'\u001b[39m\u001b[38;5;124m누가바\u001b[39m\u001b[38;5;124m'\u001b[39m]\n",
      "\u001b[1;31mKeyError\u001b[0m: '누가바'"
     ]
    }
   ],
   "source": [
    "# 90\n",
    "icecream = {'폴라포': 1200, '빵빠레': 1800, '월드콘': 1500, '메로나': 1000}\n",
    "icecream['누가바']"
   ]
  },
  {
   "cell_type": "markdown",
   "id": "1dd90eeb",
   "metadata": {},
   "source": [
    "```\n",
    "에러 발생 원인 : 딕셔너리에 없는 키를 인덱싱 했기 때문!\n",
    "```"
   ]
  },
  {
   "cell_type": "code",
   "execution_count": 69,
   "id": "b5b3fcc2",
   "metadata": {
    "ExecuteTime": {
     "end_time": "2024-03-05T17:14:48.635034Z",
     "start_time": "2024-03-05T17:14:48.630206Z"
    },
    "scrolled": true
   },
   "outputs": [
    {
     "name": "stdout",
     "output_type": "stream",
     "text": [
      "{'메로나': [300, 20], '비비빅': [400, 3], '죠스바': [250, 100]}\n"
     ]
    }
   ],
   "source": [
    "# 91\n",
    "inventory = {\"메로나\":[300,20], \"비비빅\":[400,3],\"죠스바\":[250,100]}\n",
    "print(inventory)"
   ]
  },
  {
   "cell_type": "code",
   "execution_count": 70,
   "id": "573e731a",
   "metadata": {
    "ExecuteTime": {
     "end_time": "2024-03-05T17:14:49.076503Z",
     "start_time": "2024-03-05T17:14:49.071547Z"
    },
    "scrolled": true
   },
   "outputs": [
    {
     "name": "stdout",
     "output_type": "stream",
     "text": [
      "300 원\n"
     ]
    }
   ],
   "source": [
    "# 92\n",
    "a = inventory[\"메로나\"][0]\n",
    "print(a, \"원\")"
   ]
  },
  {
   "cell_type": "code",
   "execution_count": 71,
   "id": "4eaa7ce9",
   "metadata": {
    "ExecuteTime": {
     "end_time": "2024-03-05T17:14:49.512315Z",
     "start_time": "2024-03-05T17:14:49.509175Z"
    },
    "scrolled": true
   },
   "outputs": [
    {
     "name": "stdout",
     "output_type": "stream",
     "text": [
      "20 개\n"
     ]
    }
   ],
   "source": [
    "# 93\n",
    "print(inventory[\"메로나\"][1], \"개\")"
   ]
  },
  {
   "cell_type": "code",
   "execution_count": 72,
   "id": "c0dc84ab",
   "metadata": {
    "ExecuteTime": {
     "end_time": "2024-03-05T17:14:49.885082Z",
     "start_time": "2024-03-05T17:14:49.881096Z"
    },
    "scrolled": true
   },
   "outputs": [
    {
     "name": "stdout",
     "output_type": "stream",
     "text": [
      "{'메로나': [300, 20], '비비빅': [400, 3], '죠스바': [250, 100], '월드콘': [500, 7]}\n"
     ]
    }
   ],
   "source": [
    "# 94\n",
    "inventory[\"월드콘\"] = [500,7]\n",
    "print(inventory)"
   ]
  },
  {
   "cell_type": "code",
   "execution_count": 73,
   "id": "2f5035aa",
   "metadata": {
    "ExecuteTime": {
     "end_time": "2024-03-05T17:14:50.335843Z",
     "start_time": "2024-03-05T17:14:50.332088Z"
    },
    "scrolled": true
   },
   "outputs": [
    {
     "name": "stdout",
     "output_type": "stream",
     "text": [
      "['탱크보이', '폴라포', '빵빠레', '월드콘', '메로나']\n"
     ]
    }
   ],
   "source": [
    "# 95\n",
    "icecream = {'탱크보이': 1200, '폴라포': 1200, '빵빠레': 1800, '월드콘': 1500, '메로나': 1000}\n",
    "key_ice_list = list(icecream.keys())\n",
    "print(key_ice_list)"
   ]
  },
  {
   "cell_type": "code",
   "execution_count": 74,
   "id": "3bf3bef9",
   "metadata": {
    "ExecuteTime": {
     "end_time": "2024-03-05T17:14:51.248920Z",
     "start_time": "2024-03-05T17:14:51.243848Z"
    },
    "scrolled": true
   },
   "outputs": [
    {
     "name": "stdout",
     "output_type": "stream",
     "text": [
      "[1200, 1200, 1800, 1500, 1000]\n"
     ]
    }
   ],
   "source": [
    "# 96\n",
    "key_ice_list = list(icecream.values())\n",
    "print(key_ice_list)"
   ]
  },
  {
   "cell_type": "code",
   "execution_count": 75,
   "id": "19d42e7e",
   "metadata": {
    "ExecuteTime": {
     "end_time": "2024-03-05T17:14:51.483953Z",
     "start_time": "2024-03-05T17:14:51.480395Z"
    },
    "scrolled": true
   },
   "outputs": [
    {
     "name": "stdout",
     "output_type": "stream",
     "text": [
      "6700\n"
     ]
    }
   ],
   "source": [
    "# 97\n",
    "key_ice_list = list(icecream.values())\n",
    "print(sum(key_ice_list))"
   ]
  },
  {
   "cell_type": "code",
   "execution_count": 76,
   "id": "df0128f0",
   "metadata": {
    "ExecuteTime": {
     "end_time": "2024-03-05T17:14:51.651747Z",
     "start_time": "2024-03-05T17:14:51.648368Z"
    },
    "scrolled": true
   },
   "outputs": [
    {
     "name": "stdout",
     "output_type": "stream",
     "text": [
      "6700\n"
     ]
    }
   ],
   "source": [
    "print(sum(icecream.values()))"
   ]
  },
  {
   "cell_type": "code",
   "execution_count": 77,
   "id": "6494b08c",
   "metadata": {
    "ExecuteTime": {
     "end_time": "2024-03-05T17:14:51.817521Z",
     "start_time": "2024-03-05T17:14:51.813458Z"
    },
    "scrolled": true
   },
   "outputs": [
    {
     "name": "stdout",
     "output_type": "stream",
     "text": [
      "{'탱크보이': 1200, '폴라포': 1200, '빵빠레': 1800, '월드콘': 1500, '메로나': 1000, '팥빙수': 2700, '아맛나': 1000}\n"
     ]
    }
   ],
   "source": [
    "# 98\n",
    "icecream = {'탱크보이': 1200, '폴라포': 1200, '빵빠레': 1800, '월드콘': 1500, '메로나': 1000}\n",
    "new_product = {'팥빙수':2700, '아맛나':1000}\n",
    "icecream.update(new_product)\n",
    "print(icecream)"
   ]
  },
  {
   "cell_type": "code",
   "execution_count": 78,
   "id": "017b0baa",
   "metadata": {
    "ExecuteTime": {
     "end_time": "2024-03-05T17:14:52.490514Z",
     "start_time": "2024-03-05T17:14:52.486440Z"
    },
    "scrolled": true
   },
   "outputs": [
    {
     "name": "stdout",
     "output_type": "stream",
     "text": [
      "{'apple': 300, 'pear': 250, 'peach': 400}\n"
     ]
    }
   ],
   "source": [
    "# 99\n",
    "keys = (\"apple\", \"pear\", \"peach\")\n",
    "vals = (300, 250, 400)\n",
    "result = dict(zip(keys, vals))\n",
    "print(result)"
   ]
  },
  {
   "cell_type": "code",
   "execution_count": 79,
   "id": "8a9a01cf",
   "metadata": {
    "ExecuteTime": {
     "end_time": "2024-03-05T17:14:52.771672Z",
     "start_time": "2024-03-05T17:14:52.767591Z"
    },
    "scrolled": true
   },
   "outputs": [
    {
     "name": "stdout",
     "output_type": "stream",
     "text": [
      "{'09/05': 10500, '09/06': 10300, '09/07': 10100, '09/08': 10800, '09/09': 11000}\n"
     ]
    }
   ],
   "source": [
    "# 100\n",
    "date = ['09/05', '09/06', '09/07', '09/08', '09/09']\n",
    "close_price = [10500, 10300, 10100, 10800, 11000]\n",
    "close_table = dict(zip(date, close_price))\n",
    "print(close_table)"
   ]
  },
  {
   "cell_type": "markdown",
   "id": "3add667d",
   "metadata": {},
   "source": [
    "### 파이썬 분기문(101~130)"
   ]
  },
  {
   "cell_type": "markdown",
   "id": "dd80fcb5",
   "metadata": {},
   "source": [
    "#101\n",
    "\n",
    "'bool' 타입!"
   ]
  },
  {
   "cell_type": "code",
   "execution_count": 80,
   "id": "b449526f",
   "metadata": {
    "ExecuteTime": {
     "end_time": "2024-03-05T17:14:55.438007Z",
     "start_time": "2024-03-05T17:14:55.434033Z"
    },
    "scrolled": true
   },
   "outputs": [
    {
     "name": "stdout",
     "output_type": "stream",
     "text": [
      "False\n"
     ]
    }
   ],
   "source": [
    "# 102\n",
    "print(3 == 5)"
   ]
  },
  {
   "cell_type": "code",
   "execution_count": 81,
   "id": "03321443",
   "metadata": {
    "ExecuteTime": {
     "end_time": "2024-03-05T17:14:55.950004Z",
     "start_time": "2024-03-05T17:14:55.946008Z"
    },
    "scrolled": true
   },
   "outputs": [
    {
     "name": "stdout",
     "output_type": "stream",
     "text": [
      "True\n"
     ]
    }
   ],
   "source": [
    "# 103\n",
    "print(3 < 5)"
   ]
  },
  {
   "cell_type": "code",
   "execution_count": 1,
   "id": "bac1f6d1",
   "metadata": {
    "ExecuteTime": {
     "end_time": "2024-03-05T18:24:40.752551Z",
     "start_time": "2024-03-05T18:24:40.749306Z"
    },
    "scrolled": true
   },
   "outputs": [
    {
     "name": "stdout",
     "output_type": "stream",
     "text": [
      "True\n"
     ]
    }
   ],
   "source": [
    "# 104\n",
    "x = 4\n",
    "print(1 < x < 5)"
   ]
  },
  {
   "cell_type": "code",
   "execution_count": 83,
   "id": "4f868fa6",
   "metadata": {
    "ExecuteTime": {
     "end_time": "2024-03-05T17:14:57.109912Z",
     "start_time": "2024-03-05T17:14:57.106109Z"
    },
    "scrolled": true
   },
   "outputs": [
    {
     "name": "stdout",
     "output_type": "stream",
     "text": [
      "True\n"
     ]
    }
   ],
   "source": [
    "# 105\n",
    "print ((3 == 3) and (4 != 3))"
   ]
  },
  {
   "cell_type": "code",
   "execution_count": 84,
   "id": "4cac41a6",
   "metadata": {
    "ExecuteTime": {
     "end_time": "2024-03-05T17:14:57.485706Z",
     "start_time": "2024-03-05T17:14:57.480636Z"
    },
    "scrolled": true
   },
   "outputs": [
    {
     "ename": "SyntaxError",
     "evalue": "expression cannot contain assignment, perhaps you meant \"==\"? (485492467.py, line 3)",
     "output_type": "error",
     "traceback": [
      "\u001b[1;36m  Cell \u001b[1;32mIn[84], line 3\u001b[1;36m\u001b[0m\n\u001b[1;33m    print(3 => 4)\u001b[0m\n\u001b[1;37m          ^\u001b[0m\n\u001b[1;31mSyntaxError\u001b[0m\u001b[1;31m:\u001b[0m expression cannot contain assignment, perhaps you meant \"==\"?\n"
     ]
    }
   ],
   "source": [
    "# 106\n",
    "# 에러가 나는 이유 : 수식의 방향이 잘못됨 >= 로 해야함\n",
    "print(3 => 4)"
   ]
  },
  {
   "cell_type": "code",
   "execution_count": 85,
   "id": "1ea22094",
   "metadata": {
    "ExecuteTime": {
     "end_time": "2024-03-05T17:14:57.934330Z",
     "start_time": "2024-03-05T17:14:57.931549Z"
    },
    "scrolled": true
   },
   "outputs": [],
   "source": [
    "# 107\n",
    "# 조건을 만족하지 않기에(4<3 은 false) 아무 결과도 출력 X\n",
    "if 4 < 3:\n",
    "    print(\"Hello World\")"
   ]
  },
  {
   "cell_type": "code",
   "execution_count": 86,
   "id": "75828b50",
   "metadata": {
    "ExecuteTime": {
     "end_time": "2024-03-05T17:14:59.250020Z",
     "start_time": "2024-03-05T17:14:59.245768Z"
    },
    "scrolled": true
   },
   "outputs": [
    {
     "name": "stdout",
     "output_type": "stream",
     "text": [
      "Hi, there.\n"
     ]
    }
   ],
   "source": [
    "# 108\n",
    "if 4 < 3:\n",
    "    print(\"Hello World.\")\n",
    "else:\n",
    "    print(\"Hi, there.\")"
   ]
  },
  {
   "cell_type": "code",
   "execution_count": 87,
   "id": "493c4e72",
   "metadata": {
    "ExecuteTime": {
     "end_time": "2024-03-05T17:14:59.736499Z",
     "start_time": "2024-03-05T17:14:59.732383Z"
    },
    "scrolled": true
   },
   "outputs": [
    {
     "name": "stdout",
     "output_type": "stream",
     "text": [
      "1\n",
      "2\n",
      "4\n"
     ]
    }
   ],
   "source": [
    "# 109\n",
    "if True :\n",
    "    print (\"1\")\n",
    "    print (\"2\")\n",
    "else :\n",
    "    print(\"3\")\n",
    "print(\"4\")"
   ]
  },
  {
   "cell_type": "code",
   "execution_count": 88,
   "id": "4fd6fe6c",
   "metadata": {
    "ExecuteTime": {
     "end_time": "2024-03-05T17:15:02.031976Z",
     "start_time": "2024-03-05T17:15:02.027299Z"
    }
   },
   "outputs": [
    {
     "name": "stdout",
     "output_type": "stream",
     "text": [
      "3\n",
      "5\n"
     ]
    }
   ],
   "source": [
    "# 110\n",
    "if True :\n",
    "    if False:\n",
    "        print(\"1\")\n",
    "        print(\"2\")\n",
    "    else:\n",
    "        print(\"3\")\n",
    "else :\n",
    "    print(\"4\")\n",
    "print(\"5\")"
   ]
  },
  {
   "cell_type": "code",
   "execution_count": 90,
   "id": "a03be22e",
   "metadata": {
    "ExecuteTime": {
     "end_time": "2024-03-05T17:15:15.116445Z",
     "start_time": "2024-03-05T17:15:07.839558Z"
    }
   },
   "outputs": [
    {
     "name": "stdout",
     "output_type": "stream",
     "text": [
      "입력:안녕하세요\n",
      "안녕하세요안녕하세요\n"
     ]
    }
   ],
   "source": [
    "# 111\n",
    "user = input(\"입력:\")\n",
    "print(user * 2)"
   ]
  },
  {
   "cell_type": "code",
   "execution_count": 91,
   "id": "ef2606cd",
   "metadata": {
    "ExecuteTime": {
     "end_time": "2024-03-05T17:15:20.883445Z",
     "start_time": "2024-03-05T17:15:17.856744Z"
    }
   },
   "outputs": [
    {
     "name": "stdout",
     "output_type": "stream",
     "text": [
      "30\n",
      "0000\n"
     ]
    }
   ],
   "source": [
    "user = input(3)\n",
    "print(user * 4)"
   ]
  },
  {
   "cell_type": "code",
   "execution_count": 92,
   "id": "356ad203",
   "metadata": {
    "ExecuteTime": {
     "end_time": "2024-03-05T17:15:24.512995Z",
     "start_time": "2024-03-05T17:15:22.507096Z"
    },
    "scrolled": true
   },
   "outputs": [
    {
     "name": "stdout",
     "output_type": "stream",
     "text": [
      "숫자를 입력하세요: 30\n",
      "40\n"
     ]
    }
   ],
   "source": [
    "# 112\n",
    "# user를 정수화 해야한다!!!\n",
    "user = input(\"숫자를 입력하세요: \")\n",
    "print(int(user) + 10)"
   ]
  },
  {
   "cell_type": "code",
   "execution_count": 96,
   "id": "c7ff5da1",
   "metadata": {
    "ExecuteTime": {
     "end_time": "2024-03-05T17:18:02.520989Z",
     "start_time": "2024-03-05T17:18:00.255697Z"
    },
    "scrolled": true
   },
   "outputs": [
    {
     "name": "stdout",
     "output_type": "stream",
     "text": [
      "40\n",
      "짝수\n"
     ]
    }
   ],
   "source": [
    "# 113\n",
    "user = input(\"\")\n",
    "if int(user)%2 == 1 :\n",
    "    print(\"홀수\")\n",
    "else :\n",
    "    print(\"짝수\")"
   ]
  },
  {
   "cell_type": "code",
   "execution_count": 102,
   "id": "a77f5ddb",
   "metadata": {
    "ExecuteTime": {
     "end_time": "2024-03-05T17:43:34.413343Z",
     "start_time": "2024-03-05T17:43:31.426410Z"
    },
    "scrolled": true
   },
   "outputs": [
    {
     "name": "stdout",
     "output_type": "stream",
     "text": [
      "입력값: 40\n",
      "60\n"
     ]
    }
   ],
   "source": [
    "# 114\n",
    "user = input(\"입력값: \")\n",
    "num = int(user) + 20\n",
    "if num > 255 :\n",
    "    print(255)\n",
    "else :\n",
    "    print(num)"
   ]
  },
  {
   "cell_type": "code",
   "execution_count": 2,
   "id": "5e976059",
   "metadata": {
    "ExecuteTime": {
     "end_time": "2024-03-05T18:24:52.321373Z",
     "start_time": "2024-03-05T18:24:45.458438Z"
    },
    "code_folding": [
     5
    ],
    "scrolled": true
   },
   "outputs": [
    {
     "name": "stdout",
     "output_type": "stream",
     "text": [
      "입력값: 200\n",
      "180\n"
     ]
    }
   ],
   "source": [
    "# 115\n",
    "user = input(\"입력값: \")\n",
    "num = int(user) - 20\n",
    "if num > 255 :\n",
    "    print(255)\n",
    "else :\n",
    "    if 0 < num < 255:\n",
    "        print(num)\n",
    "    else:\n",
    "        print(0)"
   ]
  },
  {
   "cell_type": "code",
   "execution_count": 3,
   "id": "b9c95263",
   "metadata": {
    "ExecuteTime": {
     "end_time": "2024-03-05T18:24:58.585321Z",
     "start_time": "2024-03-05T18:24:54.458014Z"
    }
   },
   "outputs": [
    {
     "name": "stdout",
     "output_type": "stream",
     "text": [
      "입력값: 100\n",
      "80\n"
     ]
    }
   ],
   "source": [
    "user = input(\"입력값: \")\n",
    "num = int(user) - 20\n",
    "if num > 255 :\n",
    "    print(255)\n",
    "elif 0 < num < 255:\n",
    "    print(num)\n",
    "else:\n",
    "    print(0)"
   ]
  },
  {
   "cell_type": "code",
   "execution_count": 4,
   "id": "3f33ac79",
   "metadata": {
    "ExecuteTime": {
     "end_time": "2024-03-05T18:25:05.107430Z",
     "start_time": "2024-03-05T18:25:00.726117Z"
    },
    "code_folding": [],
    "scrolled": true
   },
   "outputs": [
    {
     "name": "stdout",
     "output_type": "stream",
     "text": [
      "현재시간: 07:30\n",
      "정각이 아닙니다.\n"
     ]
    }
   ],
   "source": [
    "# 116\n",
    "user_time = input(\"현재시간: \")\n",
    "if user_time[-2:] == \"00\" :\n",
    "    print(\"정각 입니다.\")\n",
    "else :\n",
    "    print(\"정각이 아닙니다.\")"
   ]
  },
  {
   "cell_type": "raw",
   "id": "7030564f",
   "metadata": {},
   "source": [
    "#116이 왜 갑자기 실행이 안되는걸까...? => 커널이 다운되서 그렇다!! 커널을 restart 하자!"
   ]
  },
  {
   "cell_type": "code",
   "execution_count": 5,
   "id": "e9725af3",
   "metadata": {
    "ExecuteTime": {
     "end_time": "2024-03-05T18:25:38.853914Z",
     "start_time": "2024-03-05T18:25:30.869408Z"
    }
   },
   "outputs": [
    {
     "name": "stdout",
     "output_type": "stream",
     "text": [
      "좋아하는 과일은? 사과\n",
      "정답입니다.\n"
     ]
    }
   ],
   "source": [
    "# 117\n",
    "fruit = [\"사과\", \"포도\", \"홍시\"]\n",
    "user = input(\"좋아하는 과일은? \")\n",
    "\n",
    "if user in fruit :\n",
    "    print(\"정답입니다.\")\n",
    "else :\n",
    "    print(\"오답입니다.\")"
   ]
  },
  {
   "cell_type": "code",
   "execution_count": null,
   "id": "098d7f19",
   "metadata": {
    "scrolled": true
   },
   "outputs": [],
   "source": [
    "# 118\n"
   ]
  },
  {
   "cell_type": "code",
   "execution_count": null,
   "id": "67969238",
   "metadata": {
    "scrolled": true
   },
   "outputs": [],
   "source": []
  },
  {
   "cell_type": "code",
   "execution_count": null,
   "id": "dad9f753",
   "metadata": {
    "scrolled": true
   },
   "outputs": [],
   "source": []
  },
  {
   "cell_type": "code",
   "execution_count": null,
   "id": "ef0ea115",
   "metadata": {
    "scrolled": true
   },
   "outputs": [],
   "source": []
  },
  {
   "cell_type": "code",
   "execution_count": null,
   "id": "b3c83ff3",
   "metadata": {
    "scrolled": true
   },
   "outputs": [],
   "source": []
  },
  {
   "cell_type": "code",
   "execution_count": null,
   "id": "600551fe",
   "metadata": {
    "scrolled": true
   },
   "outputs": [],
   "source": []
  },
  {
   "cell_type": "code",
   "execution_count": null,
   "id": "03aeccfd",
   "metadata": {
    "scrolled": true
   },
   "outputs": [],
   "source": []
  },
  {
   "cell_type": "code",
   "execution_count": null,
   "id": "0e515824",
   "metadata": {
    "scrolled": true
   },
   "outputs": [],
   "source": []
  },
  {
   "cell_type": "code",
   "execution_count": null,
   "id": "54308fe8",
   "metadata": {
    "scrolled": true
   },
   "outputs": [],
   "source": []
  },
  {
   "cell_type": "code",
   "execution_count": null,
   "id": "6797fb4d",
   "metadata": {
    "scrolled": true
   },
   "outputs": [],
   "source": []
  },
  {
   "cell_type": "code",
   "execution_count": null,
   "id": "4b0d4824",
   "metadata": {
    "scrolled": true
   },
   "outputs": [],
   "source": []
  },
  {
   "cell_type": "code",
   "execution_count": null,
   "id": "43561c24",
   "metadata": {
    "scrolled": true
   },
   "outputs": [],
   "source": []
  },
  {
   "cell_type": "code",
   "execution_count": null,
   "id": "a892efd8",
   "metadata": {
    "scrolled": true
   },
   "outputs": [],
   "source": []
  },
  {
   "cell_type": "code",
   "execution_count": null,
   "id": "248ddccc",
   "metadata": {
    "scrolled": true
   },
   "outputs": [],
   "source": []
  },
  {
   "cell_type": "code",
   "execution_count": null,
   "id": "94e5a3c3",
   "metadata": {
    "scrolled": true
   },
   "outputs": [],
   "source": []
  },
  {
   "cell_type": "code",
   "execution_count": null,
   "id": "3564a244",
   "metadata": {
    "scrolled": true
   },
   "outputs": [],
   "source": []
  },
  {
   "cell_type": "code",
   "execution_count": null,
   "id": "9f2e980e",
   "metadata": {
    "scrolled": true
   },
   "outputs": [],
   "source": []
  },
  {
   "cell_type": "code",
   "execution_count": null,
   "id": "788326c4",
   "metadata": {
    "scrolled": true
   },
   "outputs": [],
   "source": []
  },
  {
   "cell_type": "code",
   "execution_count": null,
   "id": "5082c38c",
   "metadata": {
    "scrolled": true
   },
   "outputs": [],
   "source": []
  },
  {
   "cell_type": "code",
   "execution_count": null,
   "id": "e2b90b97",
   "metadata": {
    "scrolled": true
   },
   "outputs": [],
   "source": []
  },
  {
   "cell_type": "code",
   "execution_count": null,
   "id": "6f6b9473",
   "metadata": {
    "scrolled": true
   },
   "outputs": [],
   "source": []
  },
  {
   "cell_type": "code",
   "execution_count": null,
   "id": "a7781ef4",
   "metadata": {
    "scrolled": true
   },
   "outputs": [],
   "source": []
  },
  {
   "cell_type": "code",
   "execution_count": null,
   "id": "3237781a",
   "metadata": {
    "scrolled": true
   },
   "outputs": [],
   "source": []
  },
  {
   "cell_type": "code",
   "execution_count": null,
   "id": "788ed7ee",
   "metadata": {
    "scrolled": true
   },
   "outputs": [],
   "source": []
  },
  {
   "cell_type": "code",
   "execution_count": null,
   "id": "14b6636f",
   "metadata": {
    "scrolled": true
   },
   "outputs": [],
   "source": []
  },
  {
   "cell_type": "markdown",
   "id": "ac7dc93f",
   "metadata": {},
   "source": [
    "### 파이썬 반복문(131~200)"
   ]
  },
  {
   "cell_type": "code",
   "execution_count": null,
   "id": "1b4aa643",
   "metadata": {
    "scrolled": true
   },
   "outputs": [],
   "source": []
  },
  {
   "cell_type": "code",
   "execution_count": null,
   "id": "c4274842",
   "metadata": {
    "scrolled": true
   },
   "outputs": [],
   "source": []
  },
  {
   "cell_type": "code",
   "execution_count": null,
   "id": "a341c685",
   "metadata": {
    "scrolled": true
   },
   "outputs": [],
   "source": []
  }
 ],
 "metadata": {
  "kernelspec": {
   "display_name": "Python 3 (ipykernel)",
   "language": "python",
   "name": "python3"
  },
  "language_info": {
   "codemirror_mode": {
    "name": "ipython",
    "version": 3
   },
   "file_extension": ".py",
   "mimetype": "text/x-python",
   "name": "python",
   "nbconvert_exporter": "python",
   "pygments_lexer": "ipython3",
   "version": "3.11.5"
  },
  "toc": {
   "base_numbering": 1,
   "nav_menu": {},
   "number_sections": true,
   "sideBar": true,
   "skip_h1_title": false,
   "title_cell": "Table of Contents",
   "title_sidebar": "Contents",
   "toc_cell": false,
   "toc_position": {},
   "toc_section_display": true,
   "toc_window_display": false
  },
  "varInspector": {
   "cols": {
    "lenName": 16,
    "lenType": 16,
    "lenVar": 40
   },
   "kernels_config": {
    "python": {
     "delete_cmd_postfix": "",
     "delete_cmd_prefix": "del ",
     "library": "var_list.py",
     "varRefreshCmd": "print(var_dic_list())"
    },
    "r": {
     "delete_cmd_postfix": ") ",
     "delete_cmd_prefix": "rm(",
     "library": "var_list.r",
     "varRefreshCmd": "cat(var_dic_list()) "
    }
   },
   "types_to_exclude": [
    "module",
    "function",
    "builtin_function_or_method",
    "instance",
    "_Feature"
   ],
   "window_display": false
  }
 },
 "nbformat": 4,
 "nbformat_minor": 5
}
