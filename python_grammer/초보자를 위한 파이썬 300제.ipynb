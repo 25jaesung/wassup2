{
 "cells": [
  {
   "cell_type": "markdown",
   "id": "3c677279",
   "metadata": {},
   "source": [
    "### 파이썬 시작하기(1~10)"
   ]
  },
  {
   "cell_type": "code",
   "execution_count": null,
   "id": "944e0a52",
   "metadata": {},
   "outputs": [],
   "source": []
  },
  {
   "cell_type": "markdown",
   "id": "858f09e0",
   "metadata": {},
   "source": [
    "### 파이썬 변수(11~20)"
   ]
  },
  {
   "cell_type": "code",
   "execution_count": null,
   "id": "8176f47c",
   "metadata": {},
   "outputs": [],
   "source": []
  },
  {
   "cell_type": "markdown",
   "id": "95638f18",
   "metadata": {},
   "source": [
    "### 파이썬 문자열(21~50)"
   ]
  },
  {
   "cell_type": "code",
   "execution_count": null,
   "id": "04c78d9f",
   "metadata": {},
   "outputs": [],
   "source": []
  },
  {
   "cell_type": "markdown",
   "id": "f17a33de",
   "metadata": {},
   "source": [
    "### 파이썬 리스트(51~70)"
   ]
  },
  {
   "cell_type": "code",
   "execution_count": 2,
   "id": "06994b2f",
   "metadata": {
    "ExecuteTime": {
     "end_time": "2024-03-04T18:01:29.442132Z",
     "start_time": "2024-03-04T18:01:29.434468Z"
    }
   },
   "outputs": [
    {
     "data": {
      "text/plain": [
       "['닥터 스트레인지', '스플릿', '럭키']"
      ]
     },
     "execution_count": 2,
     "metadata": {},
     "output_type": "execute_result"
    }
   ],
   "source": [
    "# 51\n",
    "movie_rank = [\"닥터 스트레인지\", \"스플릿\", \"럭키\"]\n",
    "movie_rank"
   ]
  },
  {
   "cell_type": "code",
   "execution_count": 9,
   "id": "06251773",
   "metadata": {
    "ExecuteTime": {
     "end_time": "2024-03-04T18:04:16.306685Z",
     "start_time": "2024-03-04T18:04:16.300661Z"
    }
   },
   "outputs": [
    {
     "data": {
      "text/plain": [
       "['닥터 스트레인지', '스플릿', '럭키', '배트맨', '배트맨', '배트맨', '배트맨', '배트맨', '배트맨', '배트맨']"
      ]
     },
     "execution_count": 9,
     "metadata": {},
     "output_type": "execute_result"
    }
   ],
   "source": [
    "# 52\n",
    "movie_rank.append(\"배트맨\")\n",
    "movie_rank"
   ]
  },
  {
   "cell_type": "code",
   "execution_count": 11,
   "id": "f480a055",
   "metadata": {
    "ExecuteTime": {
     "end_time": "2024-03-04T18:06:08.123334Z",
     "start_time": "2024-03-04T18:06:08.118254Z"
    }
   },
   "outputs": [
    {
     "data": {
      "text/plain": [
       "['닥터 스트레인지', '스플릿', '럭키', '배트맨']"
      ]
     },
     "execution_count": 11,
     "metadata": {},
     "output_type": "execute_result"
    }
   ],
   "source": [
    "del movie_rank[4:]\n",
    "movie_rank"
   ]
  },
  {
   "cell_type": "code",
   "execution_count": 14,
   "id": "fe24663f",
   "metadata": {
    "ExecuteTime": {
     "end_time": "2024-03-04T18:10:19.632789Z",
     "start_time": "2024-03-04T18:10:19.626808Z"
    }
   },
   "outputs": [
    {
     "data": {
      "text/plain": [
       "['닥터 스트레인지', '슈퍼맨', '스플릿', '럭키', '배트맨']"
      ]
     },
     "execution_count": 14,
     "metadata": {},
     "output_type": "execute_result"
    }
   ],
   "source": [
    "# 53\n",
    "movie_rank = ['닥터 스트레인지', '스플릿', '럭키', '배트맨']\n",
    "movie_rank.insert(1, \"슈퍼맨\")\n",
    "movie_rank"
   ]
  },
  {
   "cell_type": "code",
   "execution_count": 16,
   "id": "47f5bb83",
   "metadata": {
    "ExecuteTime": {
     "end_time": "2024-03-04T18:11:32.498827Z",
     "start_time": "2024-03-04T18:11:32.493262Z"
    }
   },
   "outputs": [
    {
     "data": {
      "text/plain": [
       "['닥터 스트레인지', '슈퍼맨', '스플릿', '배트맨']"
      ]
     },
     "execution_count": 16,
     "metadata": {},
     "output_type": "execute_result"
    }
   ],
   "source": [
    "# 54\n",
    "movie_rank = ['닥터 스트레인지', '슈퍼맨', '스플릿', '럭키', '배트맨']\n",
    "del movie_rank[3]\n",
    "movie_rank"
   ]
  },
  {
   "cell_type": "code",
   "execution_count": 18,
   "id": "bbd28221",
   "metadata": {
    "ExecuteTime": {
     "end_time": "2024-03-04T18:12:28.249394Z",
     "start_time": "2024-03-04T18:12:28.244446Z"
    }
   },
   "outputs": [
    {
     "data": {
      "text/plain": [
       "['닥터 스트레인지', '슈퍼맨']"
      ]
     },
     "execution_count": 18,
     "metadata": {},
     "output_type": "execute_result"
    }
   ],
   "source": [
    "# 55\n",
    "movie_rank = ['닥터 스트레인지', '슈퍼맨', '스플릿', '배트맨']\n",
    "del movie_rank[2:]\n",
    "movie_rank"
   ]
  },
  {
   "cell_type": "code",
   "execution_count": 19,
   "id": "dbd2de46",
   "metadata": {
    "ExecuteTime": {
     "end_time": "2024-03-04T18:13:39.709398Z",
     "start_time": "2024-03-04T18:13:39.703733Z"
    }
   },
   "outputs": [
    {
     "data": {
      "text/plain": [
       "['닥터 스트레인지', '슈퍼맨']"
      ]
     },
     "execution_count": 19,
     "metadata": {},
     "output_type": "execute_result"
    }
   ],
   "source": [
    "# 55 답안\n",
    "movie_rank = ['닥터 스트레인지', '슈퍼맨', '스플릿', '배트맨']\n",
    "del movie_rank[2]\n",
    "del movie_rank[2]\n",
    "movie_rank"
   ]
  },
  {
   "cell_type": "code",
   "execution_count": 20,
   "id": "42e714f6",
   "metadata": {
    "ExecuteTime": {
     "end_time": "2024-03-04T18:14:54.475383Z",
     "start_time": "2024-03-04T18:14:54.469831Z"
    }
   },
   "outputs": [
    {
     "name": "stdout",
     "output_type": "stream",
     "text": [
      "['C', 'C++', 'JAVA', 'Python', 'Go', 'C#']\n"
     ]
    }
   ],
   "source": [
    "# 56\n",
    "lang1 = [\"C\", \"C++\", \"JAVA\"]\n",
    "lang2 = [\"Python\", \"Go\", \"C#\"]\n",
    "langs = lang1 + lang2\n",
    "print(langs)"
   ]
  },
  {
   "cell_type": "code",
   "execution_count": 24,
   "id": "6ff4cb5a",
   "metadata": {
    "ExecuteTime": {
     "end_time": "2024-03-04T18:18:16.391926Z",
     "start_time": "2024-03-04T18:18:16.387157Z"
    }
   },
   "outputs": [
    {
     "name": "stdout",
     "output_type": "stream",
     "text": [
      "max:  7\n",
      "min:  1\n"
     ]
    }
   ],
   "source": [
    "# 57\n",
    "nums = [1, 2, 3, 4, 5, 6, 7]\n",
    "max(nums)\n",
    "min(nums)\n",
    "print(\"max: \", max(nums))\n",
    "print(\"min: \", min(nums))"
   ]
  },
  {
   "cell_type": "code",
   "execution_count": 25,
   "id": "8026653b",
   "metadata": {
    "ExecuteTime": {
     "end_time": "2024-03-04T18:19:25.616671Z",
     "start_time": "2024-03-04T18:19:25.613013Z"
    }
   },
   "outputs": [
    {
     "name": "stdout",
     "output_type": "stream",
     "text": [
      "15\n"
     ]
    }
   ],
   "source": [
    "# 58\n",
    "nums = [1, 2, 3, 4, 5]\n",
    "print(sum(nums))"
   ]
  },
  {
   "cell_type": "code",
   "execution_count": 26,
   "id": "81221dde",
   "metadata": {
    "ExecuteTime": {
     "end_time": "2024-03-04T18:21:41.559352Z",
     "start_time": "2024-03-04T18:21:41.555664Z"
    }
   },
   "outputs": [
    {
     "name": "stdout",
     "output_type": "stream",
     "text": [
      "12\n"
     ]
    }
   ],
   "source": [
    "# 59\n",
    "cook = [\"피자\", \"김밥\", \"만두\", \"양념치킨\", \"족발\", \"피자\", \"김치만두\", \"쫄면\", \"소시지\", \"라면\", \"팥빙수\", \"김치전\"]\n",
    "print(len(cook))"
   ]
  },
  {
   "cell_type": "code",
   "execution_count": 27,
   "id": "6ea13248",
   "metadata": {
    "ExecuteTime": {
     "end_time": "2024-03-04T18:22:59.413403Z",
     "start_time": "2024-03-04T18:22:59.409799Z"
    },
    "code_folding": []
   },
   "outputs": [
    {
     "name": "stdout",
     "output_type": "stream",
     "text": [
      "3.0\n"
     ]
    }
   ],
   "source": [
    "# 60\n",
    "nums = [1, 2, 3, 4, 5]\n",
    "aver = sum(nums) / len(nums)\n",
    "print(aver)"
   ]
  },
  {
   "cell_type": "code",
   "execution_count": 29,
   "id": "a899d169",
   "metadata": {
    "ExecuteTime": {
     "end_time": "2024-03-04T18:24:19.126746Z",
     "start_time": "2024-03-04T18:24:19.123557Z"
    },
    "code_folding": []
   },
   "outputs": [
    {
     "name": "stdout",
     "output_type": "stream",
     "text": [
      "[100, 130, 140, 150, 160, 170]\n"
     ]
    }
   ],
   "source": [
    "# 61\n",
    "price = ['20180728', 100, 130, 140, 150, 160, 170]\n",
    "print(price[1:])"
   ]
  },
  {
   "cell_type": "code",
   "execution_count": 33,
   "id": "a9b6f414",
   "metadata": {
    "ExecuteTime": {
     "end_time": "2024-03-04T18:31:33.632829Z",
     "start_time": "2024-03-04T18:31:33.627836Z"
    }
   },
   "outputs": [
    {
     "name": "stdout",
     "output_type": "stream",
     "text": [
      "[1, 3, 5, 7, 9]\n"
     ]
    }
   ],
   "source": [
    "# 62\n",
    "nums = [1, 2, 3, 4, 5, 6, 7, 8, 9, 10]\n",
    "print(nums[0::2])"
   ]
  },
  {
   "cell_type": "code",
   "execution_count": 30,
   "id": "5b619384",
   "metadata": {
    "ExecuteTime": {
     "end_time": "2024-03-04T18:29:47.928481Z",
     "start_time": "2024-03-04T18:29:47.923790Z"
    }
   },
   "outputs": [
    {
     "name": "stdout",
     "output_type": "stream",
     "text": [
      "[2, 4, 6, 8, 10]\n"
     ]
    }
   ],
   "source": [
    "# 63\n",
    "nums = [1, 2, 3, 4, 5, 6, 7, 8, 9, 10]\n",
    "print(nums[1::2])"
   ]
  },
  {
   "cell_type": "markdown",
   "id": "b634ff6a",
   "metadata": {},
   "source": [
    "```\n",
    "슬라이싱 [::] 에서 첫 번쨰 인자는 index의 시작 점, 두 번째는 끝점, 마지막은 index의 간격!\n",
    "```"
   ]
  },
  {
   "cell_type": "code",
   "execution_count": 43,
   "id": "4680f2f7",
   "metadata": {
    "ExecuteTime": {
     "end_time": "2024-03-04T18:39:09.514954Z",
     "start_time": "2024-03-04T18:39:09.509973Z"
    },
    "code_folding": []
   },
   "outputs": [
    {
     "name": "stdout",
     "output_type": "stream",
     "text": [
      "[5, 4, 3, 2, 1]\n"
     ]
    }
   ],
   "source": [
    "# 64\n",
    "nums = [1, 2, 3, 4, 5]\n",
    "print(nums[::-1])"
   ]
  },
  {
   "cell_type": "markdown",
   "id": "9d104515",
   "metadata": {},
   "source": [
    "```\n",
    "stride(마지막칸)를 음의 값으로 하면 리스트가 역방향으로 슬라이싱된다!\n",
    "```"
   ]
  },
  {
   "cell_type": "code",
   "execution_count": 46,
   "id": "c1f205ca",
   "metadata": {
    "ExecuteTime": {
     "end_time": "2024-03-04T18:41:52.616034Z",
     "start_time": "2024-03-04T18:41:52.610958Z"
    }
   },
   "outputs": [
    {
     "name": "stdout",
     "output_type": "stream",
     "text": [
      "삼성전자 Naver\n"
     ]
    }
   ],
   "source": [
    "# 65\n",
    "interest = ['삼성전자', 'LG전자', 'Naver']\n",
    "print(interest[0], interest[2])"
   ]
  },
  {
   "cell_type": "code",
   "execution_count": 49,
   "id": "71a7de85",
   "metadata": {
    "ExecuteTime": {
     "end_time": "2024-03-04T18:44:53.924129Z",
     "start_time": "2024-03-04T18:44:53.920058Z"
    }
   },
   "outputs": [
    {
     "name": "stdout",
     "output_type": "stream",
     "text": [
      "삼성전자 LG전자 Naver SK하이닉스 미래에셋대우\n"
     ]
    }
   ],
   "source": [
    "# 66\n",
    "interest = ['삼성전자', 'LG전자', 'Naver', 'SK하이닉스', '미래에셋대우']\n",
    "print(\" \".join(interest))"
   ]
  },
  {
   "cell_type": "code",
   "execution_count": 50,
   "id": "1f61459a",
   "metadata": {
    "ExecuteTime": {
     "end_time": "2024-03-04T18:45:29.795289Z",
     "start_time": "2024-03-04T18:45:29.790619Z"
    }
   },
   "outputs": [
    {
     "name": "stdout",
     "output_type": "stream",
     "text": [
      "삼성전자/LG전자/Naver/SK하이닉스/미래에셋대우\n"
     ]
    }
   ],
   "source": [
    "# 67\n",
    "interest = ['삼성전자', 'LG전자', 'Naver', 'SK하이닉스', '미래에셋대우']\n",
    "print(\"/\".join(interest))"
   ]
  },
  {
   "cell_type": "code",
   "execution_count": 51,
   "id": "ab67d73d",
   "metadata": {
    "ExecuteTime": {
     "end_time": "2024-03-04T18:45:51.417068Z",
     "start_time": "2024-03-04T18:45:51.413643Z"
    }
   },
   "outputs": [
    {
     "name": "stdout",
     "output_type": "stream",
     "text": [
      "삼성전자\n",
      "LG전자\n",
      "Naver\n",
      "SK하이닉스\n",
      "미래에셋대우\n"
     ]
    }
   ],
   "source": [
    "# 68\n",
    "interest = ['삼성전자', 'LG전자', 'Naver', 'SK하이닉스', '미래에셋대우']\n",
    "print(\"\\n\".join(interest))"
   ]
  },
  {
   "cell_type": "code",
   "execution_count": 58,
   "id": "1ed4f25b",
   "metadata": {
    "ExecuteTime": {
     "end_time": "2024-03-04T18:55:18.445864Z",
     "start_time": "2024-03-04T18:55:18.440830Z"
    }
   },
   "outputs": [
    {
     "name": "stdout",
     "output_type": "stream",
     "text": [
      "['삼성전자', 'LG전자', 'Naver']\n"
     ]
    }
   ],
   "source": [
    "# 69\n",
    "string = \"삼성전자/LG전자/Naver\"\n",
    "interest = string.split('/')\n",
    "print(interest)"
   ]
  },
  {
   "cell_type": "code",
   "execution_count": 61,
   "id": "3059afeb",
   "metadata": {
    "ExecuteTime": {
     "end_time": "2024-03-04T18:58:14.189852Z",
     "start_time": "2024-03-04T18:58:14.185851Z"
    }
   },
   "outputs": [
    {
     "name": "stdout",
     "output_type": "stream",
     "text": [
      "[1, 2, 3, 4, 5, 9, 10]\n"
     ]
    }
   ],
   "source": [
    "# 70\n",
    "data = [2, 4, 3, 1, 5, 10, 9]\n",
    "data.sort()\n",
    "print(data)"
   ]
  },
  {
   "cell_type": "markdown",
   "id": "a32193e9",
   "metadata": {},
   "source": [
    "### 파이썬 튜플(71~80)"
   ]
  },
  {
   "cell_type": "code",
   "execution_count": 62,
   "id": "3f81242b",
   "metadata": {
    "ExecuteTime": {
     "end_time": "2024-03-04T19:01:22.017741Z",
     "start_time": "2024-03-04T19:01:22.014507Z"
    }
   },
   "outputs": [],
   "source": [
    "# 71\n",
    "my_variable = ()"
   ]
  },
  {
   "cell_type": "code",
   "execution_count": 64,
   "id": "4f0479d7",
   "metadata": {
    "ExecuteTime": {
     "end_time": "2024-03-04T19:01:48.459130Z",
     "start_time": "2024-03-04T19:01:48.454839Z"
    }
   },
   "outputs": [
    {
     "data": {
      "text/plain": [
       "tuple"
      ]
     },
     "execution_count": 64,
     "metadata": {},
     "output_type": "execute_result"
    }
   ],
   "source": [
    "type(my_variable)"
   ]
  },
  {
   "cell_type": "code",
   "execution_count": 65,
   "id": "42edd100",
   "metadata": {
    "ExecuteTime": {
     "end_time": "2024-03-04T19:02:51.092823Z",
     "start_time": "2024-03-04T19:02:51.088763Z"
    }
   },
   "outputs": [
    {
     "data": {
      "text/plain": [
       "tuple"
      ]
     },
     "execution_count": 65,
     "metadata": {},
     "output_type": "execute_result"
    }
   ],
   "source": [
    "# 72\n",
    "movie_rank = (\"닥터 스트레인지\", \"스플릿\", \"럭키\")\n",
    "type(movie_rank)"
   ]
  },
  {
   "cell_type": "code",
   "execution_count": 66,
   "id": "7aefac54",
   "metadata": {
    "ExecuteTime": {
     "end_time": "2024-03-04T19:03:37.807630Z",
     "start_time": "2024-03-04T19:03:37.801585Z"
    }
   },
   "outputs": [
    {
     "data": {
      "text/plain": [
       "int"
      ]
     },
     "execution_count": 66,
     "metadata": {},
     "output_type": "execute_result"
    }
   ],
   "source": [
    "# 73\n",
    "Tuple = (1)\n",
    "type(Tuple)"
   ]
  },
  {
   "cell_type": "code",
   "execution_count": 67,
   "id": "ff55bb0d",
   "metadata": {
    "ExecuteTime": {
     "end_time": "2024-03-04T19:04:26.809937Z",
     "start_time": "2024-03-04T19:04:26.805616Z"
    }
   },
   "outputs": [
    {
     "data": {
      "text/plain": [
       "tuple"
      ]
     },
     "execution_count": 67,
     "metadata": {},
     "output_type": "execute_result"
    }
   ],
   "source": [
    "Tuple = (1, )\n",
    "type(Tuple)"
   ]
  },
  {
   "cell_type": "markdown",
   "id": "8624c6b6",
   "metadata": {},
   "source": [
    "```\n",
    "하나의 데이터가 저장되는 경우, 위와 같이 쉼표를 입력해야 한다!\n",
    "```"
   ]
  },
  {
   "cell_type": "code",
   "execution_count": 68,
   "id": "8c89870f",
   "metadata": {
    "ExecuteTime": {
     "end_time": "2024-03-04T19:05:36.496464Z",
     "start_time": "2024-03-04T19:05:36.481978Z"
    }
   },
   "outputs": [
    {
     "ename": "TypeError",
     "evalue": "'tuple' object does not support item assignment",
     "output_type": "error",
     "traceback": [
      "\u001b[1;31m---------------------------------------------------------------------------\u001b[0m",
      "\u001b[1;31mTypeError\u001b[0m                                 Traceback (most recent call last)",
      "Cell \u001b[1;32mIn[68], line 3\u001b[0m\n\u001b[0;32m      1\u001b[0m \u001b[38;5;66;03m# 74\u001b[39;00m\n\u001b[0;32m      2\u001b[0m t \u001b[38;5;241m=\u001b[39m (\u001b[38;5;241m1\u001b[39m, \u001b[38;5;241m2\u001b[39m, \u001b[38;5;241m3\u001b[39m)\n\u001b[1;32m----> 3\u001b[0m t[\u001b[38;5;241m0\u001b[39m] \u001b[38;5;241m=\u001b[39m \u001b[38;5;124m'\u001b[39m\u001b[38;5;124ma\u001b[39m\u001b[38;5;124m'\u001b[39m\n",
      "\u001b[1;31mTypeError\u001b[0m: 'tuple' object does not support item assignment"
     ]
    }
   ],
   "source": [
    "# 74\n",
    "t = (1, 2, 3)\n",
    "t[0] = 'a'"
   ]
  },
  {
   "cell_type": "markdown",
   "id": "f2875b81",
   "metadata": {},
   "source": [
    "```\n",
    "오류 발생 원인 : 튜플은 값을 변경, 삭제할 수 없다!!!\n",
    "```"
   ]
  },
  {
   "cell_type": "code",
   "execution_count": 71,
   "id": "d33eacd1",
   "metadata": {
    "ExecuteTime": {
     "end_time": "2024-03-04T19:07:31.027169Z",
     "start_time": "2024-03-04T19:07:31.023182Z"
    }
   },
   "outputs": [
    {
     "data": {
      "text/plain": [
       "(1, 3)"
      ]
     },
     "execution_count": 71,
     "metadata": {},
     "output_type": "execute_result"
    }
   ],
   "source": [
    "t = (1, 2, 3)\n",
    "t[0], t[2]"
   ]
  },
  {
   "cell_type": "code",
   "execution_count": 72,
   "id": "a33c30bb",
   "metadata": {
    "ExecuteTime": {
     "end_time": "2024-03-04T19:08:33.239239Z",
     "start_time": "2024-03-04T19:08:33.236237Z"
    }
   },
   "outputs": [],
   "source": [
    "# 75\n",
    "t = 1, 2, 3, 4\n",
    "# t가 바인딩하는 데이터 타입은 튜플형이다. 튜플은 괄호 생략이 가능하다."
   ]
  },
  {
   "cell_type": "code",
   "execution_count": 73,
   "id": "c45ea3e6",
   "metadata": {
    "ExecuteTime": {
     "end_time": "2024-03-04T19:09:03.281127Z",
     "start_time": "2024-03-04T19:09:03.278742Z"
    }
   },
   "outputs": [],
   "source": [
    "# 76\n",
    "t = ('a', 'b', 'c')\n",
    "# 튜플은 수정이 불가능하다!!"
   ]
  },
  {
   "cell_type": "markdown",
   "id": "af0fc908",
   "metadata": {},
   "source": [
    "```\n",
    "방법 : 새로운 튜플을 만들고 t 라는 변수 업데이트. 기존의 튜플 ('a', 'b', 'c')은 자동 삭제.   \n",
    "```"
   ]
  },
  {
   "cell_type": "code",
   "execution_count": 75,
   "id": "36beca86",
   "metadata": {
    "ExecuteTime": {
     "end_time": "2024-03-04T19:11:16.408470Z",
     "start_time": "2024-03-04T19:11:16.401953Z"
    }
   },
   "outputs": [
    {
     "data": {
      "text/plain": [
       "'A'"
      ]
     },
     "execution_count": 75,
     "metadata": {},
     "output_type": "execute_result"
    }
   ],
   "source": [
    "t = ('A', 'B', 'C')\n",
    "t[0]"
   ]
  },
  {
   "cell_type": "code",
   "execution_count": 76,
   "id": "bb89a514",
   "metadata": {
    "ExecuteTime": {
     "end_time": "2024-03-04T19:12:15.016851Z",
     "start_time": "2024-03-04T19:12:15.012604Z"
    }
   },
   "outputs": [
    {
     "name": "stdout",
     "output_type": "stream",
     "text": [
      "['삼성전자', 'LG전자', 'SK Hynix']\n"
     ]
    }
   ],
   "source": [
    "# 77\n",
    "interest = ('삼성전자', 'LG전자', 'SK Hynix')\n",
    "Trans = list(interest)\n",
    "print(Trans)"
   ]
  },
  {
   "cell_type": "code",
   "execution_count": 77,
   "id": "f73b131a",
   "metadata": {
    "ExecuteTime": {
     "end_time": "2024-03-04T19:13:07.300283Z",
     "start_time": "2024-03-04T19:13:07.295319Z"
    }
   },
   "outputs": [
    {
     "name": "stdout",
     "output_type": "stream",
     "text": [
      "('삼성전자', 'LG전자', 'SK Hynix')\n"
     ]
    }
   ],
   "source": [
    "# 78\n",
    "interest = ['삼성전자', 'LG전자', 'SK Hynix']\n",
    "Trans = tuple(interest)\n",
    "print(Trans)"
   ]
  },
  {
   "cell_type": "code",
   "execution_count": 78,
   "id": "ffc4e1f9",
   "metadata": {
    "ExecuteTime": {
     "end_time": "2024-03-04T19:16:07.999110Z",
     "start_time": "2024-03-04T19:16:07.994710Z"
    }
   },
   "outputs": [
    {
     "name": "stdout",
     "output_type": "stream",
     "text": [
      "apple banana cake\n"
     ]
    }
   ],
   "source": [
    "# 79 튜플을 언패킹 하는 과정\n",
    "temp = ('apple', 'banana', 'cake')\n",
    "a, b, c = temp\n",
    "print(a, b, c)"
   ]
  },
  {
   "cell_type": "code",
   "execution_count": 80,
   "id": "b6f06ecf",
   "metadata": {
    "ExecuteTime": {
     "end_time": "2024-03-04T19:21:50.470527Z",
     "start_time": "2024-03-04T19:21:50.466121Z"
    }
   },
   "outputs": [
    {
     "name": "stdout",
     "output_type": "stream",
     "text": [
      "(2, 4, 6, 8, 10, 12, 14, 16, 18, 20, 22, 24, 26, 28, 30, 32, 34, 36, 38, 40, 42, 44, 46, 48, 50, 52, 54, 56, 58, 60, 62, 64, 66, 68, 70, 72, 74, 76, 78, 80, 82, 84, 86, 88, 90, 92, 94, 96, 98)\n"
     ]
    }
   ],
   "source": [
    "# 80\n",
    "even_tuple = tuple(range(2,100,2))\n",
    "print(even_tuple)"
   ]
  },
  {
   "cell_type": "markdown",
   "id": "ed47a596",
   "metadata": {},
   "source": [
    "### 파이썬 딕셔너리(81~100)"
   ]
  },
  {
   "cell_type": "code",
   "execution_count": 81,
   "id": "cc1610b0",
   "metadata": {
    "ExecuteTime": {
     "end_time": "2024-03-04T19:26:33.199455Z",
     "start_time": "2024-03-04T19:26:33.194398Z"
    }
   },
   "outputs": [
    {
     "name": "stdout",
     "output_type": "stream",
     "text": [
      "[8.8, 8.9, 8.7, 9.2, 9.3, 9.7, 9.9, 9.5]\n"
     ]
    }
   ],
   "source": [
    "# 81\n",
    "scores = [8.8, 8.9, 8.7, 9.2, 9.3, 9.7, 9.9, 9.5, 7.8, 9.4]\n",
    "*valid_score, a, b = scores\n",
    "print(valid_score)"
   ]
  },
  {
   "cell_type": "code",
   "execution_count": 82,
   "id": "2b554324",
   "metadata": {
    "ExecuteTime": {
     "end_time": "2024-03-04T19:27:25.252228Z",
     "start_time": "2024-03-04T19:27:25.248916Z"
    }
   },
   "outputs": [
    {
     "name": "stdout",
     "output_type": "stream",
     "text": [
      "[8.7, 9.2, 9.3, 9.7, 9.9, 9.5, 7.8, 9.4]\n"
     ]
    }
   ],
   "source": [
    "# 82\n",
    "scores = [8.8, 8.9, 8.7, 9.2, 9.3, 9.7, 9.9, 9.5, 7.8, 9.4]\n",
    "a, b, *valid_score = scores\n",
    "print(valid_score)"
   ]
  },
  {
   "cell_type": "code",
   "execution_count": 83,
   "id": "7e6c0131",
   "metadata": {
    "ExecuteTime": {
     "end_time": "2024-03-04T19:28:04.267585Z",
     "start_time": "2024-03-04T19:28:04.263599Z"
    }
   },
   "outputs": [
    {
     "name": "stdout",
     "output_type": "stream",
     "text": [
      "[8.9, 8.7, 9.2, 9.3, 9.7, 9.9, 9.5, 7.8]\n"
     ]
    }
   ],
   "source": [
    "# 823scores = [8.8, 8.9, 8.7, 9.2, 9.3, 9.7, 9.9, 9.5, 7.8, 9.4]\n",
    "a, *valid_score, b = scores\n",
    "print(valid_score)"
   ]
  },
  {
   "cell_type": "code",
   "execution_count": 85,
   "id": "601324b0",
   "metadata": {
    "ExecuteTime": {
     "end_time": "2024-03-04T19:29:01.853760Z",
     "start_time": "2024-03-04T19:29:01.849773Z"
    }
   },
   "outputs": [],
   "source": [
    "# 84\n",
    "temp = {}"
   ]
  },
  {
   "cell_type": "code",
   "execution_count": 86,
   "id": "44f70efa",
   "metadata": {
    "ExecuteTime": {
     "end_time": "2024-03-04T19:31:49.393441Z",
     "start_time": "2024-03-04T19:31:49.389488Z"
    }
   },
   "outputs": [
    {
     "name": "stdout",
     "output_type": "stream",
     "text": [
      "{'메로나': 1000, '폴라포': 1200, '빵빠레': 1800}\n"
     ]
    }
   ],
   "source": [
    "# 85\n",
    "ice_cream = {\"메로나\":1000, \"폴라포\":1200, \"빵빠레\":1800}\n",
    "print(ice_cream)"
   ]
  },
  {
   "cell_type": "code",
   "execution_count": 91,
   "id": "24ccf193",
   "metadata": {
    "ExecuteTime": {
     "end_time": "2024-03-04T19:34:46.836059Z",
     "start_time": "2024-03-04T19:34:46.830909Z"
    }
   },
   "outputs": [
    {
     "name": "stdout",
     "output_type": "stream",
     "text": [
      "{'메로나': 1000, '폴라포': 1200, '빵빠레': 1800, '죠스바': 1200, '월드콘': 1500}\n"
     ]
    }
   ],
   "source": [
    "# 86\n",
    "ice_cream = {\"메로나\":1000, \"폴라포\":1200, \"빵빠레\":1800}\n",
    "ice_cream[\"죠스바\"] = 1200\n",
    "ice_cream[\"월드콘\"] = 1500\n",
    "print(ice_cream)"
   ]
  },
  {
   "cell_type": "code",
   "execution_count": 97,
   "id": "9f0eb5a5",
   "metadata": {
    "ExecuteTime": {
     "end_time": "2024-03-04T19:37:14.586915Z",
     "start_time": "2024-03-04T19:37:14.581910Z"
    }
   },
   "outputs": [
    {
     "name": "stdout",
     "output_type": "stream",
     "text": [
      "메로나 가격:  1000\n"
     ]
    }
   ],
   "source": [
    "# 87\n",
    "ice = {'메로나': 1000, '폴로포': 1200,'빵빠레': 1800,'죠스바': 1200,'월드콘': 1500}\n",
    "print(\"메로나 가격: \" , ice[\"메로나\"]) # 띄어쓰기 주의"
   ]
  },
  {
   "cell_type": "code",
   "execution_count": 99,
   "id": "4cec729d",
   "metadata": {
    "ExecuteTime": {
     "end_time": "2024-03-04T19:42:25.674814Z",
     "start_time": "2024-03-04T19:42:25.671852Z"
    }
   },
   "outputs": [
    {
     "name": "stdout",
     "output_type": "stream",
     "text": [
      "1300\n"
     ]
    }
   ],
   "source": [
    "# 88\n",
    "ice = {'메로나': 1000,\n",
    "       '폴로포': 1200,\n",
    "       '빵빠레': 1800,\n",
    "       '죠스바': 1200,\n",
    "       '월드콘': 1500}\n",
    "ice[\"메로나\"] = 1300\n",
    "print(ice[\"메로나\"])"
   ]
  },
  {
   "cell_type": "code",
   "execution_count": 100,
   "id": "e20a0f59",
   "metadata": {
    "ExecuteTime": {
     "end_time": "2024-03-04T19:44:17.791534Z",
     "start_time": "2024-03-04T19:44:17.787281Z"
    }
   },
   "outputs": [
    {
     "name": "stdout",
     "output_type": "stream",
     "text": [
      "{'폴로포': 1200, '빵빠레': 1800, '죠스바': 1200, '월드콘': 1500}\n"
     ]
    }
   ],
   "source": [
    "# 89\n",
    "del ice[\"메로나\"]\n",
    "print(ice)"
   ]
  },
  {
   "cell_type": "code",
   "execution_count": 104,
   "id": "bfcdaebd",
   "metadata": {
    "ExecuteTime": {
     "end_time": "2024-03-04T19:47:09.734993Z",
     "start_time": "2024-03-04T19:47:09.721317Z"
    }
   },
   "outputs": [
    {
     "ename": "KeyError",
     "evalue": "'누가바'",
     "output_type": "error",
     "traceback": [
      "\u001b[1;31m---------------------------------------------------------------------------\u001b[0m",
      "\u001b[1;31mKeyError\u001b[0m                                  Traceback (most recent call last)",
      "Cell \u001b[1;32mIn[104], line 3\u001b[0m\n\u001b[0;32m      1\u001b[0m \u001b[38;5;66;03m# 90\u001b[39;00m\n\u001b[0;32m      2\u001b[0m icecream \u001b[38;5;241m=\u001b[39m {\u001b[38;5;124m'\u001b[39m\u001b[38;5;124m폴라포\u001b[39m\u001b[38;5;124m'\u001b[39m: \u001b[38;5;241m1200\u001b[39m, \u001b[38;5;124m'\u001b[39m\u001b[38;5;124m빵빠레\u001b[39m\u001b[38;5;124m'\u001b[39m: \u001b[38;5;241m1800\u001b[39m, \u001b[38;5;124m'\u001b[39m\u001b[38;5;124m월드콘\u001b[39m\u001b[38;5;124m'\u001b[39m: \u001b[38;5;241m1500\u001b[39m, \u001b[38;5;124m'\u001b[39m\u001b[38;5;124m메로나\u001b[39m\u001b[38;5;124m'\u001b[39m: \u001b[38;5;241m1000\u001b[39m}\n\u001b[1;32m----> 3\u001b[0m icecream[\u001b[38;5;124m'\u001b[39m\u001b[38;5;124m누가바\u001b[39m\u001b[38;5;124m'\u001b[39m]\n",
      "\u001b[1;31mKeyError\u001b[0m: '누가바'"
     ]
    }
   ],
   "source": [
    "# 90\n",
    "icecream = {'폴라포': 1200, '빵빠레': 1800, '월드콘': 1500, '메로나': 1000}\n",
    "icecream['누가바']"
   ]
  },
  {
   "cell_type": "markdown",
   "id": "1dd90eeb",
   "metadata": {},
   "source": [
    "```\n",
    "에러 발생 원인 : 딕셔너리에 없는 키를 인덱싱 했기 때문!\n",
    "```"
   ]
  },
  {
   "cell_type": "code",
   "execution_count": 105,
   "id": "b5b3fcc2",
   "metadata": {
    "ExecuteTime": {
     "end_time": "2024-03-04T19:54:09.971313Z",
     "start_time": "2024-03-04T19:54:09.967851Z"
    }
   },
   "outputs": [
    {
     "name": "stdout",
     "output_type": "stream",
     "text": [
      "{'메로나': [300, 20], '비비빅': [400, 3], '죠스바': [250, 100]}\n"
     ]
    }
   ],
   "source": [
    "# 91\n",
    "inventory = {\"메로나\":[300,20], \"비비빅\":[400,3],\"죠스바\":[250,100]}\n",
    "print(inventory)"
   ]
  },
  {
   "cell_type": "code",
   "execution_count": 107,
   "id": "573e731a",
   "metadata": {
    "ExecuteTime": {
     "end_time": "2024-03-04T19:56:46.659402Z",
     "start_time": "2024-03-04T19:56:46.656108Z"
    }
   },
   "outputs": [
    {
     "name": "stdout",
     "output_type": "stream",
     "text": [
      "300 원\n"
     ]
    }
   ],
   "source": [
    "# 92\n",
    "a = inventory[\"메로나\"][0]\n",
    "print(a, \"원\")"
   ]
  },
  {
   "cell_type": "code",
   "execution_count": 109,
   "id": "4eaa7ce9",
   "metadata": {
    "ExecuteTime": {
     "end_time": "2024-03-04T19:57:35.171658Z",
     "start_time": "2024-03-04T19:57:35.167670Z"
    }
   },
   "outputs": [
    {
     "name": "stdout",
     "output_type": "stream",
     "text": [
      "20 개\n"
     ]
    }
   ],
   "source": [
    "# 93\n",
    "print(inventory[\"메로나\"][1], \"개\")"
   ]
  },
  {
   "cell_type": "code",
   "execution_count": 111,
   "id": "c0dc84ab",
   "metadata": {
    "ExecuteTime": {
     "end_time": "2024-03-04T20:01:03.926147Z",
     "start_time": "2024-03-04T20:01:03.921163Z"
    }
   },
   "outputs": [
    {
     "name": "stdout",
     "output_type": "stream",
     "text": [
      "{'메로나': [300, 20], '비비빅': [400, 3], '죠스바': [250, 100], '월드콘': [500, 7]}\n"
     ]
    }
   ],
   "source": [
    "# 94\n",
    "inventory[\"월드콘\"] = [500,7]\n",
    "print(inventory)"
   ]
  },
  {
   "cell_type": "code",
   "execution_count": 113,
   "id": "2f5035aa",
   "metadata": {
    "ExecuteTime": {
     "end_time": "2024-03-04T20:02:20.131378Z",
     "start_time": "2024-03-04T20:02:20.126879Z"
    }
   },
   "outputs": [
    {
     "name": "stdout",
     "output_type": "stream",
     "text": [
      "['탱크보이', '폴라포', '빵빠레', '월드콘', '메로나']\n"
     ]
    }
   ],
   "source": [
    "# 95\n",
    "icecream = {'탱크보이': 1200, '폴라포': 1200, '빵빠레': 1800, '월드콘': 1500, '메로나': 1000}\n",
    "key_ice_list = list(icecream.keys())\n",
    "print(key_ice_list)"
   ]
  },
  {
   "cell_type": "code",
   "execution_count": 114,
   "id": "3bf3bef9",
   "metadata": {
    "ExecuteTime": {
     "end_time": "2024-03-04T20:02:48.822785Z",
     "start_time": "2024-03-04T20:02:48.818422Z"
    }
   },
   "outputs": [
    {
     "name": "stdout",
     "output_type": "stream",
     "text": [
      "[1200, 1200, 1800, 1500, 1000]\n"
     ]
    }
   ],
   "source": [
    "# 96\n",
    "key_ice_list = list(icecream.values())\n",
    "print(key_ice_list)"
   ]
  },
  {
   "cell_type": "code",
   "execution_count": 116,
   "id": "19d42e7e",
   "metadata": {
    "ExecuteTime": {
     "end_time": "2024-03-04T20:03:44.489810Z",
     "start_time": "2024-03-04T20:03:44.485275Z"
    }
   },
   "outputs": [
    {
     "name": "stdout",
     "output_type": "stream",
     "text": [
      "6700\n"
     ]
    }
   ],
   "source": [
    "# 97\n",
    "key_ice_list = list(icecream.values())\n",
    "print(sum(key_ice_list))"
   ]
  },
  {
   "cell_type": "code",
   "execution_count": 118,
   "id": "df0128f0",
   "metadata": {
    "ExecuteTime": {
     "end_time": "2024-03-04T20:04:32.319984Z",
     "start_time": "2024-03-04T20:04:32.315019Z"
    }
   },
   "outputs": [
    {
     "name": "stdout",
     "output_type": "stream",
     "text": [
      "6700\n"
     ]
    }
   ],
   "source": [
    "print(sum(icecream.values()))"
   ]
  },
  {
   "cell_type": "code",
   "execution_count": 119,
   "id": "6494b08c",
   "metadata": {
    "ExecuteTime": {
     "end_time": "2024-03-04T20:09:18.234404Z",
     "start_time": "2024-03-04T20:09:18.229777Z"
    }
   },
   "outputs": [
    {
     "name": "stdout",
     "output_type": "stream",
     "text": [
      "{'탱크보이': 1200, '폴라포': 1200, '빵빠레': 1800, '월드콘': 1500, '메로나': 1000, '팥빙수': 2700, '아맛나': 1000}\n"
     ]
    }
   ],
   "source": [
    "# 98\n",
    "icecream = {'탱크보이': 1200, '폴라포': 1200, '빵빠레': 1800, '월드콘': 1500, '메로나': 1000}\n",
    "new_product = {'팥빙수':2700, '아맛나':1000}\n",
    "icecream.update(new_product)\n",
    "print(icecream)"
   ]
  },
  {
   "cell_type": "code",
   "execution_count": 123,
   "id": "017b0baa",
   "metadata": {
    "ExecuteTime": {
     "end_time": "2024-03-04T20:13:46.259546Z",
     "start_time": "2024-03-04T20:13:46.255478Z"
    }
   },
   "outputs": [
    {
     "name": "stdout",
     "output_type": "stream",
     "text": [
      "{'apple': 300, 'pear': 250, 'peach': 400}\n"
     ]
    }
   ],
   "source": [
    "# 99\n",
    "keys = (\"apple\", \"pear\", \"peach\")\n",
    "vals = (300, 250, 400)\n",
    "result = dict(zip(keys, vals))\n",
    "print(result)"
   ]
  },
  {
   "cell_type": "code",
   "execution_count": 124,
   "id": "8a9a01cf",
   "metadata": {
    "ExecuteTime": {
     "end_time": "2024-03-04T20:18:51.494641Z",
     "start_time": "2024-03-04T20:18:51.490414Z"
    }
   },
   "outputs": [
    {
     "name": "stdout",
     "output_type": "stream",
     "text": [
      "{'09/05': 10500, '09/06': 10300, '09/07': 10100, '09/08': 10800, '09/09': 11000}\n"
     ]
    }
   ],
   "source": [
    "# 100\n",
    "date = ['09/05', '09/06', '09/07', '09/08', '09/09']\n",
    "close_price = [10500, 10300, 10100, 10800, 11000]\n",
    "close_table = dict(zip(date, close_price))\n",
    "print(close_table)"
   ]
  },
  {
   "cell_type": "code",
   "execution_count": null,
   "id": "1c47cf28",
   "metadata": {},
   "outputs": [],
   "source": []
  },
  {
   "cell_type": "code",
   "execution_count": null,
   "id": "4ae84cd9",
   "metadata": {},
   "outputs": [],
   "source": []
  },
  {
   "cell_type": "code",
   "execution_count": null,
   "id": "14b6636f",
   "metadata": {},
   "outputs": [],
   "source": []
  },
  {
   "cell_type": "code",
   "execution_count": null,
   "id": "dccf523c",
   "metadata": {},
   "outputs": [],
   "source": []
  },
  {
   "cell_type": "code",
   "execution_count": null,
   "id": "1b4aa643",
   "metadata": {},
   "outputs": [],
   "source": []
  },
  {
   "cell_type": "code",
   "execution_count": null,
   "id": "c4274842",
   "metadata": {},
   "outputs": [],
   "source": []
  },
  {
   "cell_type": "code",
   "execution_count": null,
   "id": "a341c685",
   "metadata": {},
   "outputs": [],
   "source": []
  }
 ],
 "metadata": {
  "kernelspec": {
   "display_name": "Python 3 (ipykernel)",
   "language": "python",
   "name": "python3"
  },
  "language_info": {
   "codemirror_mode": {
    "name": "ipython",
    "version": 3
   },
   "file_extension": ".py",
   "mimetype": "text/x-python",
   "name": "python",
   "nbconvert_exporter": "python",
   "pygments_lexer": "ipython3",
   "version": "3.11.5"
  },
  "toc": {
   "base_numbering": 1,
   "nav_menu": {},
   "number_sections": true,
   "sideBar": true,
   "skip_h1_title": false,
   "title_cell": "Table of Contents",
   "title_sidebar": "Contents",
   "toc_cell": false,
   "toc_position": {},
   "toc_section_display": true,
   "toc_window_display": false
  },
  "varInspector": {
   "cols": {
    "lenName": 16,
    "lenType": 16,
    "lenVar": 40
   },
   "kernels_config": {
    "python": {
     "delete_cmd_postfix": "",
     "delete_cmd_prefix": "del ",
     "library": "var_list.py",
     "varRefreshCmd": "print(var_dic_list())"
    },
    "r": {
     "delete_cmd_postfix": ") ",
     "delete_cmd_prefix": "rm(",
     "library": "var_list.r",
     "varRefreshCmd": "cat(var_dic_list()) "
    }
   },
   "types_to_exclude": [
    "module",
    "function",
    "builtin_function_or_method",
    "instance",
    "_Feature"
   ],
   "window_display": false
  }
 },
 "nbformat": 4,
 "nbformat_minor": 5
}
